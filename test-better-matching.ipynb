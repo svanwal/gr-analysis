{
 "cells": [
  {
   "cell_type": "markdown",
   "id": "82204626",
   "metadata": {},
   "source": [
    "## Importing modules and packages"
   ]
  },
  {
   "cell_type": "code",
   "execution_count": 1,
   "id": "f4a32d3e",
   "metadata": {},
   "outputs": [
    {
     "name": "stderr",
     "output_type": "stream",
     "text": [
      "/Users/svanwal/opt/anaconda3/lib/python3.9/site-packages/scipy/__init__.py:146: UserWarning: A NumPy version >=1.16.5 and <1.23.0 is required for this version of SciPy (detected version 1.23.3\n",
      "  warnings.warn(f\"A NumPy version >={np_minversion} and <{np_maxversion}\"\n"
     ]
    }
   ],
   "source": [
    "# Importing packages\n",
    "import osmnx  as ox\n",
    "import pandas as pd\n",
    "import numpy  as np\n",
    "import folium\n",
    "import os.path\n",
    "import shapely\n",
    "import geopandas as gpd\n",
    "from IPython.display import IFrame\n",
    "\n",
    "# Importing modules\n",
    "import gr_mapmatch # Contains functions that perform the map matching of roads\n",
    "import gr_placematch # Contains functions that perform the map matching of places\n",
    "import gr_utils # Contains useful geometry functions\n",
    "import gr_plot # Contains plotting routines\n",
    "import gr_process\n",
    "\n",
    "# Configuring modules & packages\n",
    "ox.settings.useful_tags_way = [\n",
    "    \"bridge\",\"tunnel\",\"name\",\"highway\",\"area\",\"landuse\",\"surface\",\"tracktype\"\n",
    "] # Configuring which parameters we want to obtain from OSM"
   ]
  },
  {
   "cell_type": "markdown",
   "id": "27b93e47",
   "metadata": {},
   "source": [
    "## Input parameters"
   ]
  },
  {
   "cell_type": "code",
   "execution_count": 107,
   "id": "015a24ff",
   "metadata": {},
   "outputs": [],
   "source": [
    "trailname = 'gr122' # Name of the hiking trail to be considered (will search for trail.csv or trail.gpx as sources)\n",
    "\n",
    "# Settings for trail2roads\n",
    "points_per_batch = 100 # Subdivide the trail into batches of this many points\n",
    "# points_per_batch = 25 # Subdivide the trail into batches of this many points\n",
    "delta = 0.005 # Tolerance around bounding box per trail section [deg]\n",
    "\n",
    "# Settings for roads2places\n",
    "points_per_batch_places = 100 # Subdivide the trail into batches of this many segments\n",
    "delta_places = 0.015 # bbox delta in deg\n",
    "buffersize = 0.00015 # buffer used when merging landuse places\n",
    "tol_area = 15.0e-6 # buffer used to define which merged landuse places we consider\n",
    "\n",
    "# Settings for places2processed\n",
    "tol_d        = 0.75 # Consider a segment developed if it lies closer than tol_d to a developed area\n",
    "tracktype_p0 = ['grade4','grade5']\n",
    "tracktype_p1 = ['grade2','grade3']\n",
    "tracktype_p2 = ['grade1']\n",
    "surface_p0   = ['ground','grass','dirt','sand','earth','mud']\n",
    "surface_p1   = ['unpaved','gravel','fine_gravel','wood','compacted','rocks','pebblestone','woodchips','snow','ice','salt']\n",
    "highway_p1   = ['track','path','footway','bridleway']\n",
    "types_slow   = ['pedestrian','track','footway','bridleway','steps','corridor','path']\n",
    "types_heavy  = ['motorway','trunk','primary','secondary','tertiary']"
   ]
  },
  {
   "cell_type": "markdown",
   "id": "ec311996",
   "metadata": {},
   "source": [
    "## Function definitions"
   ]
  },
  {
   "cell_type": "code",
   "execution_count": 3,
   "id": "3165c837",
   "metadata": {},
   "outputs": [],
   "source": [
    "def get_dist(X,Y):\n",
    "    r = [X[0] - Y[0],\n",
    "         X[1] - Y[1]]\n",
    "    return np.sqrt(r[0]*r[0] + r[1]*r[1])"
   ]
  },
  {
   "cell_type": "code",
   "execution_count": 4,
   "id": "e96dd17d",
   "metadata": {},
   "outputs": [],
   "source": [
    "def get_p2seg_distance(P,P0,P1):\n",
    "    v = [P1[0] - P0[0],\n",
    "         P1[1] - P0[1]]\n",
    "    w = [P[0] - P0[0],\n",
    "         P[1] - P0[1]]\n",
    "    c1 = w[0]*v[0] + w[1]*v[1]\n",
    "    if c1<=0:\n",
    "        return get_dist(P,P0)\n",
    "    c2 = v[0]*v[0] + v[1]*v[1]\n",
    "    if c2<=c1:\n",
    "        return get_dist(P,P1)\n",
    "    b = c1/c2\n",
    "    Pb = [P0[0] + b*v[0],\n",
    "          P0[1] + b*v[1]]\n",
    "    return get_dist(P,Pb)"
   ]
  },
  {
   "cell_type": "code",
   "execution_count": 5,
   "id": "1cdae8fa",
   "metadata": {},
   "outputs": [],
   "source": [
    "def get_path_error(route,trail_coords):\n",
    "    xy = gr_plot.get_fullcoords_from_frame(route)\n",
    "    err = 0\n",
    "    for point in trail_coords: # for each point from the gpx\n",
    "        dmin = 999\n",
    "        for j in range(len(xy)-1): # find the min distance to the pathfind\n",
    "            dmin = min(dmin,get_p2seg_distance(point,xy[j],xy[j+1]))\n",
    "        err += dmin*dmin # save the squared error\n",
    "    return err"
   ]
  },
  {
   "cell_type": "markdown",
   "id": "aa7e8e6f",
   "metadata": {},
   "source": [
    "## Loading GPX file"
   ]
  },
  {
   "cell_type": "code",
   "execution_count": 6,
   "id": "667a640b",
   "metadata": {},
   "outputs": [
    {
     "name": "stdout",
     "output_type": "stream",
     "text": [
      "Loading trail points from <data_input/gr122.gpx>...\n",
      "Finished loading.\n"
     ]
    }
   ],
   "source": [
    "trail = gr_utils.get_gpx(trailname)"
   ]
  },
  {
   "cell_type": "markdown",
   "id": "13dd817d",
   "metadata": {},
   "source": [
    "## Gathering ROAD data from OSM network"
   ]
  },
  {
   "cell_type": "code",
   "execution_count": 198,
   "id": "2e247491",
   "metadata": {},
   "outputs": [],
   "source": [
    "# Define the range of GPX points to process in the current batch\n",
    "n_trail = len(trail) # Number of GPX points in the trail\n",
    "b = 2\n",
    "n1 = b*points_per_batch # First point of this batch\n",
    "n2 = min(n1 + points_per_batch, n_trail) # Last point of this batch (clipped)\n",
    "trail_section = trail.loc[n1:n2] # Select that range of GPX points\n",
    "trail_coords  = gr_mapmatch.trail_to_coords(trail_section) # Convert the points into a list of [lat, lon] pairs"
   ]
  },
  {
   "cell_type": "code",
   "execution_count": 199,
   "id": "a04c04c4",
   "metadata": {},
   "outputs": [
    {
     "name": "stdout",
     "output_type": "stream",
     "text": [
      "   Downloading street network...\n",
      "   Processing street network...\n"
     ]
    }
   ],
   "source": [
    "# network, segment_list = gr_mapmatch.match_batch(trail_section, trail_coords, delta)\n",
    "lat_min, lat_max, lon_min, lon_max = gr_mapmatch.get_bbox(trail_section,delta) # Calculate the bounding box\n",
    "network = gr_mapmatch.get_osm_network(lat_min, lat_max, lon_min, lon_max) # Download the street network from OSM"
   ]
  },
  {
   "cell_type": "code",
   "execution_count": 200,
   "id": "b488d585",
   "metadata": {},
   "outputs": [
    {
     "name": "stdout",
     "output_type": "stream",
     "text": [
      "   Handling GPX point 0 of 100...\n",
      "   Handling GPX point 1 of 100...\n",
      "   Handling GPX point 2 of 100...\n",
      "   Handling GPX point 3 of 100...\n",
      "   Handling GPX point 4 of 100...\n",
      "   Handling GPX point 5 of 100...\n",
      "   Handling GPX point 6 of 100...\n",
      "   Handling GPX point 7 of 100...\n",
      "   Handling GPX point 8 of 100...\n",
      "   Handling GPX point 9 of 100...\n",
      "   Handling GPX point 10 of 100...\n",
      "   Handling GPX point 11 of 100...\n",
      "   Handling GPX point 12 of 100...\n",
      "   Handling GPX point 13 of 100...\n",
      "   Handling GPX point 14 of 100...\n",
      "   Handling GPX point 15 of 100...\n",
      "   Handling GPX point 16 of 100...\n",
      "   Handling GPX point 17 of 100...\n",
      "   Handling GPX point 18 of 100...\n",
      "   Handling GPX point 19 of 100...\n",
      "   Handling GPX point 20 of 100...\n",
      "   Handling GPX point 21 of 100...\n",
      "   Handling GPX point 22 of 100...\n",
      "   Handling GPX point 23 of 100...\n",
      "   Handling GPX point 24 of 100...\n",
      "   Handling GPX point 25 of 100...\n",
      "   Handling GPX point 26 of 100...\n",
      "   Handling GPX point 27 of 100...\n",
      "   Handling GPX point 28 of 100...\n",
      "   Handling GPX point 29 of 100...\n",
      "   Handling GPX point 30 of 100...\n",
      "   Handling GPX point 31 of 100...\n",
      "   Handling GPX point 32 of 100...\n",
      "   Handling GPX point 33 of 100...\n",
      "   Handling GPX point 34 of 100...\n",
      "   Handling GPX point 35 of 100...\n",
      "   Handling GPX point 36 of 100...\n",
      "   Handling GPX point 37 of 100...\n",
      "   Handling GPX point 38 of 100...\n",
      "   Handling GPX point 39 of 100...\n",
      "   Handling GPX point 40 of 100...\n",
      "   Handling GPX point 41 of 100...\n",
      "   Handling GPX point 42 of 100...\n",
      "   Handling GPX point 43 of 100...\n",
      "   Handling GPX point 44 of 100...\n",
      "   Handling GPX point 45 of 100...\n",
      "   Handling GPX point 46 of 100...\n",
      "   Handling GPX point 47 of 100...\n",
      "   Handling GPX point 48 of 100...\n",
      "   Handling GPX point 49 of 100...\n",
      "   Handling GPX point 50 of 100...\n",
      "   Handling GPX point 51 of 100...\n",
      "   Handling GPX point 52 of 100...\n",
      "   Handling GPX point 53 of 100...\n",
      "   Handling GPX point 54 of 100...\n",
      "   Handling GPX point 55 of 100...\n",
      "   Handling GPX point 56 of 100...\n",
      "   Handling GPX point 57 of 100...\n",
      "   Handling GPX point 58 of 100...\n",
      "   Handling GPX point 59 of 100...\n",
      "   Handling GPX point 60 of 100...\n",
      "   Handling GPX point 61 of 100...\n",
      "   Handling GPX point 62 of 100...\n",
      "   Handling GPX point 63 of 100...\n",
      "   Handling GPX point 64 of 100...\n",
      "   Handling GPX point 65 of 100...\n",
      "   Handling GPX point 66 of 100...\n",
      "   Handling GPX point 67 of 100...\n",
      "   Handling GPX point 68 of 100...\n",
      "   Handling GPX point 69 of 100...\n",
      "   Handling GPX point 70 of 100...\n",
      "   Handling GPX point 71 of 100...\n",
      "   Handling GPX point 72 of 100...\n",
      "   Handling GPX point 73 of 100...\n",
      "   Handling GPX point 74 of 100...\n",
      "   Handling GPX point 75 of 100...\n",
      "   Handling GPX point 76 of 100...\n",
      "   Handling GPX point 77 of 100...\n",
      "   Handling GPX point 78 of 100...\n",
      "   Handling GPX point 79 of 100...\n",
      "   Handling GPX point 80 of 100...\n",
      "   Handling GPX point 81 of 100...\n",
      "   Handling GPX point 82 of 100...\n",
      "   Handling GPX point 83 of 100...\n",
      "   Handling GPX point 84 of 100...\n",
      "   Handling GPX point 85 of 100...\n",
      "   Handling GPX point 86 of 100...\n",
      "   Handling GPX point 87 of 100...\n",
      "   Handling GPX point 88 of 100...\n",
      "   Handling GPX point 89 of 100...\n",
      "   Handling GPX point 90 of 100...\n",
      "   Handling GPX point 91 of 100...\n",
      "   Handling GPX point 92 of 100...\n",
      "   Handling GPX point 93 of 100...\n",
      "   Handling GPX point 94 of 100...\n",
      "   Handling GPX point 95 of 100...\n",
      "   Handling GPX point 96 of 100...\n",
      "   Handling GPX point 97 of 100...\n",
      "   Handling GPX point 98 of 100...\n",
      "   Handling GPX point 99 of 100...\n",
      "   Handling GPX point 100 of 100...\n",
      "\n",
      "   Handling node_list pair 0 of 16...\n",
      "Calculating route between nodes 42291106 and 42280173\n",
      "I calculated 1 paths\n",
      "   Handling node_list pair 1 of 16...\n",
      "Calculating route between nodes 42280173 and 457735357\n",
      "I calculated 2 paths\n",
      "   Handling node_list pair 2 of 16...\n",
      "Calculating route between nodes 457735357 and 42265087\n",
      "I calculated 2 paths\n",
      "   Handling node_list pair 3 of 16...\n",
      "Calculating route between nodes 42265087 and 457735356\n",
      "I calculated 2 paths\n",
      "   Handling node_list pair 4 of 16...\n",
      "Calculating route between nodes 457735356 and 457735343\n",
      "I calculated 2 paths\n",
      "   Handling node_list pair 5 of 16...\n",
      "Calculating route between nodes 457735343 and 457735341\n",
      "I calculated 2 paths\n",
      "   Handling node_list pair 6 of 16...\n",
      "Calculating route between nodes 457735341 and 457735340\n",
      "I calculated 2 paths\n",
      "   Handling node_list pair 7 of 16...\n",
      "Calculating route between nodes 457735340 and 457735335\n",
      "I calculated 2 paths\n",
      "   Handling node_list pair 8 of 16...\n",
      "Calculating route between nodes 457735335 and 42265329\n",
      "I calculated 2 paths\n",
      "   Handling node_list pair 9 of 16...\n",
      "Calculating route between nodes 42265329 and 42263801\n",
      "I calculated 2 paths\n",
      "   Handling node_list pair 10 of 16...\n",
      "Calculating route between nodes 42263801 and 1750769168\n",
      "I calculated 2 paths\n",
      "   Handling node_list pair 11 of 16...\n",
      "Calculating route between nodes 1750769168 and 42250070\n",
      "I calculated 2 paths\n",
      "   Handling node_list pair 12 of 16...\n",
      "Calculating route between nodes 42250070 and 813239795\n",
      "I calculated 2 paths\n",
      "   Handling node_list pair 13 of 16...\n",
      "Calculating route between nodes 813239795 and 42239011\n",
      "I calculated 2 paths\n",
      "   Handling node_list pair 14 of 16...\n",
      "Calculating route between nodes 42239011 and 4411956274\n",
      "I calculated 2 paths\n",
      "   Handling node_list pair 15 of 16...\n",
      "Calculating route between nodes 4411956274 and 4411956276\n",
      "I calculated 2 paths\n",
      "   Handling node_list pair 16 of 16...\n",
      "Calculating route between nodes 4411956276 and 4411956278\n",
      "I calculated 2 paths\n",
      "\n",
      "   Handling route_list pair 0 of 16...\n",
      "   Handling route_list pair 1 of 16...\n",
      "   Handling route_list pair 2 of 16...\n",
      "   Handling route_list pair 3 of 16...\n",
      "   Handling route_list pair 4 of 16...\n",
      "   Handling route_list pair 5 of 16...\n",
      "   Handling route_list pair 6 of 16...\n",
      "   Handling route_list pair 7 of 16...\n",
      "   Handling route_list pair 8 of 16...\n",
      "   Handling route_list pair 9 of 16...\n",
      "   Handling route_list pair 10 of 16...\n",
      "   Handling route_list pair 11 of 16...\n",
      "   Handling route_list pair 12 of 16...\n",
      "   Handling route_list pair 13 of 16...\n",
      "   Handling route_list pair 14 of 16...\n",
      "   Handling route_list pair 15 of 16...\n",
      "   Handling route_list pair 16 of 16...\n",
      "\n"
     ]
    }
   ],
   "source": [
    "segment_list, node_list, node_list_raw, route_list, route_list_raw = gr_mapmatch.match_roads_details(network, trail_coords) # Get the corresponding OSM segments\n",
    "# batch_out = f'cache/temp.csv'\n",
    "# gr_utils.write_batch(batch_out, segment_list)\n",
    "# data = pd.read_csv(batch_out,dtype={'highway':str, 'surface': str, 'tracktype':str})"
   ]
  },
  {
   "cell_type": "markdown",
   "id": "23f91d56",
   "metadata": {},
   "source": [
    "## Better map matching attempt #3"
   ]
  },
  {
   "cell_type": "code",
   "execution_count": 269,
   "id": "0bbf1bb3",
   "metadata": {},
   "outputs": [
    {
     "name": "stdout",
     "output_type": "stream",
     "text": [
      "i0 = 80\n",
      "i1 = 82\n",
      "i2 = 90\n",
      "Corrected i2 to 85\n",
      "   Writing outputs to file...\n",
      "   Writing outputs to file...\n",
      "   Writing outputs to file...\n",
      "   Writing outputs to file...\n",
      "   Writing outputs to file...\n"
     ]
    }
   ],
   "source": [
    "# --- Choosing subset of nodes list\n",
    "# Start from the first node in the raw node list\n",
    "i0 = 80\n",
    "node0 = node_list_raw[i0]\n",
    "i1 = i0\n",
    "\n",
    "# Now find the first entry that is different from i0\n",
    "while i1<len(node_list_raw):\n",
    "    i1 += 1 # increment counter\n",
    "    node1 = node_list_raw[i1]\n",
    "    if node1 != node0: # then we found a different entry\n",
    "        break\n",
    "        \n",
    "# Now find the last occurrence that is the same as i1\n",
    "i2 = i1\n",
    "while i2<len(node_list_raw):\n",
    "    i2 += 1 # increment counter\n",
    "    node2 = node_list_raw[i2]\n",
    "    if node2 != node1: # then we found a different entry\n",
    "        i2 -= 1\n",
    "        break\n",
    "        \n",
    "print(f'i0 = {i0}')\n",
    "print(f'i1 = {i1}')\n",
    "print(f'i2 = {i2}')\n",
    "        \n",
    "# --- Correct i2\n",
    "# calculate for all GPX points between i0 and i2 the distance to the corresponding node\n",
    "d_to_node = []\n",
    "tcoords = []\n",
    "for j in range(i1,i2+1):\n",
    "#     print(node_list_raw[j])\n",
    "    point = trail_coords[j]\n",
    "    tcoords.append(point)\n",
    "    temp = network['points'].loc[node_list_raw[j]]\n",
    "    node = [temp['y'],temp['x']]\n",
    "    d_to_node.append(get_dist(point,node))\n",
    "imin = d_to_node.index(min(d_to_node))\n",
    "i2 = i1 + imin\n",
    "print(f'Corrected i2 to {i2}')\n",
    "        \n",
    "# --- Pathfind the k shortest routes between node0 and node2\n",
    "k = 5 # number of routes to find in each direction\n",
    "paths = []\n",
    "route = ox.k_shortest_paths(network['graph'], node0, node1, k)\n",
    "for path in route:\n",
    "    paths.append(path)\n",
    "\n",
    "routes = []\n",
    "for path in paths:\n",
    "    segment_list = []\n",
    "    for j in range(len(path)-1):\n",
    "        segment_list.extend(gr_mapmatch.get_segments(network, path[j], path[j+1]))\n",
    "    fout = f'temp.csv'\n",
    "    gr_utils.write_batch(fout, segment_list)\n",
    "    data = pd.read_csv(fout,dtype={'highway':str, 'surface': str, 'tracktype':str})\n",
    "    routes.append(data)\n",
    "    \n",
    "# --- Choose the best path using element i0 through i2 from the nodes list\n",
    "if i2-i0 < 3:\n",
    "    # Get the error for each route\n",
    "    err = []\n",
    "    d = []\n",
    "    for route in routes:\n",
    "        err.append(get_path_error(route,trail_coords[i0:i2+1]))\n",
    "        d.append(route['d_osm'].sum())\n",
    "    weights = []\n",
    "    dmin = min(d)\n",
    "    for j in range(len(err)): # Weight factor takes into account error and length\n",
    "        weights.append(d[j])\n",
    "else:\n",
    "    # Get the error for each route\n",
    "    err = []\n",
    "    d = []\n",
    "    for route in routes:\n",
    "        err.append(get_path_error(route,trail_coords[i0:i2+1]))\n",
    "        d.append(route['d_osm'].sum())\n",
    "    weights = []\n",
    "    dmin = min(d)\n",
    "    for j in range(len(err)): # Weight factor takes into account error and length\n",
    "        weights.append(1e5*err[j]*np.exp(1.0*d[j]/dmin))\n",
    "\n",
    "# Choose the best route\n",
    "imin = weights.index(min(weights))\n",
    "best_route = routes[imin]\n",
    "\n"
   ]
  },
  {
   "cell_type": "code",
   "execution_count": 270,
   "id": "2ccdb357",
   "metadata": {},
   "outputs": [
    {
     "data": {
      "text/html": [
       "\n",
       "        <iframe\n",
       "            width=\"1000\"\n",
       "            height=\"500\"\n",
       "            src=\"cache/temp6.html\"\n",
       "            frameborder=\"0\"\n",
       "            allowfullscreen\n",
       "            \n",
       "        ></iframe>\n",
       "        "
      ],
      "text/plain": [
       "<IPython.lib.display.IFrame at 0x7fcdd46eaa60>"
      ]
     },
     "execution_count": 270,
     "metadata": {},
     "output_type": "execute_result"
    }
   ],
   "source": [
    "### Plot the matching from GPX points to nodes\n",
    "network['points'].loc[node_list_raw[0]]\n",
    "# Map setup\n",
    "mid = int(len(trail_coords)/2)\n",
    "chart = folium.Map(location=trail_coords[mid], zoom_start=15, tiles=\"OpenStreetMap\")\n",
    "# Draw the two nodes\n",
    "n0 = network['points'].loc[node0]\n",
    "point0 = [n0['y'],n0['x']]\n",
    "newmarker = folium.CircleMarker(location=point0,radius=3,color='black')\n",
    "newmarker.add_to(chart)\n",
    "n1 = network['points'].loc[node1]\n",
    "point1 = [n1['y'],n1['x']]\n",
    "newmarker = folium.CircleMarker(location=point1,radius=3,color='black')\n",
    "newmarker.add_to(chart)\n",
    "# Draw the k shortest paths\n",
    "colors = ['red','orange','green','blue','black']*10\n",
    "for j in range(len(routes)):\n",
    "    xy = gr_plot.get_fullcoords_from_frame(routes[j])\n",
    "    if j==imin:\n",
    "        wdt = 3\n",
    "    else:\n",
    "        wdt = 1\n",
    "    newline = folium.PolyLine(locations=xy, weight=wdt, color=colors[j],popup=err[j])\n",
    "#     newline = folium.PolyLine(locations=xy, weight=wdt, color=colors[j],popup=weights[j])\n",
    "    newline.add_to(chart)\n",
    "# Draw the GPX points in between\n",
    "for j in range(i0,i2+1):\n",
    "    point = trail_coords[j]\n",
    "    newmarker = folium.CircleMarker(location=point,radius=3,color='red',popup=node_list_raw[j])\n",
    "    newmarker.add_to(chart)\n",
    "# Render the map\n",
    "filepath = f\"cache/temp6.html\"\n",
    "chart.save(filepath)\n",
    "IFrame(filepath, width=1000, height=500)"
   ]
  },
  {
   "cell_type": "code",
   "execution_count": null,
   "id": "b969d4fd",
   "metadata": {},
   "outputs": [],
   "source": []
  },
  {
   "cell_type": "code",
   "execution_count": null,
   "id": "47ad1b78",
   "metadata": {},
   "outputs": [],
   "source": [
    "# node_list_raw[i0:i2+1] # the node list that we work with\n",
    "# # calculate for all GPX points between i0 and i2 the distance to the corresponding node\n",
    "# d_to_node = []\n",
    "# tcoords = []\n",
    "# # for j in range(i0,i2+1):\n",
    "# for j in range(i1,i2+1):\n",
    "#     print(node_list_raw[j])\n",
    "#     point = trail_coords[j]\n",
    "#     tcoords.append(point)\n",
    "#     temp = network['points'].loc[node_list_raw[j]]\n",
    "#     node = [temp['y'],temp['x']]\n",
    "#     d_to_node.append(get_dist(point,node))\n",
    "# imin = d_to_node.index(min(d_to_node))\n",
    "# i2 = i1 + imin"
   ]
  },
  {
   "cell_type": "markdown",
   "id": "198dd268",
   "metadata": {},
   "source": [
    "## Better map matching attempt #2"
   ]
  },
  {
   "cell_type": "code",
   "execution_count": 216,
   "id": "f3252e36",
   "metadata": {},
   "outputs": [
    {
     "name": "stdout",
     "output_type": "stream",
     "text": [
      "   Writing outputs to file...\n",
      "   Writing outputs to file...\n",
      "   Writing outputs to file...\n",
      "   Writing outputs to file...\n",
      "   Writing outputs to file...\n",
      "i0 = 91\n",
      "i1 = 96\n",
      "i2 = 97\n"
     ]
    }
   ],
   "source": [
    "# --- Choosing subset of nodes list\n",
    "# Start from the first node in the raw node list\n",
    "i0 = 91\n",
    "node0 = node_list_raw[i0]\n",
    "i1 = i0\n",
    "\n",
    "# Now find the first entry that is different from i0\n",
    "while i1<len(node_list_raw):\n",
    "    i1 += 1 # increment counter\n",
    "    node1 = node_list_raw[i1]\n",
    "    if node1 != node0: # then we found a different entry\n",
    "        break\n",
    "        \n",
    "# Now find the last occurrence that is the same as i1\n",
    "i2 = i1\n",
    "while i2<len(node_list_raw):\n",
    "    i2 += 1 # increment counter\n",
    "    node2 = node_list_raw[i2]\n",
    "    if node2 != node1: # then we found a different entry\n",
    "        i2 -= 1\n",
    "        break\n",
    "        \n",
    "# --- Pathfind the k shortest routes between node0 and node2\n",
    "k = 5 # number of routes to find in each direction\n",
    "paths = []\n",
    "route = ox.k_shortest_paths(network['graph'], node0, node1, k)\n",
    "for path in route:\n",
    "    paths.append(path)\n",
    "    \n",
    "# route = ox.k_shortest_paths(network['graph'], node1, node0, k)\n",
    "# for path in route:\n",
    "#     paths.append(path[::-1])\n",
    "\n",
    "# --- Choose the best path using element i0 through i2 from the nodes list\n",
    "# Grab the corresponding coordinates\n",
    "routes = []\n",
    "for path in paths:\n",
    "    segment_list = []\n",
    "    for j in range(len(path)-1):\n",
    "        segment_list.extend(gr_mapmatch.get_segments(network, path[j], path[j+1]))\n",
    "    fout = f'temp.csv'\n",
    "    gr_utils.write_batch(fout, segment_list)\n",
    "    data = pd.read_csv(fout,dtype={'highway':str, 'surface': str, 'tracktype':str})\n",
    "    routes.append(data)\n",
    "    \n",
    "## Choose the best route\n",
    "if i2-i0 < 5:\n",
    "    # Get the error for each route\n",
    "    err = []\n",
    "    d = []\n",
    "    for route in routes:\n",
    "        err.append(get_path_error(route,trail_coords[i0:i2+1]))\n",
    "        d.append(route['d_osm'].sum())\n",
    "    weights = []\n",
    "    dmin = min(d)\n",
    "    for j in range(len(err)): # Weight factor takes into account error and length\n",
    "        weights.append(d[j])\n",
    "else:\n",
    "    # Get the error for each route\n",
    "    err = []\n",
    "    d = []\n",
    "    for route in routes:\n",
    "        err.append(get_path_error(route,trail_coords[i0:i2+1]))\n",
    "        d.append(route['d_osm'].sum())\n",
    "    weights = []\n",
    "    dmin = min(d)\n",
    "    for j in range(len(err)): # Weight factor takes into account error and length\n",
    "        weights.append(1e5*err[j]*np.exp(1.0*d[j]/dmin))\n",
    "\n",
    "# Choose the best route\n",
    "# imin = err.index(min(err))\n",
    "imin = weights.index(min(weights))\n",
    "best_route = routes[imin]\n",
    "\n",
    "print(f'i0 = {i0}')\n",
    "print(f'i1 = {i1}')\n",
    "print(f'i2 = {i2}')\n",
    "\n",
    "# Afterwards, we set i0 = i1 and repeat\n",
    "# i0 = i1\n",
    "# i1 = []\n",
    "# i2 = []\n",
    "# node0 = []\n",
    "# node1 = []\n",
    "# node2 = []"
   ]
  },
  {
   "cell_type": "code",
   "execution_count": 218,
   "id": "50983dcc",
   "metadata": {},
   "outputs": [
    {
     "data": {
      "text/plain": [
       "6"
      ]
     },
     "execution_count": 218,
     "metadata": {},
     "output_type": "execute_result"
    }
   ],
   "source": [
    "i2-i0"
   ]
  },
  {
   "cell_type": "code",
   "execution_count": 219,
   "id": "99d47fde",
   "metadata": {},
   "outputs": [
    {
     "data": {
      "text/html": [
       "\n",
       "        <iframe\n",
       "            width=\"1000\"\n",
       "            height=\"500\"\n",
       "            src=\"cache/temp6.html\"\n",
       "            frameborder=\"0\"\n",
       "            allowfullscreen\n",
       "            \n",
       "        ></iframe>\n",
       "        "
      ],
      "text/plain": [
       "<IPython.lib.display.IFrame at 0x7fcdd4393670>"
      ]
     },
     "execution_count": 219,
     "metadata": {},
     "output_type": "execute_result"
    }
   ],
   "source": [
    "### Plot the matching from GPX points to nodes\n",
    "network['points'].loc[node_list_raw[0]]\n",
    "# Map setup\n",
    "mid = int(len(trail_coords)/2)\n",
    "chart = folium.Map(location=trail_coords[mid], zoom_start=15, tiles=\"OpenStreetMap\")\n",
    "# Draw the two nodes\n",
    "n0 = network['points'].loc[node0]\n",
    "point0 = [n0['y'],n0['x']]\n",
    "newmarker = folium.CircleMarker(location=point0,radius=3,color='black')\n",
    "newmarker.add_to(chart)\n",
    "n1 = network['points'].loc[node1]\n",
    "point1 = [n1['y'],n1['x']]\n",
    "newmarker = folium.CircleMarker(location=point1,radius=3,color='black')\n",
    "newmarker.add_to(chart)\n",
    "# Draw the k shortest paths\n",
    "colors = ['red','orange','green','blue','black']*10\n",
    "for j in range(len(routes)):\n",
    "    xy = gr_plot.get_fullcoords_from_frame(routes[j])\n",
    "    if j==imin:\n",
    "        wdt = 3\n",
    "    else:\n",
    "        wdt = 1\n",
    "    newline = folium.PolyLine(locations=xy, weight=wdt, color=colors[j],popup=err[j])\n",
    "#     newline = folium.PolyLine(locations=xy, weight=wdt, color=colors[j],popup=weights[j])\n",
    "    newline.add_to(chart)\n",
    "# Draw the GPX points in between\n",
    "for j in range(i0,i2+1):\n",
    "    point = trail_coords[j]\n",
    "    newmarker = folium.CircleMarker(location=point,radius=3,color='red',popup=node_list_raw[j])\n",
    "    newmarker.add_to(chart)\n",
    "# Render the map\n",
    "filepath = f\"cache/temp6.html\"\n",
    "chart.save(filepath)\n",
    "IFrame(filepath, width=1000, height=500)"
   ]
  },
  {
   "cell_type": "code",
   "execution_count": 144,
   "id": "f79611a3",
   "metadata": {},
   "outputs": [
    {
     "data": {
      "text/plain": [
       "[2.5738027647266702e-08,\n",
       " 7.579222327734917e-09,\n",
       " 3.6339695408760563e-09,\n",
       " 3.6339695408760563e-09,\n",
       " 3.6339695408760563e-09]"
      ]
     },
     "execution_count": 144,
     "metadata": {},
     "output_type": "execute_result"
    }
   ],
   "source": [
    "err"
   ]
  },
  {
   "cell_type": "code",
   "execution_count": null,
   "id": "628dba92",
   "metadata": {},
   "outputs": [],
   "source": []
  },
  {
   "cell_type": "code",
   "execution_count": null,
   "id": "cffb416c",
   "metadata": {},
   "outputs": [],
   "source": []
  },
  {
   "cell_type": "code",
   "execution_count": null,
   "id": "6799a3af",
   "metadata": {},
   "outputs": [],
   "source": []
  },
  {
   "cell_type": "code",
   "execution_count": null,
   "id": "7c6f4d51",
   "metadata": {},
   "outputs": [],
   "source": []
  },
  {
   "cell_type": "code",
   "execution_count": null,
   "id": "56b05fe4",
   "metadata": {},
   "outputs": [],
   "source": []
  },
  {
   "cell_type": "code",
   "execution_count": 32,
   "id": "e02da8be",
   "metadata": {},
   "outputs": [],
   "source": [
    "route = ox.k_shortest_paths(network['graph'], id0, id1, k)\n",
    "paths = []\n",
    "for path in route:\n",
    "    paths.append(path)"
   ]
  },
  {
   "cell_type": "code",
   "execution_count": 68,
   "id": "9fd9fb48",
   "metadata": {
    "scrolled": true
   },
   "outputs": [
    {
     "name": "stdout",
     "output_type": "stream",
     "text": [
      "   Writing outputs to file...\n",
      "   Writing outputs to file...\n",
      "   Writing outputs to file...\n",
      "   Writing outputs to file...\n",
      "   Writing outputs to file...\n"
     ]
    }
   ],
   "source": [
    "# Grab the corresponding coordinates\n",
    "routes = []\n",
    "for path in paths:\n",
    "    segment_list = []\n",
    "    for j in range(len(path)-1):\n",
    "        segment_list.extend(gr_mapmatch.get_segments(network, path[j], path[j+1]))\n",
    "    fout = f'temp.csv'\n",
    "    gr_utils.write_batch(fout, segment_list)\n",
    "    data = pd.read_csv(fout,dtype={'highway':str, 'surface': str, 'tracktype':str})\n",
    "    routes.append(data)"
   ]
  },
  {
   "cell_type": "code",
   "execution_count": 69,
   "id": "987b6847",
   "metadata": {},
   "outputs": [
    {
     "data": {
      "text/html": [
       "\n",
       "        <iframe\n",
       "            width=\"1000\"\n",
       "            height=\"500\"\n",
       "            src=\"cache/temp5.html\"\n",
       "            frameborder=\"0\"\n",
       "            allowfullscreen\n",
       "            \n",
       "        ></iframe>\n",
       "        "
      ],
      "text/plain": [
       "<IPython.lib.display.IFrame at 0x7fe2c9e42640>"
      ]
     },
     "execution_count": 69,
     "metadata": {},
     "output_type": "execute_result"
    }
   ],
   "source": [
    "### Plot the matching from GPX points to nodes\n",
    "network['points'].loc[node_list_raw[0]]\n",
    "# Map setup\n",
    "mid = int(len(trail_coords)/2)\n",
    "chart = folium.Map(location=trail_coords[mid], zoom_start=16, tiles=\"OpenStreetMap\")\n",
    "# Draw the two nodes\n",
    "node0 = network['points'].loc[id0]\n",
    "point0 = [node0['y'],node0['x']]\n",
    "newmarker = folium.CircleMarker(location=point0,radius=3,color='black')\n",
    "newmarker.add_to(chart)\n",
    "node1 = network['points'].loc[id1]\n",
    "point1 = [node1['y'],node1['x']]\n",
    "newmarker = folium.CircleMarker(location=point1,radius=3,color='black')\n",
    "newmarker.add_to(chart)\n",
    "# Draw the k shortest paths\n",
    "colors = ['red','orange','yellow','green','blue','black']\n",
    "for j in range(len(routes)):\n",
    "    xy = gr_plot.get_fullcoords_from_frame(routes[j])\n",
    "    newline = folium.PolyLine(locations=xy, weight=3, color=colors[j])\n",
    "    newline.add_to(chart)\n",
    "# Render the map\n",
    "filepath = f\"cache/temp5.html\"\n",
    "chart.save(filepath)\n",
    "IFrame(filepath, width=1000, height=500)"
   ]
  },
  {
   "cell_type": "code",
   "execution_count": null,
   "id": "5a29cfb1",
   "metadata": {},
   "outputs": [],
   "source": []
  },
  {
   "cell_type": "markdown",
   "id": "31dd3077",
   "metadata": {},
   "source": [
    "## Plotting"
   ]
  },
  {
   "cell_type": "code",
   "execution_count": 8,
   "id": "2f9d3d3d",
   "metadata": {
    "scrolled": true
   },
   "outputs": [
    {
     "data": {
      "text/html": [
       "\n",
       "        <iframe\n",
       "            width=\"1000\"\n",
       "            height=\"500\"\n",
       "            src=\"cache/temp4.html\"\n",
       "            frameborder=\"0\"\n",
       "            allowfullscreen\n",
       "            \n",
       "        ></iframe>\n",
       "        "
      ],
      "text/plain": [
       "<IPython.lib.display.IFrame at 0x7fe2c37e3b50>"
      ]
     },
     "execution_count": 8,
     "metadata": {},
     "output_type": "execute_result"
    }
   ],
   "source": [
    "### Plot the matching from GPX points to nodes\n",
    "network['points'].loc[node_list_raw[0]]\n",
    "# Map setup\n",
    "mid = int(len(trail_coords)/2)\n",
    "chart = folium.Map(location=trail_coords[mid], zoom_start=16, tiles=\"OpenStreetMap\")\n",
    "# Draw GPX track\n",
    "newline = folium.PolyLine(locations=trail_coords, weight=3, color='red')\n",
    "newline.add_to(chart)\n",
    "for point in trail_coords:\n",
    "    newmarker = folium.CircleMarker(location=point,radius=3,color='red')\n",
    "    newmarker.add_to(chart)\n",
    "# Draw matched nodes\n",
    "for node_id in node_list_raw:\n",
    "    node = network['points'].loc[node_id]\n",
    "    point = [node['y'],node['x']]\n",
    "    newmarker = folium.CircleMarker(location=point,radius=3,color='blue')\n",
    "    newmarker.add_to(chart)\n",
    "# Render the map\n",
    "filepath = f\"cache/temp4.html\"\n",
    "chart.save(filepath)\n",
    "IFrame(filepath, width=1000, height=500)"
   ]
  },
  {
   "cell_type": "code",
   "execution_count": 13,
   "id": "3bf236a4",
   "metadata": {},
   "outputs": [
    {
     "data": {
      "text/html": [
       "\n",
       "        <iframe\n",
       "            width=\"1000\"\n",
       "            height=\"500\"\n",
       "            src=\"cache/temp5.html\"\n",
       "            frameborder=\"0\"\n",
       "            allowfullscreen\n",
       "            \n",
       "        ></iframe>\n",
       "        "
      ],
      "text/plain": [
       "<IPython.lib.display.IFrame at 0x7fcdd4bef2b0>"
      ]
     },
     "execution_count": 13,
     "metadata": {},
     "output_type": "execute_result"
    }
   ],
   "source": [
    "### Plotting the rendered shortest route\n",
    "network['points'].loc[node_list_raw[0]]\n",
    "# Map setup\n",
    "mid = int(len(trail_coords)/2)\n",
    "chart = folium.Map(location=trail_coords[mid], zoom_start=16, tiles=\"OpenStreetMap\")\n",
    "# Draw GPX track\n",
    "newline = folium.PolyLine(locations=trail_coords, weight=3, color='red')\n",
    "newline.add_to(chart)\n",
    "for point in trail_coords:\n",
    "    newmarker = folium.CircleMarker(location=point,radius=3,color='red')\n",
    "    newmarker.add_to(chart)\n",
    "# Draw matched nodes\n",
    "for node_id in node_list_raw:\n",
    "    node = network['points'].loc[node_id]\n",
    "    point = [node['y'],node['x']]\n",
    "    newmarker = folium.CircleMarker(location=point,radius=3,color='blue',popup=node_id)\n",
    "    newmarker.add_to(chart)\n",
    "# Draw the matching\n",
    "for j in range(len(trail_coords)):\n",
    "    point_gpx = trail_coords[j]\n",
    "    node_id = node_list_raw[j]\n",
    "    node = network['points'].loc[node_id]\n",
    "    point = [node['y'],node['x']]\n",
    "    newline = folium.PolyLine(locations=[point_gpx,point], weight=2, color='black')\n",
    "    newline.add_to(chart)\n",
    "# Draw pathfind\n",
    "# for j in range(len(route_list)-1):\n",
    "#     node0 = route_list[j]\n",
    "#     node1 = route_list[j+1]\n",
    "#     edge = network['edges'].loc[node0,node1]\n",
    "#     lon = list(edge['geometry'][0].coords.xy[0])\n",
    "#     lat = list(edge['geometry'][0].coords.xy[1])\n",
    "#     xy = [[coord[1],coord[0]] for coord in list(zip(lon,lat))]\n",
    "#     newline = folium.PolyLine(locations=xy, weight=3, color='blue')\n",
    "#     newline.add_to(chart)\n",
    "# Render the map\n",
    "filepath = f\"cache/temp5.html\"\n",
    "chart.save(filepath)\n",
    "IFrame(filepath, width=1000, height=500)"
   ]
  },
  {
   "cell_type": "code",
   "execution_count": 10,
   "id": "7081ebc3",
   "metadata": {},
   "outputs": [
    {
     "data": {
      "text/html": [
       "\n",
       "        <iframe\n",
       "            width=\"1000\"\n",
       "            height=\"500\"\n",
       "            src=\"cache/temp.html\"\n",
       "            frameborder=\"0\"\n",
       "            allowfullscreen\n",
       "            \n",
       "        ></iframe>\n",
       "        "
      ],
      "text/plain": [
       "<IPython.lib.display.IFrame at 0x7fe2cad77250>"
      ]
     },
     "execution_count": 10,
     "metadata": {},
     "output_type": "execute_result"
    }
   ],
   "source": [
    "### Just drawing the two paths\n",
    "# Map setup\n",
    "mid = int(len(trail_coords)/2)\n",
    "chart = folium.Map(location=trail_coords[mid], zoom_start=14, tiles=\"OpenStreetMap\") \n",
    "# Draw GPX track\n",
    "newline = folium.PolyLine(locations=trail_coords, weight=3, color='red')\n",
    "newline.add_to(chart)\n",
    "for point in trail_coords:\n",
    "    newmarker = folium.CircleMarker(location=point,radius=3,color='red')\n",
    "    newmarker.add_to(chart)\n",
    "# Draw map matched frame\n",
    "xy = gr_plot.get_coords_from_frame(data)\n",
    "newline = folium.PolyLine(locations=xy, weight=2, color='black')\n",
    "newline.add_to(chart)\n",
    "for point in xy:\n",
    "    newmarker = folium.CircleMarker(location=point,radius=3,color='black')\n",
    "    newmarker.add_to(chart)\n",
    "# Render the map\n",
    "filepath = f\"cache/temp.html\"\n",
    "chart.save(filepath)\n",
    "IFrame(filepath, width=1000, height=500)"
   ]
  },
  {
   "cell_type": "code",
   "execution_count": 13,
   "id": "de1409de",
   "metadata": {},
   "outputs": [],
   "source": [
    "### Calculating the error between the two paths, at all GPX points\n",
    "# for all gpx points\n",
    "dmin = []\n",
    "for point_matched in xy:\n",
    "    d = 999.0\n",
    "    for j in range(len(trail_coords)-1):\n",
    "        d = min(d,get_p2seg_distance(point_matched,trail_coords[j],trail_coords[j+1]))\n",
    "    dmin.append(1e6*d)      "
   ]
  },
  {
   "cell_type": "code",
   "execution_count": 14,
   "id": "205377e1",
   "metadata": {},
   "outputs": [
    {
     "data": {
      "text/html": [
       "\n",
       "        <iframe\n",
       "            width=\"1000\"\n",
       "            height=\"500\"\n",
       "            src=\"cache/temp.html\"\n",
       "            frameborder=\"0\"\n",
       "            allowfullscreen\n",
       "            \n",
       "        ></iframe>\n",
       "        "
      ],
      "text/plain": [
       "<IPython.lib.display.IFrame at 0x7fe2cadc0be0>"
      ]
     },
     "execution_count": 14,
     "metadata": {},
     "output_type": "execute_result"
    }
   ],
   "source": [
    "### Just drawing the two paths\n",
    "mytol = 100\n",
    "# Map setup\n",
    "mid = int(len(trail_coords)/2)\n",
    "chart = folium.Map(location=trail_coords[mid], zoom_start=14, tiles=\"OpenStreetMap\") \n",
    "# Draw GPX points in red\n",
    "newline = folium.PolyLine(locations=trail_coords, weight=3, color='red')\n",
    "newline.add_to(chart)\n",
    "for point in trail_coords:\n",
    "    newmarker = folium.CircleMarker(location=point,radius=3,color='red')\n",
    "    newmarker.add_to(chart)\n",
    "# Draw map matched points\n",
    "xy = gr_plot.get_coords_from_frame(data)\n",
    "newline = folium.PolyLine(locations=xy, weight=2, color='black')\n",
    "newline.add_to(chart)\n",
    "for j in range(len(xy)):\n",
    "    point = xy[j]\n",
    "    d = dmin[j]\n",
    "    color = 'black'\n",
    "    if d<mytol: # good points are black\n",
    "        color = 'black'\n",
    "    else: # bad points are blue\n",
    "        color = 'blue'\n",
    "    newmarker = folium.CircleMarker(location=point,radius=3,color=color,popup=np.round(d))\n",
    "    newmarker.add_to(chart)\n",
    "# Render the map\n",
    "filepath = f\"cache/temp.html\"\n",
    "chart.save(filepath)\n",
    "IFrame(filepath, width=1000, height=500)"
   ]
  },
  {
   "cell_type": "code",
   "execution_count": 15,
   "id": "d11abe35",
   "metadata": {},
   "outputs": [
    {
     "data": {
      "text/html": [
       "\n",
       "        <iframe\n",
       "            width=\"1000\"\n",
       "            height=\"500\"\n",
       "            src=\"cache/temp2.html\"\n",
       "            frameborder=\"0\"\n",
       "            allowfullscreen\n",
       "            \n",
       "        ></iframe>\n",
       "        "
      ],
      "text/plain": [
       "<IPython.lib.display.IFrame at 0x7fe2cad8d160>"
      ]
     },
     "execution_count": 15,
     "metadata": {},
     "output_type": "execute_result"
    }
   ],
   "source": [
    "### Just drawing the two paths\n",
    "mytol = 100\n",
    "# Map setup\n",
    "mid = int(len(trail_coords)/2)\n",
    "chart = folium.Map(location=trail_coords[mid], zoom_start=14, tiles=\"OpenStreetMap\") \n",
    "# Draw GPX points in red\n",
    "# newline = folium.PolyLine(locations=trail_coords, weight=1, color='red')\n",
    "# newline.add_to(chart)\n",
    "# Render the map\n",
    "filepath = f\"cache/temp2.html\"\n",
    "chart.save(filepath)\n",
    "IFrame(filepath, width=1000, height=500)"
   ]
  },
  {
   "cell_type": "code",
   "execution_count": null,
   "id": "c80ad249",
   "metadata": {},
   "outputs": [],
   "source": []
  },
  {
   "cell_type": "code",
   "execution_count": null,
   "id": "0a4d761c",
   "metadata": {},
   "outputs": [],
   "source": []
  }
 ],
 "metadata": {
  "kernelspec": {
   "display_name": "Python 3 (ipykernel)",
   "language": "python",
   "name": "python3"
  },
  "language_info": {
   "codemirror_mode": {
    "name": "ipython",
    "version": 3
   },
   "file_extension": ".py",
   "mimetype": "text/x-python",
   "name": "python",
   "nbconvert_exporter": "python",
   "pygments_lexer": "ipython3",
   "version": "3.9.12"
  }
 },
 "nbformat": 4,
 "nbformat_minor": 5
}
