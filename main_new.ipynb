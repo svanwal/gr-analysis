{
 "cells": [
  {
   "cell_type": "markdown",
   "id": "82204626",
   "metadata": {},
   "source": [
    "## Importing modules and packages"
   ]
  },
  {
   "cell_type": "code",
   "execution_count": 1,
   "id": "f4a32d3e",
   "metadata": {},
   "outputs": [],
   "source": [
    "# Importing packages\n",
    "import osmnx  as ox\n",
    "import pandas as pd\n",
    "import numpy  as np\n",
    "import folium\n",
    "import os.path\n",
    "import shapely\n",
    "import geopandas as gpd\n",
    "from IPython.display import IFrame\n",
    "\n",
    "# Importing modules\n",
    "import gr_mapmatch # Contains functions that perform the map matching of roads\n",
    "# import gr_placematch # Contains functions that perform the map matching of places\n",
    "import gr_utils # Contains useful geometry functions\n",
    "import gr_plot # Contains plotting routines\n",
    "# import gr_process\n",
    "import roadmatch\n",
    "\n",
    "# Configuring modules & packages\n",
    "ox.settings.useful_tags_way = [\n",
    "    \"bridge\",\"tunnel\",\"name\",\"highway\",\"area\",\"landuse\",\"surface\",\"tracktype\"\n",
    "] # Configuring which parameters we want to obtain from OSM"
   ]
  },
  {
   "cell_type": "markdown",
   "id": "27b93e47",
   "metadata": {},
   "source": [
    "## Input parameters"
   ]
  },
  {
   "cell_type": "code",
   "execution_count": 2,
   "id": "015a24ff",
   "metadata": {},
   "outputs": [],
   "source": [
    "trailname = 'gr131' # Name of the hiking trail to be considered (will search for trail.csv or trail.gpx as sources)\n",
    "\n",
    "# Settings for trail2roads\n",
    "points_per_batch = 100 # Subdivide the trail into batches of this many points\n",
    "delta_roads = 0.010 # Tolerance around bounding box per trail section [deg]\n",
    "\n",
    "# Settings for roads2places\n",
    "points_per_batch_places = 100 # Subdivide the trail into batches of this many segments\n",
    "delta_places = 0.015 # bbox delta in deg\n",
    "buffersize = 0.00015 # buffer used when merging landuse places\n",
    "tol_area = 15.0e-6 # buffer used to define which merged landuse places we consider\n",
    "\n",
    "# Settings for places2processed\n",
    "tol_d        = 0.75 # Consider a segment developed if it lies closer than tol_d to a developed area\n",
    "tracktype_p0 = ['grade4','grade5']\n",
    "tracktype_p1 = ['grade2','grade3']\n",
    "tracktype_p2 = ['grade1']\n",
    "surface_p0   = ['ground','grass','dirt','sand','earth','mud']\n",
    "surface_p1   = ['unpaved','gravel','fine_gravel','wood','compacted','rocks','pebblestone','woodchips','snow','ice','salt']\n",
    "highway_p1   = ['track','path','footway','bridleway']\n",
    "types_slow   = ['pedestrian','track','footway','bridleway','steps','corridor','path']\n",
    "types_heavy  = ['motorway','trunk','primary','secondary','tertiary']"
   ]
  },
  {
   "cell_type": "markdown",
   "id": "aa7e8e6f",
   "metadata": {},
   "source": [
    "## Loading GPX file"
   ]
  },
  {
   "cell_type": "code",
   "execution_count": 3,
   "id": "667a640b",
   "metadata": {},
   "outputs": [
    {
     "name": "stdout",
     "output_type": "stream",
     "text": [
      "Loading trail points from <data_input/gr131.gpx>...\n",
      "Finished loading.\n"
     ]
    }
   ],
   "source": [
    "gpx = gr_utils.get_gpx(trailname)\n",
    "gpx_coords = gr_mapmatch.trail_to_coords(gpx) # Convert the points into a list of [lat, lon] pairs"
   ]
  },
  {
   "cell_type": "markdown",
   "id": "5698b079",
   "metadata": {},
   "source": [
    "## Matching GPX points to OSM nodes"
   ]
  },
  {
   "cell_type": "code",
   "execution_count": 4,
   "id": "9f937d46",
   "metadata": {},
   "outputs": [
    {
     "name": "stdout",
     "output_type": "stream",
     "text": [
      "Handling batch #0/22 spanning GPX points 0 through 99\n",
      "   Handling GPX point 99 of 99...\n",
      "Handling batch #1/22 spanning GPX points 100 through 199\n",
      "   Handling GPX point 99 of 99...\n",
      "Handling batch #2/22 spanning GPX points 200 through 299\n",
      "   Handling GPX point 99 of 99...\n",
      "Handling batch #3/22 spanning GPX points 300 through 399\n",
      "   Handling GPX point 99 of 99...\n",
      "Handling batch #4/22 spanning GPX points 400 through 499\n",
      "   Handling GPX point 99 of 99...\n",
      "Handling batch #5/22 spanning GPX points 500 through 599\n",
      "   Handling GPX point 99 of 99...\n",
      "Handling batch #6/22 spanning GPX points 600 through 699\n",
      "   Handling GPX point 99 of 99...\n",
      "Handling batch #7/22 spanning GPX points 700 through 799\n",
      "   Handling GPX point 99 of 99...\n",
      "Handling batch #8/22 spanning GPX points 800 through 899\n",
      "   Handling GPX point 99 of 99...\n",
      "Handling batch #9/22 spanning GPX points 900 through 999\n",
      "   Handling GPX point 99 of 99...\n",
      "Handling batch #10/22 spanning GPX points 1000 through 1099\n",
      "   Handling GPX point 99 of 99...\n",
      "Handling batch #11/22 spanning GPX points 1100 through 1199\n",
      "   Handling GPX point 99 of 99...\n",
      "Handling batch #12/22 spanning GPX points 1200 through 1299\n",
      "   Handling GPX point 99 of 99...\n",
      "Handling batch #13/22 spanning GPX points 1300 through 1399\n",
      "   Handling GPX point 99 of 99...\n",
      "Handling batch #14/22 spanning GPX points 1400 through 1499\n",
      "   Handling GPX point 99 of 99...\n",
      "Handling batch #15/22 spanning GPX points 1500 through 1599\n",
      "   Handling GPX point 99 of 99...\n",
      "Handling batch #16/22 spanning GPX points 1600 through 1699\n",
      "   Handling GPX point 99 of 99...\n",
      "Handling batch #17/22 spanning GPX points 1700 through 1799\n",
      "   Handling GPX point 99 of 99...\n",
      "Handling batch #18/22 spanning GPX points 1800 through 1899\n",
      "   Handling GPX point 99 of 99...\n",
      "Handling batch #19/22 spanning GPX points 1900 through 1999\n",
      "   Handling GPX point 99 of 99...\n",
      "Handling batch #20/22 spanning GPX points 2000 through 2099\n",
      "   Handling GPX point 99 of 99...\n",
      "Handling batch #21/22 spanning GPX points 2100 through 2199\n",
      "   Handling GPX point 99 of 99...\n",
      "Handling batch #22/22 spanning GPX points 2200 through 2269\n",
      "   Handling GPX point 69 of 69...\n"
     ]
    }
   ],
   "source": [
    "# Generate the nodes dataframe [point_x, point_y, node_id, node_x, node_y, d2node]\n",
    "# with point = a GPX point and node = the corresponding node\n",
    "# and d2node = the distance from the GPX point to its corresponding node\n",
    "filename_nodes = 'cache/' + trailname + '_nodes.csv'\n",
    "if not os.path.isfile(filename_nodes): # The nodes file does not exist, construct it\n",
    "    nodes = roadmatch.gpx_to_nodes(gpx, gpx_coords, points_per_batch, delta_roads)\n",
    "    nodes.to_csv(filename_nodes)\n",
    "else: # The nodes file exists, load it\n",
    "    nodes = pd.read_csv(filename_nodes,index_col=0,\n",
    "                            dtype={'point_x':float, 'point_y':float,\n",
    "                                   'node_id':int,\n",
    "                                   'node_x':float, 'node_y':float,\n",
    "                                   'd2node':float})"
   ]
  },
  {
   "cell_type": "code",
   "execution_count": 8,
   "id": "c3e6c0f2",
   "metadata": {},
   "outputs": [
    {
     "data": {
      "text/plain": [
       "3009595183.0"
      ]
     },
     "execution_count": 8,
     "metadata": {},
     "output_type": "execute_result"
    }
   ],
   "source": [
    "nodes.loc[1300]['node_id']"
   ]
  },
  {
   "cell_type": "code",
   "execution_count": 9,
   "id": "06c80f3b",
   "metadata": {
    "scrolled": true
   },
   "outputs": [],
   "source": [
    "# Generate the pieces dataframe [node0, node1, gpx0, gpx1]\n",
    "# it cuts up the GPX trail into pieces on which individual pathfinding can be done\n",
    "filename_pieces = 'cache/' + trailname + '_pieces.csv'\n",
    "if not os.path.isfile(filename_pieces): # The pieces file does not exist, construct it\n",
    "    pieces = roadmatch.nodes_to_pieces(nodes)\n",
    "    pieces.to_csv(filename_pieces)\n",
    "else:\n",
    "    pieces = pd.read_csv(filename_pieces,index_col=0,\n",
    "                         dtype={'node0':int,'node1':int,\n",
    "                                'gpx0':int,'gpx1':int})"
   ]
  },
  {
   "cell_type": "code",
   "execution_count": 10,
   "id": "94dde8d2",
   "metadata": {},
   "outputs": [
    {
     "data": {
      "text/html": [
       "<div>\n",
       "<style scoped>\n",
       "    .dataframe tbody tr th:only-of-type {\n",
       "        vertical-align: middle;\n",
       "    }\n",
       "\n",
       "    .dataframe tbody tr th {\n",
       "        vertical-align: top;\n",
       "    }\n",
       "\n",
       "    .dataframe thead th {\n",
       "        text-align: right;\n",
       "    }\n",
       "</style>\n",
       "<table border=\"1\" class=\"dataframe\">\n",
       "  <thead>\n",
       "    <tr style=\"text-align: right;\">\n",
       "      <th></th>\n",
       "      <th>node0</th>\n",
       "      <th>node1</th>\n",
       "      <th>gpx0</th>\n",
       "      <th>gpx1</th>\n",
       "    </tr>\n",
       "  </thead>\n",
       "  <tbody>\n",
       "    <tr>\n",
       "      <th>0</th>\n",
       "      <td>318732866</td>\n",
       "      <td>4626818866</td>\n",
       "      <td>0</td>\n",
       "      <td>2</td>\n",
       "    </tr>\n",
       "    <tr>\n",
       "      <th>1</th>\n",
       "      <td>4626818866</td>\n",
       "      <td>4626818843</td>\n",
       "      <td>2</td>\n",
       "      <td>25</td>\n",
       "    </tr>\n",
       "    <tr>\n",
       "      <th>2</th>\n",
       "      <td>4626818843</td>\n",
       "      <td>6617775862</td>\n",
       "      <td>25</td>\n",
       "      <td>28</td>\n",
       "    </tr>\n",
       "    <tr>\n",
       "      <th>3</th>\n",
       "      <td>6617775862</td>\n",
       "      <td>318734760</td>\n",
       "      <td>28</td>\n",
       "      <td>40</td>\n",
       "    </tr>\n",
       "    <tr>\n",
       "      <th>4</th>\n",
       "      <td>318734760</td>\n",
       "      <td>6110424021</td>\n",
       "      <td>40</td>\n",
       "      <td>47</td>\n",
       "    </tr>\n",
       "    <tr>\n",
       "      <th>...</th>\n",
       "      <td>...</td>\n",
       "      <td>...</td>\n",
       "      <td>...</td>\n",
       "      <td>...</td>\n",
       "    </tr>\n",
       "    <tr>\n",
       "      <th>626</th>\n",
       "      <td>705827064</td>\n",
       "      <td>2431140715</td>\n",
       "      <td>2263</td>\n",
       "      <td>2264</td>\n",
       "    </tr>\n",
       "    <tr>\n",
       "      <th>627</th>\n",
       "      <td>2431140715</td>\n",
       "      <td>705827061</td>\n",
       "      <td>2264</td>\n",
       "      <td>2265</td>\n",
       "    </tr>\n",
       "    <tr>\n",
       "      <th>628</th>\n",
       "      <td>705827061</td>\n",
       "      <td>1889821173</td>\n",
       "      <td>2265</td>\n",
       "      <td>2266</td>\n",
       "    </tr>\n",
       "    <tr>\n",
       "      <th>629</th>\n",
       "      <td>1889821173</td>\n",
       "      <td>2021911295</td>\n",
       "      <td>2266</td>\n",
       "      <td>2267</td>\n",
       "    </tr>\n",
       "    <tr>\n",
       "      <th>630</th>\n",
       "      <td>2021911295</td>\n",
       "      <td>2021911297</td>\n",
       "      <td>2267</td>\n",
       "      <td>2269</td>\n",
       "    </tr>\n",
       "  </tbody>\n",
       "</table>\n",
       "<p>631 rows × 4 columns</p>\n",
       "</div>"
      ],
      "text/plain": [
       "          node0       node1  gpx0  gpx1\n",
       "0     318732866  4626818866     0     2\n",
       "1    4626818866  4626818843     2    25\n",
       "2    4626818843  6617775862    25    28\n",
       "3    6617775862   318734760    28    40\n",
       "4     318734760  6110424021    40    47\n",
       "..          ...         ...   ...   ...\n",
       "626   705827064  2431140715  2263  2264\n",
       "627  2431140715   705827061  2264  2265\n",
       "628   705827061  1889821173  2265  2266\n",
       "629  1889821173  2021911295  2266  2267\n",
       "630  2021911295  2021911297  2267  2269\n",
       "\n",
       "[631 rows x 4 columns]"
      ]
     },
     "execution_count": 10,
     "metadata": {},
     "output_type": "execute_result"
    }
   ],
   "source": [
    "pieces"
   ]
  },
  {
   "cell_type": "code",
   "execution_count": 11,
   "id": "7a5f70b4",
   "metadata": {
    "scrolled": true
   },
   "outputs": [
    {
     "name": "stdout",
     "output_type": "stream",
     "text": [
      "Handling piece 19 of 631, spanning GPX points 104 through 109\n",
      "Handling piece 49 of 631, spanning GPX points 205 through 206\n",
      "Handling piece 82 of 631, spanning GPX points 303 through 313\n",
      "Handling piece 124 of 631, spanning GPX points 405 through 406\n",
      "Handling piece 161 of 631, spanning GPX points 506 through 510\n",
      "Handling piece 181 of 631, spanning GPX points 610 through 614\n",
      "Handling piece 199 of 631, spanning GPX points 705 through 712\n",
      "Handling piece 229 of 631, spanning GPX points 801 through 806\n",
      "Handling piece 272 of 631, spanning GPX points 907 through 914\n",
      "Handling piece 306 of 631, spanning GPX points 1001 through 1005\n",
      "Handling piece 331 of 631, spanning GPX points 1102 through 1104\n",
      "Handling piece 363 of 631, spanning GPX points 1210 through 1214\n",
      "Handling piece 381 of 631, spanning GPX points 1301 through 1303\n",
      "Handling piece 424 of 631, spanning GPX points 1403 through 1410\n",
      "Handling piece 449 of 631, spanning GPX points 1517 through 1525\n",
      "Handling piece 466 of 631, spanning GPX points 1609 through 1615\n",
      "Handling piece 484 of 631, spanning GPX points 1711 through 1712\n",
      "   Node not found in network, downloading larger network... 1826\n",
      "   Node not found in network, downloading larger network...\n",
      "Handling piece 505 of 631, spanning GPX points 1826 through 1833\n",
      "   Node not found in network, downloading larger network... 1948\n",
      "   Node not found in network, downloading larger network...\n",
      "Handling piece 520 of 631, spanning GPX points 1948 through 1949\n",
      "Handling piece 543 of 631, spanning GPX points 2001 through 2006\n",
      "Handling piece 588 of 631, spanning GPX points 2101 through 2105\n",
      "Handling piece 609 of 631, spanning GPX points 2205 through 2207\n",
      "Handling piece 630 of 631, spanning GPX points 2267 through 2269\r"
     ]
    }
   ],
   "source": [
    "npaths = 5\n",
    "\n",
    "# Generate the segments dataframe [x0,y0,x1,y1,d_cart,d_osm,highway,surface,tracktype]\n",
    "filename_segments = 'cache/' + trailname + '_segments.csv'\n",
    "if not os.path.isfile(filename_segments): # The pieces file does not exist, construct it\n",
    "    segments = roadmatch.pieces_to_segments(gpx,nodes,points_per_batch,delta_roads,pieces,npaths)\n",
    "    segments.to_csv(filename_segments)\n",
    "else:\n",
    "    segments = pd.read_csv(filename_segments,index_col=0,\n",
    "                         dtype={'x0':float,'y0':float,\n",
    "                                'x1':float,'y1':float,\n",
    "                               'd_cart':float,'d_osm':float,\n",
    "                                'highway':str,'surface':str,'tracktype':str})"
   ]
  },
  {
   "cell_type": "code",
   "execution_count": 11,
   "id": "0c062d50",
   "metadata": {},
   "outputs": [
    {
     "data": {
      "text/html": [
       "<div>\n",
       "<style scoped>\n",
       "    .dataframe tbody tr th:only-of-type {\n",
       "        vertical-align: middle;\n",
       "    }\n",
       "\n",
       "    .dataframe tbody tr th {\n",
       "        vertical-align: top;\n",
       "    }\n",
       "\n",
       "    .dataframe thead th {\n",
       "        text-align: right;\n",
       "    }\n",
       "</style>\n",
       "<table border=\"1\" class=\"dataframe\">\n",
       "  <thead>\n",
       "    <tr style=\"text-align: right;\">\n",
       "      <th></th>\n",
       "      <th>point_x</th>\n",
       "      <th>point_y</th>\n",
       "      <th>node_id</th>\n",
       "      <th>node_x</th>\n",
       "      <th>node_y</th>\n",
       "      <th>d2node</th>\n",
       "    </tr>\n",
       "  </thead>\n",
       "  <tbody>\n",
       "    <tr>\n",
       "      <th>0</th>\n",
       "      <td>3.28378</td>\n",
       "      <td>51.24877</td>\n",
       "      <td>318732866</td>\n",
       "      <td>3.283777</td>\n",
       "      <td>51.248771</td>\n",
       "      <td>3.228002e-06</td>\n",
       "    </tr>\n",
       "    <tr>\n",
       "      <th>1</th>\n",
       "      <td>3.28415</td>\n",
       "      <td>51.24843</td>\n",
       "      <td>4626818866</td>\n",
       "      <td>3.284196</td>\n",
       "      <td>51.248409</td>\n",
       "      <td>5.084880e-05</td>\n",
       "    </tr>\n",
       "    <tr>\n",
       "      <th>2</th>\n",
       "      <td>3.28420</td>\n",
       "      <td>51.24840</td>\n",
       "      <td>4626818866</td>\n",
       "      <td>3.284196</td>\n",
       "      <td>51.248409</td>\n",
       "      <td>9.879271e-06</td>\n",
       "    </tr>\n",
       "    <tr>\n",
       "      <th>3</th>\n",
       "      <td>3.28435</td>\n",
       "      <td>51.24843</td>\n",
       "      <td>4626818866</td>\n",
       "      <td>3.284196</td>\n",
       "      <td>51.248409</td>\n",
       "      <td>1.550019e-04</td>\n",
       "    </tr>\n",
       "    <tr>\n",
       "      <th>4</th>\n",
       "      <td>3.28442</td>\n",
       "      <td>51.24847</td>\n",
       "      <td>4626818866</td>\n",
       "      <td>3.284196</td>\n",
       "      <td>51.248409</td>\n",
       "      <td>2.317188e-04</td>\n",
       "    </tr>\n",
       "    <tr>\n",
       "      <th>...</th>\n",
       "      <td>...</td>\n",
       "      <td>...</td>\n",
       "      <td>...</td>\n",
       "      <td>...</td>\n",
       "      <td>...</td>\n",
       "      <td>...</td>\n",
       "    </tr>\n",
       "    <tr>\n",
       "      <th>2265</th>\n",
       "      <td>2.91721</td>\n",
       "      <td>50.82261</td>\n",
       "      <td>705827061</td>\n",
       "      <td>2.917207</td>\n",
       "      <td>50.822602</td>\n",
       "      <td>8.475848e-06</td>\n",
       "    </tr>\n",
       "    <tr>\n",
       "      <th>2266</th>\n",
       "      <td>2.91876</td>\n",
       "      <td>50.82151</td>\n",
       "      <td>1889821173</td>\n",
       "      <td>2.918760</td>\n",
       "      <td>50.821511</td>\n",
       "      <td>9.000000e-07</td>\n",
       "    </tr>\n",
       "    <tr>\n",
       "      <th>2267</th>\n",
       "      <td>2.91778</td>\n",
       "      <td>50.82097</td>\n",
       "      <td>2021911295</td>\n",
       "      <td>2.917764</td>\n",
       "      <td>50.820979</td>\n",
       "      <td>1.802942e-05</td>\n",
       "    </tr>\n",
       "    <tr>\n",
       "      <th>2268</th>\n",
       "      <td>2.92010</td>\n",
       "      <td>50.81924</td>\n",
       "      <td>2021911297</td>\n",
       "      <td>2.920114</td>\n",
       "      <td>50.819238</td>\n",
       "      <td>1.462395e-05</td>\n",
       "    </tr>\n",
       "    <tr>\n",
       "      <th>2269</th>\n",
       "      <td>2.91992</td>\n",
       "      <td>50.81907</td>\n",
       "      <td>672295671</td>\n",
       "      <td>2.919909</td>\n",
       "      <td>50.819054</td>\n",
       "      <td>1.886054e-05</td>\n",
       "    </tr>\n",
       "  </tbody>\n",
       "</table>\n",
       "<p>2270 rows × 6 columns</p>\n",
       "</div>"
      ],
      "text/plain": [
       "      point_x   point_y     node_id    node_x     node_y        d2node\n",
       "0     3.28378  51.24877   318732866  3.283777  51.248771  3.228002e-06\n",
       "1     3.28415  51.24843  4626818866  3.284196  51.248409  5.084880e-05\n",
       "2     3.28420  51.24840  4626818866  3.284196  51.248409  9.879271e-06\n",
       "3     3.28435  51.24843  4626818866  3.284196  51.248409  1.550019e-04\n",
       "4     3.28442  51.24847  4626818866  3.284196  51.248409  2.317188e-04\n",
       "...       ...       ...         ...       ...        ...           ...\n",
       "2265  2.91721  50.82261   705827061  2.917207  50.822602  8.475848e-06\n",
       "2266  2.91876  50.82151  1889821173  2.918760  50.821511  9.000000e-07\n",
       "2267  2.91778  50.82097  2021911295  2.917764  50.820979  1.802942e-05\n",
       "2268  2.92010  50.81924  2021911297  2.920114  50.819238  1.462395e-05\n",
       "2269  2.91992  50.81907   672295671  2.919909  50.819054  1.886054e-05\n",
       "\n",
       "[2270 rows x 6 columns]"
      ]
     },
     "execution_count": 11,
     "metadata": {},
     "output_type": "execute_result"
    }
   ],
   "source": [
    "segments"
   ]
  },
  {
   "cell_type": "code",
   "execution_count": 13,
   "id": "c758720e",
   "metadata": {},
   "outputs": [
    {
     "data": {
      "text/html": [
       "\n",
       "        <iframe\n",
       "            width=\"1000\"\n",
       "            height=\"500\"\n",
       "            src=\"cache/temp11.html\"\n",
       "            frameborder=\"0\"\n",
       "            allowfullscreen\n",
       "            \n",
       "        ></iframe>\n",
       "        "
      ],
      "text/plain": [
       "<IPython.lib.display.IFrame at 0x7f9ac7c58460>"
      ]
     },
     "execution_count": 13,
     "metadata": {},
     "output_type": "execute_result"
    }
   ],
   "source": [
    "# Map setup\n",
    "mid = int(len(gpx_coords)/2)\n",
    "chart = folium.Map(location=gpx_coords[mid], zoom_start=10, tiles=\"OpenStreetMap\")\n",
    "\n",
    "# Draw the GPX route\n",
    "newline = folium.PolyLine(locations=gpx_coords, weight=2, color='red')\n",
    "newline.add_to(chart)\n",
    "\n",
    "# Draw the matched route\n",
    "# newline = folium.PolyLine(locations=matchedcoords, weight=2, color='black')\n",
    "# newline.add_to(chart)\n",
    "\n",
    "# Draw node mappings\n",
    "for idx, row in nodes.iterrows():\n",
    "    row\n",
    "    point = [row['point_y'],row['point_x']]\n",
    "    newmarker = folium.CircleMarker(location=point,radius=2,color='red',popup={idx})\n",
    "    newmarker.add_to(chart)\n",
    "    node = [row['node_y'],row['node_x']]\n",
    "    newmarker = folium.CircleMarker(location=node,radius=2,color='blue',popup={row['node_id']})\n",
    "    newmarker.add_to(chart)\n",
    "    newline = folium.PolyLine(locations=[point,node], weight=2, color='black')\n",
    "    newline.add_to(chart)\n",
    "\n",
    "# Render the map\n",
    "filepath = f\"cache/temp11.html\"\n",
    "chart.save(filepath)\n",
    "IFrame(filepath, width=1000, height=500)"
   ]
  },
  {
   "cell_type": "code",
   "execution_count": null,
   "id": "4ddbf0cf",
   "metadata": {},
   "outputs": [],
   "source": []
  },
  {
   "cell_type": "code",
   "execution_count": null,
   "id": "0f276137",
   "metadata": {},
   "outputs": [],
   "source": []
  },
  {
   "cell_type": "code",
   "execution_count": null,
   "id": "0974967c",
   "metadata": {},
   "outputs": [],
   "source": []
  },
  {
   "cell_type": "code",
   "execution_count": null,
   "id": "acc3d8c9",
   "metadata": {},
   "outputs": [],
   "source": []
  },
  {
   "cell_type": "code",
   "execution_count": null,
   "id": "095b2fa6",
   "metadata": {},
   "outputs": [],
   "source": []
  },
  {
   "cell_type": "code",
   "execution_count": null,
   "id": "1a7bc38a",
   "metadata": {},
   "outputs": [],
   "source": []
  },
  {
   "cell_type": "markdown",
   "id": "2663ad57",
   "metadata": {},
   "source": [
    "## Debugging why a wrong node still is returned"
   ]
  },
  {
   "cell_type": "code",
   "execution_count": 58,
   "id": "64eeff62",
   "metadata": {},
   "outputs": [
    {
     "name": "stdout",
     "output_type": "stream",
     "text": [
      "Handling batch #13/22 spanning GPX points 1300 through 1399\n",
      "   Handling GPX point 99 of 99...\n"
     ]
    }
   ],
   "source": [
    "n_trail = len(gpx) # Number of GPX points in the trail\n",
    "n_batch = int(np.ceil(gpx.shape[0]/points_per_batch)) # Number of batches to be run\n",
    "nodes = pd.DataFrame() # ID of node matched to each GPX point\n",
    "\n",
    "## --- Loop over all sections of the trail\n",
    "b = 13\n",
    "\n",
    "# Define the range of GPX points to process in the current batch\n",
    "n1 = b*points_per_batch # First point of this batch\n",
    "n2 = min(n1 + points_per_batch, n_trail) # Last point of this batch (clipped)\n",
    "\n",
    "print(f'Handling batch #{b}/{n_batch-1} spanning GPX points {n1} through {n2-1}')\n",
    "\n",
    "gpx_section = gpx.loc[n1:n2] # Select that range of GPX points\n",
    "section_coords = gpx_coords[n1:n2] # Convert the points into a list of [lat, lon] pairs\n",
    "\n",
    "lat_min, lat_max, lon_min, lon_max = gr_mapmatch.get_bbox(gpx_section,delta_roads) # Calculate the bounding box\n",
    "# lat_min = 51.005359999999996 \n",
    "# lat_max = 51.08834 \n",
    "# lon_min = 2.8570900000000004 \n",
    "# lon_max = 2.90\n",
    "\n",
    "\n",
    "\n",
    "network = gr_mapmatch.get_osm_network(lat_min, lat_max, lon_min, lon_max) # Download the street network from OSM\n",
    "new_nodes = gr_mapmatch.match_nodes_vec(network,section_coords) # Calculate corresponding node for each GPX point\n",
    "\n",
    "# Calculate distance between each GPX point and its corresponding node, in this batch\n",
    "dvec = []\n",
    "for j in range(len(section_coords)):\n",
    "    point_id = n1 + j\n",
    "    point_y = section_coords[j][0]\n",
    "    point_x = section_coords[j][1]\n",
    "    node_id = new_nodes[j]\n",
    "    node = network['points'].loc[node_id]\n",
    "    node_x = node['x']\n",
    "    node_y = node['y']\n",
    "    d2node = gr_mapmatch.get_dist(section_coords[j],[node_y,node_x]) # distance from gpx point to matching node\n",
    "    newrow = pd.DataFrame({'point_x':point_x, 'point_y':point_y,\n",
    "                           'node_id':node_id,\n",
    "                           'node_x':node_x, 'node_y':node_y,\n",
    "                           'd2node':d2node},index={point_id})\n",
    "    nodes = pd.concat([nodes,newrow])"
   ]
  },
  {
   "cell_type": "code",
   "execution_count": 59,
   "id": "35b29c50",
   "metadata": {},
   "outputs": [],
   "source": [
    "# node_pts\n",
    "\n",
    "# def gpx2points(gpx):\n",
    "    \n",
    "x = network['points']['x'].values.tolist()\n",
    "y = network['points']['y'].values.tolist()\n",
    "temp = list(zip(x,y))\n",
    "node_pts = [[point[1],point[0]] for point in temp]"
   ]
  },
  {
   "cell_type": "code",
   "execution_count": 60,
   "id": "a922670a",
   "metadata": {},
   "outputs": [
    {
     "data": {
      "text/plain": [
       "y                                  51.037733\n",
       "x                                   2.896468\n",
       "street_count                               1\n",
       "highway                                  NaN\n",
       "geometry        POINT (2.8964679 51.0377333)\n",
       "Name: 3027152111, dtype: object"
      ]
     },
     "execution_count": 60,
     "metadata": {},
     "output_type": "execute_result"
    }
   ],
   "source": [
    "network['points'].loc[3027152111]"
   ]
  },
  {
   "cell_type": "code",
   "execution_count": 68,
   "id": "34c26639",
   "metadata": {},
   "outputs": [],
   "source": [
    "pt = gpx_coords[1300]\n",
    "nn = ox.distance.nearest_edges(network['graph'],pt[1],pt[0])"
   ]
  },
  {
   "cell_type": "code",
   "execution_count": 69,
   "id": "6dfed3e7",
   "metadata": {},
   "outputs": [
    {
     "data": {
      "text/html": [
       "<div>\n",
       "<style scoped>\n",
       "    .dataframe tbody tr th:only-of-type {\n",
       "        vertical-align: middle;\n",
       "    }\n",
       "\n",
       "    .dataframe tbody tr th {\n",
       "        vertical-align: top;\n",
       "    }\n",
       "\n",
       "    .dataframe thead th {\n",
       "        text-align: right;\n",
       "    }\n",
       "</style>\n",
       "<table border=\"1\" class=\"dataframe\">\n",
       "  <thead>\n",
       "    <tr style=\"text-align: right;\">\n",
       "      <th></th>\n",
       "      <th>osmid</th>\n",
       "      <th>name</th>\n",
       "      <th>highway</th>\n",
       "      <th>surface</th>\n",
       "      <th>oneway</th>\n",
       "      <th>reversed</th>\n",
       "      <th>length</th>\n",
       "      <th>geometry</th>\n",
       "      <th>bridge</th>\n",
       "      <th>tracktype</th>\n",
       "      <th>tunnel</th>\n",
       "    </tr>\n",
       "    <tr>\n",
       "      <th>key</th>\n",
       "      <th></th>\n",
       "      <th></th>\n",
       "      <th></th>\n",
       "      <th></th>\n",
       "      <th></th>\n",
       "      <th></th>\n",
       "      <th></th>\n",
       "      <th></th>\n",
       "      <th></th>\n",
       "      <th></th>\n",
       "      <th></th>\n",
       "    </tr>\n",
       "  </thead>\n",
       "  <tbody>\n",
       "    <tr>\n",
       "      <th>0</th>\n",
       "      <td>191431401</td>\n",
       "      <td>Boterdijk</td>\n",
       "      <td>track</td>\n",
       "      <td>grass_paver</td>\n",
       "      <td>False</td>\n",
       "      <td>True</td>\n",
       "      <td>1505.986</td>\n",
       "      <td>LINESTRING (2.87592 51.04124, 2.87601 51.04115...</td>\n",
       "      <td>NaN</td>\n",
       "      <td>grade4</td>\n",
       "      <td>NaN</td>\n",
       "    </tr>\n",
       "  </tbody>\n",
       "</table>\n",
       "</div>"
      ],
      "text/plain": [
       "         osmid       name highway      surface  oneway reversed    length  \\\n",
       "key                                                                         \n",
       "0    191431401  Boterdijk   track  grass_paver   False     True  1505.986   \n",
       "\n",
       "                                              geometry bridge tracktype tunnel  \n",
       "key                                                                             \n",
       "0    LINESTRING (2.87592 51.04124, 2.87601 51.04115...    NaN    grade4    NaN  "
      ]
     },
     "execution_count": 69,
     "metadata": {},
     "output_type": "execute_result"
    }
   ],
   "source": [
    "nearest_edges\n",
    "network['edges'].loc[(nn[0],nn[1])]"
   ]
  },
  {
   "cell_type": "code",
   "execution_count": 61,
   "id": "39e8e845",
   "metadata": {},
   "outputs": [
    {
     "data": {
      "text/html": [
       "\n",
       "        <iframe\n",
       "            width=\"1000\"\n",
       "            height=\"500\"\n",
       "            src=\"cache/temp12.html\"\n",
       "            frameborder=\"0\"\n",
       "            allowfullscreen\n",
       "            \n",
       "        ></iframe>\n",
       "        "
      ],
      "text/plain": [
       "<IPython.lib.display.IFrame at 0x7f9ac7e8e250>"
      ]
     },
     "execution_count": 61,
     "metadata": {},
     "output_type": "execute_result"
    }
   ],
   "source": [
    "\n",
    "# Map setup\n",
    "mid = int(len(gpx_coords)/2)\n",
    "chart = folium.Map(location=gpx_coords[mid], zoom_start=10, tiles=\"OpenStreetMap\")\n",
    "\n",
    "for pt in node_pts:\n",
    "    newmarker = folium.CircleMarker(location=pt,radius=3,color='black')\n",
    "    newmarker.add_to(chart)\n",
    "\n",
    "for idx, row in nodes.iterrows():\n",
    "    point = [row['point_y'],row['point_x']]\n",
    "    node = [row['node_y'],row['node_x']]\n",
    "    newmarker = folium.CircleMarker(location=point,radius=2,color='red',popup={idx})\n",
    "    newmarker.add_to(chart)\n",
    "    newmarker = folium.CircleMarker(location=node,radius=2,color='blue',popup={row['node_id']})\n",
    "    newmarker.add_to(chart)\n",
    "    newline = folium.PolyLine(locations=[point,node], weight=2, color='black')\n",
    "    newline.add_to(chart)\n",
    "\n",
    "# # Draw the GPX route\n",
    "# newline = folium.PolyLine(locations=gpx_coords, weight=2, color='red')\n",
    "# newline.add_to(chart)\n",
    "\n",
    "# # Draw the matched route\n",
    "# newline = folium.PolyLine(locations=matchedcoords, weight=2, color='black')\n",
    "# newline.add_to(chart)\n",
    "\n",
    "# Render the map\n",
    "filepath = f\"cache/temp12.html\"\n",
    "chart.save(filepath)\n",
    "IFrame(filepath, width=1000, height=500)"
   ]
  },
  {
   "cell_type": "code",
   "execution_count": null,
   "id": "a393b175",
   "metadata": {},
   "outputs": [],
   "source": []
  },
  {
   "cell_type": "code",
   "execution_count": null,
   "id": "7cacb58a",
   "metadata": {},
   "outputs": [],
   "source": []
  },
  {
   "cell_type": "code",
   "execution_count": null,
   "id": "25531f01",
   "metadata": {},
   "outputs": [],
   "source": []
  },
  {
   "cell_type": "code",
   "execution_count": null,
   "id": "726b2449",
   "metadata": {},
   "outputs": [],
   "source": []
  },
  {
   "cell_type": "code",
   "execution_count": null,
   "id": "6f92fae2",
   "metadata": {},
   "outputs": [],
   "source": []
  },
  {
   "cell_type": "markdown",
   "id": "b7124853",
   "metadata": {},
   "source": [
    "## Plot the matched route"
   ]
  },
  {
   "cell_type": "code",
   "execution_count": 15,
   "id": "b54ba73f",
   "metadata": {},
   "outputs": [
    {
     "data": {
      "text/html": [
       "\n",
       "        <iframe\n",
       "            width=\"1000\"\n",
       "            height=\"500\"\n",
       "            src=\"cache/temp11.html\"\n",
       "            frameborder=\"0\"\n",
       "            allowfullscreen\n",
       "            \n",
       "        ></iframe>\n",
       "        "
      ],
      "text/plain": [
       "<IPython.lib.display.IFrame at 0x7f7cea99e370>"
      ]
     },
     "execution_count": 15,
     "metadata": {},
     "output_type": "execute_result"
    }
   ],
   "source": [
    "matchedcoords = gr_plot.get_fullcoords_from_frame(segments)\n",
    "\n",
    "# Map setup\n",
    "mid = int(len(gpx_coords)/2)\n",
    "chart = folium.Map(location=gpx_coords[mid], zoom_start=10, tiles=\"OpenStreetMap\")\n",
    "\n",
    "# Draw the GPX route\n",
    "newline = folium.PolyLine(locations=gpx_coords, weight=2, color='red')\n",
    "newline.add_to(chart)\n",
    "\n",
    "# Draw the matched route\n",
    "newline = folium.PolyLine(locations=matchedcoords, weight=2, color='black')\n",
    "newline.add_to(chart)\n",
    "\n",
    "# Render the map\n",
    "filepath = f\"cache/temp11.html\"\n",
    "chart.save(filepath)\n",
    "IFrame(filepath, width=1000, height=500)"
   ]
  },
  {
   "cell_type": "code",
   "execution_count": null,
   "id": "f50bca61",
   "metadata": {},
   "outputs": [],
   "source": []
  },
  {
   "cell_type": "code",
   "execution_count": null,
   "id": "e552177e",
   "metadata": {},
   "outputs": [],
   "source": []
  },
  {
   "cell_type": "code",
   "execution_count": null,
   "id": "5fb2ae5f",
   "metadata": {},
   "outputs": [],
   "source": []
  },
  {
   "cell_type": "markdown",
   "id": "13dd817d",
   "metadata": {},
   "source": [
    "## Gathering ROAD data from OSM network"
   ]
  },
  {
   "cell_type": "code",
   "execution_count": 4,
   "id": "44913992",
   "metadata": {},
   "outputs": [
    {
     "name": "stdout",
     "output_type": "stream",
     "text": [
      "Loading merged ROADS file...\n",
      "Loaded.\n"
     ]
    }
   ],
   "source": [
    "# filename_roads = 'cache/' + trailname + '_roads.csv'\n",
    "\n",
    "# if not os.path.isfile(filename_roads): # The merged ROADS file does not exist, construct it\n",
    "    \n",
    "#     print('Merged ROADS file was not found, merging and saving...')\n",
    "#     gr_mapmatch.trail2roads(trailname, trail, points_per_batch, delta) # Main batch processor\n",
    "#     data_roads_raw = gr_utils.merge_roads(trailname, trail, points_per_batch) # Merge the different sections\n",
    "#     data_roads = gr_mapmatch.remove_repeat_segments(data_roads_raw) # Remove backtracked sections\n",
    "#     gr_utils.write_roads(trailname, data_roads) # Write the merged ROADS data\n",
    "# #     print('Saved.')\n",
    "\n",
    "# else: # The merged ROADS file does exist, just load it\n",
    "    \n",
    "#     print('Loading merged ROADS file...')\n",
    "#     data_roads = gr_utils.read_roads(trailname) # Read the merged sections\n",
    "#     print('Loaded.')"
   ]
  },
  {
   "cell_type": "markdown",
   "id": "e289f2ec",
   "metadata": {},
   "source": [
    "## Gathering PLACE data from OSM network"
   ]
  },
  {
   "cell_type": "code",
   "execution_count": 5,
   "id": "6b51ac5a",
   "metadata": {},
   "outputs": [
    {
     "name": "stdout",
     "output_type": "stream",
     "text": [
      "Merged PLACES file was not found, merging and saving...\n",
      "Handling batch 0 of 41 that covers road segments 0 through 99...\n",
      "There are 77 uncorrected landuse places\n",
      "There are 2 corrected landuse places\n",
      "   Writing outputs to file...\n",
      "   Finished this batch.\n",
      "Handling batch 1 of 41 that covers road segments 100 through 199...\n"
     ]
    },
    {
     "name": "stderr",
     "output_type": "stream",
     "text": [
      "/Users/svanwal/Documents/Programming/Projects/gr-analysis/gr_placematch.py:107: ShapelyDeprecationWarning: __len__ for multi-part geometries is deprecated and will be removed in Shapely 2.0. Check the length of the `geoms` property instead to get the  number of parts of a multi-part geometry.\n",
      "  merged_polys = list(shapely.ops.unary_union(polys))\n",
      "/Users/svanwal/Documents/Programming/Projects/gr-analysis/gr_placematch.py:107: ShapelyDeprecationWarning: Iteration over multi-part geometries is deprecated and will be removed in Shapely 2.0. Use the `geoms` property to access the constituent parts of a multi-part geometry.\n",
      "  merged_polys = list(shapely.ops.unary_union(polys))\n"
     ]
    },
    {
     "name": "stdout",
     "output_type": "stream",
     "text": [
      "There are 113 uncorrected landuse places\n",
      "There are 3 corrected landuse places\n",
      "   Writing outputs to file...\n",
      "   Finished this batch.\n",
      "Handling batch 2 of 41 that covers road segments 200 through 299...\n"
     ]
    },
    {
     "name": "stderr",
     "output_type": "stream",
     "text": [
      "/Users/svanwal/Documents/Programming/Projects/gr-analysis/gr_placematch.py:107: ShapelyDeprecationWarning: __len__ for multi-part geometries is deprecated and will be removed in Shapely 2.0. Check the length of the `geoms` property instead to get the  number of parts of a multi-part geometry.\n",
      "  merged_polys = list(shapely.ops.unary_union(polys))\n",
      "/Users/svanwal/Documents/Programming/Projects/gr-analysis/gr_placematch.py:107: ShapelyDeprecationWarning: Iteration over multi-part geometries is deprecated and will be removed in Shapely 2.0. Use the `geoms` property to access the constituent parts of a multi-part geometry.\n",
      "  merged_polys = list(shapely.ops.unary_union(polys))\n"
     ]
    },
    {
     "name": "stdout",
     "output_type": "stream",
     "text": [
      "There are 370 uncorrected landuse places\n"
     ]
    },
    {
     "name": "stderr",
     "output_type": "stream",
     "text": [
      "/Users/svanwal/Documents/Programming/Projects/gr-analysis/gr_placematch.py:107: ShapelyDeprecationWarning: __len__ for multi-part geometries is deprecated and will be removed in Shapely 2.0. Check the length of the `geoms` property instead to get the  number of parts of a multi-part geometry.\n",
      "  merged_polys = list(shapely.ops.unary_union(polys))\n",
      "/Users/svanwal/Documents/Programming/Projects/gr-analysis/gr_placematch.py:107: ShapelyDeprecationWarning: Iteration over multi-part geometries is deprecated and will be removed in Shapely 2.0. Use the `geoms` property to access the constituent parts of a multi-part geometry.\n",
      "  merged_polys = list(shapely.ops.unary_union(polys))\n"
     ]
    },
    {
     "name": "stdout",
     "output_type": "stream",
     "text": [
      "There are 5 corrected landuse places\n",
      "   Writing outputs to file...\n",
      "   Finished this batch.\n",
      "Handling batch 3 of 41 that covers road segments 300 through 399...\n",
      "There are 348 uncorrected landuse places\n",
      "There are 3 corrected landuse places\n"
     ]
    },
    {
     "name": "stderr",
     "output_type": "stream",
     "text": [
      "/Users/svanwal/Documents/Programming/Projects/gr-analysis/gr_placematch.py:107: ShapelyDeprecationWarning: __len__ for multi-part geometries is deprecated and will be removed in Shapely 2.0. Check the length of the `geoms` property instead to get the  number of parts of a multi-part geometry.\n",
      "  merged_polys = list(shapely.ops.unary_union(polys))\n",
      "/Users/svanwal/Documents/Programming/Projects/gr-analysis/gr_placematch.py:107: ShapelyDeprecationWarning: Iteration over multi-part geometries is deprecated and will be removed in Shapely 2.0. Use the `geoms` property to access the constituent parts of a multi-part geometry.\n",
      "  merged_polys = list(shapely.ops.unary_union(polys))\n"
     ]
    },
    {
     "name": "stdout",
     "output_type": "stream",
     "text": [
      "   Writing outputs to file...\n",
      "   Finished this batch.\n",
      "Handling batch 4 of 41 that covers road segments 400 through 499...\n",
      "There are 238 uncorrected landuse places\n",
      "There are 5 corrected landuse places\n"
     ]
    },
    {
     "name": "stderr",
     "output_type": "stream",
     "text": [
      "/Users/svanwal/Documents/Programming/Projects/gr-analysis/gr_placematch.py:107: ShapelyDeprecationWarning: __len__ for multi-part geometries is deprecated and will be removed in Shapely 2.0. Check the length of the `geoms` property instead to get the  number of parts of a multi-part geometry.\n",
      "  merged_polys = list(shapely.ops.unary_union(polys))\n",
      "/Users/svanwal/Documents/Programming/Projects/gr-analysis/gr_placematch.py:107: ShapelyDeprecationWarning: Iteration over multi-part geometries is deprecated and will be removed in Shapely 2.0. Use the `geoms` property to access the constituent parts of a multi-part geometry.\n",
      "  merged_polys = list(shapely.ops.unary_union(polys))\n"
     ]
    },
    {
     "name": "stdout",
     "output_type": "stream",
     "text": [
      "   Writing outputs to file...\n",
      "   Finished this batch.\n",
      "Handling batch 5 of 41 that covers road segments 500 through 599...\n",
      "There are 251 uncorrected landuse places\n",
      "There are 3 corrected landuse places\n"
     ]
    },
    {
     "name": "stderr",
     "output_type": "stream",
     "text": [
      "/Users/svanwal/Documents/Programming/Projects/gr-analysis/gr_placematch.py:107: ShapelyDeprecationWarning: __len__ for multi-part geometries is deprecated and will be removed in Shapely 2.0. Check the length of the `geoms` property instead to get the  number of parts of a multi-part geometry.\n",
      "  merged_polys = list(shapely.ops.unary_union(polys))\n",
      "/Users/svanwal/Documents/Programming/Projects/gr-analysis/gr_placematch.py:107: ShapelyDeprecationWarning: Iteration over multi-part geometries is deprecated and will be removed in Shapely 2.0. Use the `geoms` property to access the constituent parts of a multi-part geometry.\n",
      "  merged_polys = list(shapely.ops.unary_union(polys))\n"
     ]
    },
    {
     "name": "stdout",
     "output_type": "stream",
     "text": [
      "   Writing outputs to file...\n",
      "   Finished this batch.\n",
      "Handling batch 6 of 41 that covers road segments 600 through 699...\n",
      "There are 208 uncorrected landuse places\n",
      "There are 6 corrected landuse places\n"
     ]
    },
    {
     "name": "stderr",
     "output_type": "stream",
     "text": [
      "/Users/svanwal/Documents/Programming/Projects/gr-analysis/gr_placematch.py:107: ShapelyDeprecationWarning: __len__ for multi-part geometries is deprecated and will be removed in Shapely 2.0. Check the length of the `geoms` property instead to get the  number of parts of a multi-part geometry.\n",
      "  merged_polys = list(shapely.ops.unary_union(polys))\n",
      "/Users/svanwal/Documents/Programming/Projects/gr-analysis/gr_placematch.py:107: ShapelyDeprecationWarning: Iteration over multi-part geometries is deprecated and will be removed in Shapely 2.0. Use the `geoms` property to access the constituent parts of a multi-part geometry.\n",
      "  merged_polys = list(shapely.ops.unary_union(polys))\n"
     ]
    },
    {
     "name": "stdout",
     "output_type": "stream",
     "text": [
      "   Writing outputs to file...\n",
      "   Finished this batch.\n",
      "Handling batch 7 of 41 that covers road segments 700 through 799...\n",
      "There are 165 uncorrected landuse places\n",
      "There are 4 corrected landuse places\n"
     ]
    },
    {
     "name": "stderr",
     "output_type": "stream",
     "text": [
      "/Users/svanwal/Documents/Programming/Projects/gr-analysis/gr_placematch.py:107: ShapelyDeprecationWarning: __len__ for multi-part geometries is deprecated and will be removed in Shapely 2.0. Check the length of the `geoms` property instead to get the  number of parts of a multi-part geometry.\n",
      "  merged_polys = list(shapely.ops.unary_union(polys))\n",
      "/Users/svanwal/Documents/Programming/Projects/gr-analysis/gr_placematch.py:107: ShapelyDeprecationWarning: Iteration over multi-part geometries is deprecated and will be removed in Shapely 2.0. Use the `geoms` property to access the constituent parts of a multi-part geometry.\n",
      "  merged_polys = list(shapely.ops.unary_union(polys))\n"
     ]
    },
    {
     "name": "stdout",
     "output_type": "stream",
     "text": [
      "   Writing outputs to file...\n",
      "   Finished this batch.\n",
      "Handling batch 8 of 41 that covers road segments 800 through 899...\n",
      "There are 171 uncorrected landuse places\n",
      "There are 5 corrected landuse places\n"
     ]
    },
    {
     "name": "stderr",
     "output_type": "stream",
     "text": [
      "/Users/svanwal/Documents/Programming/Projects/gr-analysis/gr_placematch.py:107: ShapelyDeprecationWarning: __len__ for multi-part geometries is deprecated and will be removed in Shapely 2.0. Check the length of the `geoms` property instead to get the  number of parts of a multi-part geometry.\n",
      "  merged_polys = list(shapely.ops.unary_union(polys))\n",
      "/Users/svanwal/Documents/Programming/Projects/gr-analysis/gr_placematch.py:107: ShapelyDeprecationWarning: Iteration over multi-part geometries is deprecated and will be removed in Shapely 2.0. Use the `geoms` property to access the constituent parts of a multi-part geometry.\n",
      "  merged_polys = list(shapely.ops.unary_union(polys))\n"
     ]
    },
    {
     "name": "stdout",
     "output_type": "stream",
     "text": [
      "   Writing outputs to file...\n",
      "   Finished this batch.\n",
      "Handling batch 9 of 41 that covers road segments 900 through 999...\n",
      "There are 308 uncorrected landuse places\n",
      "There are 8 corrected landuse places\n"
     ]
    },
    {
     "name": "stderr",
     "output_type": "stream",
     "text": [
      "/Users/svanwal/Documents/Programming/Projects/gr-analysis/gr_placematch.py:107: ShapelyDeprecationWarning: __len__ for multi-part geometries is deprecated and will be removed in Shapely 2.0. Check the length of the `geoms` property instead to get the  number of parts of a multi-part geometry.\n",
      "  merged_polys = list(shapely.ops.unary_union(polys))\n",
      "/Users/svanwal/Documents/Programming/Projects/gr-analysis/gr_placematch.py:107: ShapelyDeprecationWarning: Iteration over multi-part geometries is deprecated and will be removed in Shapely 2.0. Use the `geoms` property to access the constituent parts of a multi-part geometry.\n",
      "  merged_polys = list(shapely.ops.unary_union(polys))\n"
     ]
    },
    {
     "name": "stdout",
     "output_type": "stream",
     "text": [
      "   Writing outputs to file...\n",
      "   Finished this batch.\n",
      "Handling batch 10 of 41 that covers road segments 1000 through 1099...\n",
      "There are 256 uncorrected landuse places\n"
     ]
    },
    {
     "name": "stderr",
     "output_type": "stream",
     "text": [
      "/Users/svanwal/Documents/Programming/Projects/gr-analysis/gr_placematch.py:107: ShapelyDeprecationWarning: __len__ for multi-part geometries is deprecated and will be removed in Shapely 2.0. Check the length of the `geoms` property instead to get the  number of parts of a multi-part geometry.\n",
      "  merged_polys = list(shapely.ops.unary_union(polys))\n",
      "/Users/svanwal/Documents/Programming/Projects/gr-analysis/gr_placematch.py:107: ShapelyDeprecationWarning: Iteration over multi-part geometries is deprecated and will be removed in Shapely 2.0. Use the `geoms` property to access the constituent parts of a multi-part geometry.\n",
      "  merged_polys = list(shapely.ops.unary_union(polys))\n"
     ]
    },
    {
     "name": "stdout",
     "output_type": "stream",
     "text": [
      "There are 3 corrected landuse places\n",
      "   Writing outputs to file...\n",
      "   Finished this batch.\n",
      "Handling batch 11 of 41 that covers road segments 1100 through 1199...\n",
      "There are 318 uncorrected landuse places\n",
      "There are 5 corrected landuse places\n"
     ]
    },
    {
     "name": "stderr",
     "output_type": "stream",
     "text": [
      "/Users/svanwal/Documents/Programming/Projects/gr-analysis/gr_placematch.py:107: ShapelyDeprecationWarning: __len__ for multi-part geometries is deprecated and will be removed in Shapely 2.0. Check the length of the `geoms` property instead to get the  number of parts of a multi-part geometry.\n",
      "  merged_polys = list(shapely.ops.unary_union(polys))\n",
      "/Users/svanwal/Documents/Programming/Projects/gr-analysis/gr_placematch.py:107: ShapelyDeprecationWarning: Iteration over multi-part geometries is deprecated and will be removed in Shapely 2.0. Use the `geoms` property to access the constituent parts of a multi-part geometry.\n",
      "  merged_polys = list(shapely.ops.unary_union(polys))\n"
     ]
    },
    {
     "name": "stdout",
     "output_type": "stream",
     "text": [
      "   Writing outputs to file...\n",
      "   Finished this batch.\n",
      "Handling batch 12 of 41 that covers road segments 1200 through 1299...\n",
      "There are 340 uncorrected landuse places\n",
      "There are 3 corrected landuse places\n"
     ]
    },
    {
     "name": "stderr",
     "output_type": "stream",
     "text": [
      "/Users/svanwal/Documents/Programming/Projects/gr-analysis/gr_placematch.py:107: ShapelyDeprecationWarning: __len__ for multi-part geometries is deprecated and will be removed in Shapely 2.0. Check the length of the `geoms` property instead to get the  number of parts of a multi-part geometry.\n",
      "  merged_polys = list(shapely.ops.unary_union(polys))\n",
      "/Users/svanwal/Documents/Programming/Projects/gr-analysis/gr_placematch.py:107: ShapelyDeprecationWarning: Iteration over multi-part geometries is deprecated and will be removed in Shapely 2.0. Use the `geoms` property to access the constituent parts of a multi-part geometry.\n",
      "  merged_polys = list(shapely.ops.unary_union(polys))\n"
     ]
    },
    {
     "name": "stdout",
     "output_type": "stream",
     "text": [
      "   Writing outputs to file...\n",
      "   Finished this batch.\n",
      "Handling batch 13 of 41 that covers road segments 1300 through 1399...\n",
      "There are 432 uncorrected landuse places\n"
     ]
    },
    {
     "name": "stderr",
     "output_type": "stream",
     "text": [
      "/Users/svanwal/Documents/Programming/Projects/gr-analysis/gr_placematch.py:107: ShapelyDeprecationWarning: __len__ for multi-part geometries is deprecated and will be removed in Shapely 2.0. Check the length of the `geoms` property instead to get the  number of parts of a multi-part geometry.\n",
      "  merged_polys = list(shapely.ops.unary_union(polys))\n",
      "/Users/svanwal/Documents/Programming/Projects/gr-analysis/gr_placematch.py:107: ShapelyDeprecationWarning: Iteration over multi-part geometries is deprecated and will be removed in Shapely 2.0. Use the `geoms` property to access the constituent parts of a multi-part geometry.\n",
      "  merged_polys = list(shapely.ops.unary_union(polys))\n"
     ]
    },
    {
     "name": "stdout",
     "output_type": "stream",
     "text": [
      "There are 6 corrected landuse places\n",
      "   Writing outputs to file...\n",
      "   Finished this batch.\n",
      "Handling batch 14 of 41 that covers road segments 1400 through 1499...\n",
      "There are 474 uncorrected landuse places\n"
     ]
    },
    {
     "name": "stderr",
     "output_type": "stream",
     "text": [
      "/Users/svanwal/Documents/Programming/Projects/gr-analysis/gr_placematch.py:107: ShapelyDeprecationWarning: __len__ for multi-part geometries is deprecated and will be removed in Shapely 2.0. Check the length of the `geoms` property instead to get the  number of parts of a multi-part geometry.\n",
      "  merged_polys = list(shapely.ops.unary_union(polys))\n",
      "/Users/svanwal/Documents/Programming/Projects/gr-analysis/gr_placematch.py:107: ShapelyDeprecationWarning: Iteration over multi-part geometries is deprecated and will be removed in Shapely 2.0. Use the `geoms` property to access the constituent parts of a multi-part geometry.\n",
      "  merged_polys = list(shapely.ops.unary_union(polys))\n"
     ]
    },
    {
     "name": "stdout",
     "output_type": "stream",
     "text": [
      "There are 7 corrected landuse places\n",
      "   Writing outputs to file...\n",
      "   Finished this batch.\n",
      "Handling batch 15 of 41 that covers road segments 1500 through 1599...\n",
      "There are 443 uncorrected landuse places\n"
     ]
    },
    {
     "name": "stderr",
     "output_type": "stream",
     "text": [
      "/Users/svanwal/Documents/Programming/Projects/gr-analysis/gr_placematch.py:107: ShapelyDeprecationWarning: __len__ for multi-part geometries is deprecated and will be removed in Shapely 2.0. Check the length of the `geoms` property instead to get the  number of parts of a multi-part geometry.\n",
      "  merged_polys = list(shapely.ops.unary_union(polys))\n",
      "/Users/svanwal/Documents/Programming/Projects/gr-analysis/gr_placematch.py:107: ShapelyDeprecationWarning: Iteration over multi-part geometries is deprecated and will be removed in Shapely 2.0. Use the `geoms` property to access the constituent parts of a multi-part geometry.\n",
      "  merged_polys = list(shapely.ops.unary_union(polys))\n"
     ]
    },
    {
     "name": "stdout",
     "output_type": "stream",
     "text": [
      "There are 7 corrected landuse places\n",
      "   Writing outputs to file...\n",
      "   Finished this batch.\n",
      "Handling batch 16 of 41 that covers road segments 1600 through 1699...\n",
      "There are 370 uncorrected landuse places\n"
     ]
    },
    {
     "name": "stderr",
     "output_type": "stream",
     "text": [
      "/Users/svanwal/Documents/Programming/Projects/gr-analysis/gr_placematch.py:107: ShapelyDeprecationWarning: __len__ for multi-part geometries is deprecated and will be removed in Shapely 2.0. Check the length of the `geoms` property instead to get the  number of parts of a multi-part geometry.\n",
      "  merged_polys = list(shapely.ops.unary_union(polys))\n",
      "/Users/svanwal/Documents/Programming/Projects/gr-analysis/gr_placematch.py:107: ShapelyDeprecationWarning: Iteration over multi-part geometries is deprecated and will be removed in Shapely 2.0. Use the `geoms` property to access the constituent parts of a multi-part geometry.\n",
      "  merged_polys = list(shapely.ops.unary_union(polys))\n"
     ]
    },
    {
     "name": "stdout",
     "output_type": "stream",
     "text": [
      "There are 8 corrected landuse places\n",
      "   Writing outputs to file...\n",
      "   Finished this batch.\n",
      "Handling batch 17 of 41 that covers road segments 1700 through 1799...\n",
      "There are 390 uncorrected landuse places\n",
      "There are 4 corrected landuse places\n"
     ]
    },
    {
     "name": "stderr",
     "output_type": "stream",
     "text": [
      "/Users/svanwal/Documents/Programming/Projects/gr-analysis/gr_placematch.py:107: ShapelyDeprecationWarning: __len__ for multi-part geometries is deprecated and will be removed in Shapely 2.0. Check the length of the `geoms` property instead to get the  number of parts of a multi-part geometry.\n",
      "  merged_polys = list(shapely.ops.unary_union(polys))\n",
      "/Users/svanwal/Documents/Programming/Projects/gr-analysis/gr_placematch.py:107: ShapelyDeprecationWarning: Iteration over multi-part geometries is deprecated and will be removed in Shapely 2.0. Use the `geoms` property to access the constituent parts of a multi-part geometry.\n",
      "  merged_polys = list(shapely.ops.unary_union(polys))\n"
     ]
    },
    {
     "name": "stdout",
     "output_type": "stream",
     "text": [
      "   Writing outputs to file...\n",
      "   Finished this batch.\n",
      "Handling batch 18 of 41 that covers road segments 1800 through 1899...\n",
      "There are 569 uncorrected landuse places\n"
     ]
    },
    {
     "name": "stderr",
     "output_type": "stream",
     "text": [
      "/Users/svanwal/Documents/Programming/Projects/gr-analysis/gr_placematch.py:107: ShapelyDeprecationWarning: __len__ for multi-part geometries is deprecated and will be removed in Shapely 2.0. Check the length of the `geoms` property instead to get the  number of parts of a multi-part geometry.\n",
      "  merged_polys = list(shapely.ops.unary_union(polys))\n",
      "/Users/svanwal/Documents/Programming/Projects/gr-analysis/gr_placematch.py:107: ShapelyDeprecationWarning: Iteration over multi-part geometries is deprecated and will be removed in Shapely 2.0. Use the `geoms` property to access the constituent parts of a multi-part geometry.\n",
      "  merged_polys = list(shapely.ops.unary_union(polys))\n"
     ]
    },
    {
     "name": "stdout",
     "output_type": "stream",
     "text": [
      "There are 6 corrected landuse places\n",
      "   Writing outputs to file...\n",
      "   Finished this batch.\n",
      "Handling batch 19 of 41 that covers road segments 1900 through 1999...\n",
      "There are 386 uncorrected landuse places\n",
      "There are 5 corrected landuse places\n"
     ]
    },
    {
     "name": "stderr",
     "output_type": "stream",
     "text": [
      "/Users/svanwal/Documents/Programming/Projects/gr-analysis/gr_placematch.py:107: ShapelyDeprecationWarning: __len__ for multi-part geometries is deprecated and will be removed in Shapely 2.0. Check the length of the `geoms` property instead to get the  number of parts of a multi-part geometry.\n",
      "  merged_polys = list(shapely.ops.unary_union(polys))\n",
      "/Users/svanwal/Documents/Programming/Projects/gr-analysis/gr_placematch.py:107: ShapelyDeprecationWarning: Iteration over multi-part geometries is deprecated and will be removed in Shapely 2.0. Use the `geoms` property to access the constituent parts of a multi-part geometry.\n",
      "  merged_polys = list(shapely.ops.unary_union(polys))\n"
     ]
    },
    {
     "name": "stdout",
     "output_type": "stream",
     "text": [
      "   Writing outputs to file...\n",
      "   Finished this batch.\n",
      "Handling batch 20 of 41 that covers road segments 2000 through 2099...\n",
      "There are 391 uncorrected landuse places\n"
     ]
    },
    {
     "name": "stderr",
     "output_type": "stream",
     "text": [
      "/Users/svanwal/Documents/Programming/Projects/gr-analysis/gr_placematch.py:107: ShapelyDeprecationWarning: __len__ for multi-part geometries is deprecated and will be removed in Shapely 2.0. Check the length of the `geoms` property instead to get the  number of parts of a multi-part geometry.\n",
      "  merged_polys = list(shapely.ops.unary_union(polys))\n",
      "/Users/svanwal/Documents/Programming/Projects/gr-analysis/gr_placematch.py:107: ShapelyDeprecationWarning: Iteration over multi-part geometries is deprecated and will be removed in Shapely 2.0. Use the `geoms` property to access the constituent parts of a multi-part geometry.\n",
      "  merged_polys = list(shapely.ops.unary_union(polys))\n"
     ]
    },
    {
     "name": "stdout",
     "output_type": "stream",
     "text": [
      "There are 5 corrected landuse places\n",
      "   Writing outputs to file...\n",
      "   Finished this batch.\n",
      "Handling batch 21 of 41 that covers road segments 2100 through 2199...\n",
      "There are 294 uncorrected landuse places\n",
      "There are 3 corrected landuse places\n"
     ]
    },
    {
     "name": "stderr",
     "output_type": "stream",
     "text": [
      "/Users/svanwal/Documents/Programming/Projects/gr-analysis/gr_placematch.py:107: ShapelyDeprecationWarning: __len__ for multi-part geometries is deprecated and will be removed in Shapely 2.0. Check the length of the `geoms` property instead to get the  number of parts of a multi-part geometry.\n",
      "  merged_polys = list(shapely.ops.unary_union(polys))\n",
      "/Users/svanwal/Documents/Programming/Projects/gr-analysis/gr_placematch.py:107: ShapelyDeprecationWarning: Iteration over multi-part geometries is deprecated and will be removed in Shapely 2.0. Use the `geoms` property to access the constituent parts of a multi-part geometry.\n",
      "  merged_polys = list(shapely.ops.unary_union(polys))\n"
     ]
    },
    {
     "name": "stdout",
     "output_type": "stream",
     "text": [
      "   Writing outputs to file...\n",
      "   Finished this batch.\n",
      "Handling batch 22 of 41 that covers road segments 2200 through 2299...\n",
      "There are 228 uncorrected landuse places\n"
     ]
    },
    {
     "name": "stderr",
     "output_type": "stream",
     "text": [
      "/Users/svanwal/Documents/Programming/Projects/gr-analysis/gr_placematch.py:107: ShapelyDeprecationWarning: __len__ for multi-part geometries is deprecated and will be removed in Shapely 2.0. Check the length of the `geoms` property instead to get the  number of parts of a multi-part geometry.\n",
      "  merged_polys = list(shapely.ops.unary_union(polys))\n",
      "/Users/svanwal/Documents/Programming/Projects/gr-analysis/gr_placematch.py:107: ShapelyDeprecationWarning: Iteration over multi-part geometries is deprecated and will be removed in Shapely 2.0. Use the `geoms` property to access the constituent parts of a multi-part geometry.\n",
      "  merged_polys = list(shapely.ops.unary_union(polys))\n"
     ]
    },
    {
     "name": "stdout",
     "output_type": "stream",
     "text": [
      "There are 1 corrected landuse places\n",
      "   Writing outputs to file...\n",
      "   Finished this batch.\n",
      "Handling batch 23 of 41 that covers road segments 2300 through 2399...\n",
      "There are 201 uncorrected landuse places\n",
      "There are 2 corrected landuse places\n"
     ]
    },
    {
     "name": "stderr",
     "output_type": "stream",
     "text": [
      "/Users/svanwal/Documents/Programming/Projects/gr-analysis/gr_placematch.py:107: ShapelyDeprecationWarning: __len__ for multi-part geometries is deprecated and will be removed in Shapely 2.0. Check the length of the `geoms` property instead to get the  number of parts of a multi-part geometry.\n",
      "  merged_polys = list(shapely.ops.unary_union(polys))\n",
      "/Users/svanwal/Documents/Programming/Projects/gr-analysis/gr_placematch.py:107: ShapelyDeprecationWarning: Iteration over multi-part geometries is deprecated and will be removed in Shapely 2.0. Use the `geoms` property to access the constituent parts of a multi-part geometry.\n",
      "  merged_polys = list(shapely.ops.unary_union(polys))\n"
     ]
    },
    {
     "name": "stdout",
     "output_type": "stream",
     "text": [
      "   Writing outputs to file...\n",
      "   Finished this batch.\n",
      "Handling batch 24 of 41 that covers road segments 2400 through 2499...\n",
      "There are 364 uncorrected landuse places\n"
     ]
    },
    {
     "name": "stderr",
     "output_type": "stream",
     "text": [
      "/Users/svanwal/Documents/Programming/Projects/gr-analysis/gr_placematch.py:107: ShapelyDeprecationWarning: __len__ for multi-part geometries is deprecated and will be removed in Shapely 2.0. Check the length of the `geoms` property instead to get the  number of parts of a multi-part geometry.\n",
      "  merged_polys = list(shapely.ops.unary_union(polys))\n",
      "/Users/svanwal/Documents/Programming/Projects/gr-analysis/gr_placematch.py:107: ShapelyDeprecationWarning: Iteration over multi-part geometries is deprecated and will be removed in Shapely 2.0. Use the `geoms` property to access the constituent parts of a multi-part geometry.\n",
      "  merged_polys = list(shapely.ops.unary_union(polys))\n"
     ]
    },
    {
     "name": "stdout",
     "output_type": "stream",
     "text": [
      "There are 4 corrected landuse places\n",
      "   Writing outputs to file...\n",
      "   Finished this batch.\n",
      "Handling batch 25 of 41 that covers road segments 2500 through 2599...\n",
      "There are 173 uncorrected landuse places\n"
     ]
    },
    {
     "name": "stderr",
     "output_type": "stream",
     "text": [
      "/Users/svanwal/Documents/Programming/Projects/gr-analysis/gr_placematch.py:107: ShapelyDeprecationWarning: __len__ for multi-part geometries is deprecated and will be removed in Shapely 2.0. Check the length of the `geoms` property instead to get the  number of parts of a multi-part geometry.\n",
      "  merged_polys = list(shapely.ops.unary_union(polys))\n",
      "/Users/svanwal/Documents/Programming/Projects/gr-analysis/gr_placematch.py:107: ShapelyDeprecationWarning: Iteration over multi-part geometries is deprecated and will be removed in Shapely 2.0. Use the `geoms` property to access the constituent parts of a multi-part geometry.\n",
      "  merged_polys = list(shapely.ops.unary_union(polys))\n"
     ]
    },
    {
     "name": "stdout",
     "output_type": "stream",
     "text": [
      "There are 2 corrected landuse places\n",
      "   Writing outputs to file...\n",
      "   Finished this batch.\n",
      "Handling batch 26 of 41 that covers road segments 2600 through 2699...\n",
      "There are 166 uncorrected landuse places\n",
      "There are 2 corrected landuse places\n"
     ]
    },
    {
     "name": "stderr",
     "output_type": "stream",
     "text": [
      "/Users/svanwal/Documents/Programming/Projects/gr-analysis/gr_placematch.py:107: ShapelyDeprecationWarning: __len__ for multi-part geometries is deprecated and will be removed in Shapely 2.0. Check the length of the `geoms` property instead to get the  number of parts of a multi-part geometry.\n",
      "  merged_polys = list(shapely.ops.unary_union(polys))\n",
      "/Users/svanwal/Documents/Programming/Projects/gr-analysis/gr_placematch.py:107: ShapelyDeprecationWarning: Iteration over multi-part geometries is deprecated and will be removed in Shapely 2.0. Use the `geoms` property to access the constituent parts of a multi-part geometry.\n",
      "  merged_polys = list(shapely.ops.unary_union(polys))\n"
     ]
    },
    {
     "name": "stdout",
     "output_type": "stream",
     "text": [
      "   Writing outputs to file...\n",
      "   Finished this batch.\n",
      "Handling batch 27 of 41 that covers road segments 2700 through 2799...\n",
      "There are 180 uncorrected landuse places\n",
      "There are 3 corrected landuse places\n"
     ]
    },
    {
     "name": "stderr",
     "output_type": "stream",
     "text": [
      "/Users/svanwal/Documents/Programming/Projects/gr-analysis/gr_placematch.py:107: ShapelyDeprecationWarning: __len__ for multi-part geometries is deprecated and will be removed in Shapely 2.0. Check the length of the `geoms` property instead to get the  number of parts of a multi-part geometry.\n",
      "  merged_polys = list(shapely.ops.unary_union(polys))\n",
      "/Users/svanwal/Documents/Programming/Projects/gr-analysis/gr_placematch.py:107: ShapelyDeprecationWarning: Iteration over multi-part geometries is deprecated and will be removed in Shapely 2.0. Use the `geoms` property to access the constituent parts of a multi-part geometry.\n",
      "  merged_polys = list(shapely.ops.unary_union(polys))\n"
     ]
    },
    {
     "name": "stdout",
     "output_type": "stream",
     "text": [
      "   Writing outputs to file...\n",
      "   Finished this batch.\n",
      "Handling batch 28 of 41 that covers road segments 2800 through 2899...\n",
      "There are 136 uncorrected landuse places\n"
     ]
    },
    {
     "name": "stderr",
     "output_type": "stream",
     "text": [
      "/Users/svanwal/Documents/Programming/Projects/gr-analysis/gr_placematch.py:107: ShapelyDeprecationWarning: __len__ for multi-part geometries is deprecated and will be removed in Shapely 2.0. Check the length of the `geoms` property instead to get the  number of parts of a multi-part geometry.\n",
      "  merged_polys = list(shapely.ops.unary_union(polys))\n",
      "/Users/svanwal/Documents/Programming/Projects/gr-analysis/gr_placematch.py:107: ShapelyDeprecationWarning: Iteration over multi-part geometries is deprecated and will be removed in Shapely 2.0. Use the `geoms` property to access the constituent parts of a multi-part geometry.\n",
      "  merged_polys = list(shapely.ops.unary_union(polys))\n"
     ]
    },
    {
     "name": "stdout",
     "output_type": "stream",
     "text": [
      "There are 3 corrected landuse places\n",
      "   Writing outputs to file...\n",
      "   Finished this batch.\n",
      "Handling batch 29 of 41 that covers road segments 2900 through 2999...\n",
      "There are 123 uncorrected landuse places\n"
     ]
    },
    {
     "name": "stderr",
     "output_type": "stream",
     "text": [
      "/Users/svanwal/Documents/Programming/Projects/gr-analysis/gr_placematch.py:107: ShapelyDeprecationWarning: __len__ for multi-part geometries is deprecated and will be removed in Shapely 2.0. Check the length of the `geoms` property instead to get the  number of parts of a multi-part geometry.\n",
      "  merged_polys = list(shapely.ops.unary_union(polys))\n",
      "/Users/svanwal/Documents/Programming/Projects/gr-analysis/gr_placematch.py:107: ShapelyDeprecationWarning: Iteration over multi-part geometries is deprecated and will be removed in Shapely 2.0. Use the `geoms` property to access the constituent parts of a multi-part geometry.\n",
      "  merged_polys = list(shapely.ops.unary_union(polys))\n"
     ]
    },
    {
     "name": "stdout",
     "output_type": "stream",
     "text": [
      "There are 1 corrected landuse places\n",
      "   Writing outputs to file...\n",
      "   Finished this batch.\n",
      "Handling batch 30 of 41 that covers road segments 3000 through 3099...\n",
      "There are 90 uncorrected landuse places\n",
      "There are 1 corrected landuse places\n"
     ]
    },
    {
     "name": "stderr",
     "output_type": "stream",
     "text": [
      "/Users/svanwal/Documents/Programming/Projects/gr-analysis/gr_placematch.py:107: ShapelyDeprecationWarning: __len__ for multi-part geometries is deprecated and will be removed in Shapely 2.0. Check the length of the `geoms` property instead to get the  number of parts of a multi-part geometry.\n",
      "  merged_polys = list(shapely.ops.unary_union(polys))\n",
      "/Users/svanwal/Documents/Programming/Projects/gr-analysis/gr_placematch.py:107: ShapelyDeprecationWarning: Iteration over multi-part geometries is deprecated and will be removed in Shapely 2.0. Use the `geoms` property to access the constituent parts of a multi-part geometry.\n",
      "  merged_polys = list(shapely.ops.unary_union(polys))\n"
     ]
    },
    {
     "name": "stdout",
     "output_type": "stream",
     "text": [
      "   Writing outputs to file...\n",
      "   Finished this batch.\n",
      "Handling batch 31 of 41 that covers road segments 3100 through 3199...\n",
      "There are 142 uncorrected landuse places\n"
     ]
    },
    {
     "name": "stderr",
     "output_type": "stream",
     "text": [
      "/Users/svanwal/Documents/Programming/Projects/gr-analysis/gr_placematch.py:107: ShapelyDeprecationWarning: __len__ for multi-part geometries is deprecated and will be removed in Shapely 2.0. Check the length of the `geoms` property instead to get the  number of parts of a multi-part geometry.\n",
      "  merged_polys = list(shapely.ops.unary_union(polys))\n",
      "/Users/svanwal/Documents/Programming/Projects/gr-analysis/gr_placematch.py:107: ShapelyDeprecationWarning: Iteration over multi-part geometries is deprecated and will be removed in Shapely 2.0. Use the `geoms` property to access the constituent parts of a multi-part geometry.\n",
      "  merged_polys = list(shapely.ops.unary_union(polys))\n"
     ]
    },
    {
     "name": "stdout",
     "output_type": "stream",
     "text": [
      "There are 1 corrected landuse places\n",
      "   Writing outputs to file...\n",
      "   Finished this batch.\n",
      "Handling batch 32 of 41 that covers road segments 3200 through 3299...\n",
      "There are 153 uncorrected landuse places\n"
     ]
    },
    {
     "name": "stderr",
     "output_type": "stream",
     "text": [
      "/Users/svanwal/Documents/Programming/Projects/gr-analysis/gr_placematch.py:107: ShapelyDeprecationWarning: __len__ for multi-part geometries is deprecated and will be removed in Shapely 2.0. Check the length of the `geoms` property instead to get the  number of parts of a multi-part geometry.\n",
      "  merged_polys = list(shapely.ops.unary_union(polys))\n",
      "/Users/svanwal/Documents/Programming/Projects/gr-analysis/gr_placematch.py:107: ShapelyDeprecationWarning: Iteration over multi-part geometries is deprecated and will be removed in Shapely 2.0. Use the `geoms` property to access the constituent parts of a multi-part geometry.\n",
      "  merged_polys = list(shapely.ops.unary_union(polys))\n"
     ]
    },
    {
     "name": "stdout",
     "output_type": "stream",
     "text": [
      "There are 1 corrected landuse places\n",
      "   Writing outputs to file...\n",
      "   Finished this batch.\n",
      "Handling batch 33 of 41 that covers road segments 3300 through 3399...\n",
      "There are 215 uncorrected landuse places\n",
      "There are 2 corrected landuse places\n"
     ]
    },
    {
     "name": "stderr",
     "output_type": "stream",
     "text": [
      "/Users/svanwal/Documents/Programming/Projects/gr-analysis/gr_placematch.py:107: ShapelyDeprecationWarning: __len__ for multi-part geometries is deprecated and will be removed in Shapely 2.0. Check the length of the `geoms` property instead to get the  number of parts of a multi-part geometry.\n",
      "  merged_polys = list(shapely.ops.unary_union(polys))\n",
      "/Users/svanwal/Documents/Programming/Projects/gr-analysis/gr_placematch.py:107: ShapelyDeprecationWarning: Iteration over multi-part geometries is deprecated and will be removed in Shapely 2.0. Use the `geoms` property to access the constituent parts of a multi-part geometry.\n",
      "  merged_polys = list(shapely.ops.unary_union(polys))\n"
     ]
    },
    {
     "name": "stdout",
     "output_type": "stream",
     "text": [
      "   Writing outputs to file...\n",
      "   Finished this batch.\n",
      "Handling batch 34 of 41 that covers road segments 3400 through 3499...\n",
      "There are 354 uncorrected landuse places\n"
     ]
    },
    {
     "name": "stderr",
     "output_type": "stream",
     "text": [
      "/Users/svanwal/Documents/Programming/Projects/gr-analysis/gr_placematch.py:107: ShapelyDeprecationWarning: __len__ for multi-part geometries is deprecated and will be removed in Shapely 2.0. Check the length of the `geoms` property instead to get the  number of parts of a multi-part geometry.\n",
      "  merged_polys = list(shapely.ops.unary_union(polys))\n",
      "/Users/svanwal/Documents/Programming/Projects/gr-analysis/gr_placematch.py:107: ShapelyDeprecationWarning: Iteration over multi-part geometries is deprecated and will be removed in Shapely 2.0. Use the `geoms` property to access the constituent parts of a multi-part geometry.\n",
      "  merged_polys = list(shapely.ops.unary_union(polys))\n"
     ]
    },
    {
     "name": "stdout",
     "output_type": "stream",
     "text": [
      "There are 3 corrected landuse places\n",
      "   Writing outputs to file...\n",
      "   Finished this batch.\n",
      "Handling batch 35 of 41 that covers road segments 3500 through 3599...\n",
      "There are 160 uncorrected landuse places\n",
      "There are 3 corrected landuse places\n"
     ]
    },
    {
     "name": "stderr",
     "output_type": "stream",
     "text": [
      "/Users/svanwal/Documents/Programming/Projects/gr-analysis/gr_placematch.py:107: ShapelyDeprecationWarning: __len__ for multi-part geometries is deprecated and will be removed in Shapely 2.0. Check the length of the `geoms` property instead to get the  number of parts of a multi-part geometry.\n",
      "  merged_polys = list(shapely.ops.unary_union(polys))\n",
      "/Users/svanwal/Documents/Programming/Projects/gr-analysis/gr_placematch.py:107: ShapelyDeprecationWarning: Iteration over multi-part geometries is deprecated and will be removed in Shapely 2.0. Use the `geoms` property to access the constituent parts of a multi-part geometry.\n",
      "  merged_polys = list(shapely.ops.unary_union(polys))\n"
     ]
    },
    {
     "name": "stdout",
     "output_type": "stream",
     "text": [
      "   Writing outputs to file...\n",
      "   Finished this batch.\n",
      "Handling batch 36 of 41 that covers road segments 3600 through 3699...\n",
      "There are 188 uncorrected landuse places\n",
      "There are 3 corrected landuse places\n"
     ]
    },
    {
     "name": "stderr",
     "output_type": "stream",
     "text": [
      "/Users/svanwal/Documents/Programming/Projects/gr-analysis/gr_placematch.py:107: ShapelyDeprecationWarning: __len__ for multi-part geometries is deprecated and will be removed in Shapely 2.0. Check the length of the `geoms` property instead to get the  number of parts of a multi-part geometry.\n",
      "  merged_polys = list(shapely.ops.unary_union(polys))\n",
      "/Users/svanwal/Documents/Programming/Projects/gr-analysis/gr_placematch.py:107: ShapelyDeprecationWarning: Iteration over multi-part geometries is deprecated and will be removed in Shapely 2.0. Use the `geoms` property to access the constituent parts of a multi-part geometry.\n",
      "  merged_polys = list(shapely.ops.unary_union(polys))\n"
     ]
    },
    {
     "name": "stdout",
     "output_type": "stream",
     "text": [
      "   Writing outputs to file...\n",
      "   Finished this batch.\n",
      "Handling batch 37 of 41 that covers road segments 3700 through 3799...\n",
      "There are 580 uncorrected landuse places\n"
     ]
    },
    {
     "name": "stderr",
     "output_type": "stream",
     "text": [
      "/Users/svanwal/Documents/Programming/Projects/gr-analysis/gr_placematch.py:107: ShapelyDeprecationWarning: __len__ for multi-part geometries is deprecated and will be removed in Shapely 2.0. Check the length of the `geoms` property instead to get the  number of parts of a multi-part geometry.\n",
      "  merged_polys = list(shapely.ops.unary_union(polys))\n",
      "/Users/svanwal/Documents/Programming/Projects/gr-analysis/gr_placematch.py:107: ShapelyDeprecationWarning: Iteration over multi-part geometries is deprecated and will be removed in Shapely 2.0. Use the `geoms` property to access the constituent parts of a multi-part geometry.\n",
      "  merged_polys = list(shapely.ops.unary_union(polys))\n"
     ]
    },
    {
     "name": "stdout",
     "output_type": "stream",
     "text": [
      "There are 4 corrected landuse places\n",
      "   Writing outputs to file...\n",
      "   Finished this batch.\n",
      "Handling batch 38 of 41 that covers road segments 3800 through 3899...\n",
      "There are 439 uncorrected landuse places\n"
     ]
    },
    {
     "name": "stderr",
     "output_type": "stream",
     "text": [
      "/Users/svanwal/Documents/Programming/Projects/gr-analysis/gr_placematch.py:107: ShapelyDeprecationWarning: __len__ for multi-part geometries is deprecated and will be removed in Shapely 2.0. Check the length of the `geoms` property instead to get the  number of parts of a multi-part geometry.\n",
      "  merged_polys = list(shapely.ops.unary_union(polys))\n",
      "/Users/svanwal/Documents/Programming/Projects/gr-analysis/gr_placematch.py:107: ShapelyDeprecationWarning: Iteration over multi-part geometries is deprecated and will be removed in Shapely 2.0. Use the `geoms` property to access the constituent parts of a multi-part geometry.\n",
      "  merged_polys = list(shapely.ops.unary_union(polys))\n"
     ]
    },
    {
     "name": "stdout",
     "output_type": "stream",
     "text": [
      "There are 2 corrected landuse places\n",
      "   Writing outputs to file...\n",
      "   Finished this batch.\n",
      "Handling batch 39 of 41 that covers road segments 3900 through 3999...\n",
      "There are 372 uncorrected landuse places\n",
      "There are 3 corrected landuse places\n"
     ]
    },
    {
     "name": "stderr",
     "output_type": "stream",
     "text": [
      "/Users/svanwal/Documents/Programming/Projects/gr-analysis/gr_placematch.py:107: ShapelyDeprecationWarning: __len__ for multi-part geometries is deprecated and will be removed in Shapely 2.0. Check the length of the `geoms` property instead to get the  number of parts of a multi-part geometry.\n",
      "  merged_polys = list(shapely.ops.unary_union(polys))\n",
      "/Users/svanwal/Documents/Programming/Projects/gr-analysis/gr_placematch.py:107: ShapelyDeprecationWarning: Iteration over multi-part geometries is deprecated and will be removed in Shapely 2.0. Use the `geoms` property to access the constituent parts of a multi-part geometry.\n",
      "  merged_polys = list(shapely.ops.unary_union(polys))\n"
     ]
    },
    {
     "name": "stdout",
     "output_type": "stream",
     "text": [
      "   Writing outputs to file...\n",
      "   Finished this batch.\n",
      "Handling batch 40 of 41 that covers road segments 4000 through 4099...\n",
      "There are 473 uncorrected landuse places\n"
     ]
    },
    {
     "name": "stderr",
     "output_type": "stream",
     "text": [
      "/Users/svanwal/Documents/Programming/Projects/gr-analysis/gr_placematch.py:107: ShapelyDeprecationWarning: __len__ for multi-part geometries is deprecated and will be removed in Shapely 2.0. Check the length of the `geoms` property instead to get the  number of parts of a multi-part geometry.\n",
      "  merged_polys = list(shapely.ops.unary_union(polys))\n",
      "/Users/svanwal/Documents/Programming/Projects/gr-analysis/gr_placematch.py:107: ShapelyDeprecationWarning: Iteration over multi-part geometries is deprecated and will be removed in Shapely 2.0. Use the `geoms` property to access the constituent parts of a multi-part geometry.\n",
      "  merged_polys = list(shapely.ops.unary_union(polys))\n"
     ]
    },
    {
     "name": "stdout",
     "output_type": "stream",
     "text": [
      "There are 3 corrected landuse places\n",
      "   Writing outputs to file...\n",
      "   Finished this batch.\n",
      "Handling batch 41 of 41 that covers road segments 4100 through 4168...\n",
      "There are 173 uncorrected landuse places\n",
      "There are 2 corrected landuse places\n",
      "   Writing outputs to file...\n",
      "   Finished this batch.\n"
     ]
    },
    {
     "name": "stderr",
     "output_type": "stream",
     "text": [
      "/Users/svanwal/Documents/Programming/Projects/gr-analysis/gr_placematch.py:107: ShapelyDeprecationWarning: __len__ for multi-part geometries is deprecated and will be removed in Shapely 2.0. Check the length of the `geoms` property instead to get the  number of parts of a multi-part geometry.\n",
      "  merged_polys = list(shapely.ops.unary_union(polys))\n",
      "/Users/svanwal/Documents/Programming/Projects/gr-analysis/gr_placematch.py:107: ShapelyDeprecationWarning: Iteration over multi-part geometries is deprecated and will be removed in Shapely 2.0. Use the `geoms` property to access the constituent parts of a multi-part geometry.\n",
      "  merged_polys = list(shapely.ops.unary_union(polys))\n"
     ]
    },
    {
     "name": "stdout",
     "output_type": "stream",
     "text": [
      "Saved.\n"
     ]
    }
   ],
   "source": [
    "# filename_places = 'cache/' + trailname + '_places.csv'\n",
    "\n",
    "# if not os.path.isfile(filename_places): # The merged PLACES file does not exist\n",
    "    \n",
    "#     print('Merged PLACES file was not found, merging and saving...')\n",
    "#     gr_placematch.roads2places(trailname,data_roads,points_per_batch_places, delta_places, buffersize, tol_area)\n",
    "#     data_places = gr_utils.merge_places(trailname, data_roads, points_per_batch_places) # Merge the different sections\n",
    "#     gr_utils.write_places(trailname, data_places) # Write the merged PLACES data\n",
    "#     print('Saved.')\n",
    "    \n",
    "# else: # The merged PLACES file does exist\n",
    "    \n",
    "#     print('Loading merged PLACES file...')\n",
    "#     data_places = gr_utils.read_places(trailname) # Read the merged PLACES file\n",
    "#     print('Loaded.')"
   ]
  },
  {
   "cell_type": "markdown",
   "id": "f6eb2b8c",
   "metadata": {},
   "source": [
    "## Evaluating PROCESSED properties"
   ]
  },
  {
   "cell_type": "code",
   "execution_count": 18,
   "id": "7f33ced7",
   "metadata": {
    "scrolled": true
   },
   "outputs": [
    {
     "name": "stdout",
     "output_type": "stream",
     "text": [
      "The PROCESSED file was not found, processing and saving...\n",
      "Saved.\n"
     ]
    }
   ],
   "source": [
    "# filename_processed = 'data_output/' + trailname + '_processed.csv'\n",
    "\n",
    "# if not os.path.isfile(filename_processed): # The PROCESSED file does not exist\n",
    "    \n",
    "#     print('The PROCESSED file was not found, processing and saving...')\n",
    "#     data = gr_process.places2processed(data_places,tol_d,types_slow,types_heavy,tracktype_p0,tracktype_p1,tracktype_p2,surface_p0,surface_p1,highway_p1) # Determine traffic/development/paved status & GR types\n",
    "#     gr_utils.write_processed(trailname, data) # Write the processed data\n",
    "#     print('Saved.')\n",
    "    \n",
    "# else: # The PROCESSED file does exist\n",
    "    \n",
    "#     print('The PROCESSED file already exists, so nothing needs to be done.')"
   ]
  },
  {
   "cell_type": "code",
   "execution_count": null,
   "id": "35ea2648",
   "metadata": {},
   "outputs": [],
   "source": []
  }
 ],
 "metadata": {
  "kernelspec": {
   "display_name": "Python 3 (ipykernel)",
   "language": "python",
   "name": "python3"
  },
  "language_info": {
   "codemirror_mode": {
    "name": "ipython",
    "version": 3
   },
   "file_extension": ".py",
   "mimetype": "text/x-python",
   "name": "python",
   "nbconvert_exporter": "python",
   "pygments_lexer": "ipython3",
   "version": "3.9.13"
  }
 },
 "nbformat": 4,
 "nbformat_minor": 5
}
