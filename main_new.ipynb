{
 "cells": [
  {
   "cell_type": "markdown",
   "id": "82204626",
   "metadata": {},
   "source": [
    "## Importing modules and packages"
   ]
  },
  {
   "cell_type": "code",
   "execution_count": 1,
   "id": "f4a32d3e",
   "metadata": {},
   "outputs": [],
   "source": [
    "# Importing packages\n",
    "import osmnx  as ox\n",
    "import pandas as pd\n",
    "import numpy  as np\n",
    "import folium\n",
    "import os.path\n",
    "import shapely\n",
    "import geopandas as gpd\n",
    "from IPython.display import IFrame\n",
    "\n",
    "# Importing modules\n",
    "import gr_mapmatch # Contains functions that perform the map matching of roads\n",
    "import gr_placematch # Contains functions that perform the map matching of places\n",
    "import gr_utils # Contains useful geometry functions\n",
    "import gr_plot # Contains plotting routines\n",
    "import gr_process\n",
    "import roadmatch\n",
    "\n",
    "# Configuring modules & packages\n",
    "ox.settings.useful_tags_way = [\n",
    "    \"bridge\",\"tunnel\",\"name\",\"highway\",\"area\",\"landuse\",\"surface\",\"tracktype\"\n",
    "] # Configuring which parameters we want to obtain from OSM"
   ]
  },
  {
   "cell_type": "markdown",
   "id": "27b93e47",
   "metadata": {},
   "source": [
    "## Input parameters"
   ]
  },
  {
   "cell_type": "code",
   "execution_count": 2,
   "id": "015a24ff",
   "metadata": {},
   "outputs": [],
   "source": [
    "trailname = 'gr564' # Name of the hiking trail to be considered (will search for trail.csv or trail.gpx as sources)\n",
    "\n",
    "# Settings for trail2roads\n",
    "points_per_batch = 100 # Subdivide the trail into batches of this many points\n",
    "delta_roads = 0.010 # Tolerance around bounding box per trail section [deg]\n",
    "min_dist_from_bbox = 0.005 # [deg]\n",
    "npaths = 5 # number of paths to generate per piece when pathfindinng\n",
    "\n",
    "# Settings for roads2places\n",
    "points_per_batch_places = 100 # Subdivide the trail into batches of this many segments\n",
    "delta_places = 0.015 # bbox delta in deg\n",
    "buffersize = 0.00015 # buffer used when merging landuse places\n",
    "tol_area = 15.0e-6 # buffer used to define which merged landuse places we consider\n",
    "\n",
    "# Settings for places2processed\n",
    "tol_d        = 0.75 # Consider a segment developed if it lies closer than tol_d to a developed area\n",
    "tracktype_p0 = ['grade4','grade5']\n",
    "tracktype_p1 = ['grade2','grade3']\n",
    "tracktype_p2 = ['grade1']\n",
    "surface_p0   = ['ground','grass','dirt','sand','earth','mud']\n",
    "surface_p1   = ['unpaved','gravel','fine_gravel','wood','compacted','rocks','pebblestone','woodchips','snow','ice','salt']\n",
    "highway_p1   = ['track','path','footway','bridleway']\n",
    "types_slow   = ['pedestrian','track','footway','bridleway','steps','corridor','path']\n",
    "types_heavy  = ['motorway','trunk','primary','secondary','tertiary']"
   ]
  },
  {
   "cell_type": "markdown",
   "id": "aa7e8e6f",
   "metadata": {},
   "source": [
    "## Loading GPX file"
   ]
  },
  {
   "cell_type": "code",
   "execution_count": 3,
   "id": "667a640b",
   "metadata": {},
   "outputs": [
    {
     "name": "stdout",
     "output_type": "stream",
     "text": [
      "Loading trail points from <data_input/gr564.gpx>...\n",
      "Finished loading.\n"
     ]
    }
   ],
   "source": [
    "gpx = gr_utils.get_gpx(trailname)\n",
    "gpx_coords = gr_mapmatch.trail_to_coords(gpx) # Convert the points into a list of [lat, lon] pairs"
   ]
  },
  {
   "cell_type": "markdown",
   "id": "5698b079",
   "metadata": {},
   "source": [
    "## Matching GPX points to OSM nodes"
   ]
  },
  {
   "cell_type": "code",
   "execution_count": 4,
   "id": "9f937d46",
   "metadata": {
    "scrolled": true
   },
   "outputs": [],
   "source": [
    "# Generate the nodes dataframe [point_x, point_y, node_id, node_x, node_y, d2node]\n",
    "# with point = a GPX point and node = the corresponding node\n",
    "# and d2node = the distance from the GPX point to its corresponding node\n",
    "filename_nodes = 'cache/' + trailname + '_nodes.csv'\n",
    "if not os.path.isfile(filename_nodes): # The nodes file does not exist, construct it\n",
    "    nodes = roadmatch.gpx_to_nodes(gpx, gpx_coords, points_per_batch, delta_roads, min_dist_from_bbox)\n",
    "    nodes.to_csv(filename_nodes)\n",
    "else: # The nodes file exists, load it\n",
    "    nodes = pd.read_csv(filename_nodes,index_col=0,\n",
    "                            dtype={'point_x':float, 'point_y':float,\n",
    "                                   'node_id':int,\n",
    "                                   'node_x':float, 'node_y':float,\n",
    "                                   'd2node':float})\n",
    "    \n",
    "# Generate the pieces dataframe [node0, node1, gpx0, gpx1]\n",
    "# it cuts up the GPX trail into pieces on which individual pathfinding can be done\n",
    "filename_pieces = 'cache/' + trailname + '_pieces.csv'\n",
    "if not os.path.isfile(filename_pieces): # The pieces file does not exist, construct it\n",
    "    pieces = roadmatch.nodes_to_pieces(nodes)\n",
    "    pieces.to_csv(filename_pieces)\n",
    "else:\n",
    "    pieces = pd.read_csv(filename_pieces,index_col=0,\n",
    "                         dtype={'node0':int,'node1':int,\n",
    "                                'gpx0':int,'gpx1':int})\n",
    "    \n",
    "# Generate the segments dataframe [x0,y0,x1,y1,d_cart,d_osm,highway,surface,tracktype]\n",
    "filename_segments = 'cache/' + trailname + '_segments.csv'\n",
    "if not os.path.isfile(filename_segments): # The pieces file does not exist, construct it\n",
    "    segments = roadmatch.pieces_to_segments(gpx,nodes,points_per_batch,delta_roads,pieces,npaths)\n",
    "    segments.to_csv(filename_segments)\n",
    "else:\n",
    "    segments = pd.read_csv(filename_segments,index_col=0,\n",
    "                         dtype={'x0':float,'y0':float,\n",
    "                                'x1':float,'y1':float,\n",
    "                               'd_cart':float,'d_osm':float,\n",
    "                                'highway':str,'surface':str,'tracktype':str})"
   ]
  },
  {
   "cell_type": "code",
   "execution_count": 5,
   "id": "06c80f3b",
   "metadata": {
    "scrolled": true
   },
   "outputs": [],
   "source": [
    "# # Generate the pieces dataframe [node0, node1, gpx0, gpx1]\n",
    "# # it cuts up the GPX trail into pieces on which individual pathfinding can be done\n",
    "# filename_pieces = 'cache/' + trailname + '_pieces.csv'\n",
    "# if not os.path.isfile(filename_pieces): # The pieces file does not exist, construct it\n",
    "#     pieces = roadmatch.nodes_to_pieces(nodes)\n",
    "#     pieces.to_csv(filename_pieces)\n",
    "# else:\n",
    "#     pieces = pd.read_csv(filename_pieces,index_col=0,\n",
    "#                          dtype={'node0':int,'node1':int,\n",
    "#                                 'gpx0':int,'gpx1':int})"
   ]
  },
  {
   "cell_type": "code",
   "execution_count": 6,
   "id": "7a5f70b4",
   "metadata": {
    "scrolled": true
   },
   "outputs": [],
   "source": [
    "# # Generate the segments dataframe [x0,y0,x1,y1,d_cart,d_osm,highway,surface,tracktype]\n",
    "# filename_segments = 'cache/' + trailname + '_segments.csv'\n",
    "# if not os.path.isfile(filename_segments): # The pieces file does not exist, construct it\n",
    "#     segments = roadmatch.pieces_to_segments(gpx,nodes,points_per_batch,delta_roads,pieces,npaths)\n",
    "#     segments.to_csv(filename_segments)\n",
    "# else:\n",
    "#     segments = pd.read_csv(filename_segments,index_col=0,\n",
    "#                          dtype={'x0':float,'y0':float,\n",
    "#                                 'x1':float,'y1':float,\n",
    "#                                'd_cart':float,'d_osm':float,\n",
    "#                                 'highway':str,'surface':str,'tracktype':str})"
   ]
  },
  {
   "cell_type": "markdown",
   "id": "aadea613",
   "metadata": {},
   "source": [
    "## Gathering place information"
   ]
  },
  {
   "cell_type": "code",
   "execution_count": 8,
   "id": "5a33d02f",
   "metadata": {},
   "outputs": [
    {
     "name": "stdout",
     "output_type": "stream",
     "text": [
      "Merged PLACES file was not found, merging and saving...\n",
      "Handling batch 0 of 52 that covers road segments 0 through 99...\n",
      "   This batch was processed before, skipping.\n",
      "Handling batch 1 of 52 that covers road segments 100 through 199...\n",
      "   This batch was processed before, skipping.\n",
      "Handling batch 2 of 52 that covers road segments 200 through 299...\n",
      "   This batch was processed before, skipping.\n",
      "Handling batch 3 of 52 that covers road segments 300 through 399...\n",
      "   This batch was processed before, skipping.\n",
      "Handling batch 4 of 52 that covers road segments 400 through 499...\n",
      "   This batch was processed before, skipping.\n",
      "Handling batch 5 of 52 that covers road segments 500 through 599...\n",
      "   This batch was processed before, skipping.\n",
      "Handling batch 6 of 52 that covers road segments 600 through 699...\n",
      "   This batch was processed before, skipping.\n",
      "Handling batch 7 of 52 that covers road segments 700 through 799...\n",
      "   This batch was processed before, skipping.\n",
      "Handling batch 8 of 52 that covers road segments 800 through 899...\n",
      "   This batch was processed before, skipping.\n",
      "Handling batch 9 of 52 that covers road segments 900 through 999...\n",
      "   This batch was processed before, skipping.\n",
      "Handling batch 10 of 52 that covers road segments 1000 through 1099...\n",
      "   This batch was processed before, skipping.\n",
      "Handling batch 11 of 52 that covers road segments 1100 through 1199...\n",
      "   This batch was processed before, skipping.\n",
      "Handling batch 12 of 52 that covers road segments 1200 through 1299...\n",
      "   This batch was processed before, skipping.\n",
      "Handling batch 13 of 52 that covers road segments 1300 through 1399...\n",
      "   This batch was processed before, skipping.\n",
      "Handling batch 14 of 52 that covers road segments 1400 through 1499...\n",
      "   This batch was processed before, skipping.\n",
      "Handling batch 15 of 52 that covers road segments 1500 through 1599...\n",
      "   This batch was processed before, skipping.\n",
      "Handling batch 16 of 52 that covers road segments 1600 through 1699...\n",
      "   This batch was processed before, skipping.\n",
      "Handling batch 17 of 52 that covers road segments 1700 through 1799...\n",
      "   This batch was processed before, skipping.\n",
      "Handling batch 18 of 52 that covers road segments 1800 through 1899...\n",
      "   This batch was processed before, skipping.\n",
      "Handling batch 19 of 52 that covers road segments 1900 through 1999...\n",
      "   This batch was processed before, skipping.\n",
      "Handling batch 20 of 52 that covers road segments 2000 through 2099...\n",
      "   This batch was processed before, skipping.\n",
      "Handling batch 21 of 52 that covers road segments 2100 through 2199...\n",
      "   This batch was processed before, skipping.\n",
      "Handling batch 22 of 52 that covers road segments 2200 through 2299...\n",
      "   This batch was processed before, skipping.\n",
      "Handling batch 23 of 52 that covers road segments 2300 through 2399...\n",
      "   This batch was processed before, skipping.\n",
      "Handling batch 24 of 52 that covers road segments 2400 through 2499...\n",
      "   This batch was processed before, skipping.\n",
      "Handling batch 25 of 52 that covers road segments 2500 through 2599...\n",
      "   This batch was processed before, skipping.\n",
      "Handling batch 26 of 52 that covers road segments 2600 through 2699...\n",
      "   This batch was processed before, skipping.\n",
      "Handling batch 27 of 52 that covers road segments 2700 through 2799...\n",
      "   This batch was processed before, skipping.\n",
      "Handling batch 28 of 52 that covers road segments 2800 through 2899...\n",
      "   This batch was processed before, skipping.\n",
      "Handling batch 29 of 52 that covers road segments 2900 through 2999...\n",
      "   This batch was processed before, skipping.\n",
      "Handling batch 30 of 52 that covers road segments 3000 through 3099...\n",
      "   This batch was processed before, skipping.\n",
      "Handling batch 31 of 52 that covers road segments 3100 through 3199...\n",
      "   This batch was processed before, skipping.\n",
      "Handling batch 32 of 52 that covers road segments 3200 through 3299...\n",
      "   This batch was processed before, skipping.\n",
      "Handling batch 33 of 52 that covers road segments 3300 through 3399...\n",
      "   This batch was processed before, skipping.\n",
      "Handling batch 34 of 52 that covers road segments 3400 through 3499...\n",
      "   This batch was processed before, skipping.\n",
      "Handling batch 35 of 52 that covers road segments 3500 through 3599...\n",
      "   This batch was processed before, skipping.\n",
      "Handling batch 36 of 52 that covers road segments 3600 through 3699...\n",
      "   This batch was processed before, skipping.\n",
      "Handling batch 37 of 52 that covers road segments 3700 through 3799...\n",
      "   This batch was processed before, skipping.\n",
      "Handling batch 38 of 52 that covers road segments 3800 through 3899...\n",
      "   This batch was processed before, skipping.\n",
      "Handling batch 39 of 52 that covers road segments 3900 through 3999...\n",
      "   This batch was processed before, skipping.\n",
      "Handling batch 40 of 52 that covers road segments 4000 through 4099...\n",
      "   This batch was processed before, skipping.\n",
      "Handling batch 41 of 52 that covers road segments 4100 through 4199...\n",
      "   This batch was processed before, skipping.\n",
      "Handling batch 42 of 52 that covers road segments 4200 through 4299...\n",
      "   This batch was processed before, skipping.\n",
      "Handling batch 43 of 52 that covers road segments 4300 through 4399...\n",
      "   This batch was processed before, skipping.\n",
      "Handling batch 44 of 52 that covers road segments 4400 through 4499...\n",
      "   This batch was processed before, skipping.\n",
      "Handling batch 45 of 52 that covers road segments 4500 through 4599...\n",
      "   This batch was processed before, skipping.\n",
      "Handling batch 46 of 52 that covers road segments 4600 through 4699...\n",
      "   This batch was processed before, skipping.\n",
      "Handling batch 47 of 52 that covers road segments 4700 through 4799...\n",
      "   This batch was processed before, skipping.\n",
      "Handling batch 48 of 52 that covers road segments 4800 through 4899...\n",
      "   This batch was processed before, skipping.\n",
      "Handling batch 49 of 52 that covers road segments 4900 through 4999...\n",
      "   This batch was processed before, skipping.\n",
      "Handling batch 50 of 52 that covers road segments 5000 through 5099...\n",
      "   This batch was processed before, skipping.\n",
      "Handling batch 51 of 52 that covers road segments 5100 through 5199...\n"
     ]
    },
    {
     "name": "stderr",
     "output_type": "stream",
     "text": [
      "/Users/svanwal/Documents/Programming/Projects/gr-analysis/gr_placematch.py:107: ShapelyDeprecationWarning: __len__ for multi-part geometries is deprecated and will be removed in Shapely 2.0. Check the length of the `geoms` property instead to get the  number of parts of a multi-part geometry.\n",
      "  merged_polys = list(shapely.ops.unary_union(polys))\n",
      "/Users/svanwal/Documents/Programming/Projects/gr-analysis/gr_placematch.py:107: ShapelyDeprecationWarning: Iteration over multi-part geometries is deprecated and will be removed in Shapely 2.0. Use the `geoms` property to access the constituent parts of a multi-part geometry.\n",
      "  merged_polys = list(shapely.ops.unary_union(polys))\n"
     ]
    },
    {
     "name": "stdout",
     "output_type": "stream",
     "text": [
      "   Writing outputs to file...\n",
      "   Finished this batch.\n",
      "Handling batch 52 of 52 that covers road segments 5200 through 5218...\n"
     ]
    },
    {
     "name": "stderr",
     "output_type": "stream",
     "text": [
      "/Users/svanwal/Documents/Programming/Projects/gr-analysis/gr_placematch.py:107: ShapelyDeprecationWarning: __len__ for multi-part geometries is deprecated and will be removed in Shapely 2.0. Check the length of the `geoms` property instead to get the  number of parts of a multi-part geometry.\n",
      "  merged_polys = list(shapely.ops.unary_union(polys))\n",
      "/Users/svanwal/Documents/Programming/Projects/gr-analysis/gr_placematch.py:107: ShapelyDeprecationWarning: Iteration over multi-part geometries is deprecated and will be removed in Shapely 2.0. Use the `geoms` property to access the constituent parts of a multi-part geometry.\n",
      "  merged_polys = list(shapely.ops.unary_union(polys))\n"
     ]
    },
    {
     "name": "stdout",
     "output_type": "stream",
     "text": [
      "   Writing outputs to file...\n",
      "   Finished this batch.\n",
      "Saved.\n"
     ]
    }
   ],
   "source": [
    "filename_places = 'cache/' + trailname + '_places.csv'\n",
    "\n",
    "if not os.path.isfile(filename_places): # The merged PLACES file does not exist\n",
    "    \n",
    "    print('Merged PLACES file was not found, merging and saving...')\n",
    "    gr_placematch.roads2places(trailname,segments,points_per_batch_places, delta_places, buffersize, tol_area)\n",
    "    data_places = gr_utils.merge_places(trailname, segments, points_per_batch_places) # Merge the different sections\n",
    "    gr_utils.write_places(trailname, data_places) # Write the merged PLACES data\n",
    "    print('Saved.')\n",
    "    \n",
    "else: # The merged PLACES file does exist\n",
    "    \n",
    "    print('Loading merged PLACES file...')\n",
    "    data_places = gr_utils.read_places(trailname) # Read the merged PLACES file\n",
    "    print('Loaded.')"
   ]
  },
  {
   "cell_type": "markdown",
   "id": "0cbfd631",
   "metadata": {},
   "source": [
    "## Evaluating processed properties"
   ]
  },
  {
   "cell_type": "code",
   "execution_count": 9,
   "id": "cea0d879",
   "metadata": {},
   "outputs": [
    {
     "name": "stdout",
     "output_type": "stream",
     "text": [
      "The PROCESSED file was not found, processing and saving...\n",
      "Saved.\n"
     ]
    }
   ],
   "source": [
    "filename_processed = 'data_output/' + trailname + '_processed.csv'\n",
    "\n",
    "if not os.path.isfile(filename_processed): # The PROCESSED file does not exist\n",
    "    \n",
    "    print('The PROCESSED file was not found, processing and saving...')\n",
    "    data_places2 = gr_mapmatch.remove_repeat_segments(data_places) # Remove backtracked sections\n",
    "    data = gr_process.places2processed(data_places2,tol_d,types_slow,types_heavy,tracktype_p0,tracktype_p1,tracktype_p2,surface_p0,surface_p1,highway_p1) # Determine traffic/development/paved status & GR types\n",
    "    gr_utils.write_processed(trailname, data) # Write the processed data\n",
    "    print('Saved.')\n",
    "    \n",
    "else: # The PROCESSED file does exist\n",
    "    \n",
    "    print('The PROCESSED file already exists, so nothing needs to be done.')"
   ]
  },
  {
   "cell_type": "code",
   "execution_count": null,
   "id": "29a179c1",
   "metadata": {},
   "outputs": [],
   "source": []
  },
  {
   "cell_type": "markdown",
   "id": "4880fd3e",
   "metadata": {},
   "source": [
    "## Compare roads dataframe and places dataframe"
   ]
  },
  {
   "cell_type": "code",
   "execution_count": 11,
   "id": "a0a64c52",
   "metadata": {},
   "outputs": [
    {
     "data": {
      "text/html": [
       "\n",
       "        <iframe\n",
       "            width=\"1000\"\n",
       "            height=\"500\"\n",
       "            src=\"cache/temp16.html\"\n",
       "            frameborder=\"0\"\n",
       "            allowfullscreen\n",
       "            \n",
       "        ></iframe>\n",
       "        "
      ],
      "text/plain": [
       "<IPython.lib.display.IFrame at 0x7ff03854bb80>"
      ]
     },
     "execution_count": 11,
     "metadata": {},
     "output_type": "execute_result"
    }
   ],
   "source": [
    "before_coords = gr_plot.get_fullcoords_from_frame(segments)\n",
    "after_coords = gr_plot.get_fullcoords_from_frame(data_places)\n",
    "# Map setup\n",
    "mid = int(len(gpx_coords)/2)\n",
    "chart = folium.Map(location=gpx_coords[mid], zoom_start=10, tiles=\"OpenStreetMap\")\n",
    "\n",
    "# Draw the before route\n",
    "newline = folium.PolyLine(locations=before_coords, weight=3, color='red')\n",
    "newline.add_to(chart)\n",
    "\n",
    "# Draw the after route\n",
    "newline = folium.PolyLine(locations=after_coords, weight=2, color='black')\n",
    "newline.add_to(chart)\n",
    "\n",
    "# Render the map\n",
    "filepath = f\"cache/temp16.html\"\n",
    "chart.save(filepath)\n",
    "IFrame(filepath, width=1000, height=500)"
   ]
  },
  {
   "cell_type": "code",
   "execution_count": null,
   "id": "e2a77bff",
   "metadata": {},
   "outputs": [],
   "source": []
  },
  {
   "cell_type": "code",
   "execution_count": null,
   "id": "c47ce744",
   "metadata": {},
   "outputs": [],
   "source": []
  },
  {
   "cell_type": "markdown",
   "id": "9458d694",
   "metadata": {},
   "source": [
    "## Compare before and after removal of repeat segments"
   ]
  },
  {
   "cell_type": "code",
   "execution_count": 12,
   "id": "74c0606b",
   "metadata": {},
   "outputs": [
    {
     "ename": "NameError",
     "evalue": "name 'roads' is not defined",
     "output_type": "error",
     "traceback": [
      "\u001b[0;31m---------------------------------------------------------------------------\u001b[0m",
      "\u001b[0;31mNameError\u001b[0m                                 Traceback (most recent call last)",
      "\u001b[0;32m/var/folders/zh/x06gqp657rl9h1shq_pn7gjh0000gn/T/ipykernel_3976/1964696720.py\u001b[0m in \u001b[0;36m<module>\u001b[0;34m\u001b[0m\n\u001b[1;32m      1\u001b[0m \u001b[0mbefore_coords\u001b[0m \u001b[0;34m=\u001b[0m \u001b[0mgr_plot\u001b[0m\u001b[0;34m.\u001b[0m\u001b[0mget_fullcoords_from_frame\u001b[0m\u001b[0;34m(\u001b[0m\u001b[0msegments\u001b[0m\u001b[0;34m)\u001b[0m\u001b[0;34m\u001b[0m\u001b[0;34m\u001b[0m\u001b[0m\n\u001b[0;32m----> 2\u001b[0;31m \u001b[0mafter_coords\u001b[0m \u001b[0;34m=\u001b[0m \u001b[0mgr_plot\u001b[0m\u001b[0;34m.\u001b[0m\u001b[0mget_fullcoords_from_frame\u001b[0m\u001b[0;34m(\u001b[0m\u001b[0mroads\u001b[0m\u001b[0;34m)\u001b[0m\u001b[0;34m\u001b[0m\u001b[0;34m\u001b[0m\u001b[0m\n\u001b[0m\u001b[1;32m      3\u001b[0m \u001b[0;34m\u001b[0m\u001b[0m\n\u001b[1;32m      4\u001b[0m \u001b[0;31m# Map setup\u001b[0m\u001b[0;34m\u001b[0m\u001b[0;34m\u001b[0m\u001b[0m\n\u001b[1;32m      5\u001b[0m \u001b[0mmid\u001b[0m \u001b[0;34m=\u001b[0m \u001b[0mint\u001b[0m\u001b[0;34m(\u001b[0m\u001b[0mlen\u001b[0m\u001b[0;34m(\u001b[0m\u001b[0mgpx_coords\u001b[0m\u001b[0;34m)\u001b[0m\u001b[0;34m/\u001b[0m\u001b[0;36m2\u001b[0m\u001b[0;34m)\u001b[0m\u001b[0;34m\u001b[0m\u001b[0;34m\u001b[0m\u001b[0m\n",
      "\u001b[0;31mNameError\u001b[0m: name 'roads' is not defined"
     ]
    }
   ],
   "source": [
    "before_coords = gr_plot.get_fullcoords_from_frame(segments)\n",
    "after_coords = gr_plot.get_fullcoords_from_frame(roads)\n",
    "\n",
    "# Map setup\n",
    "mid = int(len(gpx_coords)/2)\n",
    "chart = folium.Map(location=gpx_coords[mid], zoom_start=10, tiles=\"OpenStreetMap\")\n",
    "\n",
    "# Draw the before route\n",
    "newline = folium.PolyLine(locations=before_coords, weight=3, color='red')\n",
    "newline.add_to(chart)\n",
    "\n",
    "# Draw the after route\n",
    "newline = folium.PolyLine(locations=after_coords, weight=2, color='black')\n",
    "newline.add_to(chart)\n",
    "\n",
    "# Render the map\n",
    "filepath = f\"cache/temp15.html\"\n",
    "chart.save(filepath)\n",
    "IFrame(filepath, width=1000, height=500)"
   ]
  },
  {
   "cell_type": "code",
   "execution_count": null,
   "id": "3062d50d",
   "metadata": {},
   "outputs": [],
   "source": []
  },
  {
   "cell_type": "code",
   "execution_count": null,
   "id": "4dd2b882",
   "metadata": {},
   "outputs": [],
   "source": []
  },
  {
   "cell_type": "code",
   "execution_count": null,
   "id": "3ba0e044",
   "metadata": {},
   "outputs": [],
   "source": []
  },
  {
   "cell_type": "markdown",
   "id": "b7124853",
   "metadata": {},
   "source": [
    "## Plot the matched route"
   ]
  },
  {
   "cell_type": "code",
   "execution_count": 27,
   "id": "b54ba73f",
   "metadata": {},
   "outputs": [
    {
     "data": {
      "text/html": [
       "\n",
       "        <iframe\n",
       "            width=\"1000\"\n",
       "            height=\"500\"\n",
       "            src=\"cache/temp11.html\"\n",
       "            frameborder=\"0\"\n",
       "            allowfullscreen\n",
       "            \n",
       "        ></iframe>\n",
       "        "
      ],
      "text/plain": [
       "<IPython.lib.display.IFrame at 0x7f804046d850>"
      ]
     },
     "execution_count": 27,
     "metadata": {},
     "output_type": "execute_result"
    }
   ],
   "source": [
    "matchedcoords = gr_plot.get_fullcoords_from_frame(roads)\n",
    "\n",
    "# Map setup\n",
    "mid = int(len(gpx_coords)/2)\n",
    "chart = folium.Map(location=gpx_coords[mid], zoom_start=10, tiles=\"OpenStreetMap\")\n",
    "\n",
    "# Draw the GPX route\n",
    "newline = folium.PolyLine(locations=gpx_coords, weight=2, color='red')\n",
    "newline.add_to(chart)\n",
    "\n",
    "# Draw the matched route\n",
    "newline = folium.PolyLine(locations=matchedcoords, weight=2, color='black')\n",
    "newline.add_to(chart)\n",
    "\n",
    "# Render the map\n",
    "filepath = f\"cache/temp11.html\"\n",
    "chart.save(filepath)\n",
    "IFrame(filepath, width=1000, height=500)"
   ]
  },
  {
   "cell_type": "code",
   "execution_count": 14,
   "id": "f50bca61",
   "metadata": {},
   "outputs": [
    {
     "data": {
      "text/html": [
       "<div>\n",
       "<style scoped>\n",
       "    .dataframe tbody tr th:only-of-type {\n",
       "        vertical-align: middle;\n",
       "    }\n",
       "\n",
       "    .dataframe tbody tr th {\n",
       "        vertical-align: top;\n",
       "    }\n",
       "\n",
       "    .dataframe thead th {\n",
       "        text-align: right;\n",
       "    }\n",
       "</style>\n",
       "<table border=\"1\" class=\"dataframe\">\n",
       "  <thead>\n",
       "    <tr style=\"text-align: right;\">\n",
       "      <th></th>\n",
       "      <th>x0</th>\n",
       "      <th>y0</th>\n",
       "      <th>x1</th>\n",
       "      <th>y1</th>\n",
       "      <th>d_cart</th>\n",
       "      <th>d_osm</th>\n",
       "      <th>highway</th>\n",
       "      <th>surface</th>\n",
       "      <th>tracktype</th>\n",
       "      <th>dev_dist</th>\n",
       "      <th>city8</th>\n",
       "      <th>city9</th>\n",
       "    </tr>\n",
       "  </thead>\n",
       "  <tbody>\n",
       "    <tr>\n",
       "      <th>0</th>\n",
       "      <td>51.211527</td>\n",
       "      <td>5.312959</td>\n",
       "      <td>51.211603</td>\n",
       "      <td>5.314537</td>\n",
       "      <td>110.271828</td>\n",
       "      <td>39.477250</td>\n",
       "      <td>residential</td>\n",
       "      <td>NaN</td>\n",
       "      <td>NaN</td>\n",
       "      <td>0.0</td>\n",
       "      <td></td>\n",
       "      <td></td>\n",
       "    </tr>\n",
       "    <tr>\n",
       "      <th>1</th>\n",
       "      <td>51.211603</td>\n",
       "      <td>5.314537</td>\n",
       "      <td>51.211624</td>\n",
       "      <td>5.315060</td>\n",
       "      <td>36.504684</td>\n",
       "      <td>39.477250</td>\n",
       "      <td>residential</td>\n",
       "      <td>NaN</td>\n",
       "      <td>NaN</td>\n",
       "      <td>0.0</td>\n",
       "      <td></td>\n",
       "      <td></td>\n",
       "    </tr>\n",
       "    <tr>\n",
       "      <th>2</th>\n",
       "      <td>51.211624</td>\n",
       "      <td>5.315060</td>\n",
       "      <td>51.211629</td>\n",
       "      <td>5.315165</td>\n",
       "      <td>7.308281</td>\n",
       "      <td>39.477250</td>\n",
       "      <td>residential</td>\n",
       "      <td>NaN</td>\n",
       "      <td>NaN</td>\n",
       "      <td>0.0</td>\n",
       "      <td></td>\n",
       "      <td></td>\n",
       "    </tr>\n",
       "    <tr>\n",
       "      <th>3</th>\n",
       "      <td>51.211629</td>\n",
       "      <td>5.315165</td>\n",
       "      <td>51.211624</td>\n",
       "      <td>5.315219</td>\n",
       "      <td>3.844846</td>\n",
       "      <td>39.477250</td>\n",
       "      <td>residential</td>\n",
       "      <td>NaN</td>\n",
       "      <td>NaN</td>\n",
       "      <td>0.0</td>\n",
       "      <td></td>\n",
       "      <td></td>\n",
       "    </tr>\n",
       "    <tr>\n",
       "      <th>4</th>\n",
       "      <td>51.211624</td>\n",
       "      <td>5.315219</td>\n",
       "      <td>51.211622</td>\n",
       "      <td>5.315253</td>\n",
       "      <td>2.365493</td>\n",
       "      <td>4.446600</td>\n",
       "      <td>residential</td>\n",
       "      <td>NaN</td>\n",
       "      <td>NaN</td>\n",
       "      <td>0.0</td>\n",
       "      <td></td>\n",
       "      <td></td>\n",
       "    </tr>\n",
       "    <tr>\n",
       "      <th>...</th>\n",
       "      <td>...</td>\n",
       "      <td>...</td>\n",
       "      <td>...</td>\n",
       "      <td>...</td>\n",
       "      <td>...</td>\n",
       "      <td>...</td>\n",
       "      <td>...</td>\n",
       "      <td>...</td>\n",
       "      <td>...</td>\n",
       "      <td>...</td>\n",
       "      <td>...</td>\n",
       "      <td>...</td>\n",
       "    </tr>\n",
       "    <tr>\n",
       "      <th>5214</th>\n",
       "      <td>50.526498</td>\n",
       "      <td>5.232790</td>\n",
       "      <td>50.526655</td>\n",
       "      <td>5.233140</td>\n",
       "      <td>30.243573</td>\n",
       "      <td>8.965143</td>\n",
       "      <td>['steps', 'footway']</td>\n",
       "      <td>NaN</td>\n",
       "      <td>NaN</td>\n",
       "      <td>0.0</td>\n",
       "      <td></td>\n",
       "      <td></td>\n",
       "    </tr>\n",
       "    <tr>\n",
       "      <th>5215</th>\n",
       "      <td>50.526655</td>\n",
       "      <td>5.233140</td>\n",
       "      <td>50.526635</td>\n",
       "      <td>5.233168</td>\n",
       "      <td>2.991645</td>\n",
       "      <td>3.466500</td>\n",
       "      <td>footway</td>\n",
       "      <td>NaN</td>\n",
       "      <td>NaN</td>\n",
       "      <td>0.0</td>\n",
       "      <td></td>\n",
       "      <td></td>\n",
       "    </tr>\n",
       "    <tr>\n",
       "      <th>5216</th>\n",
       "      <td>50.526635</td>\n",
       "      <td>5.233168</td>\n",
       "      <td>50.526607</td>\n",
       "      <td>5.233202</td>\n",
       "      <td>3.942736</td>\n",
       "      <td>3.466500</td>\n",
       "      <td>footway</td>\n",
       "      <td>NaN</td>\n",
       "      <td>NaN</td>\n",
       "      <td>0.0</td>\n",
       "      <td></td>\n",
       "      <td></td>\n",
       "    </tr>\n",
       "    <tr>\n",
       "      <th>5217</th>\n",
       "      <td>50.526607</td>\n",
       "      <td>5.233202</td>\n",
       "      <td>50.526575</td>\n",
       "      <td>5.233138</td>\n",
       "      <td>5.712322</td>\n",
       "      <td>5.879000</td>\n",
       "      <td>service</td>\n",
       "      <td>asphalt</td>\n",
       "      <td>NaN</td>\n",
       "      <td>0.0</td>\n",
       "      <td></td>\n",
       "      <td></td>\n",
       "    </tr>\n",
       "    <tr>\n",
       "      <th>5218</th>\n",
       "      <td>50.526575</td>\n",
       "      <td>5.233138</td>\n",
       "      <td>50.526529</td>\n",
       "      <td>5.233093</td>\n",
       "      <td>6.046805</td>\n",
       "      <td>5.879000</td>\n",
       "      <td>service</td>\n",
       "      <td>asphalt</td>\n",
       "      <td>NaN</td>\n",
       "      <td>0.0</td>\n",
       "      <td></td>\n",
       "      <td></td>\n",
       "    </tr>\n",
       "  </tbody>\n",
       "</table>\n",
       "<p>5177 rows × 12 columns</p>\n",
       "</div>"
      ],
      "text/plain": [
       "             x0        y0         x1        y1      d_cart      d_osm  \\\n",
       "0     51.211527  5.312959  51.211603  5.314537  110.271828  39.477250   \n",
       "1     51.211603  5.314537  51.211624  5.315060   36.504684  39.477250   \n",
       "2     51.211624  5.315060  51.211629  5.315165    7.308281  39.477250   \n",
       "3     51.211629  5.315165  51.211624  5.315219    3.844846  39.477250   \n",
       "4     51.211624  5.315219  51.211622  5.315253    2.365493   4.446600   \n",
       "...         ...       ...        ...       ...         ...        ...   \n",
       "5214  50.526498  5.232790  50.526655  5.233140   30.243573   8.965143   \n",
       "5215  50.526655  5.233140  50.526635  5.233168    2.991645   3.466500   \n",
       "5216  50.526635  5.233168  50.526607  5.233202    3.942736   3.466500   \n",
       "5217  50.526607  5.233202  50.526575  5.233138    5.712322   5.879000   \n",
       "5218  50.526575  5.233138  50.526529  5.233093    6.046805   5.879000   \n",
       "\n",
       "                   highway  surface tracktype  dev_dist city8 city9  \n",
       "0              residential      NaN       NaN       0.0              \n",
       "1              residential      NaN       NaN       0.0              \n",
       "2              residential      NaN       NaN       0.0              \n",
       "3              residential      NaN       NaN       0.0              \n",
       "4              residential      NaN       NaN       0.0              \n",
       "...                    ...      ...       ...       ...   ...   ...  \n",
       "5214  ['steps', 'footway']      NaN       NaN       0.0              \n",
       "5215               footway      NaN       NaN       0.0              \n",
       "5216               footway      NaN       NaN       0.0              \n",
       "5217               service  asphalt       NaN       0.0              \n",
       "5218               service  asphalt       NaN       0.0              \n",
       "\n",
       "[5177 rows x 12 columns]"
      ]
     },
     "execution_count": 14,
     "metadata": {},
     "output_type": "execute_result"
    }
   ],
   "source": [
    "roads"
   ]
  },
  {
   "cell_type": "code",
   "execution_count": null,
   "id": "e552177e",
   "metadata": {},
   "outputs": [],
   "source": []
  },
  {
   "cell_type": "code",
   "execution_count": null,
   "id": "5fb2ae5f",
   "metadata": {},
   "outputs": [],
   "source": []
  },
  {
   "cell_type": "markdown",
   "id": "13dd817d",
   "metadata": {},
   "source": [
    "## Gathering ROAD data from OSM network"
   ]
  },
  {
   "cell_type": "code",
   "execution_count": 4,
   "id": "44913992",
   "metadata": {},
   "outputs": [
    {
     "name": "stdout",
     "output_type": "stream",
     "text": [
      "Loading merged ROADS file...\n",
      "Loaded.\n"
     ]
    }
   ],
   "source": [
    "# filename_roads = 'cache/' + trailname + '_roads.csv'\n",
    "\n",
    "# if not os.path.isfile(filename_roads): # The merged ROADS file does not exist, construct it\n",
    "    \n",
    "#     print('Merged ROADS file was not found, merging and saving...')\n",
    "#     gr_mapmatch.trail2roads(trailname, trail, points_per_batch, delta) # Main batch processor\n",
    "#     data_roads_raw = gr_utils.merge_roads(trailname, trail, points_per_batch) # Merge the different sections\n",
    "#     data_roads = gr_mapmatch.remove_repeat_segments(data_roads_raw) # Remove backtracked sections\n",
    "#     gr_utils.write_roads(trailname, data_roads) # Write the merged ROADS data\n",
    "# #     print('Saved.')\n",
    "\n",
    "# else: # The merged ROADS file does exist, just load it\n",
    "    \n",
    "#     print('Loading merged ROADS file...')\n",
    "#     data_roads = gr_utils.read_roads(trailname) # Read the merged sections\n",
    "#     print('Loaded.')"
   ]
  },
  {
   "cell_type": "markdown",
   "id": "e289f2ec",
   "metadata": {},
   "source": [
    "## Gathering PLACE data from OSM network"
   ]
  },
  {
   "cell_type": "code",
   "execution_count": 5,
   "id": "6b51ac5a",
   "metadata": {},
   "outputs": [
    {
     "name": "stdout",
     "output_type": "stream",
     "text": [
      "Merged PLACES file was not found, merging and saving...\n",
      "Handling batch 0 of 41 that covers road segments 0 through 99...\n",
      "There are 77 uncorrected landuse places\n",
      "There are 2 corrected landuse places\n",
      "   Writing outputs to file...\n",
      "   Finished this batch.\n",
      "Handling batch 1 of 41 that covers road segments 100 through 199...\n"
     ]
    },
    {
     "name": "stderr",
     "output_type": "stream",
     "text": [
      "/Users/svanwal/Documents/Programming/Projects/gr-analysis/gr_placematch.py:107: ShapelyDeprecationWarning: __len__ for multi-part geometries is deprecated and will be removed in Shapely 2.0. Check the length of the `geoms` property instead to get the  number of parts of a multi-part geometry.\n",
      "  merged_polys = list(shapely.ops.unary_union(polys))\n",
      "/Users/svanwal/Documents/Programming/Projects/gr-analysis/gr_placematch.py:107: ShapelyDeprecationWarning: Iteration over multi-part geometries is deprecated and will be removed in Shapely 2.0. Use the `geoms` property to access the constituent parts of a multi-part geometry.\n",
      "  merged_polys = list(shapely.ops.unary_union(polys))\n"
     ]
    },
    {
     "name": "stdout",
     "output_type": "stream",
     "text": [
      "There are 113 uncorrected landuse places\n",
      "There are 3 corrected landuse places\n",
      "   Writing outputs to file...\n",
      "   Finished this batch.\n",
      "Handling batch 2 of 41 that covers road segments 200 through 299...\n"
     ]
    },
    {
     "name": "stderr",
     "output_type": "stream",
     "text": [
      "/Users/svanwal/Documents/Programming/Projects/gr-analysis/gr_placematch.py:107: ShapelyDeprecationWarning: __len__ for multi-part geometries is deprecated and will be removed in Shapely 2.0. Check the length of the `geoms` property instead to get the  number of parts of a multi-part geometry.\n",
      "  merged_polys = list(shapely.ops.unary_union(polys))\n",
      "/Users/svanwal/Documents/Programming/Projects/gr-analysis/gr_placematch.py:107: ShapelyDeprecationWarning: Iteration over multi-part geometries is deprecated and will be removed in Shapely 2.0. Use the `geoms` property to access the constituent parts of a multi-part geometry.\n",
      "  merged_polys = list(shapely.ops.unary_union(polys))\n"
     ]
    },
    {
     "name": "stdout",
     "output_type": "stream",
     "text": [
      "There are 370 uncorrected landuse places\n"
     ]
    },
    {
     "name": "stderr",
     "output_type": "stream",
     "text": [
      "/Users/svanwal/Documents/Programming/Projects/gr-analysis/gr_placematch.py:107: ShapelyDeprecationWarning: __len__ for multi-part geometries is deprecated and will be removed in Shapely 2.0. Check the length of the `geoms` property instead to get the  number of parts of a multi-part geometry.\n",
      "  merged_polys = list(shapely.ops.unary_union(polys))\n",
      "/Users/svanwal/Documents/Programming/Projects/gr-analysis/gr_placematch.py:107: ShapelyDeprecationWarning: Iteration over multi-part geometries is deprecated and will be removed in Shapely 2.0. Use the `geoms` property to access the constituent parts of a multi-part geometry.\n",
      "  merged_polys = list(shapely.ops.unary_union(polys))\n"
     ]
    },
    {
     "name": "stdout",
     "output_type": "stream",
     "text": [
      "There are 5 corrected landuse places\n",
      "   Writing outputs to file...\n",
      "   Finished this batch.\n",
      "Handling batch 3 of 41 that covers road segments 300 through 399...\n",
      "There are 348 uncorrected landuse places\n",
      "There are 3 corrected landuse places\n"
     ]
    },
    {
     "name": "stderr",
     "output_type": "stream",
     "text": [
      "/Users/svanwal/Documents/Programming/Projects/gr-analysis/gr_placematch.py:107: ShapelyDeprecationWarning: __len__ for multi-part geometries is deprecated and will be removed in Shapely 2.0. Check the length of the `geoms` property instead to get the  number of parts of a multi-part geometry.\n",
      "  merged_polys = list(shapely.ops.unary_union(polys))\n",
      "/Users/svanwal/Documents/Programming/Projects/gr-analysis/gr_placematch.py:107: ShapelyDeprecationWarning: Iteration over multi-part geometries is deprecated and will be removed in Shapely 2.0. Use the `geoms` property to access the constituent parts of a multi-part geometry.\n",
      "  merged_polys = list(shapely.ops.unary_union(polys))\n"
     ]
    },
    {
     "name": "stdout",
     "output_type": "stream",
     "text": [
      "   Writing outputs to file...\n",
      "   Finished this batch.\n",
      "Handling batch 4 of 41 that covers road segments 400 through 499...\n",
      "There are 238 uncorrected landuse places\n",
      "There are 5 corrected landuse places\n"
     ]
    },
    {
     "name": "stderr",
     "output_type": "stream",
     "text": [
      "/Users/svanwal/Documents/Programming/Projects/gr-analysis/gr_placematch.py:107: ShapelyDeprecationWarning: __len__ for multi-part geometries is deprecated and will be removed in Shapely 2.0. Check the length of the `geoms` property instead to get the  number of parts of a multi-part geometry.\n",
      "  merged_polys = list(shapely.ops.unary_union(polys))\n",
      "/Users/svanwal/Documents/Programming/Projects/gr-analysis/gr_placematch.py:107: ShapelyDeprecationWarning: Iteration over multi-part geometries is deprecated and will be removed in Shapely 2.0. Use the `geoms` property to access the constituent parts of a multi-part geometry.\n",
      "  merged_polys = list(shapely.ops.unary_union(polys))\n"
     ]
    },
    {
     "name": "stdout",
     "output_type": "stream",
     "text": [
      "   Writing outputs to file...\n",
      "   Finished this batch.\n",
      "Handling batch 5 of 41 that covers road segments 500 through 599...\n",
      "There are 251 uncorrected landuse places\n",
      "There are 3 corrected landuse places\n"
     ]
    },
    {
     "name": "stderr",
     "output_type": "stream",
     "text": [
      "/Users/svanwal/Documents/Programming/Projects/gr-analysis/gr_placematch.py:107: ShapelyDeprecationWarning: __len__ for multi-part geometries is deprecated and will be removed in Shapely 2.0. Check the length of the `geoms` property instead to get the  number of parts of a multi-part geometry.\n",
      "  merged_polys = list(shapely.ops.unary_union(polys))\n",
      "/Users/svanwal/Documents/Programming/Projects/gr-analysis/gr_placematch.py:107: ShapelyDeprecationWarning: Iteration over multi-part geometries is deprecated and will be removed in Shapely 2.0. Use the `geoms` property to access the constituent parts of a multi-part geometry.\n",
      "  merged_polys = list(shapely.ops.unary_union(polys))\n"
     ]
    },
    {
     "name": "stdout",
     "output_type": "stream",
     "text": [
      "   Writing outputs to file...\n",
      "   Finished this batch.\n",
      "Handling batch 6 of 41 that covers road segments 600 through 699...\n",
      "There are 208 uncorrected landuse places\n",
      "There are 6 corrected landuse places\n"
     ]
    },
    {
     "name": "stderr",
     "output_type": "stream",
     "text": [
      "/Users/svanwal/Documents/Programming/Projects/gr-analysis/gr_placematch.py:107: ShapelyDeprecationWarning: __len__ for multi-part geometries is deprecated and will be removed in Shapely 2.0. Check the length of the `geoms` property instead to get the  number of parts of a multi-part geometry.\n",
      "  merged_polys = list(shapely.ops.unary_union(polys))\n",
      "/Users/svanwal/Documents/Programming/Projects/gr-analysis/gr_placematch.py:107: ShapelyDeprecationWarning: Iteration over multi-part geometries is deprecated and will be removed in Shapely 2.0. Use the `geoms` property to access the constituent parts of a multi-part geometry.\n",
      "  merged_polys = list(shapely.ops.unary_union(polys))\n"
     ]
    },
    {
     "name": "stdout",
     "output_type": "stream",
     "text": [
      "   Writing outputs to file...\n",
      "   Finished this batch.\n",
      "Handling batch 7 of 41 that covers road segments 700 through 799...\n",
      "There are 165 uncorrected landuse places\n",
      "There are 4 corrected landuse places\n"
     ]
    },
    {
     "name": "stderr",
     "output_type": "stream",
     "text": [
      "/Users/svanwal/Documents/Programming/Projects/gr-analysis/gr_placematch.py:107: ShapelyDeprecationWarning: __len__ for multi-part geometries is deprecated and will be removed in Shapely 2.0. Check the length of the `geoms` property instead to get the  number of parts of a multi-part geometry.\n",
      "  merged_polys = list(shapely.ops.unary_union(polys))\n",
      "/Users/svanwal/Documents/Programming/Projects/gr-analysis/gr_placematch.py:107: ShapelyDeprecationWarning: Iteration over multi-part geometries is deprecated and will be removed in Shapely 2.0. Use the `geoms` property to access the constituent parts of a multi-part geometry.\n",
      "  merged_polys = list(shapely.ops.unary_union(polys))\n"
     ]
    },
    {
     "name": "stdout",
     "output_type": "stream",
     "text": [
      "   Writing outputs to file...\n",
      "   Finished this batch.\n",
      "Handling batch 8 of 41 that covers road segments 800 through 899...\n",
      "There are 171 uncorrected landuse places\n",
      "There are 5 corrected landuse places\n"
     ]
    },
    {
     "name": "stderr",
     "output_type": "stream",
     "text": [
      "/Users/svanwal/Documents/Programming/Projects/gr-analysis/gr_placematch.py:107: ShapelyDeprecationWarning: __len__ for multi-part geometries is deprecated and will be removed in Shapely 2.0. Check the length of the `geoms` property instead to get the  number of parts of a multi-part geometry.\n",
      "  merged_polys = list(shapely.ops.unary_union(polys))\n",
      "/Users/svanwal/Documents/Programming/Projects/gr-analysis/gr_placematch.py:107: ShapelyDeprecationWarning: Iteration over multi-part geometries is deprecated and will be removed in Shapely 2.0. Use the `geoms` property to access the constituent parts of a multi-part geometry.\n",
      "  merged_polys = list(shapely.ops.unary_union(polys))\n"
     ]
    },
    {
     "name": "stdout",
     "output_type": "stream",
     "text": [
      "   Writing outputs to file...\n",
      "   Finished this batch.\n",
      "Handling batch 9 of 41 that covers road segments 900 through 999...\n",
      "There are 308 uncorrected landuse places\n",
      "There are 8 corrected landuse places\n"
     ]
    },
    {
     "name": "stderr",
     "output_type": "stream",
     "text": [
      "/Users/svanwal/Documents/Programming/Projects/gr-analysis/gr_placematch.py:107: ShapelyDeprecationWarning: __len__ for multi-part geometries is deprecated and will be removed in Shapely 2.0. Check the length of the `geoms` property instead to get the  number of parts of a multi-part geometry.\n",
      "  merged_polys = list(shapely.ops.unary_union(polys))\n",
      "/Users/svanwal/Documents/Programming/Projects/gr-analysis/gr_placematch.py:107: ShapelyDeprecationWarning: Iteration over multi-part geometries is deprecated and will be removed in Shapely 2.0. Use the `geoms` property to access the constituent parts of a multi-part geometry.\n",
      "  merged_polys = list(shapely.ops.unary_union(polys))\n"
     ]
    },
    {
     "name": "stdout",
     "output_type": "stream",
     "text": [
      "   Writing outputs to file...\n",
      "   Finished this batch.\n",
      "Handling batch 10 of 41 that covers road segments 1000 through 1099...\n",
      "There are 256 uncorrected landuse places\n"
     ]
    },
    {
     "name": "stderr",
     "output_type": "stream",
     "text": [
      "/Users/svanwal/Documents/Programming/Projects/gr-analysis/gr_placematch.py:107: ShapelyDeprecationWarning: __len__ for multi-part geometries is deprecated and will be removed in Shapely 2.0. Check the length of the `geoms` property instead to get the  number of parts of a multi-part geometry.\n",
      "  merged_polys = list(shapely.ops.unary_union(polys))\n",
      "/Users/svanwal/Documents/Programming/Projects/gr-analysis/gr_placematch.py:107: ShapelyDeprecationWarning: Iteration over multi-part geometries is deprecated and will be removed in Shapely 2.0. Use the `geoms` property to access the constituent parts of a multi-part geometry.\n",
      "  merged_polys = list(shapely.ops.unary_union(polys))\n"
     ]
    },
    {
     "name": "stdout",
     "output_type": "stream",
     "text": [
      "There are 3 corrected landuse places\n",
      "   Writing outputs to file...\n",
      "   Finished this batch.\n",
      "Handling batch 11 of 41 that covers road segments 1100 through 1199...\n",
      "There are 318 uncorrected landuse places\n",
      "There are 5 corrected landuse places\n"
     ]
    },
    {
     "name": "stderr",
     "output_type": "stream",
     "text": [
      "/Users/svanwal/Documents/Programming/Projects/gr-analysis/gr_placematch.py:107: ShapelyDeprecationWarning: __len__ for multi-part geometries is deprecated and will be removed in Shapely 2.0. Check the length of the `geoms` property instead to get the  number of parts of a multi-part geometry.\n",
      "  merged_polys = list(shapely.ops.unary_union(polys))\n",
      "/Users/svanwal/Documents/Programming/Projects/gr-analysis/gr_placematch.py:107: ShapelyDeprecationWarning: Iteration over multi-part geometries is deprecated and will be removed in Shapely 2.0. Use the `geoms` property to access the constituent parts of a multi-part geometry.\n",
      "  merged_polys = list(shapely.ops.unary_union(polys))\n"
     ]
    },
    {
     "name": "stdout",
     "output_type": "stream",
     "text": [
      "   Writing outputs to file...\n",
      "   Finished this batch.\n",
      "Handling batch 12 of 41 that covers road segments 1200 through 1299...\n",
      "There are 340 uncorrected landuse places\n",
      "There are 3 corrected landuse places\n"
     ]
    },
    {
     "name": "stderr",
     "output_type": "stream",
     "text": [
      "/Users/svanwal/Documents/Programming/Projects/gr-analysis/gr_placematch.py:107: ShapelyDeprecationWarning: __len__ for multi-part geometries is deprecated and will be removed in Shapely 2.0. Check the length of the `geoms` property instead to get the  number of parts of a multi-part geometry.\n",
      "  merged_polys = list(shapely.ops.unary_union(polys))\n",
      "/Users/svanwal/Documents/Programming/Projects/gr-analysis/gr_placematch.py:107: ShapelyDeprecationWarning: Iteration over multi-part geometries is deprecated and will be removed in Shapely 2.0. Use the `geoms` property to access the constituent parts of a multi-part geometry.\n",
      "  merged_polys = list(shapely.ops.unary_union(polys))\n"
     ]
    },
    {
     "name": "stdout",
     "output_type": "stream",
     "text": [
      "   Writing outputs to file...\n",
      "   Finished this batch.\n",
      "Handling batch 13 of 41 that covers road segments 1300 through 1399...\n",
      "There are 432 uncorrected landuse places\n"
     ]
    },
    {
     "name": "stderr",
     "output_type": "stream",
     "text": [
      "/Users/svanwal/Documents/Programming/Projects/gr-analysis/gr_placematch.py:107: ShapelyDeprecationWarning: __len__ for multi-part geometries is deprecated and will be removed in Shapely 2.0. Check the length of the `geoms` property instead to get the  number of parts of a multi-part geometry.\n",
      "  merged_polys = list(shapely.ops.unary_union(polys))\n",
      "/Users/svanwal/Documents/Programming/Projects/gr-analysis/gr_placematch.py:107: ShapelyDeprecationWarning: Iteration over multi-part geometries is deprecated and will be removed in Shapely 2.0. Use the `geoms` property to access the constituent parts of a multi-part geometry.\n",
      "  merged_polys = list(shapely.ops.unary_union(polys))\n"
     ]
    },
    {
     "name": "stdout",
     "output_type": "stream",
     "text": [
      "There are 6 corrected landuse places\n",
      "   Writing outputs to file...\n",
      "   Finished this batch.\n",
      "Handling batch 14 of 41 that covers road segments 1400 through 1499...\n",
      "There are 474 uncorrected landuse places\n"
     ]
    },
    {
     "name": "stderr",
     "output_type": "stream",
     "text": [
      "/Users/svanwal/Documents/Programming/Projects/gr-analysis/gr_placematch.py:107: ShapelyDeprecationWarning: __len__ for multi-part geometries is deprecated and will be removed in Shapely 2.0. Check the length of the `geoms` property instead to get the  number of parts of a multi-part geometry.\n",
      "  merged_polys = list(shapely.ops.unary_union(polys))\n",
      "/Users/svanwal/Documents/Programming/Projects/gr-analysis/gr_placematch.py:107: ShapelyDeprecationWarning: Iteration over multi-part geometries is deprecated and will be removed in Shapely 2.0. Use the `geoms` property to access the constituent parts of a multi-part geometry.\n",
      "  merged_polys = list(shapely.ops.unary_union(polys))\n"
     ]
    },
    {
     "name": "stdout",
     "output_type": "stream",
     "text": [
      "There are 7 corrected landuse places\n",
      "   Writing outputs to file...\n",
      "   Finished this batch.\n",
      "Handling batch 15 of 41 that covers road segments 1500 through 1599...\n",
      "There are 443 uncorrected landuse places\n"
     ]
    },
    {
     "name": "stderr",
     "output_type": "stream",
     "text": [
      "/Users/svanwal/Documents/Programming/Projects/gr-analysis/gr_placematch.py:107: ShapelyDeprecationWarning: __len__ for multi-part geometries is deprecated and will be removed in Shapely 2.0. Check the length of the `geoms` property instead to get the  number of parts of a multi-part geometry.\n",
      "  merged_polys = list(shapely.ops.unary_union(polys))\n",
      "/Users/svanwal/Documents/Programming/Projects/gr-analysis/gr_placematch.py:107: ShapelyDeprecationWarning: Iteration over multi-part geometries is deprecated and will be removed in Shapely 2.0. Use the `geoms` property to access the constituent parts of a multi-part geometry.\n",
      "  merged_polys = list(shapely.ops.unary_union(polys))\n"
     ]
    },
    {
     "name": "stdout",
     "output_type": "stream",
     "text": [
      "There are 7 corrected landuse places\n",
      "   Writing outputs to file...\n",
      "   Finished this batch.\n",
      "Handling batch 16 of 41 that covers road segments 1600 through 1699...\n",
      "There are 370 uncorrected landuse places\n"
     ]
    },
    {
     "name": "stderr",
     "output_type": "stream",
     "text": [
      "/Users/svanwal/Documents/Programming/Projects/gr-analysis/gr_placematch.py:107: ShapelyDeprecationWarning: __len__ for multi-part geometries is deprecated and will be removed in Shapely 2.0. Check the length of the `geoms` property instead to get the  number of parts of a multi-part geometry.\n",
      "  merged_polys = list(shapely.ops.unary_union(polys))\n",
      "/Users/svanwal/Documents/Programming/Projects/gr-analysis/gr_placematch.py:107: ShapelyDeprecationWarning: Iteration over multi-part geometries is deprecated and will be removed in Shapely 2.0. Use the `geoms` property to access the constituent parts of a multi-part geometry.\n",
      "  merged_polys = list(shapely.ops.unary_union(polys))\n"
     ]
    },
    {
     "name": "stdout",
     "output_type": "stream",
     "text": [
      "There are 8 corrected landuse places\n",
      "   Writing outputs to file...\n",
      "   Finished this batch.\n",
      "Handling batch 17 of 41 that covers road segments 1700 through 1799...\n",
      "There are 390 uncorrected landuse places\n",
      "There are 4 corrected landuse places\n"
     ]
    },
    {
     "name": "stderr",
     "output_type": "stream",
     "text": [
      "/Users/svanwal/Documents/Programming/Projects/gr-analysis/gr_placematch.py:107: ShapelyDeprecationWarning: __len__ for multi-part geometries is deprecated and will be removed in Shapely 2.0. Check the length of the `geoms` property instead to get the  number of parts of a multi-part geometry.\n",
      "  merged_polys = list(shapely.ops.unary_union(polys))\n",
      "/Users/svanwal/Documents/Programming/Projects/gr-analysis/gr_placematch.py:107: ShapelyDeprecationWarning: Iteration over multi-part geometries is deprecated and will be removed in Shapely 2.0. Use the `geoms` property to access the constituent parts of a multi-part geometry.\n",
      "  merged_polys = list(shapely.ops.unary_union(polys))\n"
     ]
    },
    {
     "name": "stdout",
     "output_type": "stream",
     "text": [
      "   Writing outputs to file...\n",
      "   Finished this batch.\n",
      "Handling batch 18 of 41 that covers road segments 1800 through 1899...\n",
      "There are 569 uncorrected landuse places\n"
     ]
    },
    {
     "name": "stderr",
     "output_type": "stream",
     "text": [
      "/Users/svanwal/Documents/Programming/Projects/gr-analysis/gr_placematch.py:107: ShapelyDeprecationWarning: __len__ for multi-part geometries is deprecated and will be removed in Shapely 2.0. Check the length of the `geoms` property instead to get the  number of parts of a multi-part geometry.\n",
      "  merged_polys = list(shapely.ops.unary_union(polys))\n",
      "/Users/svanwal/Documents/Programming/Projects/gr-analysis/gr_placematch.py:107: ShapelyDeprecationWarning: Iteration over multi-part geometries is deprecated and will be removed in Shapely 2.0. Use the `geoms` property to access the constituent parts of a multi-part geometry.\n",
      "  merged_polys = list(shapely.ops.unary_union(polys))\n"
     ]
    },
    {
     "name": "stdout",
     "output_type": "stream",
     "text": [
      "There are 6 corrected landuse places\n",
      "   Writing outputs to file...\n",
      "   Finished this batch.\n",
      "Handling batch 19 of 41 that covers road segments 1900 through 1999...\n",
      "There are 386 uncorrected landuse places\n",
      "There are 5 corrected landuse places\n"
     ]
    },
    {
     "name": "stderr",
     "output_type": "stream",
     "text": [
      "/Users/svanwal/Documents/Programming/Projects/gr-analysis/gr_placematch.py:107: ShapelyDeprecationWarning: __len__ for multi-part geometries is deprecated and will be removed in Shapely 2.0. Check the length of the `geoms` property instead to get the  number of parts of a multi-part geometry.\n",
      "  merged_polys = list(shapely.ops.unary_union(polys))\n",
      "/Users/svanwal/Documents/Programming/Projects/gr-analysis/gr_placematch.py:107: ShapelyDeprecationWarning: Iteration over multi-part geometries is deprecated and will be removed in Shapely 2.0. Use the `geoms` property to access the constituent parts of a multi-part geometry.\n",
      "  merged_polys = list(shapely.ops.unary_union(polys))\n"
     ]
    },
    {
     "name": "stdout",
     "output_type": "stream",
     "text": [
      "   Writing outputs to file...\n",
      "   Finished this batch.\n",
      "Handling batch 20 of 41 that covers road segments 2000 through 2099...\n",
      "There are 391 uncorrected landuse places\n"
     ]
    },
    {
     "name": "stderr",
     "output_type": "stream",
     "text": [
      "/Users/svanwal/Documents/Programming/Projects/gr-analysis/gr_placematch.py:107: ShapelyDeprecationWarning: __len__ for multi-part geometries is deprecated and will be removed in Shapely 2.0. Check the length of the `geoms` property instead to get the  number of parts of a multi-part geometry.\n",
      "  merged_polys = list(shapely.ops.unary_union(polys))\n",
      "/Users/svanwal/Documents/Programming/Projects/gr-analysis/gr_placematch.py:107: ShapelyDeprecationWarning: Iteration over multi-part geometries is deprecated and will be removed in Shapely 2.0. Use the `geoms` property to access the constituent parts of a multi-part geometry.\n",
      "  merged_polys = list(shapely.ops.unary_union(polys))\n"
     ]
    },
    {
     "name": "stdout",
     "output_type": "stream",
     "text": [
      "There are 5 corrected landuse places\n",
      "   Writing outputs to file...\n",
      "   Finished this batch.\n",
      "Handling batch 21 of 41 that covers road segments 2100 through 2199...\n",
      "There are 294 uncorrected landuse places\n",
      "There are 3 corrected landuse places\n"
     ]
    },
    {
     "name": "stderr",
     "output_type": "stream",
     "text": [
      "/Users/svanwal/Documents/Programming/Projects/gr-analysis/gr_placematch.py:107: ShapelyDeprecationWarning: __len__ for multi-part geometries is deprecated and will be removed in Shapely 2.0. Check the length of the `geoms` property instead to get the  number of parts of a multi-part geometry.\n",
      "  merged_polys = list(shapely.ops.unary_union(polys))\n",
      "/Users/svanwal/Documents/Programming/Projects/gr-analysis/gr_placematch.py:107: ShapelyDeprecationWarning: Iteration over multi-part geometries is deprecated and will be removed in Shapely 2.0. Use the `geoms` property to access the constituent parts of a multi-part geometry.\n",
      "  merged_polys = list(shapely.ops.unary_union(polys))\n"
     ]
    },
    {
     "name": "stdout",
     "output_type": "stream",
     "text": [
      "   Writing outputs to file...\n",
      "   Finished this batch.\n",
      "Handling batch 22 of 41 that covers road segments 2200 through 2299...\n",
      "There are 228 uncorrected landuse places\n"
     ]
    },
    {
     "name": "stderr",
     "output_type": "stream",
     "text": [
      "/Users/svanwal/Documents/Programming/Projects/gr-analysis/gr_placematch.py:107: ShapelyDeprecationWarning: __len__ for multi-part geometries is deprecated and will be removed in Shapely 2.0. Check the length of the `geoms` property instead to get the  number of parts of a multi-part geometry.\n",
      "  merged_polys = list(shapely.ops.unary_union(polys))\n",
      "/Users/svanwal/Documents/Programming/Projects/gr-analysis/gr_placematch.py:107: ShapelyDeprecationWarning: Iteration over multi-part geometries is deprecated and will be removed in Shapely 2.0. Use the `geoms` property to access the constituent parts of a multi-part geometry.\n",
      "  merged_polys = list(shapely.ops.unary_union(polys))\n"
     ]
    },
    {
     "name": "stdout",
     "output_type": "stream",
     "text": [
      "There are 1 corrected landuse places\n",
      "   Writing outputs to file...\n",
      "   Finished this batch.\n",
      "Handling batch 23 of 41 that covers road segments 2300 through 2399...\n",
      "There are 201 uncorrected landuse places\n",
      "There are 2 corrected landuse places\n"
     ]
    },
    {
     "name": "stderr",
     "output_type": "stream",
     "text": [
      "/Users/svanwal/Documents/Programming/Projects/gr-analysis/gr_placematch.py:107: ShapelyDeprecationWarning: __len__ for multi-part geometries is deprecated and will be removed in Shapely 2.0. Check the length of the `geoms` property instead to get the  number of parts of a multi-part geometry.\n",
      "  merged_polys = list(shapely.ops.unary_union(polys))\n",
      "/Users/svanwal/Documents/Programming/Projects/gr-analysis/gr_placematch.py:107: ShapelyDeprecationWarning: Iteration over multi-part geometries is deprecated and will be removed in Shapely 2.0. Use the `geoms` property to access the constituent parts of a multi-part geometry.\n",
      "  merged_polys = list(shapely.ops.unary_union(polys))\n"
     ]
    },
    {
     "name": "stdout",
     "output_type": "stream",
     "text": [
      "   Writing outputs to file...\n",
      "   Finished this batch.\n",
      "Handling batch 24 of 41 that covers road segments 2400 through 2499...\n",
      "There are 364 uncorrected landuse places\n"
     ]
    },
    {
     "name": "stderr",
     "output_type": "stream",
     "text": [
      "/Users/svanwal/Documents/Programming/Projects/gr-analysis/gr_placematch.py:107: ShapelyDeprecationWarning: __len__ for multi-part geometries is deprecated and will be removed in Shapely 2.0. Check the length of the `geoms` property instead to get the  number of parts of a multi-part geometry.\n",
      "  merged_polys = list(shapely.ops.unary_union(polys))\n",
      "/Users/svanwal/Documents/Programming/Projects/gr-analysis/gr_placematch.py:107: ShapelyDeprecationWarning: Iteration over multi-part geometries is deprecated and will be removed in Shapely 2.0. Use the `geoms` property to access the constituent parts of a multi-part geometry.\n",
      "  merged_polys = list(shapely.ops.unary_union(polys))\n"
     ]
    },
    {
     "name": "stdout",
     "output_type": "stream",
     "text": [
      "There are 4 corrected landuse places\n",
      "   Writing outputs to file...\n",
      "   Finished this batch.\n",
      "Handling batch 25 of 41 that covers road segments 2500 through 2599...\n",
      "There are 173 uncorrected landuse places\n"
     ]
    },
    {
     "name": "stderr",
     "output_type": "stream",
     "text": [
      "/Users/svanwal/Documents/Programming/Projects/gr-analysis/gr_placematch.py:107: ShapelyDeprecationWarning: __len__ for multi-part geometries is deprecated and will be removed in Shapely 2.0. Check the length of the `geoms` property instead to get the  number of parts of a multi-part geometry.\n",
      "  merged_polys = list(shapely.ops.unary_union(polys))\n",
      "/Users/svanwal/Documents/Programming/Projects/gr-analysis/gr_placematch.py:107: ShapelyDeprecationWarning: Iteration over multi-part geometries is deprecated and will be removed in Shapely 2.0. Use the `geoms` property to access the constituent parts of a multi-part geometry.\n",
      "  merged_polys = list(shapely.ops.unary_union(polys))\n"
     ]
    },
    {
     "name": "stdout",
     "output_type": "stream",
     "text": [
      "There are 2 corrected landuse places\n",
      "   Writing outputs to file...\n",
      "   Finished this batch.\n",
      "Handling batch 26 of 41 that covers road segments 2600 through 2699...\n",
      "There are 166 uncorrected landuse places\n",
      "There are 2 corrected landuse places\n"
     ]
    },
    {
     "name": "stderr",
     "output_type": "stream",
     "text": [
      "/Users/svanwal/Documents/Programming/Projects/gr-analysis/gr_placematch.py:107: ShapelyDeprecationWarning: __len__ for multi-part geometries is deprecated and will be removed in Shapely 2.0. Check the length of the `geoms` property instead to get the  number of parts of a multi-part geometry.\n",
      "  merged_polys = list(shapely.ops.unary_union(polys))\n",
      "/Users/svanwal/Documents/Programming/Projects/gr-analysis/gr_placematch.py:107: ShapelyDeprecationWarning: Iteration over multi-part geometries is deprecated and will be removed in Shapely 2.0. Use the `geoms` property to access the constituent parts of a multi-part geometry.\n",
      "  merged_polys = list(shapely.ops.unary_union(polys))\n"
     ]
    },
    {
     "name": "stdout",
     "output_type": "stream",
     "text": [
      "   Writing outputs to file...\n",
      "   Finished this batch.\n",
      "Handling batch 27 of 41 that covers road segments 2700 through 2799...\n",
      "There are 180 uncorrected landuse places\n",
      "There are 3 corrected landuse places\n"
     ]
    },
    {
     "name": "stderr",
     "output_type": "stream",
     "text": [
      "/Users/svanwal/Documents/Programming/Projects/gr-analysis/gr_placematch.py:107: ShapelyDeprecationWarning: __len__ for multi-part geometries is deprecated and will be removed in Shapely 2.0. Check the length of the `geoms` property instead to get the  number of parts of a multi-part geometry.\n",
      "  merged_polys = list(shapely.ops.unary_union(polys))\n",
      "/Users/svanwal/Documents/Programming/Projects/gr-analysis/gr_placematch.py:107: ShapelyDeprecationWarning: Iteration over multi-part geometries is deprecated and will be removed in Shapely 2.0. Use the `geoms` property to access the constituent parts of a multi-part geometry.\n",
      "  merged_polys = list(shapely.ops.unary_union(polys))\n"
     ]
    },
    {
     "name": "stdout",
     "output_type": "stream",
     "text": [
      "   Writing outputs to file...\n",
      "   Finished this batch.\n",
      "Handling batch 28 of 41 that covers road segments 2800 through 2899...\n",
      "There are 136 uncorrected landuse places\n"
     ]
    },
    {
     "name": "stderr",
     "output_type": "stream",
     "text": [
      "/Users/svanwal/Documents/Programming/Projects/gr-analysis/gr_placematch.py:107: ShapelyDeprecationWarning: __len__ for multi-part geometries is deprecated and will be removed in Shapely 2.0. Check the length of the `geoms` property instead to get the  number of parts of a multi-part geometry.\n",
      "  merged_polys = list(shapely.ops.unary_union(polys))\n",
      "/Users/svanwal/Documents/Programming/Projects/gr-analysis/gr_placematch.py:107: ShapelyDeprecationWarning: Iteration over multi-part geometries is deprecated and will be removed in Shapely 2.0. Use the `geoms` property to access the constituent parts of a multi-part geometry.\n",
      "  merged_polys = list(shapely.ops.unary_union(polys))\n"
     ]
    },
    {
     "name": "stdout",
     "output_type": "stream",
     "text": [
      "There are 3 corrected landuse places\n",
      "   Writing outputs to file...\n",
      "   Finished this batch.\n",
      "Handling batch 29 of 41 that covers road segments 2900 through 2999...\n",
      "There are 123 uncorrected landuse places\n"
     ]
    },
    {
     "name": "stderr",
     "output_type": "stream",
     "text": [
      "/Users/svanwal/Documents/Programming/Projects/gr-analysis/gr_placematch.py:107: ShapelyDeprecationWarning: __len__ for multi-part geometries is deprecated and will be removed in Shapely 2.0. Check the length of the `geoms` property instead to get the  number of parts of a multi-part geometry.\n",
      "  merged_polys = list(shapely.ops.unary_union(polys))\n",
      "/Users/svanwal/Documents/Programming/Projects/gr-analysis/gr_placematch.py:107: ShapelyDeprecationWarning: Iteration over multi-part geometries is deprecated and will be removed in Shapely 2.0. Use the `geoms` property to access the constituent parts of a multi-part geometry.\n",
      "  merged_polys = list(shapely.ops.unary_union(polys))\n"
     ]
    },
    {
     "name": "stdout",
     "output_type": "stream",
     "text": [
      "There are 1 corrected landuse places\n",
      "   Writing outputs to file...\n",
      "   Finished this batch.\n",
      "Handling batch 30 of 41 that covers road segments 3000 through 3099...\n",
      "There are 90 uncorrected landuse places\n",
      "There are 1 corrected landuse places\n"
     ]
    },
    {
     "name": "stderr",
     "output_type": "stream",
     "text": [
      "/Users/svanwal/Documents/Programming/Projects/gr-analysis/gr_placematch.py:107: ShapelyDeprecationWarning: __len__ for multi-part geometries is deprecated and will be removed in Shapely 2.0. Check the length of the `geoms` property instead to get the  number of parts of a multi-part geometry.\n",
      "  merged_polys = list(shapely.ops.unary_union(polys))\n",
      "/Users/svanwal/Documents/Programming/Projects/gr-analysis/gr_placematch.py:107: ShapelyDeprecationWarning: Iteration over multi-part geometries is deprecated and will be removed in Shapely 2.0. Use the `geoms` property to access the constituent parts of a multi-part geometry.\n",
      "  merged_polys = list(shapely.ops.unary_union(polys))\n"
     ]
    },
    {
     "name": "stdout",
     "output_type": "stream",
     "text": [
      "   Writing outputs to file...\n",
      "   Finished this batch.\n",
      "Handling batch 31 of 41 that covers road segments 3100 through 3199...\n",
      "There are 142 uncorrected landuse places\n"
     ]
    },
    {
     "name": "stderr",
     "output_type": "stream",
     "text": [
      "/Users/svanwal/Documents/Programming/Projects/gr-analysis/gr_placematch.py:107: ShapelyDeprecationWarning: __len__ for multi-part geometries is deprecated and will be removed in Shapely 2.0. Check the length of the `geoms` property instead to get the  number of parts of a multi-part geometry.\n",
      "  merged_polys = list(shapely.ops.unary_union(polys))\n",
      "/Users/svanwal/Documents/Programming/Projects/gr-analysis/gr_placematch.py:107: ShapelyDeprecationWarning: Iteration over multi-part geometries is deprecated and will be removed in Shapely 2.0. Use the `geoms` property to access the constituent parts of a multi-part geometry.\n",
      "  merged_polys = list(shapely.ops.unary_union(polys))\n"
     ]
    },
    {
     "name": "stdout",
     "output_type": "stream",
     "text": [
      "There are 1 corrected landuse places\n",
      "   Writing outputs to file...\n",
      "   Finished this batch.\n",
      "Handling batch 32 of 41 that covers road segments 3200 through 3299...\n",
      "There are 153 uncorrected landuse places\n"
     ]
    },
    {
     "name": "stderr",
     "output_type": "stream",
     "text": [
      "/Users/svanwal/Documents/Programming/Projects/gr-analysis/gr_placematch.py:107: ShapelyDeprecationWarning: __len__ for multi-part geometries is deprecated and will be removed in Shapely 2.0. Check the length of the `geoms` property instead to get the  number of parts of a multi-part geometry.\n",
      "  merged_polys = list(shapely.ops.unary_union(polys))\n",
      "/Users/svanwal/Documents/Programming/Projects/gr-analysis/gr_placematch.py:107: ShapelyDeprecationWarning: Iteration over multi-part geometries is deprecated and will be removed in Shapely 2.0. Use the `geoms` property to access the constituent parts of a multi-part geometry.\n",
      "  merged_polys = list(shapely.ops.unary_union(polys))\n"
     ]
    },
    {
     "name": "stdout",
     "output_type": "stream",
     "text": [
      "There are 1 corrected landuse places\n",
      "   Writing outputs to file...\n",
      "   Finished this batch.\n",
      "Handling batch 33 of 41 that covers road segments 3300 through 3399...\n",
      "There are 215 uncorrected landuse places\n",
      "There are 2 corrected landuse places\n"
     ]
    },
    {
     "name": "stderr",
     "output_type": "stream",
     "text": [
      "/Users/svanwal/Documents/Programming/Projects/gr-analysis/gr_placematch.py:107: ShapelyDeprecationWarning: __len__ for multi-part geometries is deprecated and will be removed in Shapely 2.0. Check the length of the `geoms` property instead to get the  number of parts of a multi-part geometry.\n",
      "  merged_polys = list(shapely.ops.unary_union(polys))\n",
      "/Users/svanwal/Documents/Programming/Projects/gr-analysis/gr_placematch.py:107: ShapelyDeprecationWarning: Iteration over multi-part geometries is deprecated and will be removed in Shapely 2.0. Use the `geoms` property to access the constituent parts of a multi-part geometry.\n",
      "  merged_polys = list(shapely.ops.unary_union(polys))\n"
     ]
    },
    {
     "name": "stdout",
     "output_type": "stream",
     "text": [
      "   Writing outputs to file...\n",
      "   Finished this batch.\n",
      "Handling batch 34 of 41 that covers road segments 3400 through 3499...\n",
      "There are 354 uncorrected landuse places\n"
     ]
    },
    {
     "name": "stderr",
     "output_type": "stream",
     "text": [
      "/Users/svanwal/Documents/Programming/Projects/gr-analysis/gr_placematch.py:107: ShapelyDeprecationWarning: __len__ for multi-part geometries is deprecated and will be removed in Shapely 2.0. Check the length of the `geoms` property instead to get the  number of parts of a multi-part geometry.\n",
      "  merged_polys = list(shapely.ops.unary_union(polys))\n",
      "/Users/svanwal/Documents/Programming/Projects/gr-analysis/gr_placematch.py:107: ShapelyDeprecationWarning: Iteration over multi-part geometries is deprecated and will be removed in Shapely 2.0. Use the `geoms` property to access the constituent parts of a multi-part geometry.\n",
      "  merged_polys = list(shapely.ops.unary_union(polys))\n"
     ]
    },
    {
     "name": "stdout",
     "output_type": "stream",
     "text": [
      "There are 3 corrected landuse places\n",
      "   Writing outputs to file...\n",
      "   Finished this batch.\n",
      "Handling batch 35 of 41 that covers road segments 3500 through 3599...\n",
      "There are 160 uncorrected landuse places\n",
      "There are 3 corrected landuse places\n"
     ]
    },
    {
     "name": "stderr",
     "output_type": "stream",
     "text": [
      "/Users/svanwal/Documents/Programming/Projects/gr-analysis/gr_placematch.py:107: ShapelyDeprecationWarning: __len__ for multi-part geometries is deprecated and will be removed in Shapely 2.0. Check the length of the `geoms` property instead to get the  number of parts of a multi-part geometry.\n",
      "  merged_polys = list(shapely.ops.unary_union(polys))\n",
      "/Users/svanwal/Documents/Programming/Projects/gr-analysis/gr_placematch.py:107: ShapelyDeprecationWarning: Iteration over multi-part geometries is deprecated and will be removed in Shapely 2.0. Use the `geoms` property to access the constituent parts of a multi-part geometry.\n",
      "  merged_polys = list(shapely.ops.unary_union(polys))\n"
     ]
    },
    {
     "name": "stdout",
     "output_type": "stream",
     "text": [
      "   Writing outputs to file...\n",
      "   Finished this batch.\n",
      "Handling batch 36 of 41 that covers road segments 3600 through 3699...\n",
      "There are 188 uncorrected landuse places\n",
      "There are 3 corrected landuse places\n"
     ]
    },
    {
     "name": "stderr",
     "output_type": "stream",
     "text": [
      "/Users/svanwal/Documents/Programming/Projects/gr-analysis/gr_placematch.py:107: ShapelyDeprecationWarning: __len__ for multi-part geometries is deprecated and will be removed in Shapely 2.0. Check the length of the `geoms` property instead to get the  number of parts of a multi-part geometry.\n",
      "  merged_polys = list(shapely.ops.unary_union(polys))\n",
      "/Users/svanwal/Documents/Programming/Projects/gr-analysis/gr_placematch.py:107: ShapelyDeprecationWarning: Iteration over multi-part geometries is deprecated and will be removed in Shapely 2.0. Use the `geoms` property to access the constituent parts of a multi-part geometry.\n",
      "  merged_polys = list(shapely.ops.unary_union(polys))\n"
     ]
    },
    {
     "name": "stdout",
     "output_type": "stream",
     "text": [
      "   Writing outputs to file...\n",
      "   Finished this batch.\n",
      "Handling batch 37 of 41 that covers road segments 3700 through 3799...\n",
      "There are 580 uncorrected landuse places\n"
     ]
    },
    {
     "name": "stderr",
     "output_type": "stream",
     "text": [
      "/Users/svanwal/Documents/Programming/Projects/gr-analysis/gr_placematch.py:107: ShapelyDeprecationWarning: __len__ for multi-part geometries is deprecated and will be removed in Shapely 2.0. Check the length of the `geoms` property instead to get the  number of parts of a multi-part geometry.\n",
      "  merged_polys = list(shapely.ops.unary_union(polys))\n",
      "/Users/svanwal/Documents/Programming/Projects/gr-analysis/gr_placematch.py:107: ShapelyDeprecationWarning: Iteration over multi-part geometries is deprecated and will be removed in Shapely 2.0. Use the `geoms` property to access the constituent parts of a multi-part geometry.\n",
      "  merged_polys = list(shapely.ops.unary_union(polys))\n"
     ]
    },
    {
     "name": "stdout",
     "output_type": "stream",
     "text": [
      "There are 4 corrected landuse places\n",
      "   Writing outputs to file...\n",
      "   Finished this batch.\n",
      "Handling batch 38 of 41 that covers road segments 3800 through 3899...\n",
      "There are 439 uncorrected landuse places\n"
     ]
    },
    {
     "name": "stderr",
     "output_type": "stream",
     "text": [
      "/Users/svanwal/Documents/Programming/Projects/gr-analysis/gr_placematch.py:107: ShapelyDeprecationWarning: __len__ for multi-part geometries is deprecated and will be removed in Shapely 2.0. Check the length of the `geoms` property instead to get the  number of parts of a multi-part geometry.\n",
      "  merged_polys = list(shapely.ops.unary_union(polys))\n",
      "/Users/svanwal/Documents/Programming/Projects/gr-analysis/gr_placematch.py:107: ShapelyDeprecationWarning: Iteration over multi-part geometries is deprecated and will be removed in Shapely 2.0. Use the `geoms` property to access the constituent parts of a multi-part geometry.\n",
      "  merged_polys = list(shapely.ops.unary_union(polys))\n"
     ]
    },
    {
     "name": "stdout",
     "output_type": "stream",
     "text": [
      "There are 2 corrected landuse places\n",
      "   Writing outputs to file...\n",
      "   Finished this batch.\n",
      "Handling batch 39 of 41 that covers road segments 3900 through 3999...\n",
      "There are 372 uncorrected landuse places\n",
      "There are 3 corrected landuse places\n"
     ]
    },
    {
     "name": "stderr",
     "output_type": "stream",
     "text": [
      "/Users/svanwal/Documents/Programming/Projects/gr-analysis/gr_placematch.py:107: ShapelyDeprecationWarning: __len__ for multi-part geometries is deprecated and will be removed in Shapely 2.0. Check the length of the `geoms` property instead to get the  number of parts of a multi-part geometry.\n",
      "  merged_polys = list(shapely.ops.unary_union(polys))\n",
      "/Users/svanwal/Documents/Programming/Projects/gr-analysis/gr_placematch.py:107: ShapelyDeprecationWarning: Iteration over multi-part geometries is deprecated and will be removed in Shapely 2.0. Use the `geoms` property to access the constituent parts of a multi-part geometry.\n",
      "  merged_polys = list(shapely.ops.unary_union(polys))\n"
     ]
    },
    {
     "name": "stdout",
     "output_type": "stream",
     "text": [
      "   Writing outputs to file...\n",
      "   Finished this batch.\n",
      "Handling batch 40 of 41 that covers road segments 4000 through 4099...\n",
      "There are 473 uncorrected landuse places\n"
     ]
    },
    {
     "name": "stderr",
     "output_type": "stream",
     "text": [
      "/Users/svanwal/Documents/Programming/Projects/gr-analysis/gr_placematch.py:107: ShapelyDeprecationWarning: __len__ for multi-part geometries is deprecated and will be removed in Shapely 2.0. Check the length of the `geoms` property instead to get the  number of parts of a multi-part geometry.\n",
      "  merged_polys = list(shapely.ops.unary_union(polys))\n",
      "/Users/svanwal/Documents/Programming/Projects/gr-analysis/gr_placematch.py:107: ShapelyDeprecationWarning: Iteration over multi-part geometries is deprecated and will be removed in Shapely 2.0. Use the `geoms` property to access the constituent parts of a multi-part geometry.\n",
      "  merged_polys = list(shapely.ops.unary_union(polys))\n"
     ]
    },
    {
     "name": "stdout",
     "output_type": "stream",
     "text": [
      "There are 3 corrected landuse places\n",
      "   Writing outputs to file...\n",
      "   Finished this batch.\n",
      "Handling batch 41 of 41 that covers road segments 4100 through 4168...\n",
      "There are 173 uncorrected landuse places\n",
      "There are 2 corrected landuse places\n",
      "   Writing outputs to file...\n",
      "   Finished this batch.\n"
     ]
    },
    {
     "name": "stderr",
     "output_type": "stream",
     "text": [
      "/Users/svanwal/Documents/Programming/Projects/gr-analysis/gr_placematch.py:107: ShapelyDeprecationWarning: __len__ for multi-part geometries is deprecated and will be removed in Shapely 2.0. Check the length of the `geoms` property instead to get the  number of parts of a multi-part geometry.\n",
      "  merged_polys = list(shapely.ops.unary_union(polys))\n",
      "/Users/svanwal/Documents/Programming/Projects/gr-analysis/gr_placematch.py:107: ShapelyDeprecationWarning: Iteration over multi-part geometries is deprecated and will be removed in Shapely 2.0. Use the `geoms` property to access the constituent parts of a multi-part geometry.\n",
      "  merged_polys = list(shapely.ops.unary_union(polys))\n"
     ]
    },
    {
     "name": "stdout",
     "output_type": "stream",
     "text": [
      "Saved.\n"
     ]
    }
   ],
   "source": [
    "# filename_places = 'cache/' + trailname + '_places.csv'\n",
    "\n",
    "# if not os.path.isfile(filename_places): # The merged PLACES file does not exist\n",
    "    \n",
    "#     print('Merged PLACES file was not found, merging and saving...')\n",
    "#     gr_placematch.roads2places(trailname,data_roads,points_per_batch_places, delta_places, buffersize, tol_area)\n",
    "#     data_places = gr_utils.merge_places(trailname, data_roads, points_per_batch_places) # Merge the different sections\n",
    "#     gr_utils.write_places(trailname, data_places) # Write the merged PLACES data\n",
    "#     print('Saved.')\n",
    "    \n",
    "# else: # The merged PLACES file does exist\n",
    "    \n",
    "#     print('Loading merged PLACES file...')\n",
    "#     data_places = gr_utils.read_places(trailname) # Read the merged PLACES file\n",
    "#     print('Loaded.')"
   ]
  },
  {
   "cell_type": "markdown",
   "id": "f6eb2b8c",
   "metadata": {},
   "source": [
    "## Evaluating PROCESSED properties"
   ]
  },
  {
   "cell_type": "code",
   "execution_count": 18,
   "id": "7f33ced7",
   "metadata": {
    "scrolled": true
   },
   "outputs": [
    {
     "name": "stdout",
     "output_type": "stream",
     "text": [
      "The PROCESSED file was not found, processing and saving...\n",
      "Saved.\n"
     ]
    }
   ],
   "source": [
    "# filename_processed = 'data_output/' + trailname + '_processed.csv'\n",
    "\n",
    "# if not os.path.isfile(filename_processed): # The PROCESSED file does not exist\n",
    "    \n",
    "#     print('The PROCESSED file was not found, processing and saving...')\n",
    "#     data = gr_process.places2processed(data_places,tol_d,types_slow,types_heavy,tracktype_p0,tracktype_p1,tracktype_p2,surface_p0,surface_p1,highway_p1) # Determine traffic/development/paved status & GR types\n",
    "#     gr_utils.write_processed(trailname, data) # Write the processed data\n",
    "#     print('Saved.')\n",
    "    \n",
    "# else: # The PROCESSED file does exist\n",
    "    \n",
    "#     print('The PROCESSED file already exists, so nothing needs to be done.')"
   ]
  },
  {
   "cell_type": "code",
   "execution_count": null,
   "id": "35ea2648",
   "metadata": {},
   "outputs": [],
   "source": []
  }
 ],
 "metadata": {
  "kernelspec": {
   "display_name": "Python 3 (ipykernel)",
   "language": "python",
   "name": "python3"
  },
  "language_info": {
   "codemirror_mode": {
    "name": "ipython",
    "version": 3
   },
   "file_extension": ".py",
   "mimetype": "text/x-python",
   "name": "python",
   "nbconvert_exporter": "python",
   "pygments_lexer": "ipython3",
   "version": "3.9.13"
  }
 },
 "nbformat": 4,
 "nbformat_minor": 5
}
