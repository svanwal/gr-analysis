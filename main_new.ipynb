{
 "cells": [
  {
   "cell_type": "markdown",
   "id": "82204626",
   "metadata": {},
   "source": [
    "## Importing modules and packages"
   ]
  },
  {
   "cell_type": "code",
   "execution_count": 11,
   "id": "f4a32d3e",
   "metadata": {},
   "outputs": [],
   "source": [
    "# Importing packages\n",
    "import osmnx  as ox\n",
    "import pandas as pd\n",
    "import numpy  as np\n",
    "import folium\n",
    "import os.path\n",
    "import shapely\n",
    "import geopandas as gpd\n",
    "from IPython.display import IFrame\n",
    "\n",
    "# Importing modules\n",
    "import gr_mapmatch # Contains functions that perform the map matching of roads\n",
    "# import gr_placematch # Contains functions that perform the map matching of places\n",
    "import gr_utils # Contains useful geometry functions\n",
    "import gr_plot # Contains plotting routines\n",
    "# import gr_process\n",
    "import roadmatch\n",
    "\n",
    "# Configuring modules & packages\n",
    "ox.settings.useful_tags_way = [\n",
    "    \"bridge\",\"tunnel\",\"name\",\"highway\",\"area\",\"landuse\",\"surface\",\"tracktype\"\n",
    "] # Configuring which parameters we want to obtain from OSM"
   ]
  },
  {
   "cell_type": "markdown",
   "id": "27b93e47",
   "metadata": {},
   "source": [
    "## Input parameters"
   ]
  },
  {
   "cell_type": "code",
   "execution_count": 2,
   "id": "015a24ff",
   "metadata": {},
   "outputs": [],
   "source": [
    "trailname = 'gr122' # Name of the hiking trail to be considered (will search for trail.csv or trail.gpx as sources)\n",
    "\n",
    "# Settings for trail2roads\n",
    "points_per_batch = 100 # Subdivide the trail into batches of this many points\n",
    "delta_roads = 0.010 # Tolerance around bounding box per trail section [deg]\n",
    "\n",
    "# Settings for roads2places\n",
    "points_per_batch_places = 100 # Subdivide the trail into batches of this many segments\n",
    "delta_places = 0.015 # bbox delta in deg\n",
    "buffersize = 0.00015 # buffer used when merging landuse places\n",
    "tol_area = 15.0e-6 # buffer used to define which merged landuse places we consider\n",
    "\n",
    "# Settings for places2processed\n",
    "tol_d        = 0.75 # Consider a segment developed if it lies closer than tol_d to a developed area\n",
    "tracktype_p0 = ['grade4','grade5']\n",
    "tracktype_p1 = ['grade2','grade3']\n",
    "tracktype_p2 = ['grade1']\n",
    "surface_p0   = ['ground','grass','dirt','sand','earth','mud']\n",
    "surface_p1   = ['unpaved','gravel','fine_gravel','wood','compacted','rocks','pebblestone','woodchips','snow','ice','salt']\n",
    "highway_p1   = ['track','path','footway','bridleway']\n",
    "types_slow   = ['pedestrian','track','footway','bridleway','steps','corridor','path']\n",
    "types_heavy  = ['motorway','trunk','primary','secondary','tertiary']"
   ]
  },
  {
   "cell_type": "markdown",
   "id": "aa7e8e6f",
   "metadata": {},
   "source": [
    "## Loading GPX file"
   ]
  },
  {
   "cell_type": "code",
   "execution_count": 3,
   "id": "667a640b",
   "metadata": {},
   "outputs": [
    {
     "name": "stdout",
     "output_type": "stream",
     "text": [
      "Loading trail points from <data_input/gr122.gpx>...\n",
      "Finished loading.\n"
     ]
    }
   ],
   "source": [
    "gpx = gr_utils.get_gpx(trailname)\n",
    "gpx_coords = gr_mapmatch.trail_to_coords(gpx) # Convert the points into a list of [lat, lon] pairs"
   ]
  },
  {
   "cell_type": "markdown",
   "id": "5698b079",
   "metadata": {},
   "source": [
    "## Matching GPX points to OSM nodes"
   ]
  },
  {
   "cell_type": "code",
   "execution_count": 4,
   "id": "9f937d46",
   "metadata": {},
   "outputs": [],
   "source": [
    "# Generate the nodes dataframe [point_x, point_y, node_id, node_x, node_y, d2node]\n",
    "# with point = a GPX point and node = the corresponding node\n",
    "# and d2node = the distance from the GPX point to its corresponding node\n",
    "filename_nodes = 'cache/' + trailname + '_nodes.csv'\n",
    "if not os.path.isfile(filename_nodes): # The nodes file does not exist, construct it\n",
    "    nodes = roadmatch.gpx_to_nodes(gpx, gpx_coords, points_per_batch, delta_roads)\n",
    "    nodes.to_csv(filename_nodes)\n",
    "else: # The nodes file exists, load it\n",
    "    nodes = pd.read_csv(filename_nodes,index_col=0,\n",
    "                            dtype={'point_x':float, 'point_y':float,\n",
    "                                   'node_id':int,\n",
    "                                   'node_x':float, 'node_y':float,\n",
    "                                   'd2node':float})"
   ]
  },
  {
   "cell_type": "code",
   "execution_count": 5,
   "id": "c3e6c0f2",
   "metadata": {},
   "outputs": [
    {
     "data": {
      "text/html": [
       "<div>\n",
       "<style scoped>\n",
       "    .dataframe tbody tr th:only-of-type {\n",
       "        vertical-align: middle;\n",
       "    }\n",
       "\n",
       "    .dataframe tbody tr th {\n",
       "        vertical-align: top;\n",
       "    }\n",
       "\n",
       "    .dataframe thead th {\n",
       "        text-align: right;\n",
       "    }\n",
       "</style>\n",
       "<table border=\"1\" class=\"dataframe\">\n",
       "  <thead>\n",
       "    <tr style=\"text-align: right;\">\n",
       "      <th></th>\n",
       "      <th>point_x</th>\n",
       "      <th>point_y</th>\n",
       "      <th>node_id</th>\n",
       "      <th>node_x</th>\n",
       "      <th>node_y</th>\n",
       "      <th>d2node</th>\n",
       "    </tr>\n",
       "  </thead>\n",
       "  <tbody>\n",
       "    <tr>\n",
       "      <th>0</th>\n",
       "      <td>4.05118</td>\n",
       "      <td>51.27809</td>\n",
       "      <td>1649282241</td>\n",
       "      <td>4.051181</td>\n",
       "      <td>51.278079</td>\n",
       "      <td>0.000011</td>\n",
       "    </tr>\n",
       "    <tr>\n",
       "      <th>1</th>\n",
       "      <td>4.05111</td>\n",
       "      <td>51.27828</td>\n",
       "      <td>42291968</td>\n",
       "      <td>4.051096</td>\n",
       "      <td>51.278274</td>\n",
       "      <td>0.000015</td>\n",
       "    </tr>\n",
       "    <tr>\n",
       "      <th>2</th>\n",
       "      <td>4.05092</td>\n",
       "      <td>51.27827</td>\n",
       "      <td>393406001</td>\n",
       "      <td>4.050765</td>\n",
       "      <td>51.278272</td>\n",
       "      <td>0.000155</td>\n",
       "    </tr>\n",
       "    <tr>\n",
       "      <th>3</th>\n",
       "      <td>4.05025</td>\n",
       "      <td>51.27826</td>\n",
       "      <td>1871685302</td>\n",
       "      <td>4.050218</td>\n",
       "      <td>51.278269</td>\n",
       "      <td>0.000034</td>\n",
       "    </tr>\n",
       "    <tr>\n",
       "      <th>4</th>\n",
       "      <td>4.04961</td>\n",
       "      <td>51.27826</td>\n",
       "      <td>1871685302</td>\n",
       "      <td>4.050218</td>\n",
       "      <td>51.278269</td>\n",
       "      <td>0.000608</td>\n",
       "    </tr>\n",
       "    <tr>\n",
       "      <th>...</th>\n",
       "      <td>...</td>\n",
       "      <td>...</td>\n",
       "      <td>...</td>\n",
       "      <td>...</td>\n",
       "      <td>...</td>\n",
       "      <td>...</td>\n",
       "    </tr>\n",
       "    <tr>\n",
       "      <th>3943</th>\n",
       "      <td>3.51948</td>\n",
       "      <td>50.76068</td>\n",
       "      <td>4902407176</td>\n",
       "      <td>3.519843</td>\n",
       "      <td>50.761135</td>\n",
       "      <td>0.000582</td>\n",
       "    </tr>\n",
       "    <tr>\n",
       "      <th>3944</th>\n",
       "      <td>3.51984</td>\n",
       "      <td>50.76113</td>\n",
       "      <td>4902407176</td>\n",
       "      <td>3.519843</td>\n",
       "      <td>50.761135</td>\n",
       "      <td>0.000006</td>\n",
       "    </tr>\n",
       "    <tr>\n",
       "      <th>3945</th>\n",
       "      <td>3.51998</td>\n",
       "      <td>50.76117</td>\n",
       "      <td>4902407176</td>\n",
       "      <td>3.519843</td>\n",
       "      <td>50.761135</td>\n",
       "      <td>0.000142</td>\n",
       "    </tr>\n",
       "    <tr>\n",
       "      <th>3946</th>\n",
       "      <td>3.52009</td>\n",
       "      <td>50.76124</td>\n",
       "      <td>4902407176</td>\n",
       "      <td>3.519843</td>\n",
       "      <td>50.761135</td>\n",
       "      <td>0.000269</td>\n",
       "    </tr>\n",
       "    <tr>\n",
       "      <th>3947</th>\n",
       "      <td>3.52007</td>\n",
       "      <td>50.76126</td>\n",
       "      <td>4280080563</td>\n",
       "      <td>3.519836</td>\n",
       "      <td>50.761151</td>\n",
       "      <td>0.000258</td>\n",
       "    </tr>\n",
       "  </tbody>\n",
       "</table>\n",
       "<p>3948 rows × 6 columns</p>\n",
       "</div>"
      ],
      "text/plain": [
       "      point_x   point_y     node_id    node_x     node_y    d2node\n",
       "0     4.05118  51.27809  1649282241  4.051181  51.278079  0.000011\n",
       "1     4.05111  51.27828    42291968  4.051096  51.278274  0.000015\n",
       "2     4.05092  51.27827   393406001  4.050765  51.278272  0.000155\n",
       "3     4.05025  51.27826  1871685302  4.050218  51.278269  0.000034\n",
       "4     4.04961  51.27826  1871685302  4.050218  51.278269  0.000608\n",
       "...       ...       ...         ...       ...        ...       ...\n",
       "3943  3.51948  50.76068  4902407176  3.519843  50.761135  0.000582\n",
       "3944  3.51984  50.76113  4902407176  3.519843  50.761135  0.000006\n",
       "3945  3.51998  50.76117  4902407176  3.519843  50.761135  0.000142\n",
       "3946  3.52009  50.76124  4902407176  3.519843  50.761135  0.000269\n",
       "3947  3.52007  50.76126  4280080563  3.519836  50.761151  0.000258\n",
       "\n",
       "[3948 rows x 6 columns]"
      ]
     },
     "execution_count": 5,
     "metadata": {},
     "output_type": "execute_result"
    }
   ],
   "source": [
    "nodes"
   ]
  },
  {
   "cell_type": "code",
   "execution_count": 6,
   "id": "06c80f3b",
   "metadata": {
    "scrolled": true
   },
   "outputs": [],
   "source": [
    "# Generate the pieces dataframe [node0, node1, gpx0, gpx1]\n",
    "# it cuts up the GPX trail into pieces on which individual pathfinding can be done\n",
    "filename_pieces = 'cache/' + trailname + '_pieces.csv'\n",
    "if not os.path.isfile(filename_pieces): # The pieces file does not exist, construct it\n",
    "    pieces = roadmatch.nodes_to_pieces(nodes)\n",
    "    pieces.to_csv(filename_pieces)\n",
    "else:\n",
    "    pieces = pd.read_csv(filename_pieces,index_col=0,\n",
    "                         dtype={'node0':int,'node1':int,\n",
    "                                'gpx0':int,'gpx1':int})"
   ]
  },
  {
   "cell_type": "code",
   "execution_count": 7,
   "id": "94dde8d2",
   "metadata": {},
   "outputs": [
    {
     "data": {
      "text/html": [
       "<div>\n",
       "<style scoped>\n",
       "    .dataframe tbody tr th:only-of-type {\n",
       "        vertical-align: middle;\n",
       "    }\n",
       "\n",
       "    .dataframe tbody tr th {\n",
       "        vertical-align: top;\n",
       "    }\n",
       "\n",
       "    .dataframe thead th {\n",
       "        text-align: right;\n",
       "    }\n",
       "</style>\n",
       "<table border=\"1\" class=\"dataframe\">\n",
       "  <thead>\n",
       "    <tr style=\"text-align: right;\">\n",
       "      <th></th>\n",
       "      <th>node0</th>\n",
       "      <th>node1</th>\n",
       "      <th>gpx0</th>\n",
       "      <th>gpx1</th>\n",
       "    </tr>\n",
       "  </thead>\n",
       "  <tbody>\n",
       "    <tr>\n",
       "      <th>0</th>\n",
       "      <td>1649282241</td>\n",
       "      <td>42291968</td>\n",
       "      <td>0</td>\n",
       "      <td>1</td>\n",
       "    </tr>\n",
       "    <tr>\n",
       "      <th>1</th>\n",
       "      <td>42291968</td>\n",
       "      <td>393406001</td>\n",
       "      <td>1</td>\n",
       "      <td>2</td>\n",
       "    </tr>\n",
       "    <tr>\n",
       "      <th>2</th>\n",
       "      <td>393406001</td>\n",
       "      <td>1871685302</td>\n",
       "      <td>2</td>\n",
       "      <td>3</td>\n",
       "    </tr>\n",
       "    <tr>\n",
       "      <th>3</th>\n",
       "      <td>1871685302</td>\n",
       "      <td>393406011</td>\n",
       "      <td>3</td>\n",
       "      <td>12</td>\n",
       "    </tr>\n",
       "    <tr>\n",
       "      <th>4</th>\n",
       "      <td>393406011</td>\n",
       "      <td>393406780</td>\n",
       "      <td>12</td>\n",
       "      <td>15</td>\n",
       "    </tr>\n",
       "    <tr>\n",
       "      <th>...</th>\n",
       "      <td>...</td>\n",
       "      <td>...</td>\n",
       "      <td>...</td>\n",
       "      <td>...</td>\n",
       "    </tr>\n",
       "    <tr>\n",
       "      <th>791</th>\n",
       "      <td>4278294677</td>\n",
       "      <td>4278203763</td>\n",
       "      <td>3917</td>\n",
       "      <td>3926</td>\n",
       "    </tr>\n",
       "    <tr>\n",
       "      <th>792</th>\n",
       "      <td>4278203763</td>\n",
       "      <td>1287813114</td>\n",
       "      <td>3926</td>\n",
       "      <td>3932</td>\n",
       "    </tr>\n",
       "    <tr>\n",
       "      <th>793</th>\n",
       "      <td>1287813114</td>\n",
       "      <td>5339445555</td>\n",
       "      <td>3932</td>\n",
       "      <td>3936</td>\n",
       "    </tr>\n",
       "    <tr>\n",
       "      <th>794</th>\n",
       "      <td>5339445555</td>\n",
       "      <td>5339445593</td>\n",
       "      <td>3936</td>\n",
       "      <td>3938</td>\n",
       "    </tr>\n",
       "    <tr>\n",
       "      <th>795</th>\n",
       "      <td>5339445593</td>\n",
       "      <td>4902407176</td>\n",
       "      <td>3938</td>\n",
       "      <td>3947</td>\n",
       "    </tr>\n",
       "  </tbody>\n",
       "</table>\n",
       "<p>796 rows × 4 columns</p>\n",
       "</div>"
      ],
      "text/plain": [
       "          node0       node1  gpx0  gpx1\n",
       "0    1649282241    42291968     0     1\n",
       "1      42291968   393406001     1     2\n",
       "2     393406001  1871685302     2     3\n",
       "3    1871685302   393406011     3    12\n",
       "4     393406011   393406780    12    15\n",
       "..          ...         ...   ...   ...\n",
       "791  4278294677  4278203763  3917  3926\n",
       "792  4278203763  1287813114  3926  3932\n",
       "793  1287813114  5339445555  3932  3936\n",
       "794  5339445555  5339445593  3936  3938\n",
       "795  5339445593  4902407176  3938  3947\n",
       "\n",
       "[796 rows x 4 columns]"
      ]
     },
     "execution_count": 7,
     "metadata": {},
     "output_type": "execute_result"
    }
   ],
   "source": [
    "pieces"
   ]
  },
  {
   "cell_type": "code",
   "execution_count": 8,
   "id": "7a5f70b4",
   "metadata": {},
   "outputs": [
    {
     "name": "stderr",
     "output_type": "stream",
     "text": [
      "/Users/svanwal/opt/anaconda3/lib/python3.9/site-packages/osmnx/graph.py:488: UserWarning: the graph-level street_count attribute will likely be inaccurate when you set clean_periphery=False\n",
      "  warnings.warn(msg)\n"
     ]
    },
    {
     "name": "stdout",
     "output_type": "stream",
     "text": [
      "Handling piece 38 of 796, spanning GPX points 101 through 102\n",
      "Handling piece 43 of 796, spanning GPX points 117 through 120\r"
     ]
    },
    {
     "name": "stderr",
     "output_type": "stream",
     "text": [
      "/Users/svanwal/opt/anaconda3/lib/python3.9/site-packages/osmnx/graph.py:488: UserWarning: the graph-level street_count attribute will likely be inaccurate when you set clean_periphery=False\n",
      "  warnings.warn(msg)\n"
     ]
    },
    {
     "name": "stdout",
     "output_type": "stream",
     "text": [
      "Handling piece 53 of 796, spanning GPX points 217 through 229\n",
      "Handling piece 54 of 796, spanning GPX points 229 through 238\r"
     ]
    },
    {
     "name": "stderr",
     "output_type": "stream",
     "text": [
      "/Users/svanwal/opt/anaconda3/lib/python3.9/site-packages/osmnx/graph.py:488: UserWarning: the graph-level street_count attribute will likely be inaccurate when you set clean_periphery=False\n",
      "  warnings.warn(msg)\n"
     ]
    },
    {
     "name": "stdout",
     "output_type": "stream",
     "text": [
      "Handling piece 69 of 796, spanning GPX points 301 through 307\n"
     ]
    },
    {
     "name": "stderr",
     "output_type": "stream",
     "text": [
      "/Users/svanwal/opt/anaconda3/lib/python3.9/site-packages/osmnx/graph.py:488: UserWarning: the graph-level street_count attribute will likely be inaccurate when you set clean_periphery=False\n",
      "  warnings.warn(msg)\n"
     ]
    },
    {
     "name": "stdout",
     "output_type": "stream",
     "text": [
      "Handling piece 94 of 796, spanning GPX points 402 through 404\n"
     ]
    },
    {
     "name": "stderr",
     "output_type": "stream",
     "text": [
      "/Users/svanwal/opt/anaconda3/lib/python3.9/site-packages/osmnx/graph.py:488: UserWarning: the graph-level street_count attribute will likely be inaccurate when you set clean_periphery=False\n",
      "  warnings.warn(msg)\n"
     ]
    },
    {
     "name": "stdout",
     "output_type": "stream",
     "text": [
      "Handling piece 117 of 796, spanning GPX points 504 through 505\n",
      "Handling piece 118 of 796, spanning GPX points 505 through 506\r"
     ]
    },
    {
     "name": "stderr",
     "output_type": "stream",
     "text": [
      "/Users/svanwal/opt/anaconda3/lib/python3.9/site-packages/osmnx/graph.py:488: UserWarning: the graph-level street_count attribute will likely be inaccurate when you set clean_periphery=False\n",
      "  warnings.warn(msg)\n"
     ]
    },
    {
     "name": "stdout",
     "output_type": "stream",
     "text": [
      "Handling piece 133 of 796, spanning GPX points 606 through 609\n"
     ]
    },
    {
     "name": "stderr",
     "output_type": "stream",
     "text": [
      "/Users/svanwal/opt/anaconda3/lib/python3.9/site-packages/osmnx/graph.py:488: UserWarning: the graph-level street_count attribute will likely be inaccurate when you set clean_periphery=False\n",
      "  warnings.warn(msg)\n"
     ]
    },
    {
     "name": "stdout",
     "output_type": "stream",
     "text": [
      "Handling piece 157 of 796, spanning GPX points 773 through 801\n"
     ]
    },
    {
     "name": "stderr",
     "output_type": "stream",
     "text": [
      "/Users/svanwal/opt/anaconda3/lib/python3.9/site-packages/osmnx/graph.py:488: UserWarning: the graph-level street_count attribute will likely be inaccurate when you set clean_periphery=False\n",
      "  warnings.warn(msg)\n"
     ]
    },
    {
     "name": "stdout",
     "output_type": "stream",
     "text": [
      "Handling piece 158 of 796, spanning GPX points 801 through 804\n"
     ]
    },
    {
     "name": "stderr",
     "output_type": "stream",
     "text": [
      "/Users/svanwal/opt/anaconda3/lib/python3.9/site-packages/osmnx/graph.py:488: UserWarning: the graph-level street_count attribute will likely be inaccurate when you set clean_periphery=False\n",
      "  warnings.warn(msg)\n"
     ]
    },
    {
     "name": "stdout",
     "output_type": "stream",
     "text": [
      "Handling piece 192 of 796, spanning GPX points 908 through 913\n"
     ]
    },
    {
     "name": "stderr",
     "output_type": "stream",
     "text": [
      "/Users/svanwal/opt/anaconda3/lib/python3.9/site-packages/osmnx/graph.py:488: UserWarning: the graph-level street_count attribute will likely be inaccurate when you set clean_periphery=False\n",
      "  warnings.warn(msg)\n"
     ]
    },
    {
     "name": "stdout",
     "output_type": "stream",
     "text": [
      "Handling piece 218 of 796, spanning GPX points 1006 through 1009\n"
     ]
    },
    {
     "name": "stderr",
     "output_type": "stream",
     "text": [
      "/Users/svanwal/opt/anaconda3/lib/python3.9/site-packages/osmnx/graph.py:488: UserWarning: the graph-level street_count attribute will likely be inaccurate when you set clean_periphery=False\n",
      "  warnings.warn(msg)\n"
     ]
    },
    {
     "name": "stdout",
     "output_type": "stream",
     "text": [
      "Handling piece 244 of 796, spanning GPX points 1110 through 1111\n"
     ]
    },
    {
     "name": "stderr",
     "output_type": "stream",
     "text": [
      "/Users/svanwal/opt/anaconda3/lib/python3.9/site-packages/osmnx/graph.py:488: UserWarning: the graph-level street_count attribute will likely be inaccurate when you set clean_periphery=False\n",
      "  warnings.warn(msg)\n"
     ]
    },
    {
     "name": "stdout",
     "output_type": "stream",
     "text": [
      "Handling piece 276 of 796, spanning GPX points 1204 through 1206\n"
     ]
    },
    {
     "name": "stderr",
     "output_type": "stream",
     "text": [
      "/Users/svanwal/opt/anaconda3/lib/python3.9/site-packages/osmnx/graph.py:488: UserWarning: the graph-level street_count attribute will likely be inaccurate when you set clean_periphery=False\n",
      "  warnings.warn(msg)\n"
     ]
    },
    {
     "name": "stdout",
     "output_type": "stream",
     "text": [
      "Handling piece 300 of 796, spanning GPX points 1312 through 1313\n"
     ]
    },
    {
     "name": "stderr",
     "output_type": "stream",
     "text": [
      "/Users/svanwal/opt/anaconda3/lib/python3.9/site-packages/osmnx/graph.py:488: UserWarning: the graph-level street_count attribute will likely be inaccurate when you set clean_periphery=False\n",
      "  warnings.warn(msg)\n"
     ]
    },
    {
     "name": "stdout",
     "output_type": "stream",
     "text": [
      "Handling piece 321 of 796, spanning GPX points 1406 through 1427\n"
     ]
    },
    {
     "name": "stderr",
     "output_type": "stream",
     "text": [
      "/Users/svanwal/opt/anaconda3/lib/python3.9/site-packages/osmnx/graph.py:488: UserWarning: the graph-level street_count attribute will likely be inaccurate when you set clean_periphery=False\n",
      "  warnings.warn(msg)\n"
     ]
    },
    {
     "name": "stdout",
     "output_type": "stream",
     "text": [
      "Handling piece 350 of 796, spanning GPX points 1511 through 1512\n"
     ]
    },
    {
     "name": "stderr",
     "output_type": "stream",
     "text": [
      "/Users/svanwal/opt/anaconda3/lib/python3.9/site-packages/osmnx/graph.py:488: UserWarning: the graph-level street_count attribute will likely be inaccurate when you set clean_periphery=False\n",
      "  warnings.warn(msg)\n"
     ]
    },
    {
     "name": "stdout",
     "output_type": "stream",
     "text": [
      "Handling piece 365 of 796, spanning GPX points 1590 through 1615\n",
      "   Node not found in network, downloading larger network...\n"
     ]
    },
    {
     "name": "stderr",
     "output_type": "stream",
     "text": [
      "/Users/svanwal/opt/anaconda3/lib/python3.9/site-packages/osmnx/graph.py:488: UserWarning: the graph-level street_count attribute will likely be inaccurate when you set clean_periphery=False\n",
      "  warnings.warn(msg)\n"
     ]
    },
    {
     "name": "stdout",
     "output_type": "stream",
     "text": [
      "\n",
      "   Node not found in network, downloading larger network...\n"
     ]
    },
    {
     "name": "stderr",
     "output_type": "stream",
     "text": [
      "/Users/svanwal/opt/anaconda3/lib/python3.9/site-packages/osmnx/graph.py:488: UserWarning: the graph-level street_count attribute will likely be inaccurate when you set clean_periphery=False\n",
      "  warnings.warn(msg)\n"
     ]
    },
    {
     "name": "stdout",
     "output_type": "stream",
     "text": [
      "Handling piece 366 of 796, spanning GPX points 1615 through 1617\n"
     ]
    },
    {
     "name": "stderr",
     "output_type": "stream",
     "text": [
      "/Users/svanwal/opt/anaconda3/lib/python3.9/site-packages/osmnx/graph.py:488: UserWarning: the graph-level street_count attribute will likely be inaccurate when you set clean_periphery=False\n",
      "  warnings.warn(msg)\n"
     ]
    },
    {
     "name": "stdout",
     "output_type": "stream",
     "text": [
      "Handling piece 405 of 796, spanning GPX points 1705 through 1711\n"
     ]
    },
    {
     "name": "stderr",
     "output_type": "stream",
     "text": [
      "/Users/svanwal/opt/anaconda3/lib/python3.9/site-packages/osmnx/graph.py:488: UserWarning: the graph-level street_count attribute will likely be inaccurate when you set clean_periphery=False\n",
      "  warnings.warn(msg)\n"
     ]
    },
    {
     "name": "stdout",
     "output_type": "stream",
     "text": [
      "Handling piece 427 of 796, spanning GPX points 1803 through 1805\n"
     ]
    },
    {
     "name": "stderr",
     "output_type": "stream",
     "text": [
      "/Users/svanwal/opt/anaconda3/lib/python3.9/site-packages/osmnx/graph.py:488: UserWarning: the graph-level street_count attribute will likely be inaccurate when you set clean_periphery=False\n",
      "  warnings.warn(msg)\n"
     ]
    },
    {
     "name": "stdout",
     "output_type": "stream",
     "text": [
      "Handling piece 451 of 796, spanning GPX points 1905 through 1909\n"
     ]
    },
    {
     "name": "stderr",
     "output_type": "stream",
     "text": [
      "/Users/svanwal/opt/anaconda3/lib/python3.9/site-packages/osmnx/graph.py:488: UserWarning: the graph-level street_count attribute will likely be inaccurate when you set clean_periphery=False\n",
      "  warnings.warn(msg)\n"
     ]
    },
    {
     "name": "stdout",
     "output_type": "stream",
     "text": [
      "Handling piece 473 of 796, spanning GPX points 2001 through 2002\n"
     ]
    },
    {
     "name": "stderr",
     "output_type": "stream",
     "text": [
      "/Users/svanwal/opt/anaconda3/lib/python3.9/site-packages/osmnx/graph.py:488: UserWarning: the graph-level street_count attribute will likely be inaccurate when you set clean_periphery=False\n",
      "  warnings.warn(msg)\n"
     ]
    },
    {
     "name": "stdout",
     "output_type": "stream",
     "text": [
      "Handling piece 494 of 796, spanning GPX points 2103 through 2105\n",
      "Handling piece 495 of 796, spanning GPX points 2105 through 2109\r"
     ]
    },
    {
     "name": "stderr",
     "output_type": "stream",
     "text": [
      "/Users/svanwal/opt/anaconda3/lib/python3.9/site-packages/osmnx/graph.py:488: UserWarning: the graph-level street_count attribute will likely be inaccurate when you set clean_periphery=False\n",
      "  warnings.warn(msg)\n"
     ]
    },
    {
     "name": "stdout",
     "output_type": "stream",
     "text": [
      "Handling piece 510 of 796, spanning GPX points 2202 through 2203\n"
     ]
    },
    {
     "name": "stderr",
     "output_type": "stream",
     "text": [
      "/Users/svanwal/opt/anaconda3/lib/python3.9/site-packages/osmnx/graph.py:488: UserWarning: the graph-level street_count attribute will likely be inaccurate when you set clean_periphery=False\n",
      "  warnings.warn(msg)\n"
     ]
    },
    {
     "name": "stdout",
     "output_type": "stream",
     "text": [
      "Handling piece 534 of 796, spanning GPX points 2301 through 2303\n"
     ]
    },
    {
     "name": "stderr",
     "output_type": "stream",
     "text": [
      "/Users/svanwal/opt/anaconda3/lib/python3.9/site-packages/osmnx/graph.py:488: UserWarning: the graph-level street_count attribute will likely be inaccurate when you set clean_periphery=False\n",
      "  warnings.warn(msg)\n"
     ]
    },
    {
     "name": "stdout",
     "output_type": "stream",
     "text": [
      "Handling piece 546 of 796, spanning GPX points 2402 through 2416\n"
     ]
    },
    {
     "name": "stderr",
     "output_type": "stream",
     "text": [
      "/Users/svanwal/opt/anaconda3/lib/python3.9/site-packages/osmnx/graph.py:488: UserWarning: the graph-level street_count attribute will likely be inaccurate when you set clean_periphery=False\n",
      "  warnings.warn(msg)\n"
     ]
    },
    {
     "name": "stdout",
     "output_type": "stream",
     "text": [
      "Handling piece 562 of 796, spanning GPX points 2508 through 2510\n"
     ]
    },
    {
     "name": "stderr",
     "output_type": "stream",
     "text": [
      "/Users/svanwal/opt/anaconda3/lib/python3.9/site-packages/osmnx/graph.py:488: UserWarning: the graph-level street_count attribute will likely be inaccurate when you set clean_periphery=False\n",
      "  warnings.warn(msg)\n"
     ]
    },
    {
     "name": "stdout",
     "output_type": "stream",
     "text": [
      "Handling piece 583 of 796, spanning GPX points 2605 through 2608\n"
     ]
    },
    {
     "name": "stderr",
     "output_type": "stream",
     "text": [
      "/Users/svanwal/opt/anaconda3/lib/python3.9/site-packages/osmnx/graph.py:488: UserWarning: the graph-level street_count attribute will likely be inaccurate when you set clean_periphery=False\n",
      "  warnings.warn(msg)\n"
     ]
    },
    {
     "name": "stdout",
     "output_type": "stream",
     "text": [
      "Handling piece 597 of 796, spanning GPX points 2702 through 2712\n"
     ]
    },
    {
     "name": "stderr",
     "output_type": "stream",
     "text": [
      "/Users/svanwal/opt/anaconda3/lib/python3.9/site-packages/osmnx/graph.py:488: UserWarning: the graph-level street_count attribute will likely be inaccurate when you set clean_periphery=False\n",
      "  warnings.warn(msg)\n"
     ]
    },
    {
     "name": "stdout",
     "output_type": "stream",
     "text": [
      "Handling piece 608 of 796, spanning GPX points 2808 through 2819\n"
     ]
    },
    {
     "name": "stderr",
     "output_type": "stream",
     "text": [
      "/Users/svanwal/opt/anaconda3/lib/python3.9/site-packages/osmnx/graph.py:488: UserWarning: the graph-level street_count attribute will likely be inaccurate when you set clean_periphery=False\n",
      "  warnings.warn(msg)\n"
     ]
    },
    {
     "name": "stdout",
     "output_type": "stream",
     "text": [
      "Handling piece 626 of 796, spanning GPX points 2914 through 2917\n"
     ]
    },
    {
     "name": "stderr",
     "output_type": "stream",
     "text": [
      "/Users/svanwal/opt/anaconda3/lib/python3.9/site-packages/osmnx/graph.py:488: UserWarning: the graph-level street_count attribute will likely be inaccurate when you set clean_periphery=False\n",
      "  warnings.warn(msg)\n"
     ]
    },
    {
     "name": "stdout",
     "output_type": "stream",
     "text": [
      "Handling piece 648 of 796, spanning GPX points 3011 through 3024\n"
     ]
    },
    {
     "name": "stderr",
     "output_type": "stream",
     "text": [
      "/Users/svanwal/opt/anaconda3/lib/python3.9/site-packages/osmnx/graph.py:488: UserWarning: the graph-level street_count attribute will likely be inaccurate when you set clean_periphery=False\n",
      "  warnings.warn(msg)\n"
     ]
    },
    {
     "name": "stdout",
     "output_type": "stream",
     "text": [
      "Handling piece 662 of 796, spanning GPX points 3110 through 3116\n",
      "Handling piece 663 of 796, spanning GPX points 3116 through 3117\r"
     ]
    },
    {
     "name": "stderr",
     "output_type": "stream",
     "text": [
      "/Users/svanwal/opt/anaconda3/lib/python3.9/site-packages/osmnx/graph.py:488: UserWarning: the graph-level street_count attribute will likely be inaccurate when you set clean_periphery=False\n",
      "  warnings.warn(msg)\n"
     ]
    },
    {
     "name": "stdout",
     "output_type": "stream",
     "text": [
      "Handling piece 678 of 796, spanning GPX points 3214 through 3219\n"
     ]
    },
    {
     "name": "stderr",
     "output_type": "stream",
     "text": [
      "/Users/svanwal/opt/anaconda3/lib/python3.9/site-packages/osmnx/graph.py:488: UserWarning: the graph-level street_count attribute will likely be inaccurate when you set clean_periphery=False\n",
      "  warnings.warn(msg)\n"
     ]
    },
    {
     "name": "stdout",
     "output_type": "stream",
     "text": [
      "Handling piece 688 of 796, spanning GPX points 3301 through 3305\n"
     ]
    },
    {
     "name": "stderr",
     "output_type": "stream",
     "text": [
      "/Users/svanwal/opt/anaconda3/lib/python3.9/site-packages/osmnx/graph.py:488: UserWarning: the graph-level street_count attribute will likely be inaccurate when you set clean_periphery=False\n",
      "  warnings.warn(msg)\n"
     ]
    },
    {
     "name": "stdout",
     "output_type": "stream",
     "text": [
      "Handling piece 703 of 796, spanning GPX points 3407 through 3471\n"
     ]
    },
    {
     "name": "stderr",
     "output_type": "stream",
     "text": [
      "/Users/svanwal/opt/anaconda3/lib/python3.9/site-packages/osmnx/graph.py:488: UserWarning: the graph-level street_count attribute will likely be inaccurate when you set clean_periphery=False\n",
      "  warnings.warn(msg)\n"
     ]
    },
    {
     "name": "stdout",
     "output_type": "stream",
     "text": [
      "Handling piece 708 of 796, spanning GPX points 3502 through 3513\n"
     ]
    },
    {
     "name": "stderr",
     "output_type": "stream",
     "text": [
      "/Users/svanwal/opt/anaconda3/lib/python3.9/site-packages/osmnx/graph.py:488: UserWarning: the graph-level street_count attribute will likely be inaccurate when you set clean_periphery=False\n",
      "  warnings.warn(msg)\n"
     ]
    },
    {
     "name": "stdout",
     "output_type": "stream",
     "text": [
      "Handling piece 720 of 796, spanning GPX points 3601 through 3610\n"
     ]
    },
    {
     "name": "stderr",
     "output_type": "stream",
     "text": [
      "/Users/svanwal/opt/anaconda3/lib/python3.9/site-packages/osmnx/graph.py:488: UserWarning: the graph-level street_count attribute will likely be inaccurate when you set clean_periphery=False\n",
      "  warnings.warn(msg)\n"
     ]
    },
    {
     "name": "stdout",
     "output_type": "stream",
     "text": [
      "Handling piece 746 of 796, spanning GPX points 3702 through 3704\n"
     ]
    },
    {
     "name": "stderr",
     "output_type": "stream",
     "text": [
      "/Users/svanwal/opt/anaconda3/lib/python3.9/site-packages/osmnx/graph.py:488: UserWarning: the graph-level street_count attribute will likely be inaccurate when you set clean_periphery=False\n",
      "  warnings.warn(msg)\n"
     ]
    },
    {
     "name": "stdout",
     "output_type": "stream",
     "text": [
      "Handling piece 778 of 796, spanning GPX points 3810 through 3817\n"
     ]
    },
    {
     "name": "stderr",
     "output_type": "stream",
     "text": [
      "/Users/svanwal/opt/anaconda3/lib/python3.9/site-packages/osmnx/graph.py:488: UserWarning: the graph-level street_count attribute will likely be inaccurate when you set clean_periphery=False\n",
      "  warnings.warn(msg)\n"
     ]
    },
    {
     "name": "stdout",
     "output_type": "stream",
     "text": [
      "Handling piece 791 of 796, spanning GPX points 3917 through 3926\n"
     ]
    },
    {
     "name": "stderr",
     "output_type": "stream",
     "text": [
      "/Users/svanwal/opt/anaconda3/lib/python3.9/site-packages/osmnx/graph.py:488: UserWarning: the graph-level street_count attribute will likely be inaccurate when you set clean_periphery=False\n",
      "  warnings.warn(msg)\n"
     ]
    },
    {
     "name": "stdout",
     "output_type": "stream",
     "text": [
      "Handling piece 795 of 796, spanning GPX points 3938 through 3947\r"
     ]
    }
   ],
   "source": [
    "npaths = 5\n",
    "\n",
    "# Generate the segments dataframe [x0,y0,x1,y1,d_cart,d_osm,highway,surface,tracktype]\n",
    "filename_segments = 'cache/' + trailname + '_segments.csv'\n",
    "if not os.path.isfile(filename_segments): # The pieces file does not exist, construct it\n",
    "    segments = roadmatch.pieces_to_segments(gpx,nodes,points_per_batch,delta_roads,pieces,npaths)\n",
    "    segments.to_csv(filename_segments)\n",
    "else:\n",
    "    segments = pd.read_csv(filename_segments,index_col=0,\n",
    "                         dtype={'x0':float,'y0':float,\n",
    "                                'x1':float,'y1':float,\n",
    "                               'd_cart':float,'d_osm':float,\n",
    "                                'highway':str,'surface':str,'tracktype':str})"
   ]
  },
  {
   "cell_type": "markdown",
   "id": "b7124853",
   "metadata": {},
   "source": [
    "## Plot the matched route"
   ]
  },
  {
   "cell_type": "code",
   "execution_count": 15,
   "id": "b54ba73f",
   "metadata": {},
   "outputs": [
    {
     "data": {
      "text/html": [
       "\n",
       "        <iframe\n",
       "            width=\"1000\"\n",
       "            height=\"500\"\n",
       "            src=\"cache/temp11.html\"\n",
       "            frameborder=\"0\"\n",
       "            allowfullscreen\n",
       "            \n",
       "        ></iframe>\n",
       "        "
      ],
      "text/plain": [
       "<IPython.lib.display.IFrame at 0x7f7cea99e370>"
      ]
     },
     "execution_count": 15,
     "metadata": {},
     "output_type": "execute_result"
    }
   ],
   "source": [
    "matchedcoords = gr_plot.get_fullcoords_from_frame(segments)\n",
    "\n",
    "# Map setup\n",
    "mid = int(len(gpx_coords)/2)\n",
    "chart = folium.Map(location=gpx_coords[mid], zoom_start=10, tiles=\"OpenStreetMap\")\n",
    "\n",
    "# Draw the GPX route\n",
    "newline = folium.PolyLine(locations=gpx_coords, weight=2, color='red')\n",
    "newline.add_to(chart)\n",
    "\n",
    "# Draw the matched route\n",
    "newline = folium.PolyLine(locations=matchedcoords, weight=2, color='black')\n",
    "newline.add_to(chart)\n",
    "\n",
    "# Render the map\n",
    "filepath = f\"cache/temp11.html\"\n",
    "chart.save(filepath)\n",
    "IFrame(filepath, width=1000, height=500)"
   ]
  },
  {
   "cell_type": "code",
   "execution_count": null,
   "id": "f50bca61",
   "metadata": {},
   "outputs": [],
   "source": []
  },
  {
   "cell_type": "code",
   "execution_count": null,
   "id": "e552177e",
   "metadata": {},
   "outputs": [],
   "source": []
  },
  {
   "cell_type": "code",
   "execution_count": null,
   "id": "5fb2ae5f",
   "metadata": {},
   "outputs": [],
   "source": []
  },
  {
   "cell_type": "markdown",
   "id": "13dd817d",
   "metadata": {},
   "source": [
    "## Gathering ROAD data from OSM network"
   ]
  },
  {
   "cell_type": "code",
   "execution_count": 4,
   "id": "44913992",
   "metadata": {},
   "outputs": [
    {
     "name": "stdout",
     "output_type": "stream",
     "text": [
      "Loading merged ROADS file...\n",
      "Loaded.\n"
     ]
    }
   ],
   "source": [
    "# filename_roads = 'cache/' + trailname + '_roads.csv'\n",
    "\n",
    "# if not os.path.isfile(filename_roads): # The merged ROADS file does not exist, construct it\n",
    "    \n",
    "#     print('Merged ROADS file was not found, merging and saving...')\n",
    "#     gr_mapmatch.trail2roads(trailname, trail, points_per_batch, delta) # Main batch processor\n",
    "#     data_roads_raw = gr_utils.merge_roads(trailname, trail, points_per_batch) # Merge the different sections\n",
    "#     data_roads = gr_mapmatch.remove_repeat_segments(data_roads_raw) # Remove backtracked sections\n",
    "#     gr_utils.write_roads(trailname, data_roads) # Write the merged ROADS data\n",
    "# #     print('Saved.')\n",
    "\n",
    "# else: # The merged ROADS file does exist, just load it\n",
    "    \n",
    "#     print('Loading merged ROADS file...')\n",
    "#     data_roads = gr_utils.read_roads(trailname) # Read the merged sections\n",
    "#     print('Loaded.')"
   ]
  },
  {
   "cell_type": "markdown",
   "id": "e289f2ec",
   "metadata": {},
   "source": [
    "## Gathering PLACE data from OSM network"
   ]
  },
  {
   "cell_type": "code",
   "execution_count": 5,
   "id": "6b51ac5a",
   "metadata": {},
   "outputs": [
    {
     "name": "stdout",
     "output_type": "stream",
     "text": [
      "Merged PLACES file was not found, merging and saving...\n",
      "Handling batch 0 of 41 that covers road segments 0 through 99...\n",
      "There are 77 uncorrected landuse places\n",
      "There are 2 corrected landuse places\n",
      "   Writing outputs to file...\n",
      "   Finished this batch.\n",
      "Handling batch 1 of 41 that covers road segments 100 through 199...\n"
     ]
    },
    {
     "name": "stderr",
     "output_type": "stream",
     "text": [
      "/Users/svanwal/Documents/Programming/Projects/gr-analysis/gr_placematch.py:107: ShapelyDeprecationWarning: __len__ for multi-part geometries is deprecated and will be removed in Shapely 2.0. Check the length of the `geoms` property instead to get the  number of parts of a multi-part geometry.\n",
      "  merged_polys = list(shapely.ops.unary_union(polys))\n",
      "/Users/svanwal/Documents/Programming/Projects/gr-analysis/gr_placematch.py:107: ShapelyDeprecationWarning: Iteration over multi-part geometries is deprecated and will be removed in Shapely 2.0. Use the `geoms` property to access the constituent parts of a multi-part geometry.\n",
      "  merged_polys = list(shapely.ops.unary_union(polys))\n"
     ]
    },
    {
     "name": "stdout",
     "output_type": "stream",
     "text": [
      "There are 113 uncorrected landuse places\n",
      "There are 3 corrected landuse places\n",
      "   Writing outputs to file...\n",
      "   Finished this batch.\n",
      "Handling batch 2 of 41 that covers road segments 200 through 299...\n"
     ]
    },
    {
     "name": "stderr",
     "output_type": "stream",
     "text": [
      "/Users/svanwal/Documents/Programming/Projects/gr-analysis/gr_placematch.py:107: ShapelyDeprecationWarning: __len__ for multi-part geometries is deprecated and will be removed in Shapely 2.0. Check the length of the `geoms` property instead to get the  number of parts of a multi-part geometry.\n",
      "  merged_polys = list(shapely.ops.unary_union(polys))\n",
      "/Users/svanwal/Documents/Programming/Projects/gr-analysis/gr_placematch.py:107: ShapelyDeprecationWarning: Iteration over multi-part geometries is deprecated and will be removed in Shapely 2.0. Use the `geoms` property to access the constituent parts of a multi-part geometry.\n",
      "  merged_polys = list(shapely.ops.unary_union(polys))\n"
     ]
    },
    {
     "name": "stdout",
     "output_type": "stream",
     "text": [
      "There are 370 uncorrected landuse places\n"
     ]
    },
    {
     "name": "stderr",
     "output_type": "stream",
     "text": [
      "/Users/svanwal/Documents/Programming/Projects/gr-analysis/gr_placematch.py:107: ShapelyDeprecationWarning: __len__ for multi-part geometries is deprecated and will be removed in Shapely 2.0. Check the length of the `geoms` property instead to get the  number of parts of a multi-part geometry.\n",
      "  merged_polys = list(shapely.ops.unary_union(polys))\n",
      "/Users/svanwal/Documents/Programming/Projects/gr-analysis/gr_placematch.py:107: ShapelyDeprecationWarning: Iteration over multi-part geometries is deprecated and will be removed in Shapely 2.0. Use the `geoms` property to access the constituent parts of a multi-part geometry.\n",
      "  merged_polys = list(shapely.ops.unary_union(polys))\n"
     ]
    },
    {
     "name": "stdout",
     "output_type": "stream",
     "text": [
      "There are 5 corrected landuse places\n",
      "   Writing outputs to file...\n",
      "   Finished this batch.\n",
      "Handling batch 3 of 41 that covers road segments 300 through 399...\n",
      "There are 348 uncorrected landuse places\n",
      "There are 3 corrected landuse places\n"
     ]
    },
    {
     "name": "stderr",
     "output_type": "stream",
     "text": [
      "/Users/svanwal/Documents/Programming/Projects/gr-analysis/gr_placematch.py:107: ShapelyDeprecationWarning: __len__ for multi-part geometries is deprecated and will be removed in Shapely 2.0. Check the length of the `geoms` property instead to get the  number of parts of a multi-part geometry.\n",
      "  merged_polys = list(shapely.ops.unary_union(polys))\n",
      "/Users/svanwal/Documents/Programming/Projects/gr-analysis/gr_placematch.py:107: ShapelyDeprecationWarning: Iteration over multi-part geometries is deprecated and will be removed in Shapely 2.0. Use the `geoms` property to access the constituent parts of a multi-part geometry.\n",
      "  merged_polys = list(shapely.ops.unary_union(polys))\n"
     ]
    },
    {
     "name": "stdout",
     "output_type": "stream",
     "text": [
      "   Writing outputs to file...\n",
      "   Finished this batch.\n",
      "Handling batch 4 of 41 that covers road segments 400 through 499...\n",
      "There are 238 uncorrected landuse places\n",
      "There are 5 corrected landuse places\n"
     ]
    },
    {
     "name": "stderr",
     "output_type": "stream",
     "text": [
      "/Users/svanwal/Documents/Programming/Projects/gr-analysis/gr_placematch.py:107: ShapelyDeprecationWarning: __len__ for multi-part geometries is deprecated and will be removed in Shapely 2.0. Check the length of the `geoms` property instead to get the  number of parts of a multi-part geometry.\n",
      "  merged_polys = list(shapely.ops.unary_union(polys))\n",
      "/Users/svanwal/Documents/Programming/Projects/gr-analysis/gr_placematch.py:107: ShapelyDeprecationWarning: Iteration over multi-part geometries is deprecated and will be removed in Shapely 2.0. Use the `geoms` property to access the constituent parts of a multi-part geometry.\n",
      "  merged_polys = list(shapely.ops.unary_union(polys))\n"
     ]
    },
    {
     "name": "stdout",
     "output_type": "stream",
     "text": [
      "   Writing outputs to file...\n",
      "   Finished this batch.\n",
      "Handling batch 5 of 41 that covers road segments 500 through 599...\n",
      "There are 251 uncorrected landuse places\n",
      "There are 3 corrected landuse places\n"
     ]
    },
    {
     "name": "stderr",
     "output_type": "stream",
     "text": [
      "/Users/svanwal/Documents/Programming/Projects/gr-analysis/gr_placematch.py:107: ShapelyDeprecationWarning: __len__ for multi-part geometries is deprecated and will be removed in Shapely 2.0. Check the length of the `geoms` property instead to get the  number of parts of a multi-part geometry.\n",
      "  merged_polys = list(shapely.ops.unary_union(polys))\n",
      "/Users/svanwal/Documents/Programming/Projects/gr-analysis/gr_placematch.py:107: ShapelyDeprecationWarning: Iteration over multi-part geometries is deprecated and will be removed in Shapely 2.0. Use the `geoms` property to access the constituent parts of a multi-part geometry.\n",
      "  merged_polys = list(shapely.ops.unary_union(polys))\n"
     ]
    },
    {
     "name": "stdout",
     "output_type": "stream",
     "text": [
      "   Writing outputs to file...\n",
      "   Finished this batch.\n",
      "Handling batch 6 of 41 that covers road segments 600 through 699...\n",
      "There are 208 uncorrected landuse places\n",
      "There are 6 corrected landuse places\n"
     ]
    },
    {
     "name": "stderr",
     "output_type": "stream",
     "text": [
      "/Users/svanwal/Documents/Programming/Projects/gr-analysis/gr_placematch.py:107: ShapelyDeprecationWarning: __len__ for multi-part geometries is deprecated and will be removed in Shapely 2.0. Check the length of the `geoms` property instead to get the  number of parts of a multi-part geometry.\n",
      "  merged_polys = list(shapely.ops.unary_union(polys))\n",
      "/Users/svanwal/Documents/Programming/Projects/gr-analysis/gr_placematch.py:107: ShapelyDeprecationWarning: Iteration over multi-part geometries is deprecated and will be removed in Shapely 2.0. Use the `geoms` property to access the constituent parts of a multi-part geometry.\n",
      "  merged_polys = list(shapely.ops.unary_union(polys))\n"
     ]
    },
    {
     "name": "stdout",
     "output_type": "stream",
     "text": [
      "   Writing outputs to file...\n",
      "   Finished this batch.\n",
      "Handling batch 7 of 41 that covers road segments 700 through 799...\n",
      "There are 165 uncorrected landuse places\n",
      "There are 4 corrected landuse places\n"
     ]
    },
    {
     "name": "stderr",
     "output_type": "stream",
     "text": [
      "/Users/svanwal/Documents/Programming/Projects/gr-analysis/gr_placematch.py:107: ShapelyDeprecationWarning: __len__ for multi-part geometries is deprecated and will be removed in Shapely 2.0. Check the length of the `geoms` property instead to get the  number of parts of a multi-part geometry.\n",
      "  merged_polys = list(shapely.ops.unary_union(polys))\n",
      "/Users/svanwal/Documents/Programming/Projects/gr-analysis/gr_placematch.py:107: ShapelyDeprecationWarning: Iteration over multi-part geometries is deprecated and will be removed in Shapely 2.0. Use the `geoms` property to access the constituent parts of a multi-part geometry.\n",
      "  merged_polys = list(shapely.ops.unary_union(polys))\n"
     ]
    },
    {
     "name": "stdout",
     "output_type": "stream",
     "text": [
      "   Writing outputs to file...\n",
      "   Finished this batch.\n",
      "Handling batch 8 of 41 that covers road segments 800 through 899...\n",
      "There are 171 uncorrected landuse places\n",
      "There are 5 corrected landuse places\n"
     ]
    },
    {
     "name": "stderr",
     "output_type": "stream",
     "text": [
      "/Users/svanwal/Documents/Programming/Projects/gr-analysis/gr_placematch.py:107: ShapelyDeprecationWarning: __len__ for multi-part geometries is deprecated and will be removed in Shapely 2.0. Check the length of the `geoms` property instead to get the  number of parts of a multi-part geometry.\n",
      "  merged_polys = list(shapely.ops.unary_union(polys))\n",
      "/Users/svanwal/Documents/Programming/Projects/gr-analysis/gr_placematch.py:107: ShapelyDeprecationWarning: Iteration over multi-part geometries is deprecated and will be removed in Shapely 2.0. Use the `geoms` property to access the constituent parts of a multi-part geometry.\n",
      "  merged_polys = list(shapely.ops.unary_union(polys))\n"
     ]
    },
    {
     "name": "stdout",
     "output_type": "stream",
     "text": [
      "   Writing outputs to file...\n",
      "   Finished this batch.\n",
      "Handling batch 9 of 41 that covers road segments 900 through 999...\n",
      "There are 308 uncorrected landuse places\n",
      "There are 8 corrected landuse places\n"
     ]
    },
    {
     "name": "stderr",
     "output_type": "stream",
     "text": [
      "/Users/svanwal/Documents/Programming/Projects/gr-analysis/gr_placematch.py:107: ShapelyDeprecationWarning: __len__ for multi-part geometries is deprecated and will be removed in Shapely 2.0. Check the length of the `geoms` property instead to get the  number of parts of a multi-part geometry.\n",
      "  merged_polys = list(shapely.ops.unary_union(polys))\n",
      "/Users/svanwal/Documents/Programming/Projects/gr-analysis/gr_placematch.py:107: ShapelyDeprecationWarning: Iteration over multi-part geometries is deprecated and will be removed in Shapely 2.0. Use the `geoms` property to access the constituent parts of a multi-part geometry.\n",
      "  merged_polys = list(shapely.ops.unary_union(polys))\n"
     ]
    },
    {
     "name": "stdout",
     "output_type": "stream",
     "text": [
      "   Writing outputs to file...\n",
      "   Finished this batch.\n",
      "Handling batch 10 of 41 that covers road segments 1000 through 1099...\n",
      "There are 256 uncorrected landuse places\n"
     ]
    },
    {
     "name": "stderr",
     "output_type": "stream",
     "text": [
      "/Users/svanwal/Documents/Programming/Projects/gr-analysis/gr_placematch.py:107: ShapelyDeprecationWarning: __len__ for multi-part geometries is deprecated and will be removed in Shapely 2.0. Check the length of the `geoms` property instead to get the  number of parts of a multi-part geometry.\n",
      "  merged_polys = list(shapely.ops.unary_union(polys))\n",
      "/Users/svanwal/Documents/Programming/Projects/gr-analysis/gr_placematch.py:107: ShapelyDeprecationWarning: Iteration over multi-part geometries is deprecated and will be removed in Shapely 2.0. Use the `geoms` property to access the constituent parts of a multi-part geometry.\n",
      "  merged_polys = list(shapely.ops.unary_union(polys))\n"
     ]
    },
    {
     "name": "stdout",
     "output_type": "stream",
     "text": [
      "There are 3 corrected landuse places\n",
      "   Writing outputs to file...\n",
      "   Finished this batch.\n",
      "Handling batch 11 of 41 that covers road segments 1100 through 1199...\n",
      "There are 318 uncorrected landuse places\n",
      "There are 5 corrected landuse places\n"
     ]
    },
    {
     "name": "stderr",
     "output_type": "stream",
     "text": [
      "/Users/svanwal/Documents/Programming/Projects/gr-analysis/gr_placematch.py:107: ShapelyDeprecationWarning: __len__ for multi-part geometries is deprecated and will be removed in Shapely 2.0. Check the length of the `geoms` property instead to get the  number of parts of a multi-part geometry.\n",
      "  merged_polys = list(shapely.ops.unary_union(polys))\n",
      "/Users/svanwal/Documents/Programming/Projects/gr-analysis/gr_placematch.py:107: ShapelyDeprecationWarning: Iteration over multi-part geometries is deprecated and will be removed in Shapely 2.0. Use the `geoms` property to access the constituent parts of a multi-part geometry.\n",
      "  merged_polys = list(shapely.ops.unary_union(polys))\n"
     ]
    },
    {
     "name": "stdout",
     "output_type": "stream",
     "text": [
      "   Writing outputs to file...\n",
      "   Finished this batch.\n",
      "Handling batch 12 of 41 that covers road segments 1200 through 1299...\n",
      "There are 340 uncorrected landuse places\n",
      "There are 3 corrected landuse places\n"
     ]
    },
    {
     "name": "stderr",
     "output_type": "stream",
     "text": [
      "/Users/svanwal/Documents/Programming/Projects/gr-analysis/gr_placematch.py:107: ShapelyDeprecationWarning: __len__ for multi-part geometries is deprecated and will be removed in Shapely 2.0. Check the length of the `geoms` property instead to get the  number of parts of a multi-part geometry.\n",
      "  merged_polys = list(shapely.ops.unary_union(polys))\n",
      "/Users/svanwal/Documents/Programming/Projects/gr-analysis/gr_placematch.py:107: ShapelyDeprecationWarning: Iteration over multi-part geometries is deprecated and will be removed in Shapely 2.0. Use the `geoms` property to access the constituent parts of a multi-part geometry.\n",
      "  merged_polys = list(shapely.ops.unary_union(polys))\n"
     ]
    },
    {
     "name": "stdout",
     "output_type": "stream",
     "text": [
      "   Writing outputs to file...\n",
      "   Finished this batch.\n",
      "Handling batch 13 of 41 that covers road segments 1300 through 1399...\n",
      "There are 432 uncorrected landuse places\n"
     ]
    },
    {
     "name": "stderr",
     "output_type": "stream",
     "text": [
      "/Users/svanwal/Documents/Programming/Projects/gr-analysis/gr_placematch.py:107: ShapelyDeprecationWarning: __len__ for multi-part geometries is deprecated and will be removed in Shapely 2.0. Check the length of the `geoms` property instead to get the  number of parts of a multi-part geometry.\n",
      "  merged_polys = list(shapely.ops.unary_union(polys))\n",
      "/Users/svanwal/Documents/Programming/Projects/gr-analysis/gr_placematch.py:107: ShapelyDeprecationWarning: Iteration over multi-part geometries is deprecated and will be removed in Shapely 2.0. Use the `geoms` property to access the constituent parts of a multi-part geometry.\n",
      "  merged_polys = list(shapely.ops.unary_union(polys))\n"
     ]
    },
    {
     "name": "stdout",
     "output_type": "stream",
     "text": [
      "There are 6 corrected landuse places\n",
      "   Writing outputs to file...\n",
      "   Finished this batch.\n",
      "Handling batch 14 of 41 that covers road segments 1400 through 1499...\n",
      "There are 474 uncorrected landuse places\n"
     ]
    },
    {
     "name": "stderr",
     "output_type": "stream",
     "text": [
      "/Users/svanwal/Documents/Programming/Projects/gr-analysis/gr_placematch.py:107: ShapelyDeprecationWarning: __len__ for multi-part geometries is deprecated and will be removed in Shapely 2.0. Check the length of the `geoms` property instead to get the  number of parts of a multi-part geometry.\n",
      "  merged_polys = list(shapely.ops.unary_union(polys))\n",
      "/Users/svanwal/Documents/Programming/Projects/gr-analysis/gr_placematch.py:107: ShapelyDeprecationWarning: Iteration over multi-part geometries is deprecated and will be removed in Shapely 2.0. Use the `geoms` property to access the constituent parts of a multi-part geometry.\n",
      "  merged_polys = list(shapely.ops.unary_union(polys))\n"
     ]
    },
    {
     "name": "stdout",
     "output_type": "stream",
     "text": [
      "There are 7 corrected landuse places\n",
      "   Writing outputs to file...\n",
      "   Finished this batch.\n",
      "Handling batch 15 of 41 that covers road segments 1500 through 1599...\n",
      "There are 443 uncorrected landuse places\n"
     ]
    },
    {
     "name": "stderr",
     "output_type": "stream",
     "text": [
      "/Users/svanwal/Documents/Programming/Projects/gr-analysis/gr_placematch.py:107: ShapelyDeprecationWarning: __len__ for multi-part geometries is deprecated and will be removed in Shapely 2.0. Check the length of the `geoms` property instead to get the  number of parts of a multi-part geometry.\n",
      "  merged_polys = list(shapely.ops.unary_union(polys))\n",
      "/Users/svanwal/Documents/Programming/Projects/gr-analysis/gr_placematch.py:107: ShapelyDeprecationWarning: Iteration over multi-part geometries is deprecated and will be removed in Shapely 2.0. Use the `geoms` property to access the constituent parts of a multi-part geometry.\n",
      "  merged_polys = list(shapely.ops.unary_union(polys))\n"
     ]
    },
    {
     "name": "stdout",
     "output_type": "stream",
     "text": [
      "There are 7 corrected landuse places\n",
      "   Writing outputs to file...\n",
      "   Finished this batch.\n",
      "Handling batch 16 of 41 that covers road segments 1600 through 1699...\n",
      "There are 370 uncorrected landuse places\n"
     ]
    },
    {
     "name": "stderr",
     "output_type": "stream",
     "text": [
      "/Users/svanwal/Documents/Programming/Projects/gr-analysis/gr_placematch.py:107: ShapelyDeprecationWarning: __len__ for multi-part geometries is deprecated and will be removed in Shapely 2.0. Check the length of the `geoms` property instead to get the  number of parts of a multi-part geometry.\n",
      "  merged_polys = list(shapely.ops.unary_union(polys))\n",
      "/Users/svanwal/Documents/Programming/Projects/gr-analysis/gr_placematch.py:107: ShapelyDeprecationWarning: Iteration over multi-part geometries is deprecated and will be removed in Shapely 2.0. Use the `geoms` property to access the constituent parts of a multi-part geometry.\n",
      "  merged_polys = list(shapely.ops.unary_union(polys))\n"
     ]
    },
    {
     "name": "stdout",
     "output_type": "stream",
     "text": [
      "There are 8 corrected landuse places\n",
      "   Writing outputs to file...\n",
      "   Finished this batch.\n",
      "Handling batch 17 of 41 that covers road segments 1700 through 1799...\n",
      "There are 390 uncorrected landuse places\n",
      "There are 4 corrected landuse places\n"
     ]
    },
    {
     "name": "stderr",
     "output_type": "stream",
     "text": [
      "/Users/svanwal/Documents/Programming/Projects/gr-analysis/gr_placematch.py:107: ShapelyDeprecationWarning: __len__ for multi-part geometries is deprecated and will be removed in Shapely 2.0. Check the length of the `geoms` property instead to get the  number of parts of a multi-part geometry.\n",
      "  merged_polys = list(shapely.ops.unary_union(polys))\n",
      "/Users/svanwal/Documents/Programming/Projects/gr-analysis/gr_placematch.py:107: ShapelyDeprecationWarning: Iteration over multi-part geometries is deprecated and will be removed in Shapely 2.0. Use the `geoms` property to access the constituent parts of a multi-part geometry.\n",
      "  merged_polys = list(shapely.ops.unary_union(polys))\n"
     ]
    },
    {
     "name": "stdout",
     "output_type": "stream",
     "text": [
      "   Writing outputs to file...\n",
      "   Finished this batch.\n",
      "Handling batch 18 of 41 that covers road segments 1800 through 1899...\n",
      "There are 569 uncorrected landuse places\n"
     ]
    },
    {
     "name": "stderr",
     "output_type": "stream",
     "text": [
      "/Users/svanwal/Documents/Programming/Projects/gr-analysis/gr_placematch.py:107: ShapelyDeprecationWarning: __len__ for multi-part geometries is deprecated and will be removed in Shapely 2.0. Check the length of the `geoms` property instead to get the  number of parts of a multi-part geometry.\n",
      "  merged_polys = list(shapely.ops.unary_union(polys))\n",
      "/Users/svanwal/Documents/Programming/Projects/gr-analysis/gr_placematch.py:107: ShapelyDeprecationWarning: Iteration over multi-part geometries is deprecated and will be removed in Shapely 2.0. Use the `geoms` property to access the constituent parts of a multi-part geometry.\n",
      "  merged_polys = list(shapely.ops.unary_union(polys))\n"
     ]
    },
    {
     "name": "stdout",
     "output_type": "stream",
     "text": [
      "There are 6 corrected landuse places\n",
      "   Writing outputs to file...\n",
      "   Finished this batch.\n",
      "Handling batch 19 of 41 that covers road segments 1900 through 1999...\n",
      "There are 386 uncorrected landuse places\n",
      "There are 5 corrected landuse places\n"
     ]
    },
    {
     "name": "stderr",
     "output_type": "stream",
     "text": [
      "/Users/svanwal/Documents/Programming/Projects/gr-analysis/gr_placematch.py:107: ShapelyDeprecationWarning: __len__ for multi-part geometries is deprecated and will be removed in Shapely 2.0. Check the length of the `geoms` property instead to get the  number of parts of a multi-part geometry.\n",
      "  merged_polys = list(shapely.ops.unary_union(polys))\n",
      "/Users/svanwal/Documents/Programming/Projects/gr-analysis/gr_placematch.py:107: ShapelyDeprecationWarning: Iteration over multi-part geometries is deprecated and will be removed in Shapely 2.0. Use the `geoms` property to access the constituent parts of a multi-part geometry.\n",
      "  merged_polys = list(shapely.ops.unary_union(polys))\n"
     ]
    },
    {
     "name": "stdout",
     "output_type": "stream",
     "text": [
      "   Writing outputs to file...\n",
      "   Finished this batch.\n",
      "Handling batch 20 of 41 that covers road segments 2000 through 2099...\n",
      "There are 391 uncorrected landuse places\n"
     ]
    },
    {
     "name": "stderr",
     "output_type": "stream",
     "text": [
      "/Users/svanwal/Documents/Programming/Projects/gr-analysis/gr_placematch.py:107: ShapelyDeprecationWarning: __len__ for multi-part geometries is deprecated and will be removed in Shapely 2.0. Check the length of the `geoms` property instead to get the  number of parts of a multi-part geometry.\n",
      "  merged_polys = list(shapely.ops.unary_union(polys))\n",
      "/Users/svanwal/Documents/Programming/Projects/gr-analysis/gr_placematch.py:107: ShapelyDeprecationWarning: Iteration over multi-part geometries is deprecated and will be removed in Shapely 2.0. Use the `geoms` property to access the constituent parts of a multi-part geometry.\n",
      "  merged_polys = list(shapely.ops.unary_union(polys))\n"
     ]
    },
    {
     "name": "stdout",
     "output_type": "stream",
     "text": [
      "There are 5 corrected landuse places\n",
      "   Writing outputs to file...\n",
      "   Finished this batch.\n",
      "Handling batch 21 of 41 that covers road segments 2100 through 2199...\n",
      "There are 294 uncorrected landuse places\n",
      "There are 3 corrected landuse places\n"
     ]
    },
    {
     "name": "stderr",
     "output_type": "stream",
     "text": [
      "/Users/svanwal/Documents/Programming/Projects/gr-analysis/gr_placematch.py:107: ShapelyDeprecationWarning: __len__ for multi-part geometries is deprecated and will be removed in Shapely 2.0. Check the length of the `geoms` property instead to get the  number of parts of a multi-part geometry.\n",
      "  merged_polys = list(shapely.ops.unary_union(polys))\n",
      "/Users/svanwal/Documents/Programming/Projects/gr-analysis/gr_placematch.py:107: ShapelyDeprecationWarning: Iteration over multi-part geometries is deprecated and will be removed in Shapely 2.0. Use the `geoms` property to access the constituent parts of a multi-part geometry.\n",
      "  merged_polys = list(shapely.ops.unary_union(polys))\n"
     ]
    },
    {
     "name": "stdout",
     "output_type": "stream",
     "text": [
      "   Writing outputs to file...\n",
      "   Finished this batch.\n",
      "Handling batch 22 of 41 that covers road segments 2200 through 2299...\n",
      "There are 228 uncorrected landuse places\n"
     ]
    },
    {
     "name": "stderr",
     "output_type": "stream",
     "text": [
      "/Users/svanwal/Documents/Programming/Projects/gr-analysis/gr_placematch.py:107: ShapelyDeprecationWarning: __len__ for multi-part geometries is deprecated and will be removed in Shapely 2.0. Check the length of the `geoms` property instead to get the  number of parts of a multi-part geometry.\n",
      "  merged_polys = list(shapely.ops.unary_union(polys))\n",
      "/Users/svanwal/Documents/Programming/Projects/gr-analysis/gr_placematch.py:107: ShapelyDeprecationWarning: Iteration over multi-part geometries is deprecated and will be removed in Shapely 2.0. Use the `geoms` property to access the constituent parts of a multi-part geometry.\n",
      "  merged_polys = list(shapely.ops.unary_union(polys))\n"
     ]
    },
    {
     "name": "stdout",
     "output_type": "stream",
     "text": [
      "There are 1 corrected landuse places\n",
      "   Writing outputs to file...\n",
      "   Finished this batch.\n",
      "Handling batch 23 of 41 that covers road segments 2300 through 2399...\n",
      "There are 201 uncorrected landuse places\n",
      "There are 2 corrected landuse places\n"
     ]
    },
    {
     "name": "stderr",
     "output_type": "stream",
     "text": [
      "/Users/svanwal/Documents/Programming/Projects/gr-analysis/gr_placematch.py:107: ShapelyDeprecationWarning: __len__ for multi-part geometries is deprecated and will be removed in Shapely 2.0. Check the length of the `geoms` property instead to get the  number of parts of a multi-part geometry.\n",
      "  merged_polys = list(shapely.ops.unary_union(polys))\n",
      "/Users/svanwal/Documents/Programming/Projects/gr-analysis/gr_placematch.py:107: ShapelyDeprecationWarning: Iteration over multi-part geometries is deprecated and will be removed in Shapely 2.0. Use the `geoms` property to access the constituent parts of a multi-part geometry.\n",
      "  merged_polys = list(shapely.ops.unary_union(polys))\n"
     ]
    },
    {
     "name": "stdout",
     "output_type": "stream",
     "text": [
      "   Writing outputs to file...\n",
      "   Finished this batch.\n",
      "Handling batch 24 of 41 that covers road segments 2400 through 2499...\n",
      "There are 364 uncorrected landuse places\n"
     ]
    },
    {
     "name": "stderr",
     "output_type": "stream",
     "text": [
      "/Users/svanwal/Documents/Programming/Projects/gr-analysis/gr_placematch.py:107: ShapelyDeprecationWarning: __len__ for multi-part geometries is deprecated and will be removed in Shapely 2.0. Check the length of the `geoms` property instead to get the  number of parts of a multi-part geometry.\n",
      "  merged_polys = list(shapely.ops.unary_union(polys))\n",
      "/Users/svanwal/Documents/Programming/Projects/gr-analysis/gr_placematch.py:107: ShapelyDeprecationWarning: Iteration over multi-part geometries is deprecated and will be removed in Shapely 2.0. Use the `geoms` property to access the constituent parts of a multi-part geometry.\n",
      "  merged_polys = list(shapely.ops.unary_union(polys))\n"
     ]
    },
    {
     "name": "stdout",
     "output_type": "stream",
     "text": [
      "There are 4 corrected landuse places\n",
      "   Writing outputs to file...\n",
      "   Finished this batch.\n",
      "Handling batch 25 of 41 that covers road segments 2500 through 2599...\n",
      "There are 173 uncorrected landuse places\n"
     ]
    },
    {
     "name": "stderr",
     "output_type": "stream",
     "text": [
      "/Users/svanwal/Documents/Programming/Projects/gr-analysis/gr_placematch.py:107: ShapelyDeprecationWarning: __len__ for multi-part geometries is deprecated and will be removed in Shapely 2.0. Check the length of the `geoms` property instead to get the  number of parts of a multi-part geometry.\n",
      "  merged_polys = list(shapely.ops.unary_union(polys))\n",
      "/Users/svanwal/Documents/Programming/Projects/gr-analysis/gr_placematch.py:107: ShapelyDeprecationWarning: Iteration over multi-part geometries is deprecated and will be removed in Shapely 2.0. Use the `geoms` property to access the constituent parts of a multi-part geometry.\n",
      "  merged_polys = list(shapely.ops.unary_union(polys))\n"
     ]
    },
    {
     "name": "stdout",
     "output_type": "stream",
     "text": [
      "There are 2 corrected landuse places\n",
      "   Writing outputs to file...\n",
      "   Finished this batch.\n",
      "Handling batch 26 of 41 that covers road segments 2600 through 2699...\n",
      "There are 166 uncorrected landuse places\n",
      "There are 2 corrected landuse places\n"
     ]
    },
    {
     "name": "stderr",
     "output_type": "stream",
     "text": [
      "/Users/svanwal/Documents/Programming/Projects/gr-analysis/gr_placematch.py:107: ShapelyDeprecationWarning: __len__ for multi-part geometries is deprecated and will be removed in Shapely 2.0. Check the length of the `geoms` property instead to get the  number of parts of a multi-part geometry.\n",
      "  merged_polys = list(shapely.ops.unary_union(polys))\n",
      "/Users/svanwal/Documents/Programming/Projects/gr-analysis/gr_placematch.py:107: ShapelyDeprecationWarning: Iteration over multi-part geometries is deprecated and will be removed in Shapely 2.0. Use the `geoms` property to access the constituent parts of a multi-part geometry.\n",
      "  merged_polys = list(shapely.ops.unary_union(polys))\n"
     ]
    },
    {
     "name": "stdout",
     "output_type": "stream",
     "text": [
      "   Writing outputs to file...\n",
      "   Finished this batch.\n",
      "Handling batch 27 of 41 that covers road segments 2700 through 2799...\n",
      "There are 180 uncorrected landuse places\n",
      "There are 3 corrected landuse places\n"
     ]
    },
    {
     "name": "stderr",
     "output_type": "stream",
     "text": [
      "/Users/svanwal/Documents/Programming/Projects/gr-analysis/gr_placematch.py:107: ShapelyDeprecationWarning: __len__ for multi-part geometries is deprecated and will be removed in Shapely 2.0. Check the length of the `geoms` property instead to get the  number of parts of a multi-part geometry.\n",
      "  merged_polys = list(shapely.ops.unary_union(polys))\n",
      "/Users/svanwal/Documents/Programming/Projects/gr-analysis/gr_placematch.py:107: ShapelyDeprecationWarning: Iteration over multi-part geometries is deprecated and will be removed in Shapely 2.0. Use the `geoms` property to access the constituent parts of a multi-part geometry.\n",
      "  merged_polys = list(shapely.ops.unary_union(polys))\n"
     ]
    },
    {
     "name": "stdout",
     "output_type": "stream",
     "text": [
      "   Writing outputs to file...\n",
      "   Finished this batch.\n",
      "Handling batch 28 of 41 that covers road segments 2800 through 2899...\n",
      "There are 136 uncorrected landuse places\n"
     ]
    },
    {
     "name": "stderr",
     "output_type": "stream",
     "text": [
      "/Users/svanwal/Documents/Programming/Projects/gr-analysis/gr_placematch.py:107: ShapelyDeprecationWarning: __len__ for multi-part geometries is deprecated and will be removed in Shapely 2.0. Check the length of the `geoms` property instead to get the  number of parts of a multi-part geometry.\n",
      "  merged_polys = list(shapely.ops.unary_union(polys))\n",
      "/Users/svanwal/Documents/Programming/Projects/gr-analysis/gr_placematch.py:107: ShapelyDeprecationWarning: Iteration over multi-part geometries is deprecated and will be removed in Shapely 2.0. Use the `geoms` property to access the constituent parts of a multi-part geometry.\n",
      "  merged_polys = list(shapely.ops.unary_union(polys))\n"
     ]
    },
    {
     "name": "stdout",
     "output_type": "stream",
     "text": [
      "There are 3 corrected landuse places\n",
      "   Writing outputs to file...\n",
      "   Finished this batch.\n",
      "Handling batch 29 of 41 that covers road segments 2900 through 2999...\n",
      "There are 123 uncorrected landuse places\n"
     ]
    },
    {
     "name": "stderr",
     "output_type": "stream",
     "text": [
      "/Users/svanwal/Documents/Programming/Projects/gr-analysis/gr_placematch.py:107: ShapelyDeprecationWarning: __len__ for multi-part geometries is deprecated and will be removed in Shapely 2.0. Check the length of the `geoms` property instead to get the  number of parts of a multi-part geometry.\n",
      "  merged_polys = list(shapely.ops.unary_union(polys))\n",
      "/Users/svanwal/Documents/Programming/Projects/gr-analysis/gr_placematch.py:107: ShapelyDeprecationWarning: Iteration over multi-part geometries is deprecated and will be removed in Shapely 2.0. Use the `geoms` property to access the constituent parts of a multi-part geometry.\n",
      "  merged_polys = list(shapely.ops.unary_union(polys))\n"
     ]
    },
    {
     "name": "stdout",
     "output_type": "stream",
     "text": [
      "There are 1 corrected landuse places\n",
      "   Writing outputs to file...\n",
      "   Finished this batch.\n",
      "Handling batch 30 of 41 that covers road segments 3000 through 3099...\n",
      "There are 90 uncorrected landuse places\n",
      "There are 1 corrected landuse places\n"
     ]
    },
    {
     "name": "stderr",
     "output_type": "stream",
     "text": [
      "/Users/svanwal/Documents/Programming/Projects/gr-analysis/gr_placematch.py:107: ShapelyDeprecationWarning: __len__ for multi-part geometries is deprecated and will be removed in Shapely 2.0. Check the length of the `geoms` property instead to get the  number of parts of a multi-part geometry.\n",
      "  merged_polys = list(shapely.ops.unary_union(polys))\n",
      "/Users/svanwal/Documents/Programming/Projects/gr-analysis/gr_placematch.py:107: ShapelyDeprecationWarning: Iteration over multi-part geometries is deprecated and will be removed in Shapely 2.0. Use the `geoms` property to access the constituent parts of a multi-part geometry.\n",
      "  merged_polys = list(shapely.ops.unary_union(polys))\n"
     ]
    },
    {
     "name": "stdout",
     "output_type": "stream",
     "text": [
      "   Writing outputs to file...\n",
      "   Finished this batch.\n",
      "Handling batch 31 of 41 that covers road segments 3100 through 3199...\n",
      "There are 142 uncorrected landuse places\n"
     ]
    },
    {
     "name": "stderr",
     "output_type": "stream",
     "text": [
      "/Users/svanwal/Documents/Programming/Projects/gr-analysis/gr_placematch.py:107: ShapelyDeprecationWarning: __len__ for multi-part geometries is deprecated and will be removed in Shapely 2.0. Check the length of the `geoms` property instead to get the  number of parts of a multi-part geometry.\n",
      "  merged_polys = list(shapely.ops.unary_union(polys))\n",
      "/Users/svanwal/Documents/Programming/Projects/gr-analysis/gr_placematch.py:107: ShapelyDeprecationWarning: Iteration over multi-part geometries is deprecated and will be removed in Shapely 2.0. Use the `geoms` property to access the constituent parts of a multi-part geometry.\n",
      "  merged_polys = list(shapely.ops.unary_union(polys))\n"
     ]
    },
    {
     "name": "stdout",
     "output_type": "stream",
     "text": [
      "There are 1 corrected landuse places\n",
      "   Writing outputs to file...\n",
      "   Finished this batch.\n",
      "Handling batch 32 of 41 that covers road segments 3200 through 3299...\n",
      "There are 153 uncorrected landuse places\n"
     ]
    },
    {
     "name": "stderr",
     "output_type": "stream",
     "text": [
      "/Users/svanwal/Documents/Programming/Projects/gr-analysis/gr_placematch.py:107: ShapelyDeprecationWarning: __len__ for multi-part geometries is deprecated and will be removed in Shapely 2.0. Check the length of the `geoms` property instead to get the  number of parts of a multi-part geometry.\n",
      "  merged_polys = list(shapely.ops.unary_union(polys))\n",
      "/Users/svanwal/Documents/Programming/Projects/gr-analysis/gr_placematch.py:107: ShapelyDeprecationWarning: Iteration over multi-part geometries is deprecated and will be removed in Shapely 2.0. Use the `geoms` property to access the constituent parts of a multi-part geometry.\n",
      "  merged_polys = list(shapely.ops.unary_union(polys))\n"
     ]
    },
    {
     "name": "stdout",
     "output_type": "stream",
     "text": [
      "There are 1 corrected landuse places\n",
      "   Writing outputs to file...\n",
      "   Finished this batch.\n",
      "Handling batch 33 of 41 that covers road segments 3300 through 3399...\n",
      "There are 215 uncorrected landuse places\n",
      "There are 2 corrected landuse places\n"
     ]
    },
    {
     "name": "stderr",
     "output_type": "stream",
     "text": [
      "/Users/svanwal/Documents/Programming/Projects/gr-analysis/gr_placematch.py:107: ShapelyDeprecationWarning: __len__ for multi-part geometries is deprecated and will be removed in Shapely 2.0. Check the length of the `geoms` property instead to get the  number of parts of a multi-part geometry.\n",
      "  merged_polys = list(shapely.ops.unary_union(polys))\n",
      "/Users/svanwal/Documents/Programming/Projects/gr-analysis/gr_placematch.py:107: ShapelyDeprecationWarning: Iteration over multi-part geometries is deprecated and will be removed in Shapely 2.0. Use the `geoms` property to access the constituent parts of a multi-part geometry.\n",
      "  merged_polys = list(shapely.ops.unary_union(polys))\n"
     ]
    },
    {
     "name": "stdout",
     "output_type": "stream",
     "text": [
      "   Writing outputs to file...\n",
      "   Finished this batch.\n",
      "Handling batch 34 of 41 that covers road segments 3400 through 3499...\n",
      "There are 354 uncorrected landuse places\n"
     ]
    },
    {
     "name": "stderr",
     "output_type": "stream",
     "text": [
      "/Users/svanwal/Documents/Programming/Projects/gr-analysis/gr_placematch.py:107: ShapelyDeprecationWarning: __len__ for multi-part geometries is deprecated and will be removed in Shapely 2.0. Check the length of the `geoms` property instead to get the  number of parts of a multi-part geometry.\n",
      "  merged_polys = list(shapely.ops.unary_union(polys))\n",
      "/Users/svanwal/Documents/Programming/Projects/gr-analysis/gr_placematch.py:107: ShapelyDeprecationWarning: Iteration over multi-part geometries is deprecated and will be removed in Shapely 2.0. Use the `geoms` property to access the constituent parts of a multi-part geometry.\n",
      "  merged_polys = list(shapely.ops.unary_union(polys))\n"
     ]
    },
    {
     "name": "stdout",
     "output_type": "stream",
     "text": [
      "There are 3 corrected landuse places\n",
      "   Writing outputs to file...\n",
      "   Finished this batch.\n",
      "Handling batch 35 of 41 that covers road segments 3500 through 3599...\n",
      "There are 160 uncorrected landuse places\n",
      "There are 3 corrected landuse places\n"
     ]
    },
    {
     "name": "stderr",
     "output_type": "stream",
     "text": [
      "/Users/svanwal/Documents/Programming/Projects/gr-analysis/gr_placematch.py:107: ShapelyDeprecationWarning: __len__ for multi-part geometries is deprecated and will be removed in Shapely 2.0. Check the length of the `geoms` property instead to get the  number of parts of a multi-part geometry.\n",
      "  merged_polys = list(shapely.ops.unary_union(polys))\n",
      "/Users/svanwal/Documents/Programming/Projects/gr-analysis/gr_placematch.py:107: ShapelyDeprecationWarning: Iteration over multi-part geometries is deprecated and will be removed in Shapely 2.0. Use the `geoms` property to access the constituent parts of a multi-part geometry.\n",
      "  merged_polys = list(shapely.ops.unary_union(polys))\n"
     ]
    },
    {
     "name": "stdout",
     "output_type": "stream",
     "text": [
      "   Writing outputs to file...\n",
      "   Finished this batch.\n",
      "Handling batch 36 of 41 that covers road segments 3600 through 3699...\n",
      "There are 188 uncorrected landuse places\n",
      "There are 3 corrected landuse places\n"
     ]
    },
    {
     "name": "stderr",
     "output_type": "stream",
     "text": [
      "/Users/svanwal/Documents/Programming/Projects/gr-analysis/gr_placematch.py:107: ShapelyDeprecationWarning: __len__ for multi-part geometries is deprecated and will be removed in Shapely 2.0. Check the length of the `geoms` property instead to get the  number of parts of a multi-part geometry.\n",
      "  merged_polys = list(shapely.ops.unary_union(polys))\n",
      "/Users/svanwal/Documents/Programming/Projects/gr-analysis/gr_placematch.py:107: ShapelyDeprecationWarning: Iteration over multi-part geometries is deprecated and will be removed in Shapely 2.0. Use the `geoms` property to access the constituent parts of a multi-part geometry.\n",
      "  merged_polys = list(shapely.ops.unary_union(polys))\n"
     ]
    },
    {
     "name": "stdout",
     "output_type": "stream",
     "text": [
      "   Writing outputs to file...\n",
      "   Finished this batch.\n",
      "Handling batch 37 of 41 that covers road segments 3700 through 3799...\n",
      "There are 580 uncorrected landuse places\n"
     ]
    },
    {
     "name": "stderr",
     "output_type": "stream",
     "text": [
      "/Users/svanwal/Documents/Programming/Projects/gr-analysis/gr_placematch.py:107: ShapelyDeprecationWarning: __len__ for multi-part geometries is deprecated and will be removed in Shapely 2.0. Check the length of the `geoms` property instead to get the  number of parts of a multi-part geometry.\n",
      "  merged_polys = list(shapely.ops.unary_union(polys))\n",
      "/Users/svanwal/Documents/Programming/Projects/gr-analysis/gr_placematch.py:107: ShapelyDeprecationWarning: Iteration over multi-part geometries is deprecated and will be removed in Shapely 2.0. Use the `geoms` property to access the constituent parts of a multi-part geometry.\n",
      "  merged_polys = list(shapely.ops.unary_union(polys))\n"
     ]
    },
    {
     "name": "stdout",
     "output_type": "stream",
     "text": [
      "There are 4 corrected landuse places\n",
      "   Writing outputs to file...\n",
      "   Finished this batch.\n",
      "Handling batch 38 of 41 that covers road segments 3800 through 3899...\n",
      "There are 439 uncorrected landuse places\n"
     ]
    },
    {
     "name": "stderr",
     "output_type": "stream",
     "text": [
      "/Users/svanwal/Documents/Programming/Projects/gr-analysis/gr_placematch.py:107: ShapelyDeprecationWarning: __len__ for multi-part geometries is deprecated and will be removed in Shapely 2.0. Check the length of the `geoms` property instead to get the  number of parts of a multi-part geometry.\n",
      "  merged_polys = list(shapely.ops.unary_union(polys))\n",
      "/Users/svanwal/Documents/Programming/Projects/gr-analysis/gr_placematch.py:107: ShapelyDeprecationWarning: Iteration over multi-part geometries is deprecated and will be removed in Shapely 2.0. Use the `geoms` property to access the constituent parts of a multi-part geometry.\n",
      "  merged_polys = list(shapely.ops.unary_union(polys))\n"
     ]
    },
    {
     "name": "stdout",
     "output_type": "stream",
     "text": [
      "There are 2 corrected landuse places\n",
      "   Writing outputs to file...\n",
      "   Finished this batch.\n",
      "Handling batch 39 of 41 that covers road segments 3900 through 3999...\n",
      "There are 372 uncorrected landuse places\n",
      "There are 3 corrected landuse places\n"
     ]
    },
    {
     "name": "stderr",
     "output_type": "stream",
     "text": [
      "/Users/svanwal/Documents/Programming/Projects/gr-analysis/gr_placematch.py:107: ShapelyDeprecationWarning: __len__ for multi-part geometries is deprecated and will be removed in Shapely 2.0. Check the length of the `geoms` property instead to get the  number of parts of a multi-part geometry.\n",
      "  merged_polys = list(shapely.ops.unary_union(polys))\n",
      "/Users/svanwal/Documents/Programming/Projects/gr-analysis/gr_placematch.py:107: ShapelyDeprecationWarning: Iteration over multi-part geometries is deprecated and will be removed in Shapely 2.0. Use the `geoms` property to access the constituent parts of a multi-part geometry.\n",
      "  merged_polys = list(shapely.ops.unary_union(polys))\n"
     ]
    },
    {
     "name": "stdout",
     "output_type": "stream",
     "text": [
      "   Writing outputs to file...\n",
      "   Finished this batch.\n",
      "Handling batch 40 of 41 that covers road segments 4000 through 4099...\n",
      "There are 473 uncorrected landuse places\n"
     ]
    },
    {
     "name": "stderr",
     "output_type": "stream",
     "text": [
      "/Users/svanwal/Documents/Programming/Projects/gr-analysis/gr_placematch.py:107: ShapelyDeprecationWarning: __len__ for multi-part geometries is deprecated and will be removed in Shapely 2.0. Check the length of the `geoms` property instead to get the  number of parts of a multi-part geometry.\n",
      "  merged_polys = list(shapely.ops.unary_union(polys))\n",
      "/Users/svanwal/Documents/Programming/Projects/gr-analysis/gr_placematch.py:107: ShapelyDeprecationWarning: Iteration over multi-part geometries is deprecated and will be removed in Shapely 2.0. Use the `geoms` property to access the constituent parts of a multi-part geometry.\n",
      "  merged_polys = list(shapely.ops.unary_union(polys))\n"
     ]
    },
    {
     "name": "stdout",
     "output_type": "stream",
     "text": [
      "There are 3 corrected landuse places\n",
      "   Writing outputs to file...\n",
      "   Finished this batch.\n",
      "Handling batch 41 of 41 that covers road segments 4100 through 4168...\n",
      "There are 173 uncorrected landuse places\n",
      "There are 2 corrected landuse places\n",
      "   Writing outputs to file...\n",
      "   Finished this batch.\n"
     ]
    },
    {
     "name": "stderr",
     "output_type": "stream",
     "text": [
      "/Users/svanwal/Documents/Programming/Projects/gr-analysis/gr_placematch.py:107: ShapelyDeprecationWarning: __len__ for multi-part geometries is deprecated and will be removed in Shapely 2.0. Check the length of the `geoms` property instead to get the  number of parts of a multi-part geometry.\n",
      "  merged_polys = list(shapely.ops.unary_union(polys))\n",
      "/Users/svanwal/Documents/Programming/Projects/gr-analysis/gr_placematch.py:107: ShapelyDeprecationWarning: Iteration over multi-part geometries is deprecated and will be removed in Shapely 2.0. Use the `geoms` property to access the constituent parts of a multi-part geometry.\n",
      "  merged_polys = list(shapely.ops.unary_union(polys))\n"
     ]
    },
    {
     "name": "stdout",
     "output_type": "stream",
     "text": [
      "Saved.\n"
     ]
    }
   ],
   "source": [
    "# filename_places = 'cache/' + trailname + '_places.csv'\n",
    "\n",
    "# if not os.path.isfile(filename_places): # The merged PLACES file does not exist\n",
    "    \n",
    "#     print('Merged PLACES file was not found, merging and saving...')\n",
    "#     gr_placematch.roads2places(trailname,data_roads,points_per_batch_places, delta_places, buffersize, tol_area)\n",
    "#     data_places = gr_utils.merge_places(trailname, data_roads, points_per_batch_places) # Merge the different sections\n",
    "#     gr_utils.write_places(trailname, data_places) # Write the merged PLACES data\n",
    "#     print('Saved.')\n",
    "    \n",
    "# else: # The merged PLACES file does exist\n",
    "    \n",
    "#     print('Loading merged PLACES file...')\n",
    "#     data_places = gr_utils.read_places(trailname) # Read the merged PLACES file\n",
    "#     print('Loaded.')"
   ]
  },
  {
   "cell_type": "markdown",
   "id": "f6eb2b8c",
   "metadata": {},
   "source": [
    "## Evaluating PROCESSED properties"
   ]
  },
  {
   "cell_type": "code",
   "execution_count": 18,
   "id": "7f33ced7",
   "metadata": {
    "scrolled": true
   },
   "outputs": [
    {
     "name": "stdout",
     "output_type": "stream",
     "text": [
      "The PROCESSED file was not found, processing and saving...\n",
      "Saved.\n"
     ]
    }
   ],
   "source": [
    "# filename_processed = 'data_output/' + trailname + '_processed.csv'\n",
    "\n",
    "# if not os.path.isfile(filename_processed): # The PROCESSED file does not exist\n",
    "    \n",
    "#     print('The PROCESSED file was not found, processing and saving...')\n",
    "#     data = gr_process.places2processed(data_places,tol_d,types_slow,types_heavy,tracktype_p0,tracktype_p1,tracktype_p2,surface_p0,surface_p1,highway_p1) # Determine traffic/development/paved status & GR types\n",
    "#     gr_utils.write_processed(trailname, data) # Write the processed data\n",
    "#     print('Saved.')\n",
    "    \n",
    "# else: # The PROCESSED file does exist\n",
    "    \n",
    "#     print('The PROCESSED file already exists, so nothing needs to be done.')"
   ]
  },
  {
   "cell_type": "code",
   "execution_count": null,
   "id": "35ea2648",
   "metadata": {},
   "outputs": [],
   "source": []
  }
 ],
 "metadata": {
  "kernelspec": {
   "display_name": "Python 3 (ipykernel)",
   "language": "python",
   "name": "python3"
  },
  "language_info": {
   "codemirror_mode": {
    "name": "ipython",
    "version": 3
   },
   "file_extension": ".py",
   "mimetype": "text/x-python",
   "name": "python",
   "nbconvert_exporter": "python",
   "pygments_lexer": "ipython3",
   "version": "3.9.13"
  }
 },
 "nbformat": 4,
 "nbformat_minor": 5
}
