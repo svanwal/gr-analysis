{
 "cells": [
  {
   "cell_type": "markdown",
   "id": "82204626",
   "metadata": {},
   "source": [
    "## Importing modules and packages"
   ]
  },
  {
   "cell_type": "code",
   "execution_count": 1,
   "id": "f4a32d3e",
   "metadata": {},
   "outputs": [],
   "source": [
    "# Importing packages\n",
    "import osmnx  as ox\n",
    "import pandas as pd\n",
    "import numpy  as np\n",
    "import folium\n",
    "import os.path\n",
    "import shapely\n",
    "import geopandas as gpd\n",
    "from IPython.display import IFrame\n",
    "\n",
    "# Importing modules\n",
    "import gr_mapmatch # Contains functions that perform the map matching of roads\n",
    "import gr_placematch # Contains functions that perform the map matching of places\n",
    "import gr_utils # Contains useful geometry functions\n",
    "import gr_plot # Contains plotting routines\n",
    "import gr_process\n",
    "import roadmatch\n",
    "\n",
    "# Configuring modules & packages\n",
    "ox.settings.useful_tags_way = [\n",
    "    \"bridge\",\"tunnel\",\"name\",\"highway\",\"area\",\"landuse\",\"surface\",\"tracktype\"\n",
    "] # Configuring which parameters we want to obtain from OSM"
   ]
  },
  {
   "cell_type": "markdown",
   "id": "27b93e47",
   "metadata": {},
   "source": [
    "## Input parameters"
   ]
  },
  {
   "cell_type": "code",
   "execution_count": 2,
   "id": "015a24ff",
   "metadata": {},
   "outputs": [],
   "source": [
    "trailname = 'gr131' # Name of the hiking trail to be considered (will search for trail.csv or trail.gpx as sources)\n",
    "\n",
    "# Settings for trail2roads\n",
    "points_per_batch = 100 # Subdivide the trail into batches of this many points\n",
    "delta_roads = 0.010 # Tolerance around bounding box per trail section [deg]\n",
    "min_dist_from_bbox = 0.005 # [deg]\n",
    "npaths = 5 # number of paths to generate per piece when pathfindinng\n",
    "\n",
    "# Settings for roads2places\n",
    "points_per_batch_places = 100 # Subdivide the trail into batches of this many segments\n",
    "delta_places = 0.015 # bbox delta in deg\n",
    "buffersize = 0.00015 # buffer used when merging landuse places\n",
    "tol_area = 15.0e-6 # buffer used to define which merged landuse places we consider\n",
    "\n",
    "# Settings for places2processed\n",
    "tol_d        = 0.75 # Consider a segment developed if it lies closer than tol_d to a developed area\n",
    "tracktype_p0 = ['grade4','grade5']\n",
    "tracktype_p1 = ['grade2','grade3']\n",
    "tracktype_p2 = ['grade1']\n",
    "surface_p0   = ['ground','grass','dirt','sand','earth','mud']\n",
    "surface_p1   = ['unpaved','gravel','fine_gravel','wood','compacted','rocks','pebblestone','woodchips','snow','ice','salt']\n",
    "highway_p1   = ['track','path','footway','bridleway']\n",
    "types_slow   = ['pedestrian','track','footway','bridleway','steps','corridor','path']\n",
    "types_heavy  = ['motorway','trunk','primary','secondary','tertiary']"
   ]
  },
  {
   "cell_type": "markdown",
   "id": "aa7e8e6f",
   "metadata": {},
   "source": [
    "## Loading GPX file"
   ]
  },
  {
   "cell_type": "code",
   "execution_count": 3,
   "id": "667a640b",
   "metadata": {},
   "outputs": [
    {
     "name": "stdout",
     "output_type": "stream",
     "text": [
      "Loading trail points from <data_input/gr131.gpx>...\n",
      "Finished loading.\n"
     ]
    }
   ],
   "source": [
    "gpx = gr_utils.get_gpx(trailname)\n",
    "gpx_coords = gr_mapmatch.trail_to_coords(gpx) # Convert the points into a list of [lat, lon] pairs"
   ]
  },
  {
   "cell_type": "markdown",
   "id": "5698b079",
   "metadata": {},
   "source": [
    "## Matching GPX points to OSM nodes"
   ]
  },
  {
   "cell_type": "code",
   "execution_count": 5,
   "id": "9f937d46",
   "metadata": {
    "scrolled": true
   },
   "outputs": [],
   "source": [
    "# Generate the nodes dataframe [point_x, point_y, node_id, node_x, node_y, d2node]\n",
    "# with point = a GPX point and node = the corresponding node\n",
    "# and d2node = the distance from the GPX point to its corresponding node\n",
    "filename_nodes = 'cache/' + trailname + '_nodes.csv'\n",
    "if not os.path.isfile(filename_nodes): # The nodes file does not exist, construct it\n",
    "    nodes = roadmatch.gpx_to_nodes(gpx, gpx_coords, points_per_batch, delta_roads, min_dist_from_bbox)\n",
    "    nodes.to_csv(filename_nodes)\n",
    "else: # The nodes file exists, load it\n",
    "    nodes = pd.read_csv(filename_nodes,index_col=0,\n",
    "                            dtype={'point_x':float, 'point_y':float,\n",
    "                                   'node_id':int,\n",
    "                                   'node_x':float, 'node_y':float,\n",
    "                                   'd2node':float})\n",
    "    \n",
    "# Generate the pieces dataframe [node0, node1, gpx0, gpx1]\n",
    "# it cuts up the GPX trail into pieces on which individual pathfinding can be done\n",
    "filename_pieces = 'cache/' + trailname + '_pieces.csv'\n",
    "if not os.path.isfile(filename_pieces): # The pieces file does not exist, construct it\n",
    "    pieces = roadmatch.nodes_to_pieces(nodes)\n",
    "    pieces.to_csv(filename_pieces)\n",
    "else:\n",
    "    pieces = pd.read_csv(filename_pieces,index_col=0,\n",
    "                         dtype={'node0':int,'node1':int,\n",
    "                                'gpx0':int,'gpx1':int})\n",
    "    \n",
    "# Generate the segments dataframe [x0,y0,x1,y1,d_cart,d_osm,highway,surface,tracktype]\n",
    "filename_segments = 'cache/' + trailname + '_segments.csv'\n",
    "if not os.path.isfile(filename_segments): # The pieces file does not exist, construct it\n",
    "    segments = roadmatch.pieces_to_segments(gpx,nodes,points_per_batch,delta_roads,pieces,npaths)\n",
    "    segments.to_csv(filename_segments)\n",
    "else:\n",
    "    segments = pd.read_csv(filename_segments,index_col=0,\n",
    "                         dtype={'x0':float,'y0':float,\n",
    "                                'x1':float,'y1':float,\n",
    "                               'd_cart':float,'d_osm':float,\n",
    "                                'highway':str,'surface':str,'tracktype':str})"
   ]
  },
  {
   "cell_type": "markdown",
   "id": "53152ba7",
   "metadata": {},
   "source": [
    "## Gathering place information"
   ]
  },
  {
   "cell_type": "code",
   "execution_count": 6,
   "id": "abf6f529",
   "metadata": {},
   "outputs": [
    {
     "name": "stdout",
     "output_type": "stream",
     "text": [
      "Merged PLACES file was not found, merging and saving...\n",
      "Handling batch 0 of 41 that covers road segments 0 through 99...\n"
     ]
    },
    {
     "name": "stderr",
     "output_type": "stream",
     "text": [
      "/Users/svanwal/Documents/Programming/Projects/gr-analysis/gr_placematch.py:107: ShapelyDeprecationWarning: __len__ for multi-part geometries is deprecated and will be removed in Shapely 2.0. Check the length of the `geoms` property instead to get the  number of parts of a multi-part geometry.\n",
      "  merged_polys = list(shapely.ops.unary_union(polys))\n",
      "/Users/svanwal/Documents/Programming/Projects/gr-analysis/gr_placematch.py:107: ShapelyDeprecationWarning: Iteration over multi-part geometries is deprecated and will be removed in Shapely 2.0. Use the `geoms` property to access the constituent parts of a multi-part geometry.\n",
      "  merged_polys = list(shapely.ops.unary_union(polys))\n"
     ]
    },
    {
     "name": "stdout",
     "output_type": "stream",
     "text": [
      "   Writing outputs to file...\n",
      "   Finished this batch.\n",
      "Handling batch 1 of 41 that covers road segments 100 through 199...\n"
     ]
    },
    {
     "name": "stderr",
     "output_type": "stream",
     "text": [
      "/Users/svanwal/Documents/Programming/Projects/gr-analysis/gr_placematch.py:107: ShapelyDeprecationWarning: __len__ for multi-part geometries is deprecated and will be removed in Shapely 2.0. Check the length of the `geoms` property instead to get the  number of parts of a multi-part geometry.\n",
      "  merged_polys = list(shapely.ops.unary_union(polys))\n",
      "/Users/svanwal/Documents/Programming/Projects/gr-analysis/gr_placematch.py:107: ShapelyDeprecationWarning: Iteration over multi-part geometries is deprecated and will be removed in Shapely 2.0. Use the `geoms` property to access the constituent parts of a multi-part geometry.\n",
      "  merged_polys = list(shapely.ops.unary_union(polys))\n"
     ]
    },
    {
     "name": "stdout",
     "output_type": "stream",
     "text": [
      "   Writing outputs to file...\n",
      "   Finished this batch.\n",
      "Handling batch 2 of 41 that covers road segments 200 through 299...\n"
     ]
    },
    {
     "name": "stderr",
     "output_type": "stream",
     "text": [
      "/Users/svanwal/Documents/Programming/Projects/gr-analysis/gr_placematch.py:107: ShapelyDeprecationWarning: __len__ for multi-part geometries is deprecated and will be removed in Shapely 2.0. Check the length of the `geoms` property instead to get the  number of parts of a multi-part geometry.\n",
      "  merged_polys = list(shapely.ops.unary_union(polys))\n",
      "/Users/svanwal/Documents/Programming/Projects/gr-analysis/gr_placematch.py:107: ShapelyDeprecationWarning: Iteration over multi-part geometries is deprecated and will be removed in Shapely 2.0. Use the `geoms` property to access the constituent parts of a multi-part geometry.\n",
      "  merged_polys = list(shapely.ops.unary_union(polys))\n"
     ]
    },
    {
     "name": "stdout",
     "output_type": "stream",
     "text": [
      "   Writing outputs to file...\n",
      "   Finished this batch.\n",
      "Handling batch 3 of 41 that covers road segments 300 through 399...\n"
     ]
    },
    {
     "name": "stderr",
     "output_type": "stream",
     "text": [
      "/Users/svanwal/Documents/Programming/Projects/gr-analysis/gr_placematch.py:107: ShapelyDeprecationWarning: __len__ for multi-part geometries is deprecated and will be removed in Shapely 2.0. Check the length of the `geoms` property instead to get the  number of parts of a multi-part geometry.\n",
      "  merged_polys = list(shapely.ops.unary_union(polys))\n",
      "/Users/svanwal/Documents/Programming/Projects/gr-analysis/gr_placematch.py:107: ShapelyDeprecationWarning: Iteration over multi-part geometries is deprecated and will be removed in Shapely 2.0. Use the `geoms` property to access the constituent parts of a multi-part geometry.\n",
      "  merged_polys = list(shapely.ops.unary_union(polys))\n"
     ]
    },
    {
     "name": "stdout",
     "output_type": "stream",
     "text": [
      "   Writing outputs to file...\n",
      "   Finished this batch.\n",
      "Handling batch 4 of 41 that covers road segments 400 through 499...\n"
     ]
    },
    {
     "name": "stderr",
     "output_type": "stream",
     "text": [
      "/Users/svanwal/Documents/Programming/Projects/gr-analysis/gr_placematch.py:107: ShapelyDeprecationWarning: __len__ for multi-part geometries is deprecated and will be removed in Shapely 2.0. Check the length of the `geoms` property instead to get the  number of parts of a multi-part geometry.\n",
      "  merged_polys = list(shapely.ops.unary_union(polys))\n",
      "/Users/svanwal/Documents/Programming/Projects/gr-analysis/gr_placematch.py:107: ShapelyDeprecationWarning: Iteration over multi-part geometries is deprecated and will be removed in Shapely 2.0. Use the `geoms` property to access the constituent parts of a multi-part geometry.\n",
      "  merged_polys = list(shapely.ops.unary_union(polys))\n"
     ]
    },
    {
     "name": "stdout",
     "output_type": "stream",
     "text": [
      "   Writing outputs to file...\n",
      "   Finished this batch.\n",
      "Handling batch 5 of 41 that covers road segments 500 through 599...\n"
     ]
    },
    {
     "name": "stderr",
     "output_type": "stream",
     "text": [
      "/Users/svanwal/Documents/Programming/Projects/gr-analysis/gr_placematch.py:107: ShapelyDeprecationWarning: __len__ for multi-part geometries is deprecated and will be removed in Shapely 2.0. Check the length of the `geoms` property instead to get the  number of parts of a multi-part geometry.\n",
      "  merged_polys = list(shapely.ops.unary_union(polys))\n",
      "/Users/svanwal/Documents/Programming/Projects/gr-analysis/gr_placematch.py:107: ShapelyDeprecationWarning: Iteration over multi-part geometries is deprecated and will be removed in Shapely 2.0. Use the `geoms` property to access the constituent parts of a multi-part geometry.\n",
      "  merged_polys = list(shapely.ops.unary_union(polys))\n"
     ]
    },
    {
     "name": "stdout",
     "output_type": "stream",
     "text": [
      "   Writing outputs to file...\n",
      "   Finished this batch.\n",
      "Handling batch 6 of 41 that covers road segments 600 through 699...\n"
     ]
    },
    {
     "name": "stderr",
     "output_type": "stream",
     "text": [
      "/Users/svanwal/Documents/Programming/Projects/gr-analysis/gr_placematch.py:107: ShapelyDeprecationWarning: __len__ for multi-part geometries is deprecated and will be removed in Shapely 2.0. Check the length of the `geoms` property instead to get the  number of parts of a multi-part geometry.\n",
      "  merged_polys = list(shapely.ops.unary_union(polys))\n",
      "/Users/svanwal/Documents/Programming/Projects/gr-analysis/gr_placematch.py:107: ShapelyDeprecationWarning: Iteration over multi-part geometries is deprecated and will be removed in Shapely 2.0. Use the `geoms` property to access the constituent parts of a multi-part geometry.\n",
      "  merged_polys = list(shapely.ops.unary_union(polys))\n"
     ]
    },
    {
     "name": "stdout",
     "output_type": "stream",
     "text": [
      "   Writing outputs to file...\n",
      "   Finished this batch.\n",
      "Handling batch 7 of 41 that covers road segments 700 through 799...\n"
     ]
    },
    {
     "name": "stderr",
     "output_type": "stream",
     "text": [
      "/Users/svanwal/Documents/Programming/Projects/gr-analysis/gr_placematch.py:107: ShapelyDeprecationWarning: __len__ for multi-part geometries is deprecated and will be removed in Shapely 2.0. Check the length of the `geoms` property instead to get the  number of parts of a multi-part geometry.\n",
      "  merged_polys = list(shapely.ops.unary_union(polys))\n",
      "/Users/svanwal/Documents/Programming/Projects/gr-analysis/gr_placematch.py:107: ShapelyDeprecationWarning: Iteration over multi-part geometries is deprecated and will be removed in Shapely 2.0. Use the `geoms` property to access the constituent parts of a multi-part geometry.\n",
      "  merged_polys = list(shapely.ops.unary_union(polys))\n"
     ]
    },
    {
     "name": "stdout",
     "output_type": "stream",
     "text": [
      "   Writing outputs to file...\n",
      "   Finished this batch.\n",
      "Handling batch 8 of 41 that covers road segments 800 through 899...\n"
     ]
    },
    {
     "name": "stderr",
     "output_type": "stream",
     "text": [
      "/Users/svanwal/Documents/Programming/Projects/gr-analysis/gr_placematch.py:107: ShapelyDeprecationWarning: __len__ for multi-part geometries is deprecated and will be removed in Shapely 2.0. Check the length of the `geoms` property instead to get the  number of parts of a multi-part geometry.\n",
      "  merged_polys = list(shapely.ops.unary_union(polys))\n",
      "/Users/svanwal/Documents/Programming/Projects/gr-analysis/gr_placematch.py:107: ShapelyDeprecationWarning: Iteration over multi-part geometries is deprecated and will be removed in Shapely 2.0. Use the `geoms` property to access the constituent parts of a multi-part geometry.\n",
      "  merged_polys = list(shapely.ops.unary_union(polys))\n"
     ]
    },
    {
     "name": "stdout",
     "output_type": "stream",
     "text": [
      "   Writing outputs to file...\n",
      "   Finished this batch.\n",
      "Handling batch 9 of 41 that covers road segments 900 through 999...\n"
     ]
    },
    {
     "name": "stderr",
     "output_type": "stream",
     "text": [
      "/Users/svanwal/Documents/Programming/Projects/gr-analysis/gr_placematch.py:107: ShapelyDeprecationWarning: __len__ for multi-part geometries is deprecated and will be removed in Shapely 2.0. Check the length of the `geoms` property instead to get the  number of parts of a multi-part geometry.\n",
      "  merged_polys = list(shapely.ops.unary_union(polys))\n",
      "/Users/svanwal/Documents/Programming/Projects/gr-analysis/gr_placematch.py:107: ShapelyDeprecationWarning: Iteration over multi-part geometries is deprecated and will be removed in Shapely 2.0. Use the `geoms` property to access the constituent parts of a multi-part geometry.\n",
      "  merged_polys = list(shapely.ops.unary_union(polys))\n"
     ]
    },
    {
     "name": "stdout",
     "output_type": "stream",
     "text": [
      "   Writing outputs to file...\n",
      "   Finished this batch.\n",
      "Handling batch 10 of 41 that covers road segments 1000 through 1099...\n"
     ]
    },
    {
     "name": "stderr",
     "output_type": "stream",
     "text": [
      "/Users/svanwal/Documents/Programming/Projects/gr-analysis/gr_placematch.py:107: ShapelyDeprecationWarning: __len__ for multi-part geometries is deprecated and will be removed in Shapely 2.0. Check the length of the `geoms` property instead to get the  number of parts of a multi-part geometry.\n",
      "  merged_polys = list(shapely.ops.unary_union(polys))\n",
      "/Users/svanwal/Documents/Programming/Projects/gr-analysis/gr_placematch.py:107: ShapelyDeprecationWarning: Iteration over multi-part geometries is deprecated and will be removed in Shapely 2.0. Use the `geoms` property to access the constituent parts of a multi-part geometry.\n",
      "  merged_polys = list(shapely.ops.unary_union(polys))\n"
     ]
    },
    {
     "name": "stdout",
     "output_type": "stream",
     "text": [
      "   Writing outputs to file...\n",
      "   Finished this batch.\n",
      "Handling batch 11 of 41 that covers road segments 1100 through 1199...\n"
     ]
    },
    {
     "name": "stderr",
     "output_type": "stream",
     "text": [
      "/Users/svanwal/Documents/Programming/Projects/gr-analysis/gr_placematch.py:107: ShapelyDeprecationWarning: __len__ for multi-part geometries is deprecated and will be removed in Shapely 2.0. Check the length of the `geoms` property instead to get the  number of parts of a multi-part geometry.\n",
      "  merged_polys = list(shapely.ops.unary_union(polys))\n",
      "/Users/svanwal/Documents/Programming/Projects/gr-analysis/gr_placematch.py:107: ShapelyDeprecationWarning: Iteration over multi-part geometries is deprecated and will be removed in Shapely 2.0. Use the `geoms` property to access the constituent parts of a multi-part geometry.\n",
      "  merged_polys = list(shapely.ops.unary_union(polys))\n"
     ]
    },
    {
     "name": "stdout",
     "output_type": "stream",
     "text": [
      "   Writing outputs to file...\n",
      "   Finished this batch.\n",
      "Handling batch 12 of 41 that covers road segments 1200 through 1299...\n"
     ]
    },
    {
     "name": "stderr",
     "output_type": "stream",
     "text": [
      "/Users/svanwal/Documents/Programming/Projects/gr-analysis/gr_placematch.py:107: ShapelyDeprecationWarning: __len__ for multi-part geometries is deprecated and will be removed in Shapely 2.0. Check the length of the `geoms` property instead to get the  number of parts of a multi-part geometry.\n",
      "  merged_polys = list(shapely.ops.unary_union(polys))\n",
      "/Users/svanwal/Documents/Programming/Projects/gr-analysis/gr_placematch.py:107: ShapelyDeprecationWarning: Iteration over multi-part geometries is deprecated and will be removed in Shapely 2.0. Use the `geoms` property to access the constituent parts of a multi-part geometry.\n",
      "  merged_polys = list(shapely.ops.unary_union(polys))\n"
     ]
    },
    {
     "name": "stdout",
     "output_type": "stream",
     "text": [
      "   Writing outputs to file...\n",
      "   Finished this batch.\n",
      "Handling batch 13 of 41 that covers road segments 1300 through 1399...\n"
     ]
    },
    {
     "name": "stderr",
     "output_type": "stream",
     "text": [
      "/Users/svanwal/Documents/Programming/Projects/gr-analysis/gr_placematch.py:107: ShapelyDeprecationWarning: __len__ for multi-part geometries is deprecated and will be removed in Shapely 2.0. Check the length of the `geoms` property instead to get the  number of parts of a multi-part geometry.\n",
      "  merged_polys = list(shapely.ops.unary_union(polys))\n",
      "/Users/svanwal/Documents/Programming/Projects/gr-analysis/gr_placematch.py:107: ShapelyDeprecationWarning: Iteration over multi-part geometries is deprecated and will be removed in Shapely 2.0. Use the `geoms` property to access the constituent parts of a multi-part geometry.\n",
      "  merged_polys = list(shapely.ops.unary_union(polys))\n"
     ]
    },
    {
     "name": "stdout",
     "output_type": "stream",
     "text": [
      "   Writing outputs to file...\n",
      "   Finished this batch.\n",
      "Handling batch 14 of 41 that covers road segments 1400 through 1499...\n"
     ]
    },
    {
     "name": "stderr",
     "output_type": "stream",
     "text": [
      "/Users/svanwal/Documents/Programming/Projects/gr-analysis/gr_placematch.py:107: ShapelyDeprecationWarning: __len__ for multi-part geometries is deprecated and will be removed in Shapely 2.0. Check the length of the `geoms` property instead to get the  number of parts of a multi-part geometry.\n",
      "  merged_polys = list(shapely.ops.unary_union(polys))\n",
      "/Users/svanwal/Documents/Programming/Projects/gr-analysis/gr_placematch.py:107: ShapelyDeprecationWarning: Iteration over multi-part geometries is deprecated and will be removed in Shapely 2.0. Use the `geoms` property to access the constituent parts of a multi-part geometry.\n",
      "  merged_polys = list(shapely.ops.unary_union(polys))\n"
     ]
    },
    {
     "name": "stdout",
     "output_type": "stream",
     "text": [
      "   Writing outputs to file...\n",
      "   Finished this batch.\n",
      "Handling batch 15 of 41 that covers road segments 1500 through 1599...\n"
     ]
    },
    {
     "name": "stderr",
     "output_type": "stream",
     "text": [
      "/Users/svanwal/Documents/Programming/Projects/gr-analysis/gr_placematch.py:107: ShapelyDeprecationWarning: __len__ for multi-part geometries is deprecated and will be removed in Shapely 2.0. Check the length of the `geoms` property instead to get the  number of parts of a multi-part geometry.\n",
      "  merged_polys = list(shapely.ops.unary_union(polys))\n",
      "/Users/svanwal/Documents/Programming/Projects/gr-analysis/gr_placematch.py:107: ShapelyDeprecationWarning: Iteration over multi-part geometries is deprecated and will be removed in Shapely 2.0. Use the `geoms` property to access the constituent parts of a multi-part geometry.\n",
      "  merged_polys = list(shapely.ops.unary_union(polys))\n"
     ]
    },
    {
     "name": "stdout",
     "output_type": "stream",
     "text": [
      "   Writing outputs to file...\n",
      "   Finished this batch.\n",
      "Handling batch 16 of 41 that covers road segments 1600 through 1699...\n"
     ]
    },
    {
     "name": "stderr",
     "output_type": "stream",
     "text": [
      "/Users/svanwal/Documents/Programming/Projects/gr-analysis/gr_placematch.py:107: ShapelyDeprecationWarning: __len__ for multi-part geometries is deprecated and will be removed in Shapely 2.0. Check the length of the `geoms` property instead to get the  number of parts of a multi-part geometry.\n",
      "  merged_polys = list(shapely.ops.unary_union(polys))\n",
      "/Users/svanwal/Documents/Programming/Projects/gr-analysis/gr_placematch.py:107: ShapelyDeprecationWarning: Iteration over multi-part geometries is deprecated and will be removed in Shapely 2.0. Use the `geoms` property to access the constituent parts of a multi-part geometry.\n",
      "  merged_polys = list(shapely.ops.unary_union(polys))\n"
     ]
    },
    {
     "name": "stdout",
     "output_type": "stream",
     "text": [
      "   Writing outputs to file...\n",
      "   Finished this batch.\n",
      "Handling batch 17 of 41 that covers road segments 1700 through 1799...\n"
     ]
    },
    {
     "name": "stderr",
     "output_type": "stream",
     "text": [
      "/Users/svanwal/Documents/Programming/Projects/gr-analysis/gr_placematch.py:107: ShapelyDeprecationWarning: __len__ for multi-part geometries is deprecated and will be removed in Shapely 2.0. Check the length of the `geoms` property instead to get the  number of parts of a multi-part geometry.\n",
      "  merged_polys = list(shapely.ops.unary_union(polys))\n",
      "/Users/svanwal/Documents/Programming/Projects/gr-analysis/gr_placematch.py:107: ShapelyDeprecationWarning: Iteration over multi-part geometries is deprecated and will be removed in Shapely 2.0. Use the `geoms` property to access the constituent parts of a multi-part geometry.\n",
      "  merged_polys = list(shapely.ops.unary_union(polys))\n"
     ]
    },
    {
     "name": "stdout",
     "output_type": "stream",
     "text": [
      "   Writing outputs to file...\n",
      "   Finished this batch.\n",
      "Handling batch 18 of 41 that covers road segments 1800 through 1899...\n"
     ]
    },
    {
     "name": "stderr",
     "output_type": "stream",
     "text": [
      "/Users/svanwal/Documents/Programming/Projects/gr-analysis/gr_placematch.py:107: ShapelyDeprecationWarning: __len__ for multi-part geometries is deprecated and will be removed in Shapely 2.0. Check the length of the `geoms` property instead to get the  number of parts of a multi-part geometry.\n",
      "  merged_polys = list(shapely.ops.unary_union(polys))\n",
      "/Users/svanwal/Documents/Programming/Projects/gr-analysis/gr_placematch.py:107: ShapelyDeprecationWarning: Iteration over multi-part geometries is deprecated and will be removed in Shapely 2.0. Use the `geoms` property to access the constituent parts of a multi-part geometry.\n",
      "  merged_polys = list(shapely.ops.unary_union(polys))\n"
     ]
    },
    {
     "name": "stdout",
     "output_type": "stream",
     "text": [
      "   Writing outputs to file...\n",
      "   Finished this batch.\n",
      "Handling batch 19 of 41 that covers road segments 1900 through 1999...\n"
     ]
    },
    {
     "name": "stderr",
     "output_type": "stream",
     "text": [
      "/Users/svanwal/Documents/Programming/Projects/gr-analysis/gr_placematch.py:107: ShapelyDeprecationWarning: __len__ for multi-part geometries is deprecated and will be removed in Shapely 2.0. Check the length of the `geoms` property instead to get the  number of parts of a multi-part geometry.\n",
      "  merged_polys = list(shapely.ops.unary_union(polys))\n",
      "/Users/svanwal/Documents/Programming/Projects/gr-analysis/gr_placematch.py:107: ShapelyDeprecationWarning: Iteration over multi-part geometries is deprecated and will be removed in Shapely 2.0. Use the `geoms` property to access the constituent parts of a multi-part geometry.\n",
      "  merged_polys = list(shapely.ops.unary_union(polys))\n"
     ]
    },
    {
     "name": "stdout",
     "output_type": "stream",
     "text": [
      "   Writing outputs to file...\n",
      "   Finished this batch.\n",
      "Handling batch 20 of 41 that covers road segments 2000 through 2099...\n"
     ]
    },
    {
     "name": "stderr",
     "output_type": "stream",
     "text": [
      "/Users/svanwal/Documents/Programming/Projects/gr-analysis/gr_placematch.py:107: ShapelyDeprecationWarning: __len__ for multi-part geometries is deprecated and will be removed in Shapely 2.0. Check the length of the `geoms` property instead to get the  number of parts of a multi-part geometry.\n",
      "  merged_polys = list(shapely.ops.unary_union(polys))\n",
      "/Users/svanwal/Documents/Programming/Projects/gr-analysis/gr_placematch.py:107: ShapelyDeprecationWarning: Iteration over multi-part geometries is deprecated and will be removed in Shapely 2.0. Use the `geoms` property to access the constituent parts of a multi-part geometry.\n",
      "  merged_polys = list(shapely.ops.unary_union(polys))\n"
     ]
    },
    {
     "name": "stdout",
     "output_type": "stream",
     "text": [
      "   Writing outputs to file...\n",
      "   Finished this batch.\n",
      "Handling batch 21 of 41 that covers road segments 2100 through 2199...\n"
     ]
    },
    {
     "name": "stderr",
     "output_type": "stream",
     "text": [
      "/Users/svanwal/Documents/Programming/Projects/gr-analysis/gr_placematch.py:107: ShapelyDeprecationWarning: __len__ for multi-part geometries is deprecated and will be removed in Shapely 2.0. Check the length of the `geoms` property instead to get the  number of parts of a multi-part geometry.\n",
      "  merged_polys = list(shapely.ops.unary_union(polys))\n",
      "/Users/svanwal/Documents/Programming/Projects/gr-analysis/gr_placematch.py:107: ShapelyDeprecationWarning: Iteration over multi-part geometries is deprecated and will be removed in Shapely 2.0. Use the `geoms` property to access the constituent parts of a multi-part geometry.\n",
      "  merged_polys = list(shapely.ops.unary_union(polys))\n"
     ]
    },
    {
     "name": "stdout",
     "output_type": "stream",
     "text": [
      "   Writing outputs to file...\n",
      "   Finished this batch.\n",
      "Handling batch 22 of 41 that covers road segments 2200 through 2299...\n"
     ]
    },
    {
     "name": "stderr",
     "output_type": "stream",
     "text": [
      "/Users/svanwal/Documents/Programming/Projects/gr-analysis/gr_placematch.py:107: ShapelyDeprecationWarning: __len__ for multi-part geometries is deprecated and will be removed in Shapely 2.0. Check the length of the `geoms` property instead to get the  number of parts of a multi-part geometry.\n",
      "  merged_polys = list(shapely.ops.unary_union(polys))\n",
      "/Users/svanwal/Documents/Programming/Projects/gr-analysis/gr_placematch.py:107: ShapelyDeprecationWarning: Iteration over multi-part geometries is deprecated and will be removed in Shapely 2.0. Use the `geoms` property to access the constituent parts of a multi-part geometry.\n",
      "  merged_polys = list(shapely.ops.unary_union(polys))\n"
     ]
    },
    {
     "name": "stdout",
     "output_type": "stream",
     "text": [
      "   Writing outputs to file...\n",
      "   Finished this batch.\n",
      "Handling batch 23 of 41 that covers road segments 2300 through 2399...\n"
     ]
    },
    {
     "name": "stderr",
     "output_type": "stream",
     "text": [
      "/Users/svanwal/Documents/Programming/Projects/gr-analysis/gr_placematch.py:107: ShapelyDeprecationWarning: __len__ for multi-part geometries is deprecated and will be removed in Shapely 2.0. Check the length of the `geoms` property instead to get the  number of parts of a multi-part geometry.\n",
      "  merged_polys = list(shapely.ops.unary_union(polys))\n",
      "/Users/svanwal/Documents/Programming/Projects/gr-analysis/gr_placematch.py:107: ShapelyDeprecationWarning: Iteration over multi-part geometries is deprecated and will be removed in Shapely 2.0. Use the `geoms` property to access the constituent parts of a multi-part geometry.\n",
      "  merged_polys = list(shapely.ops.unary_union(polys))\n"
     ]
    },
    {
     "name": "stdout",
     "output_type": "stream",
     "text": [
      "   Writing outputs to file...\n",
      "   Finished this batch.\n",
      "Handling batch 24 of 41 that covers road segments 2400 through 2499...\n"
     ]
    },
    {
     "name": "stderr",
     "output_type": "stream",
     "text": [
      "/Users/svanwal/Documents/Programming/Projects/gr-analysis/gr_placematch.py:107: ShapelyDeprecationWarning: __len__ for multi-part geometries is deprecated and will be removed in Shapely 2.0. Check the length of the `geoms` property instead to get the  number of parts of a multi-part geometry.\n",
      "  merged_polys = list(shapely.ops.unary_union(polys))\n",
      "/Users/svanwal/Documents/Programming/Projects/gr-analysis/gr_placematch.py:107: ShapelyDeprecationWarning: Iteration over multi-part geometries is deprecated and will be removed in Shapely 2.0. Use the `geoms` property to access the constituent parts of a multi-part geometry.\n",
      "  merged_polys = list(shapely.ops.unary_union(polys))\n"
     ]
    },
    {
     "name": "stdout",
     "output_type": "stream",
     "text": [
      "   Writing outputs to file...\n",
      "   Finished this batch.\n",
      "Handling batch 25 of 41 that covers road segments 2500 through 2599...\n"
     ]
    },
    {
     "name": "stderr",
     "output_type": "stream",
     "text": [
      "/Users/svanwal/Documents/Programming/Projects/gr-analysis/gr_placematch.py:107: ShapelyDeprecationWarning: __len__ for multi-part geometries is deprecated and will be removed in Shapely 2.0. Check the length of the `geoms` property instead to get the  number of parts of a multi-part geometry.\n",
      "  merged_polys = list(shapely.ops.unary_union(polys))\n",
      "/Users/svanwal/Documents/Programming/Projects/gr-analysis/gr_placematch.py:107: ShapelyDeprecationWarning: Iteration over multi-part geometries is deprecated and will be removed in Shapely 2.0. Use the `geoms` property to access the constituent parts of a multi-part geometry.\n",
      "  merged_polys = list(shapely.ops.unary_union(polys))\n"
     ]
    },
    {
     "name": "stdout",
     "output_type": "stream",
     "text": [
      "   Writing outputs to file...\n",
      "   Finished this batch.\n",
      "Handling batch 26 of 41 that covers road segments 2600 through 2699...\n"
     ]
    },
    {
     "name": "stderr",
     "output_type": "stream",
     "text": [
      "/Users/svanwal/Documents/Programming/Projects/gr-analysis/gr_placematch.py:107: ShapelyDeprecationWarning: __len__ for multi-part geometries is deprecated and will be removed in Shapely 2.0. Check the length of the `geoms` property instead to get the  number of parts of a multi-part geometry.\n",
      "  merged_polys = list(shapely.ops.unary_union(polys))\n",
      "/Users/svanwal/Documents/Programming/Projects/gr-analysis/gr_placematch.py:107: ShapelyDeprecationWarning: Iteration over multi-part geometries is deprecated and will be removed in Shapely 2.0. Use the `geoms` property to access the constituent parts of a multi-part geometry.\n",
      "  merged_polys = list(shapely.ops.unary_union(polys))\n"
     ]
    },
    {
     "name": "stdout",
     "output_type": "stream",
     "text": [
      "   Writing outputs to file...\n",
      "   Finished this batch.\n",
      "Handling batch 27 of 41 that covers road segments 2700 through 2799...\n"
     ]
    },
    {
     "name": "stderr",
     "output_type": "stream",
     "text": [
      "/Users/svanwal/Documents/Programming/Projects/gr-analysis/gr_placematch.py:107: ShapelyDeprecationWarning: __len__ for multi-part geometries is deprecated and will be removed in Shapely 2.0. Check the length of the `geoms` property instead to get the  number of parts of a multi-part geometry.\n",
      "  merged_polys = list(shapely.ops.unary_union(polys))\n",
      "/Users/svanwal/Documents/Programming/Projects/gr-analysis/gr_placematch.py:107: ShapelyDeprecationWarning: Iteration over multi-part geometries is deprecated and will be removed in Shapely 2.0. Use the `geoms` property to access the constituent parts of a multi-part geometry.\n",
      "  merged_polys = list(shapely.ops.unary_union(polys))\n"
     ]
    },
    {
     "name": "stdout",
     "output_type": "stream",
     "text": [
      "   Writing outputs to file...\n",
      "   Finished this batch.\n",
      "Handling batch 28 of 41 that covers road segments 2800 through 2899...\n"
     ]
    },
    {
     "name": "stderr",
     "output_type": "stream",
     "text": [
      "/Users/svanwal/Documents/Programming/Projects/gr-analysis/gr_placematch.py:107: ShapelyDeprecationWarning: __len__ for multi-part geometries is deprecated and will be removed in Shapely 2.0. Check the length of the `geoms` property instead to get the  number of parts of a multi-part geometry.\n",
      "  merged_polys = list(shapely.ops.unary_union(polys))\n",
      "/Users/svanwal/Documents/Programming/Projects/gr-analysis/gr_placematch.py:107: ShapelyDeprecationWarning: Iteration over multi-part geometries is deprecated and will be removed in Shapely 2.0. Use the `geoms` property to access the constituent parts of a multi-part geometry.\n",
      "  merged_polys = list(shapely.ops.unary_union(polys))\n"
     ]
    },
    {
     "name": "stdout",
     "output_type": "stream",
     "text": [
      "   Writing outputs to file...\n",
      "   Finished this batch.\n",
      "Handling batch 29 of 41 that covers road segments 2900 through 2999...\n"
     ]
    },
    {
     "name": "stderr",
     "output_type": "stream",
     "text": [
      "/Users/svanwal/Documents/Programming/Projects/gr-analysis/gr_placematch.py:107: ShapelyDeprecationWarning: __len__ for multi-part geometries is deprecated and will be removed in Shapely 2.0. Check the length of the `geoms` property instead to get the  number of parts of a multi-part geometry.\n",
      "  merged_polys = list(shapely.ops.unary_union(polys))\n",
      "/Users/svanwal/Documents/Programming/Projects/gr-analysis/gr_placematch.py:107: ShapelyDeprecationWarning: Iteration over multi-part geometries is deprecated and will be removed in Shapely 2.0. Use the `geoms` property to access the constituent parts of a multi-part geometry.\n",
      "  merged_polys = list(shapely.ops.unary_union(polys))\n"
     ]
    },
    {
     "name": "stdout",
     "output_type": "stream",
     "text": [
      "   Writing outputs to file...\n",
      "   Finished this batch.\n",
      "Handling batch 30 of 41 that covers road segments 3000 through 3099...\n"
     ]
    },
    {
     "name": "stderr",
     "output_type": "stream",
     "text": [
      "/Users/svanwal/Documents/Programming/Projects/gr-analysis/gr_placematch.py:107: ShapelyDeprecationWarning: __len__ for multi-part geometries is deprecated and will be removed in Shapely 2.0. Check the length of the `geoms` property instead to get the  number of parts of a multi-part geometry.\n",
      "  merged_polys = list(shapely.ops.unary_union(polys))\n",
      "/Users/svanwal/Documents/Programming/Projects/gr-analysis/gr_placematch.py:107: ShapelyDeprecationWarning: Iteration over multi-part geometries is deprecated and will be removed in Shapely 2.0. Use the `geoms` property to access the constituent parts of a multi-part geometry.\n",
      "  merged_polys = list(shapely.ops.unary_union(polys))\n"
     ]
    },
    {
     "name": "stdout",
     "output_type": "stream",
     "text": [
      "   Writing outputs to file...\n",
      "   Finished this batch.\n",
      "Handling batch 31 of 41 that covers road segments 3100 through 3199...\n"
     ]
    },
    {
     "name": "stderr",
     "output_type": "stream",
     "text": [
      "/Users/svanwal/Documents/Programming/Projects/gr-analysis/gr_placematch.py:107: ShapelyDeprecationWarning: __len__ for multi-part geometries is deprecated and will be removed in Shapely 2.0. Check the length of the `geoms` property instead to get the  number of parts of a multi-part geometry.\n",
      "  merged_polys = list(shapely.ops.unary_union(polys))\n",
      "/Users/svanwal/Documents/Programming/Projects/gr-analysis/gr_placematch.py:107: ShapelyDeprecationWarning: Iteration over multi-part geometries is deprecated and will be removed in Shapely 2.0. Use the `geoms` property to access the constituent parts of a multi-part geometry.\n",
      "  merged_polys = list(shapely.ops.unary_union(polys))\n"
     ]
    },
    {
     "name": "stdout",
     "output_type": "stream",
     "text": [
      "   Writing outputs to file...\n",
      "   Finished this batch.\n",
      "Handling batch 32 of 41 that covers road segments 3200 through 3299...\n"
     ]
    },
    {
     "name": "stderr",
     "output_type": "stream",
     "text": [
      "/Users/svanwal/Documents/Programming/Projects/gr-analysis/gr_placematch.py:107: ShapelyDeprecationWarning: __len__ for multi-part geometries is deprecated and will be removed in Shapely 2.0. Check the length of the `geoms` property instead to get the  number of parts of a multi-part geometry.\n",
      "  merged_polys = list(shapely.ops.unary_union(polys))\n",
      "/Users/svanwal/Documents/Programming/Projects/gr-analysis/gr_placematch.py:107: ShapelyDeprecationWarning: Iteration over multi-part geometries is deprecated and will be removed in Shapely 2.0. Use the `geoms` property to access the constituent parts of a multi-part geometry.\n",
      "  merged_polys = list(shapely.ops.unary_union(polys))\n"
     ]
    },
    {
     "name": "stdout",
     "output_type": "stream",
     "text": [
      "   Writing outputs to file...\n",
      "   Finished this batch.\n",
      "Handling batch 33 of 41 that covers road segments 3300 through 3399...\n"
     ]
    },
    {
     "name": "stderr",
     "output_type": "stream",
     "text": [
      "/Users/svanwal/Documents/Programming/Projects/gr-analysis/gr_placematch.py:107: ShapelyDeprecationWarning: __len__ for multi-part geometries is deprecated and will be removed in Shapely 2.0. Check the length of the `geoms` property instead to get the  number of parts of a multi-part geometry.\n",
      "  merged_polys = list(shapely.ops.unary_union(polys))\n",
      "/Users/svanwal/Documents/Programming/Projects/gr-analysis/gr_placematch.py:107: ShapelyDeprecationWarning: Iteration over multi-part geometries is deprecated and will be removed in Shapely 2.0. Use the `geoms` property to access the constituent parts of a multi-part geometry.\n",
      "  merged_polys = list(shapely.ops.unary_union(polys))\n"
     ]
    },
    {
     "name": "stdout",
     "output_type": "stream",
     "text": [
      "   Writing outputs to file...\n",
      "   Finished this batch.\n",
      "Handling batch 34 of 41 that covers road segments 3400 through 3499...\n"
     ]
    },
    {
     "name": "stderr",
     "output_type": "stream",
     "text": [
      "/Users/svanwal/Documents/Programming/Projects/gr-analysis/gr_placematch.py:107: ShapelyDeprecationWarning: __len__ for multi-part geometries is deprecated and will be removed in Shapely 2.0. Check the length of the `geoms` property instead to get the  number of parts of a multi-part geometry.\n",
      "  merged_polys = list(shapely.ops.unary_union(polys))\n",
      "/Users/svanwal/Documents/Programming/Projects/gr-analysis/gr_placematch.py:107: ShapelyDeprecationWarning: Iteration over multi-part geometries is deprecated and will be removed in Shapely 2.0. Use the `geoms` property to access the constituent parts of a multi-part geometry.\n",
      "  merged_polys = list(shapely.ops.unary_union(polys))\n"
     ]
    },
    {
     "name": "stdout",
     "output_type": "stream",
     "text": [
      "   Writing outputs to file...\n",
      "   Finished this batch.\n",
      "Handling batch 35 of 41 that covers road segments 3500 through 3599...\n"
     ]
    },
    {
     "name": "stderr",
     "output_type": "stream",
     "text": [
      "/Users/svanwal/Documents/Programming/Projects/gr-analysis/gr_placematch.py:107: ShapelyDeprecationWarning: __len__ for multi-part geometries is deprecated and will be removed in Shapely 2.0. Check the length of the `geoms` property instead to get the  number of parts of a multi-part geometry.\n",
      "  merged_polys = list(shapely.ops.unary_union(polys))\n",
      "/Users/svanwal/Documents/Programming/Projects/gr-analysis/gr_placematch.py:107: ShapelyDeprecationWarning: Iteration over multi-part geometries is deprecated and will be removed in Shapely 2.0. Use the `geoms` property to access the constituent parts of a multi-part geometry.\n",
      "  merged_polys = list(shapely.ops.unary_union(polys))\n"
     ]
    },
    {
     "name": "stdout",
     "output_type": "stream",
     "text": [
      "   Writing outputs to file...\n",
      "   Finished this batch.\n",
      "Handling batch 36 of 41 that covers road segments 3600 through 3699...\n"
     ]
    },
    {
     "name": "stderr",
     "output_type": "stream",
     "text": [
      "/Users/svanwal/Documents/Programming/Projects/gr-analysis/gr_placematch.py:107: ShapelyDeprecationWarning: __len__ for multi-part geometries is deprecated and will be removed in Shapely 2.0. Check the length of the `geoms` property instead to get the  number of parts of a multi-part geometry.\n",
      "  merged_polys = list(shapely.ops.unary_union(polys))\n",
      "/Users/svanwal/Documents/Programming/Projects/gr-analysis/gr_placematch.py:107: ShapelyDeprecationWarning: Iteration over multi-part geometries is deprecated and will be removed in Shapely 2.0. Use the `geoms` property to access the constituent parts of a multi-part geometry.\n",
      "  merged_polys = list(shapely.ops.unary_union(polys))\n"
     ]
    },
    {
     "name": "stdout",
     "output_type": "stream",
     "text": [
      "   Writing outputs to file...\n",
      "   Finished this batch.\n",
      "Handling batch 37 of 41 that covers road segments 3700 through 3799...\n"
     ]
    },
    {
     "name": "stderr",
     "output_type": "stream",
     "text": [
      "/Users/svanwal/Documents/Programming/Projects/gr-analysis/gr_placematch.py:107: ShapelyDeprecationWarning: __len__ for multi-part geometries is deprecated and will be removed in Shapely 2.0. Check the length of the `geoms` property instead to get the  number of parts of a multi-part geometry.\n",
      "  merged_polys = list(shapely.ops.unary_union(polys))\n",
      "/Users/svanwal/Documents/Programming/Projects/gr-analysis/gr_placematch.py:107: ShapelyDeprecationWarning: Iteration over multi-part geometries is deprecated and will be removed in Shapely 2.0. Use the `geoms` property to access the constituent parts of a multi-part geometry.\n",
      "  merged_polys = list(shapely.ops.unary_union(polys))\n"
     ]
    },
    {
     "name": "stdout",
     "output_type": "stream",
     "text": [
      "   Writing outputs to file...\n",
      "   Finished this batch.\n",
      "Handling batch 38 of 41 that covers road segments 3800 through 3899...\n"
     ]
    },
    {
     "name": "stderr",
     "output_type": "stream",
     "text": [
      "/Users/svanwal/Documents/Programming/Projects/gr-analysis/gr_placematch.py:107: ShapelyDeprecationWarning: __len__ for multi-part geometries is deprecated and will be removed in Shapely 2.0. Check the length of the `geoms` property instead to get the  number of parts of a multi-part geometry.\n",
      "  merged_polys = list(shapely.ops.unary_union(polys))\n",
      "/Users/svanwal/Documents/Programming/Projects/gr-analysis/gr_placematch.py:107: ShapelyDeprecationWarning: Iteration over multi-part geometries is deprecated and will be removed in Shapely 2.0. Use the `geoms` property to access the constituent parts of a multi-part geometry.\n",
      "  merged_polys = list(shapely.ops.unary_union(polys))\n"
     ]
    },
    {
     "name": "stdout",
     "output_type": "stream",
     "text": [
      "   Writing outputs to file...\n",
      "   Finished this batch.\n",
      "Handling batch 39 of 41 that covers road segments 3900 through 3999...\n"
     ]
    },
    {
     "name": "stderr",
     "output_type": "stream",
     "text": [
      "/Users/svanwal/Documents/Programming/Projects/gr-analysis/gr_placematch.py:107: ShapelyDeprecationWarning: __len__ for multi-part geometries is deprecated and will be removed in Shapely 2.0. Check the length of the `geoms` property instead to get the  number of parts of a multi-part geometry.\n",
      "  merged_polys = list(shapely.ops.unary_union(polys))\n",
      "/Users/svanwal/Documents/Programming/Projects/gr-analysis/gr_placematch.py:107: ShapelyDeprecationWarning: Iteration over multi-part geometries is deprecated and will be removed in Shapely 2.0. Use the `geoms` property to access the constituent parts of a multi-part geometry.\n",
      "  merged_polys = list(shapely.ops.unary_union(polys))\n"
     ]
    },
    {
     "name": "stdout",
     "output_type": "stream",
     "text": [
      "   Writing outputs to file...\n",
      "   Finished this batch.\n",
      "Handling batch 40 of 41 that covers road segments 4000 through 4099...\n"
     ]
    },
    {
     "name": "stderr",
     "output_type": "stream",
     "text": [
      "/Users/svanwal/Documents/Programming/Projects/gr-analysis/gr_placematch.py:107: ShapelyDeprecationWarning: __len__ for multi-part geometries is deprecated and will be removed in Shapely 2.0. Check the length of the `geoms` property instead to get the  number of parts of a multi-part geometry.\n",
      "  merged_polys = list(shapely.ops.unary_union(polys))\n",
      "/Users/svanwal/Documents/Programming/Projects/gr-analysis/gr_placematch.py:107: ShapelyDeprecationWarning: Iteration over multi-part geometries is deprecated and will be removed in Shapely 2.0. Use the `geoms` property to access the constituent parts of a multi-part geometry.\n",
      "  merged_polys = list(shapely.ops.unary_union(polys))\n"
     ]
    },
    {
     "name": "stdout",
     "output_type": "stream",
     "text": [
      "   Writing outputs to file...\n",
      "   Finished this batch.\n",
      "Handling batch 41 of 41 that covers road segments 4100 through 4170...\n"
     ]
    },
    {
     "name": "stderr",
     "output_type": "stream",
     "text": [
      "/Users/svanwal/Documents/Programming/Projects/gr-analysis/gr_placematch.py:107: ShapelyDeprecationWarning: __len__ for multi-part geometries is deprecated and will be removed in Shapely 2.0. Check the length of the `geoms` property instead to get the  number of parts of a multi-part geometry.\n",
      "  merged_polys = list(shapely.ops.unary_union(polys))\n",
      "/Users/svanwal/Documents/Programming/Projects/gr-analysis/gr_placematch.py:107: ShapelyDeprecationWarning: Iteration over multi-part geometries is deprecated and will be removed in Shapely 2.0. Use the `geoms` property to access the constituent parts of a multi-part geometry.\n",
      "  merged_polys = list(shapely.ops.unary_union(polys))\n"
     ]
    },
    {
     "name": "stdout",
     "output_type": "stream",
     "text": [
      "   Writing outputs to file...\n",
      "   Finished this batch.\n",
      "Saved.\n"
     ]
    }
   ],
   "source": [
    "filename_places = 'cache/' + trailname + '_places.csv'\n",
    "\n",
    "if not os.path.isfile(filename_places): # The merged PLACES file does not exist\n",
    "    \n",
    "    print('Merged PLACES file was not found, merging and saving...')\n",
    "    gr_placematch.roads2places(trailname,segments,points_per_batch_places, delta_places, buffersize, tol_area)\n",
    "    data_places = gr_utils.merge_places(trailname, segments, points_per_batch_places) # Merge the different sections\n",
    "    gr_utils.write_places(trailname, data_places) # Write the merged PLACES data\n",
    "    print('Saved.')\n",
    "    \n",
    "else: # The merged PLACES file does exist\n",
    "    \n",
    "    print('Loading merged PLACES file...')\n",
    "    data_places = gr_utils.read_places(trailname) # Read the merged PLACES file\n",
    "    print('Loaded.')"
   ]
  },
  {
   "cell_type": "markdown",
   "id": "3a731a6c",
   "metadata": {},
   "source": [
    "## Evaluating processed properties"
   ]
  },
  {
   "cell_type": "code",
   "execution_count": 7,
   "id": "666db581",
   "metadata": {},
   "outputs": [
    {
     "name": "stdout",
     "output_type": "stream",
     "text": [
      "The PROCESSED file was not found, processing and saving...\n",
      "Saved.\n"
     ]
    }
   ],
   "source": [
    "filename_processed = 'data_output/' + trailname + '_processed.csv'\n",
    "\n",
    "if not os.path.isfile(filename_processed): # The PROCESSED file does not exist\n",
    "    \n",
    "    print('The PROCESSED file was not found, processing and saving...')\n",
    "    data_places2 = gr_mapmatch.remove_repeat_segments(data_places) # Remove backtracked sections\n",
    "    data = gr_process.places2processed(data_places2,tol_d,types_slow,types_heavy,tracktype_p0,tracktype_p1,tracktype_p2,surface_p0,surface_p1,highway_p1) # Determine traffic/development/paved status & GR types\n",
    "    gr_utils.write_processed(trailname, data) # Write the processed data\n",
    "    print('Saved.')\n",
    "    \n",
    "else: # The PROCESSED file does exist\n",
    "    \n",
    "    print('The PROCESSED file already exists, so nothing needs to be done.')"
   ]
  },
  {
   "cell_type": "code",
   "execution_count": null,
   "id": "369800e0",
   "metadata": {},
   "outputs": [],
   "source": []
  }
 ],
 "metadata": {
  "kernelspec": {
   "display_name": "Python 3 (ipykernel)",
   "language": "python",
   "name": "python3"
  },
  "language_info": {
   "codemirror_mode": {
    "name": "ipython",
    "version": 3
   },
   "file_extension": ".py",
   "mimetype": "text/x-python",
   "name": "python",
   "nbconvert_exporter": "python",
   "pygments_lexer": "ipython3",
   "version": "3.9.13"
  }
 },
 "nbformat": 4,
 "nbformat_minor": 5
}
