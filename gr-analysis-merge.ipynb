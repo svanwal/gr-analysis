{
 "cells": [
  {
   "cell_type": "code",
   "execution_count": null,
   "id": "07a425bb",
   "metadata": {},
   "outputs": [],
   "source": [
    "# Things to finish before reaching out to GroteRoutepaden:\n",
    "# 1: ColorLine -> DONE\n",
    "# 2: Make plots of highway/surface/tracktype\n",
    "# 3: Determine paved status rules\n",
    "# 4: Fix double pathing\n",
    "# 5: Make plots: percentage paved vs. unpaved, length of individual paved/unpaved sections\n",
    "# 6: Brainstorm about other outputs that may be useful: closest town, topography type (forest, plains, etc.), elevation profile"
   ]
  },
  {
   "cell_type": "code",
   "execution_count": 51,
   "id": "af7cc5e3",
   "metadata": {},
   "outputs": [],
   "source": [
    "# Preamble\n",
    "from IPython.display import IFrame\n",
    "from itertools import groupby \n",
    "from csv import writer\n",
    "import networkx as nx\n",
    "import pandas as pd\n",
    "import numpy as np\n",
    "import osmnx as ox\n",
    "import warnings\n",
    "import folium\n",
    "import branca.colormap as cm\n",
    "%matplotlib inline"
   ]
  },
  {
   "cell_type": "code",
   "execution_count": 52,
   "id": "2737b51d",
   "metadata": {},
   "outputs": [
    {
     "data": {
      "application/javascript": [
       "IPython.OutputArea.auto_scroll_threshold = 9999;\n"
      ],
      "text/plain": [
       "<IPython.core.display.Javascript object>"
      ]
     },
     "metadata": {},
     "output_type": "display_data"
    }
   ],
   "source": [
    "%%javascript\n",
    "IPython.OutputArea.auto_scroll_threshold = 9999;"
   ]
  },
  {
   "cell_type": "code",
   "execution_count": 53,
   "id": "a5a4b737",
   "metadata": {},
   "outputs": [],
   "source": [
    "# --- Load and process the GPX track\n",
    "trail = 'gr131'\n",
    "points_per_batch = 100\n",
    "filename_in = 'data/' + trail + '.csv'\n",
    "hike = pd.read_csv(filename_in)\n",
    "coords = hike[['latitude','longitude']].values.tolist()\n",
    "n_batch = int(np.ceil(hike.shape[0]/points_per_batch))"
   ]
  },
  {
   "cell_type": "code",
   "execution_count": 54,
   "id": "1437ac58",
   "metadata": {},
   "outputs": [],
   "source": [
    "filename = 'data/' + trail + '_0to' + str(points_per_batch) + '.csv'\n",
    "df = pd.read_csv(filename)"
   ]
  },
  {
   "cell_type": "code",
   "execution_count": 55,
   "id": "8dc9c5ac",
   "metadata": {},
   "outputs": [],
   "source": [
    "# Loading data and merging\n",
    "for b in range(1,n_batch): # b is the batch counter\n",
    "#     print(b)\n",
    "    n1 = b*points_per_batch # First point\n",
    "    n2 = min(n1 + points_per_batch, len(hike)) # Last point\n",
    "    filename = 'data/' + trail + '_' + str(n1) + 'to' + str(n2) + '.csv'\n",
    "    df_new = pd.read_csv(filename)\n",
    "    df = pd.concat([df,df_new],ignore_index=True)"
   ]
  },
  {
   "cell_type": "markdown",
   "id": "9011fecd",
   "metadata": {},
   "source": [
    "## Plotting GPX track versus OSM route"
   ]
  },
  {
   "cell_type": "code",
   "execution_count": 71,
   "id": "dedb386f",
   "metadata": {},
   "outputs": [],
   "source": [
    "# Trying out ColorLine\n",
    "df['paved'] = df['highway'].isin(['track','path'])\n",
    "x = df['x0'].values.tolist()\n",
    "y = df['y0'].values.tolist()\n",
    "x.extend(df.tail(1)['x1'])\n",
    "y.extend(df.tail(1)['y1'])\n",
    "colors = df['paved'].values.tolist()\n",
    "colors[colors==True] = 1\n",
    "colors[colors==False] = 0\n",
    "xy0 = list(zip(x,y))\n",
    "xy = [[coord[0],coord[1]] for coord in xy0]\n",
    "\n",
    "colormap = cm.LinearColormap(colors=['black','#239621'],vmin=0.25,vmax=0.75,index=[0.25,0.75])"
   ]
  },
  {
   "cell_type": "code",
   "execution_count": 72,
   "id": "ee97fdf6",
   "metadata": {
    "scrolled": true
   },
   "outputs": [
    {
     "data": {
      "text/html": [
       "\n",
       "        <iframe\n",
       "            width=\"1000\"\n",
       "            height=\"500\"\n",
       "            src=\"data/chart.html\"\n",
       "            frameborder=\"0\"\n",
       "            allowfullscreen\n",
       "            \n",
       "        ></iframe>\n",
       "        "
      ],
      "text/plain": [
       "<IPython.lib.display.IFrame at 0x7f8db4697160>"
      ]
     },
     "execution_count": 72,
     "metadata": {},
     "output_type": "execute_result"
    }
   ],
   "source": [
    "mid = int(len(coords)/2)\n",
    "chart = folium.Map(location=coords[mid], zoom_start=12, tiles=\"OpenStreetMap\") # Map setup\n",
    "    \n",
    "newline = folium.ColorLine(positions=xy, colors=colors, colormap=colormap, weight=3)\n",
    "newline.add_to(chart)\n",
    "    \n",
    "newline = folium.PolyLine(locations=coords, color='red', weight=1, popup='None')\n",
    "newline.add_to(chart)\n",
    "\n",
    "# Render the map\n",
    "filepath = \"data/chart.html\"\n",
    "chart.save(filepath)\n",
    "IFrame(filepath, width=1000, height=500)"
   ]
  },
  {
   "cell_type": "markdown",
   "id": "c7baf961",
   "metadata": {},
   "source": []
  },
  {
   "cell_type": "code",
   "execution_count": null,
   "id": "cb117bdd",
   "metadata": {},
   "outputs": [],
   "source": []
  },
  {
   "cell_type": "code",
   "execution_count": null,
   "id": "33935c3b",
   "metadata": {},
   "outputs": [],
   "source": []
  },
  {
   "cell_type": "code",
   "execution_count": null,
   "id": "0c92d929",
   "metadata": {},
   "outputs": [],
   "source": []
  },
  {
   "cell_type": "code",
   "execution_count": 12,
   "id": "5122a23e",
   "metadata": {},
   "outputs": [],
   "source": []
  },
  {
   "cell_type": "code",
   "execution_count": 73,
   "id": "2d5a26f2",
   "metadata": {},
   "outputs": [],
   "source": [
    "# mask_trackpath = df['highway'].isin(['track','path'])\n",
    "# tot_unpaved = df[mask_trackpath]['d_cart'].sum()\n",
    "# tot_paved = df[~mask_trackpath]['d_cart'].sum()\n",
    "# tot = tot_unpaved + tot_paved\n",
    "# print(f'Percentage paved: {tot_paved/tot}')\n",
    "# print(f'Percentage unpaved: {tot_unpaved/tot}')\n",
    "# df['tracktype'].value_counts()"
   ]
  }
 ],
 "metadata": {
  "kernelspec": {
   "display_name": "Python 3 (ipykernel)",
   "language": "python",
   "name": "python3"
  },
  "language_info": {
   "codemirror_mode": {
    "name": "ipython",
    "version": 3
   },
   "file_extension": ".py",
   "mimetype": "text/x-python",
   "name": "python",
   "nbconvert_exporter": "python",
   "pygments_lexer": "ipython3",
   "version": "3.9.12"
  }
 },
 "nbformat": 4,
 "nbformat_minor": 5
}
