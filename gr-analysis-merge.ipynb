{
 "cells": [
  {
   "cell_type": "code",
   "execution_count": 278,
   "id": "07a425bb",
   "metadata": {},
   "outputs": [],
   "source": [
    "# Things to finish before reaching out to GroteRoutepaden:\n",
    "# 1: ColorLine -> DONE\n",
    "# 2: Make plots of highway/surface/tracktype\n",
    "# 3: Determine paved status rules\n",
    "# 4: Fix double pathing\n",
    "# 5: Make plots: percentage paved vs. unpaved, length of individual paved/unpaved sections\n",
    "# 6: Brainstorm about other outputs that may be useful: closest town, topography type (forest, plains, etc.), elevation profile"
   ]
  },
  {
   "cell_type": "code",
   "execution_count": 279,
   "id": "af7cc5e3",
   "metadata": {},
   "outputs": [],
   "source": [
    "# Preamble\n",
    "from IPython.display import IFrame\n",
    "from itertools import groupby \n",
    "from csv import writer\n",
    "import networkx as nx\n",
    "import pandas as pd\n",
    "import numpy as np\n",
    "import osmnx as ox\n",
    "import warnings\n",
    "import folium\n",
    "import branca.colormap as cm\n",
    "import seaborn as sns\n",
    "import matplotlib.pyplot as plt\n",
    "%matplotlib inline"
   ]
  },
  {
   "cell_type": "code",
   "execution_count": 280,
   "id": "2737b51d",
   "metadata": {},
   "outputs": [
    {
     "data": {
      "application/javascript": [
       "IPython.OutputArea.auto_scroll_threshold = 9999;\n"
      ],
      "text/plain": [
       "<IPython.core.display.Javascript object>"
      ]
     },
     "metadata": {},
     "output_type": "display_data"
    }
   ],
   "source": [
    "%%javascript\n",
    "IPython.OutputArea.auto_scroll_threshold = 9999;"
   ]
  },
  {
   "cell_type": "code",
   "execution_count": 281,
   "id": "a5a4b737",
   "metadata": {},
   "outputs": [],
   "source": [
    "# --- Load and process the GPX track\n",
    "trail = 'gr131'\n",
    "# trail = 'gr16'\n",
    "points_per_batch = 100\n",
    "filename_in = 'data/' + trail + '.csv'\n",
    "hike = pd.read_csv(filename_in)\n",
    "coords = hike[['latitude','longitude']].values.tolist()\n",
    "n_batch = int(np.ceil(hike.shape[0]/points_per_batch))"
   ]
  },
  {
   "cell_type": "code",
   "execution_count": 282,
   "id": "1437ac58",
   "metadata": {},
   "outputs": [],
   "source": [
    "filename = 'data/' + trail + '_0to' + str(points_per_batch) + '.csv'\n",
    "df = pd.read_csv(filename,dtype={'surface': str})\n",
    "# Loading data and merging\n",
    "for b in range(1,n_batch): # b is the batch counter\n",
    "    n1 = b*points_per_batch # First point\n",
    "    n2 = min(n1 + points_per_batch, len(hike)) # Last point\n",
    "    filename = 'data/' + trail + '_' + str(n1) + 'to' + str(n2) + '.csv'\n",
    "    df_new = pd.read_csv(filename,dtype={'surface': str})\n",
    "    df = pd.concat([df,df_new],ignore_index=True)"
   ]
  },
  {
   "cell_type": "markdown",
   "id": "a767119b",
   "metadata": {},
   "source": [
    "## Defining paved status"
   ]
  },
  {
   "cell_type": "code",
   "execution_count": 283,
   "id": "dab359d4",
   "metadata": {},
   "outputs": [],
   "source": [
    "df['paved'] = df['highway'].isin(['track','path'])"
   ]
  },
  {
   "cell_type": "markdown",
   "id": "f135da49",
   "metadata": {},
   "source": [
    "## Plotting the route"
   ]
  },
  {
   "cell_type": "code",
   "execution_count": 284,
   "id": "e65defbc",
   "metadata": {},
   "outputs": [],
   "source": [
    "# Set up ColorLine data\n",
    "x = df['x0'].values.tolist()\n",
    "y = df['y0'].values.tolist()\n",
    "x.extend(df.tail(1)['x1'])\n",
    "y.extend(df.tail(1)['y1'])\n",
    "colors = df['paved'].values.tolist()\n",
    "colors[colors==True] = 1\n",
    "colors[colors==False] = 0\n",
    "xy0 = list(zip(x,y))\n",
    "xy = [[coord[0],coord[1]] for coord in xy0]\n",
    "colormap = cm.LinearColormap(colors=['black','#239621'],vmin=0.25,vmax=0.75,index=[0.25,0.75])"
   ]
  },
  {
   "cell_type": "code",
   "execution_count": 285,
   "id": "eb708a5e",
   "metadata": {},
   "outputs": [
    {
     "data": {
      "text/html": [
       "\n",
       "        <iframe\n",
       "            width=\"1000\"\n",
       "            height=\"500\"\n",
       "            src=\"data/chart.html\"\n",
       "            frameborder=\"0\"\n",
       "            allowfullscreen\n",
       "            \n",
       "        ></iframe>\n",
       "        "
      ],
      "text/plain": [
       "<IPython.lib.display.IFrame at 0x7fb6a5125970>"
      ]
     },
     "execution_count": 285,
     "metadata": {},
     "output_type": "execute_result"
    }
   ],
   "source": [
    "# Map setup\n",
    "mid = int(len(coords)/2)\n",
    "chart = folium.Map(location=coords[mid], zoom_start=12, tiles=\"OpenStreetMap\") \n",
    "   \n",
    "# Draw matched route segments\n",
    "newline = folium.ColorLine(positions=xy, colors=colors, colormap=colormap, weight=3)\n",
    "newline.add_to(chart)\n",
    "\n",
    "# Render the map\n",
    "filepath = \"data/chart.html\"\n",
    "chart.save(filepath)\n",
    "IFrame(filepath, width=1000, height=500)"
   ]
  },
  {
   "cell_type": "markdown",
   "id": "91815167",
   "metadata": {},
   "source": [
    "## Statistics"
   ]
  },
  {
   "cell_type": "code",
   "execution_count": 313,
   "id": "2fe0621d",
   "metadata": {},
   "outputs": [
    {
     "name": "stdout",
     "output_type": "stream",
     "text": [
      "Percentage paved: 0.7684635062\n",
      "Percentage unpaved: 0.2315364938\n"
     ]
    }
   ],
   "source": [
    "# Paved and unpaved sections\n",
    "df['paved'] = df['highway'].isin(['track','path'])\n",
    "tot_unpaved = df[df['paved']]['d_cart'].sum()\n",
    "tot_paved = df[~df['paved']]['d_cart'].sum()\n",
    "tot = tot_unpaved + tot_paved\n",
    "print(f'Percentage paved: {round(tot_paved/tot,10)}')\n",
    "print(f'Percentage unpaved: {round(tot_unpaved/tot,10)}')"
   ]
  },
  {
   "cell_type": "code",
   "execution_count": 309,
   "id": "33c61412",
   "metadata": {},
   "outputs": [
    {
     "name": "stderr",
     "output_type": "stream",
     "text": [
      "/var/folders/zh/x06gqp657rl9h1shq_pn7gjh0000gn/T/ipykernel_6340/2794515534.py:7: SettingWithCopyWarning: \n",
      "A value is trying to be set on a copy of a slice from a DataFrame\n",
      "\n",
      "See the caveats in the documentation: https://pandas.pydata.org/pandas-docs/stable/user_guide/indexing.html#returning-a-view-versus-a-copy\n",
      "  paved_cumul['paved'].loc[k] = this_paved\n"
     ]
    }
   ],
   "source": [
    "group_paving = df.groupby((df['paved'].shift() != df['paved']).cumsum())\n",
    "paved_cumul = group_paving['d_cart'].sum().to_frame()\n",
    "paved_cumul['paved'] = True\n",
    "for k, v in group_paving:\n",
    "    i0 = v['paved'].index[0]\n",
    "    this_paved = v['paved'].loc[i0]\n",
    "    paved_cumul['paved'].loc[k] = this_paved\n",
    "paved_cumul['d_cumul'] = paved_cumul['d_cart'].cumsum()"
   ]
  },
  {
   "cell_type": "code",
   "execution_count": 310,
   "id": "6f9faced",
   "metadata": {},
   "outputs": [
    {
     "data": {
      "text/html": [
       "<div>\n",
       "<style scoped>\n",
       "    .dataframe tbody tr th:only-of-type {\n",
       "        vertical-align: middle;\n",
       "    }\n",
       "\n",
       "    .dataframe tbody tr th {\n",
       "        vertical-align: top;\n",
       "    }\n",
       "\n",
       "    .dataframe thead th {\n",
       "        text-align: right;\n",
       "    }\n",
       "</style>\n",
       "<table border=\"1\" class=\"dataframe\">\n",
       "  <thead>\n",
       "    <tr style=\"text-align: right;\">\n",
       "      <th></th>\n",
       "      <th>d_cart</th>\n",
       "      <th>paved</th>\n",
       "      <th>d_cumul</th>\n",
       "    </tr>\n",
       "    <tr>\n",
       "      <th>paved</th>\n",
       "      <th></th>\n",
       "      <th></th>\n",
       "      <th></th>\n",
       "    </tr>\n",
       "  </thead>\n",
       "  <tbody>\n",
       "    <tr>\n",
       "      <th>1</th>\n",
       "      <td>3579.724224</td>\n",
       "      <td>False</td>\n",
       "      <td>3579.724224</td>\n",
       "    </tr>\n",
       "    <tr>\n",
       "      <th>2</th>\n",
       "      <td>638.01337</td>\n",
       "      <td>True</td>\n",
       "      <td>4217.737594</td>\n",
       "    </tr>\n",
       "    <tr>\n",
       "      <th>3</th>\n",
       "      <td>6830.634252</td>\n",
       "      <td>False</td>\n",
       "      <td>11048.371846</td>\n",
       "    </tr>\n",
       "    <tr>\n",
       "      <th>4</th>\n",
       "      <td>1192.793794</td>\n",
       "      <td>True</td>\n",
       "      <td>12241.16564</td>\n",
       "    </tr>\n",
       "    <tr>\n",
       "      <th>5</th>\n",
       "      <td>671.371433</td>\n",
       "      <td>False</td>\n",
       "      <td>12912.537073</td>\n",
       "    </tr>\n",
       "    <tr>\n",
       "      <th>...</th>\n",
       "      <td>...</td>\n",
       "      <td>...</td>\n",
       "      <td>...</td>\n",
       "    </tr>\n",
       "    <tr>\n",
       "      <th>80</th>\n",
       "      <td>2219.775416</td>\n",
       "      <td>True</td>\n",
       "      <td>139346.697054</td>\n",
       "    </tr>\n",
       "    <tr>\n",
       "      <th>81</th>\n",
       "      <td>657.21282</td>\n",
       "      <td>False</td>\n",
       "      <td>140003.909874</td>\n",
       "    </tr>\n",
       "    <tr>\n",
       "      <th>82</th>\n",
       "      <td>1266.985706</td>\n",
       "      <td>True</td>\n",
       "      <td>141270.89558</td>\n",
       "    </tr>\n",
       "    <tr>\n",
       "      <th>83</th>\n",
       "      <td>1910.336356</td>\n",
       "      <td>False</td>\n",
       "      <td>143181.231936</td>\n",
       "    </tr>\n",
       "    <tr>\n",
       "      <th>84</th>\n",
       "      <td>674.512608</td>\n",
       "      <td>True</td>\n",
       "      <td>143855.744544</td>\n",
       "    </tr>\n",
       "  </tbody>\n",
       "</table>\n",
       "<p>84 rows × 3 columns</p>\n",
       "</div>"
      ],
      "text/plain": [
       "            d_cart  paved        d_cumul\n",
       "paved                                   \n",
       "1      3579.724224  False    3579.724224\n",
       "2        638.01337   True    4217.737594\n",
       "3      6830.634252  False   11048.371846\n",
       "4      1192.793794   True    12241.16564\n",
       "5       671.371433  False   12912.537073\n",
       "...            ...    ...            ...\n",
       "80     2219.775416   True  139346.697054\n",
       "81       657.21282  False  140003.909874\n",
       "82     1266.985706   True   141270.89558\n",
       "83     1910.336356  False  143181.231936\n",
       "84      674.512608   True  143855.744544\n",
       "\n",
       "[84 rows x 3 columns]"
      ]
     },
     "execution_count": 310,
     "metadata": {},
     "output_type": "execute_result"
    }
   ],
   "source": [
    "paved_cumul"
   ]
  },
  {
   "cell_type": "code",
   "execution_count": 311,
   "id": "405ed50b",
   "metadata": {},
   "outputs": [],
   "source": [
    "sections_paved = paved_cumul[paved_cumul['paved']]\n",
    "sectionsun_paved = paved_cumul[~paved_cumul['paved']]"
   ]
  },
  {
   "cell_type": "code",
   "execution_count": 312,
   "id": "45b8d2aa",
   "metadata": {},
   "outputs": [
    {
     "data": {
      "image/png": "[encoded data removed]",
      "text/plain": [
       "<Figure size 720x432 with 1 Axes>"
      ]
     },
     "metadata": {
      "needs_background": "light"
     },
     "output_type": "display_data"
    }
   ],
   "source": [
    "# sns.displot(kind='hist',data=paved_cumul,x='d_cart',hue='paved',col='paved')\n",
    "plt.figure(figsize=(10,6))\n",
    "plt.rc('font', size=16)\n",
    "sns.histplot(data=paved_cumul,x='d_cart',hue='paved',multiple='stack')\n",
    "plt.xlabel('Section length [m]')\n",
    "plt.show()"
   ]
  },
  {
   "cell_type": "code",
   "execution_count": null,
   "id": "9c3b3527",
   "metadata": {},
   "outputs": [],
   "source": []
  }
 ],
 "metadata": {
  "kernelspec": {
   "display_name": "Python 3 (ipykernel)",
   "language": "python",
   "name": "python3"
  },
  "language_info": {
   "codemirror_mode": {
    "name": "ipython",
    "version": 3
   },
   "file_extension": ".py",
   "mimetype": "text/x-python",
   "name": "python",
   "nbconvert_exporter": "python",
   "pygments_lexer": "ipython3",
   "version": "3.9.12"
  }
 },
 "nbformat": 4,
 "nbformat_minor": 5
}
