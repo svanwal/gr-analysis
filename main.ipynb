{
 "cells": [
  {
   "cell_type": "markdown",
   "id": "82204626",
   "metadata": {},
   "source": [
    "## Importing modules and packages"
   ]
  },
  {
   "cell_type": "code",
   "execution_count": 1,
   "id": "f4a32d3e",
   "metadata": {},
   "outputs": [
    {
     "name": "stderr",
     "output_type": "stream",
     "text": [
      "/Users/svanwal/opt/anaconda3/lib/python3.9/site-packages/scipy/__init__.py:146: UserWarning: A NumPy version >=1.16.5 and <1.23.0 is required for this version of SciPy (detected version 1.23.3\n",
      "  warnings.warn(f\"A NumPy version >={np_minversion} and <{np_maxversion}\"\n"
     ]
    }
   ],
   "source": [
    "# Importing packages\n",
    "import osmnx  as ox\n",
    "import pandas as pd\n",
    "import numpy  as np\n",
    "import os.path\n",
    "\n",
    "# Importing modules\n",
    "import gr_mapmatch # Contains functions that perform the map matching\n",
    "import gr_utils # Contains useful geometry functions\n",
    "\n",
    "# Configuring modules & packages\n",
    "ox.settings.useful_tags_way = [\n",
    "    \"bridge\",\"tunnel\",\"name\",\"highway\",\"area\",\"landuse\",\"surface\",\"tracktype\"\n",
    "] # Configuring which parameters we want to obtain from OSM"
   ]
  },
  {
   "cell_type": "markdown",
   "id": "27b93e47",
   "metadata": {},
   "source": [
    "## Input parameters"
   ]
  },
  {
   "cell_type": "code",
   "execution_count": 2,
   "id": "015a24ff",
   "metadata": {},
   "outputs": [],
   "source": [
    "trailname = 'gr16' # Name of the hiking trail to be considered (will search for trail.csv or trail.gpx as sources)\n",
    "delta = 0.005 # Tolerance around bounding box per trail section [deg]\n",
    "points_per_batch = 100 # Subdivide the trail into batches of this many points"
   ]
  },
  {
   "cell_type": "markdown",
   "id": "aa7e8e6f",
   "metadata": {},
   "source": [
    "## Loading GPX file"
   ]
  },
  {
   "cell_type": "code",
   "execution_count": 3,
   "id": "667a640b",
   "metadata": {},
   "outputs": [
    {
     "name": "stdout",
     "output_type": "stream",
     "text": [
      "Loading trail points from <data_input/gr16.gpx>\n",
      "Loaded!\n"
     ]
    }
   ],
   "source": [
    "filename_gpx = 'data_input/' + trailname + '.gpx'\n",
    "filename_csv = 'data_output/' + trailname + '.csv'\n",
    "if not os.path.isfile(filename_csv): # The GPX file was not processed into a clean CSV file before\n",
    "    if not os.path.isfile(filename_gpx): # The GPX file does not exist, throw error\n",
    "        raise ValueError(f'The GPX file <{filename_gpx}> was not found! Please make sure it exists.')\n",
    "    else: # The GPX file exists, so convert it into a clean CSV file\n",
    "        print(f'Converting GPX file <{filename_gpx}> into cleaned CSV file <{filename_csv}>')\n",
    "        gr_utils.process_gpx(filename_gpx,filename_csv)\n",
    "        print('Completed conversion!')\n",
    "print(f'Loading trail points from <{filename_gpx}>')\n",
    "trail = pd.read_csv(filename_csv) # Now read the cleaned CSV file into a DataFrame (latitude, longitude, elevation)\n",
    "print('Loaded!')"
   ]
  },
  {
   "cell_type": "markdown",
   "id": "13dd817d",
   "metadata": {},
   "source": [
    "## Processing sections of trail"
   ]
  },
  {
   "cell_type": "code",
   "execution_count": 5,
   "id": "3f1bdd1f",
   "metadata": {},
   "outputs": [
    {
     "name": "stdout",
     "output_type": "stream",
     "text": [
      "Processing batch 0 of 60, covering GPX track points 0 through 100\n",
      "   Processing batch...\n",
      "   Downloading street network...\n"
     ]
    },
    {
     "name": "stderr",
     "output_type": "stream",
     "text": [
      "/Users/svanwal/opt/anaconda3/lib/python3.9/site-packages/osmnx/graph.py:488: UserWarning: the graph-level street_count attribute will likely be inaccurate when you set clean_periphery=False\n",
      "  warnings.warn(msg)\n"
     ]
    },
    {
     "name": "stdout",
     "output_type": "stream",
     "text": [
      "   Processing street network...\n",
      "Beginning main processing loop...\n",
      "Handling GPX point 100 of 100\n",
      "Handling node_list pair 50 of 50\n",
      "Handling route_list pair 65 of 65\n",
      "Writing outputs to file...\n"
     ]
    }
   ],
   "source": [
    "n_trail = len(trail) # Number of GPX points in the trail\n",
    "n_batch = int(np.ceil(trail.shape[0]/points_per_batch)) # Number of batches to be run\n",
    "# for b in range(n_batch): # Using batch counter b\n",
    "for b in range(1):\n",
    "    \n",
    "    # Define the range of GPX points to process in the current batch\n",
    "    n1 = b*points_per_batch # First point of this batch\n",
    "    n2 = min(n1 + points_per_batch, n_trail) # Last point of this batch (clipped)\n",
    "    trail_section = trail.loc[n1:n2] # Select that range of GPX points\n",
    "    trail_coords  = gr_mapmatch.trail_to_coords(trail_section) # Convert the points into a list of [lat, lon] pairs\n",
    "    \n",
    "    # Check if this batch was processed before\n",
    "    batch_out = f'cache/{trailname}_{n1}to{n2}.csv'\n",
    "    print(f'Processing batch {b} of {n_batch-1}, covering GPX track points {n1} through {n2}')\n",
    "    if os.path.isfile(batch_out): # It already exists\n",
    "        print('   This batch was processed before, skipping.')\n",
    "    else: # It does not exist, so process it\n",
    "        print('   Processing batch...')\n",
    "        network, segment_list = gr_mapmatch.match_batch(trail_section, trail_coords, delta)\n",
    "        gr_mapmatch.write_batch(batch_out, segment_list)"
   ]
  },
  {
   "cell_type": "code",
   "execution_count": null,
   "id": "0e3677e6",
   "metadata": {},
   "outputs": [],
   "source": []
  }
 ],
 "metadata": {
  "kernelspec": {
   "display_name": "Python 3 (ipykernel)",
   "language": "python",
   "name": "python3"
  },
  "language_info": {
   "codemirror_mode": {
    "name": "ipython",
    "version": 3
   },
   "file_extension": ".py",
   "mimetype": "text/x-python",
   "name": "python",
   "nbconvert_exporter": "python",
   "pygments_lexer": "ipython3",
   "version": "3.9.12"
  }
 },
 "nbformat": 4,
 "nbformat_minor": 5
}
