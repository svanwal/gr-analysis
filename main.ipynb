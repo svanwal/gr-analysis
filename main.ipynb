{
 "cells": [
  {
   "cell_type": "markdown",
   "id": "82204626",
   "metadata": {},
   "source": [
    "## Importing modules and packages"
   ]
  },
  {
   "cell_type": "code",
   "execution_count": 1,
   "id": "f4a32d3e",
   "metadata": {},
   "outputs": [
    {
     "name": "stderr",
     "output_type": "stream",
     "text": [
      "/Users/svanwal/opt/anaconda3/lib/python3.9/site-packages/scipy/__init__.py:146: UserWarning: A NumPy version >=1.16.5 and <1.23.0 is required for this version of SciPy (detected version 1.23.3\n",
      "  warnings.warn(f\"A NumPy version >={np_minversion} and <{np_maxversion}\"\n"
     ]
    }
   ],
   "source": [
    "# Importing packages\n",
    "import osmnx  as ox\n",
    "import pandas as pd\n",
    "import numpy  as np\n",
    "import folium\n",
    "import os.path\n",
    "import shapely\n",
    "import geopandas as gpd\n",
    "from IPython.display import IFrame\n",
    "\n",
    "# Importing modules\n",
    "import gr_mapmatch # Contains functions that perform the map matching of roads\n",
    "import gr_placematch # Contains functions that perform the map matching of places\n",
    "import gr_utils # Contains useful geometry functions\n",
    "import gr_plot # Contains plotting routines\n",
    "import gr_process\n",
    "\n",
    "# Configuring modules & packages\n",
    "ox.settings.useful_tags_way = [\n",
    "    \"bridge\",\"tunnel\",\"name\",\"highway\",\"area\",\"landuse\",\"surface\",\"tracktype\"\n",
    "] # Configuring which parameters we want to obtain from OSM"
   ]
  },
  {
   "cell_type": "markdown",
   "id": "27b93e47",
   "metadata": {},
   "source": [
    "## Input parameters"
   ]
  },
  {
   "cell_type": "code",
   "execution_count": 2,
   "id": "015a24ff",
   "metadata": {},
   "outputs": [],
   "source": [
    "trailname = 'gr122' # Name of the hiking trail to be considered (will search for trail.csv or trail.gpx as sources)\n",
    "\n",
    "# Settings for trail2roads\n",
    "points_per_batch = 100 # Subdivide the trail into batches of this many points\n",
    "delta = 0.005 # Tolerance around bounding box per trail section [deg]\n",
    "\n",
    "# Settings for roads2places\n",
    "points_per_batch_places = 100 # Subdivide the trail into batches of this many segments\n",
    "delta_places = 0.015 # bbox delta in deg\n",
    "\n",
    "# Settings for places2processed\n",
    "tracktype_p0 = ['grade4','grade5']\n",
    "tracktype_p1 = ['grade2','grade3']\n",
    "tracktype_p2 = ['grade1']\n",
    "surface_p0   = ['ground','grass','dirt','sand','earth','mud']\n",
    "surface_p1   = ['unpaved','gravel','fine_gravel','wood','compacted','rocks','pebblestone','woodchips','snow','ice','salt']\n",
    "highway_p1   = ['track','path','footway','bridleway']\n",
    "tol_d        = 0.5 # Consider a segment developed if it lies closer than tol_d to a developed area\n",
    "types_slow   = ['pedestrian','track','footway','bridleway','steps','corridor','path']\n",
    "types_heavy  = ['motorway','trunk','primary','secondary','tertiary']"
   ]
  },
  {
   "cell_type": "markdown",
   "id": "aa7e8e6f",
   "metadata": {},
   "source": [
    "## Loading GPX file"
   ]
  },
  {
   "cell_type": "code",
   "execution_count": 3,
   "id": "667a640b",
   "metadata": {},
   "outputs": [
    {
     "name": "stdout",
     "output_type": "stream",
     "text": [
      "Loading trail points from <data_input/gr122.gpx>...\n",
      "Finished loading.\n"
     ]
    }
   ],
   "source": [
    "trail = gr_utils.get_gpx(trailname)"
   ]
  },
  {
   "cell_type": "markdown",
   "id": "13dd817d",
   "metadata": {},
   "source": [
    "## Gathering ROAD data from OSM network"
   ]
  },
  {
   "cell_type": "code",
   "execution_count": 4,
   "id": "44913992",
   "metadata": {},
   "outputs": [
    {
     "name": "stdout",
     "output_type": "stream",
     "text": [
      "Loading merged ROADS file...\n",
      "Loaded.\n"
     ]
    }
   ],
   "source": [
    "filename_roads = 'cache/' + trailname + '_roads.csv'\n",
    "\n",
    "if not os.path.isfile(filename_roads): # The merged ROADS file does not exist, construct it\n",
    "    \n",
    "    print('Merged ROADS file was not found, merging and saving...')\n",
    "    gr_mapmatch.trail2roads(trailname, trail, points_per_batch, delta) # Main batch processor\n",
    "    data_roads_raw = gr_utils.merge_roads(trailname, trail, points_per_batch) # Merge the different sections\n",
    "    data_roads = gr_mapmatch.remove_repeat_segments(data_roads_raw) # Remove backtracked sections\n",
    "    gr_utils.write_roads(trailname, data_roads) # Write the merged ROADS data\n",
    "#     print('Saved.')\n",
    "\n",
    "else: # The merged ROADS file does exist, just load it\n",
    "    \n",
    "    print('Loading merged ROADS file...')\n",
    "    data_roads = gr_utils.read_roads(trailname) # Read the merged sections\n",
    "    print('Loaded.')"
   ]
  },
  {
   "cell_type": "markdown",
   "id": "e289f2ec",
   "metadata": {},
   "source": [
    "## Gathering PLACE data from OSM network"
   ]
  },
  {
   "cell_type": "code",
   "execution_count": 5,
   "id": "6b51ac5a",
   "metadata": {},
   "outputs": [
    {
     "name": "stdout",
     "output_type": "stream",
     "text": [
      "Merged PLACES file was not found, merging and saving...\n",
      "Handling batch 0 of 63 that covers road segments 0 through 99...\n",
      "   Writing outputs to file...\n",
      "   Finished this batch.\n",
      "Handling batch 1 of 63 that covers road segments 100 through 199...\n",
      "   Writing outputs to file...\n",
      "   Finished this batch.\n",
      "Handling batch 2 of 63 that covers road segments 200 through 299...\n",
      "   Writing outputs to file...\n",
      "   Finished this batch.\n",
      "Handling batch 3 of 63 that covers road segments 300 through 399...\n",
      "   Writing outputs to file...\n",
      "   Finished this batch.\n",
      "Handling batch 4 of 63 that covers road segments 400 through 499...\n",
      "   Writing outputs to file...\n",
      "   Finished this batch.\n",
      "Handling batch 5 of 63 that covers road segments 500 through 599...\n",
      "   Writing outputs to file...\n",
      "   Finished this batch.\n",
      "Handling batch 6 of 63 that covers road segments 600 through 699...\n",
      "   Writing outputs to file...\n",
      "   Finished this batch.\n",
      "Handling batch 7 of 63 that covers road segments 700 through 799...\n",
      "   Writing outputs to file...\n",
      "   Finished this batch.\n",
      "Handling batch 8 of 63 that covers road segments 800 through 899...\n",
      "   Writing outputs to file...\n",
      "   Finished this batch.\n",
      "Handling batch 9 of 63 that covers road segments 900 through 999...\n",
      "   Writing outputs to file...\n",
      "   Finished this batch.\n",
      "Handling batch 10 of 63 that covers road segments 1000 through 1099...\n",
      "   Writing outputs to file...\n",
      "   Finished this batch.\n",
      "Handling batch 11 of 63 that covers road segments 1100 through 1199...\n",
      "   Writing outputs to file...\n",
      "   Finished this batch.\n",
      "Handling batch 12 of 63 that covers road segments 1200 through 1299...\n",
      "   Writing outputs to file...\n",
      "   Finished this batch.\n",
      "Handling batch 13 of 63 that covers road segments 1300 through 1399...\n",
      "   Writing outputs to file...\n",
      "   Finished this batch.\n",
      "Handling batch 14 of 63 that covers road segments 1400 through 1499...\n",
      "   Writing outputs to file...\n",
      "   Finished this batch.\n",
      "Handling batch 15 of 63 that covers road segments 1500 through 1599...\n",
      "   Writing outputs to file...\n",
      "   Finished this batch.\n",
      "Handling batch 16 of 63 that covers road segments 1600 through 1699...\n",
      "   Writing outputs to file...\n",
      "   Finished this batch.\n",
      "Handling batch 17 of 63 that covers road segments 1700 through 1799...\n",
      "   Writing outputs to file...\n",
      "   Finished this batch.\n",
      "Handling batch 18 of 63 that covers road segments 1800 through 1899...\n",
      "   Writing outputs to file...\n",
      "   Finished this batch.\n",
      "Handling batch 19 of 63 that covers road segments 1900 through 1999...\n",
      "   Writing outputs to file...\n",
      "   Finished this batch.\n",
      "Handling batch 20 of 63 that covers road segments 2000 through 2099...\n",
      "   Writing outputs to file...\n",
      "   Finished this batch.\n",
      "Handling batch 21 of 63 that covers road segments 2100 through 2199...\n",
      "   Writing outputs to file...\n",
      "   Finished this batch.\n",
      "Handling batch 22 of 63 that covers road segments 2200 through 2299...\n",
      "   Writing outputs to file...\n",
      "   Finished this batch.\n",
      "Handling batch 23 of 63 that covers road segments 2300 through 2399...\n",
      "   Writing outputs to file...\n",
      "   Finished this batch.\n",
      "Handling batch 24 of 63 that covers road segments 2400 through 2499...\n",
      "   Writing outputs to file...\n",
      "   Finished this batch.\n",
      "Handling batch 25 of 63 that covers road segments 2500 through 2599...\n",
      "   Writing outputs to file...\n",
      "   Finished this batch.\n",
      "Handling batch 26 of 63 that covers road segments 2600 through 2699...\n",
      "   Writing outputs to file...\n",
      "   Finished this batch.\n",
      "Handling batch 27 of 63 that covers road segments 2700 through 2799...\n",
      "   Writing outputs to file...\n",
      "   Finished this batch.\n",
      "Handling batch 28 of 63 that covers road segments 2800 through 2899...\n",
      "   Writing outputs to file...\n",
      "   Finished this batch.\n",
      "Handling batch 29 of 63 that covers road segments 2900 through 2999...\n",
      "   Writing outputs to file...\n",
      "   Finished this batch.\n",
      "Handling batch 30 of 63 that covers road segments 3000 through 3099...\n",
      "   Writing outputs to file...\n",
      "   Finished this batch.\n",
      "Handling batch 31 of 63 that covers road segments 3100 through 3199...\n",
      "   Writing outputs to file...\n",
      "   Finished this batch.\n",
      "Handling batch 32 of 63 that covers road segments 3200 through 3299...\n",
      "   Writing outputs to file...\n",
      "   Finished this batch.\n",
      "Handling batch 33 of 63 that covers road segments 3300 through 3399...\n",
      "   Writing outputs to file...\n",
      "   Finished this batch.\n",
      "Handling batch 34 of 63 that covers road segments 3400 through 3499...\n",
      "   Writing outputs to file...\n",
      "   Finished this batch.\n",
      "Handling batch 35 of 63 that covers road segments 3500 through 3599...\n",
      "   Writing outputs to file...\n",
      "   Finished this batch.\n",
      "Handling batch 36 of 63 that covers road segments 3600 through 3699...\n",
      "   Writing outputs to file...\n",
      "   Finished this batch.\n",
      "Handling batch 37 of 63 that covers road segments 3700 through 3799...\n",
      "   Writing outputs to file...\n",
      "   Finished this batch.\n",
      "Handling batch 38 of 63 that covers road segments 3800 through 3899...\n",
      "   Writing outputs to file...\n",
      "   Finished this batch.\n",
      "Handling batch 39 of 63 that covers road segments 3900 through 3999...\n",
      "   Writing outputs to file...\n",
      "   Finished this batch.\n",
      "Handling batch 40 of 63 that covers road segments 4000 through 4099...\n",
      "   Writing outputs to file...\n",
      "   Finished this batch.\n",
      "Handling batch 41 of 63 that covers road segments 4100 through 4199...\n",
      "   Writing outputs to file...\n",
      "   Finished this batch.\n",
      "Handling batch 42 of 63 that covers road segments 4200 through 4299...\n",
      "   Writing outputs to file...\n",
      "   Finished this batch.\n",
      "Handling batch 43 of 63 that covers road segments 4300 through 4399...\n",
      "   Writing outputs to file...\n",
      "   Finished this batch.\n",
      "Handling batch 44 of 63 that covers road segments 4400 through 4499...\n",
      "   Writing outputs to file...\n",
      "   Finished this batch.\n",
      "Handling batch 45 of 63 that covers road segments 4500 through 4599...\n",
      "   Writing outputs to file...\n",
      "   Finished this batch.\n",
      "Handling batch 46 of 63 that covers road segments 4600 through 4699...\n",
      "   Writing outputs to file...\n",
      "   Finished this batch.\n",
      "Handling batch 47 of 63 that covers road segments 4700 through 4799...\n",
      "   Writing outputs to file...\n",
      "   Finished this batch.\n",
      "Handling batch 48 of 63 that covers road segments 4800 through 4899...\n",
      "   Writing outputs to file...\n",
      "   Finished this batch.\n",
      "Handling batch 49 of 63 that covers road segments 4900 through 4999...\n",
      "   Writing outputs to file...\n",
      "   Finished this batch.\n",
      "Handling batch 50 of 63 that covers road segments 5000 through 5099...\n",
      "   Writing outputs to file...\n",
      "   Finished this batch.\n",
      "Handling batch 51 of 63 that covers road segments 5100 through 5199...\n",
      "   Writing outputs to file...\n",
      "   Finished this batch.\n",
      "Handling batch 52 of 63 that covers road segments 5200 through 5299...\n",
      "   Writing outputs to file...\n",
      "   Finished this batch.\n",
      "Handling batch 53 of 63 that covers road segments 5300 through 5399...\n",
      "   Writing outputs to file...\n",
      "   Finished this batch.\n",
      "Handling batch 54 of 63 that covers road segments 5400 through 5499...\n",
      "   Writing outputs to file...\n",
      "   Finished this batch.\n",
      "Handling batch 55 of 63 that covers road segments 5500 through 5599...\n",
      "   Writing outputs to file...\n",
      "   Finished this batch.\n",
      "Handling batch 56 of 63 that covers road segments 5600 through 5699...\n",
      "   Writing outputs to file...\n",
      "   Finished this batch.\n",
      "Handling batch 57 of 63 that covers road segments 5700 through 5799...\n",
      "   Writing outputs to file...\n",
      "   Finished this batch.\n",
      "Handling batch 58 of 63 that covers road segments 5800 through 5899...\n",
      "   Writing outputs to file...\n",
      "   Finished this batch.\n",
      "Handling batch 59 of 63 that covers road segments 5900 through 5999...\n",
      "   Writing outputs to file...\n",
      "   Finished this batch.\n",
      "Handling batch 60 of 63 that covers road segments 6000 through 6099...\n",
      "   Writing outputs to file...\n",
      "   Finished this batch.\n",
      "Handling batch 61 of 63 that covers road segments 6100 through 6199...\n",
      "   Writing outputs to file...\n",
      "   Finished this batch.\n",
      "Handling batch 62 of 63 that covers road segments 6200 through 6299...\n",
      "   Writing outputs to file...\n",
      "   Finished this batch.\n",
      "Handling batch 63 of 63 that covers road segments 6300 through 6323...\n",
      "   Writing outputs to file...\n",
      "   Finished this batch.\n",
      "Saved.\n"
     ]
    }
   ],
   "source": [
    "filename_places = 'cache/' + trailname + '_places.csv'\n",
    "\n",
    "if not os.path.isfile(filename_places): # The merged PLACES file does not exist\n",
    "    \n",
    "    print('Merged PLACES file was not found, merging and saving...')\n",
    "    gr_placematch.roads2places(trailname,data_roads,points_per_batch_places, delta_places)\n",
    "    data_places = gr_utils.merge_places(trailname, data_roads, points_per_batch_places) # Merge the different sections\n",
    "    gr_utils.write_places(trailname, data_places) # Write the merged PLACES data\n",
    "    print('Saved.')\n",
    "    \n",
    "else: # The merged PLACES file does exist\n",
    "    \n",
    "    print('Loading merged PLACES file...')\n",
    "    data_places = gr_utils.read_places(trailname) # Read the merged PLACES file\n",
    "    print('Loaded.')"
   ]
  },
  {
   "cell_type": "markdown",
   "id": "f6eb2b8c",
   "metadata": {},
   "source": [
    "## Evaluating PROCESSED properties"
   ]
  },
  {
   "cell_type": "code",
   "execution_count": 6,
   "id": "7f33ced7",
   "metadata": {},
   "outputs": [
    {
     "name": "stdout",
     "output_type": "stream",
     "text": [
      "The PROCESSED file already exists, so nothing needs to be done.\n"
     ]
    }
   ],
   "source": [
    "filename_processed = 'data_output/' + trailname + '_processed.csv'\n",
    "\n",
    "if not os.path.isfile(filename_processed): # The PROCESSED file does not exist\n",
    "    \n",
    "    print('The PROCESSED file was not found, processing and saving...')\n",
    "    data = gr_process.places2processed(data_places,tol_d,types_slow,types_heavy,tracktype_p0,tracktype_p1,tracktype_p2,surface_p0,surface_p1,highway_p1) # Determine traffic/development/paved status & GR types\n",
    "    gr_utils.write_processed(trailname, data) # Write the processed data\n",
    "    print('Saved.')\n",
    "    \n",
    "else: # The PROCESSED file does exist\n",
    "    \n",
    "    print('The PROCESSED file already exists, so nothing needs to be done.')"
   ]
  },
  {
   "cell_type": "code",
   "execution_count": null,
   "id": "7449685e",
   "metadata": {},
   "outputs": [],
   "source": []
  }
 ],
 "metadata": {
  "kernelspec": {
   "display_name": "Python 3 (ipykernel)",
   "language": "python",
   "name": "python3"
  },
  "language_info": {
   "codemirror_mode": {
    "name": "ipython",
    "version": 3
   },
   "file_extension": ".py",
   "mimetype": "text/x-python",
   "name": "python",
   "nbconvert_exporter": "python",
   "pygments_lexer": "ipython3",
   "version": "3.9.12"
  }
 },
 "nbformat": 4,
 "nbformat_minor": 5
}
