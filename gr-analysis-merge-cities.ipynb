{
 "cells": [
  {
   "cell_type": "code",
   "execution_count": 1,
   "id": "07a425bb",
   "metadata": {},
   "outputs": [],
   "source": [
    "# TODO\n",
    "# 1: ColorLine -> DONE\n",
    "# 2: Make plots of highway/surface/tracktype -> DONE\n",
    "# 3: Determine paved status rules -> DONE\n",
    "# 4: Determine city names\n",
    "# 5: Fix double pathing\n",
    "# 6: Merge data into single file\n",
    "# 7: Build separate analysis script\n",
    "# 8: Make plots: percentage paved vs. unpaved, length of individual paved/unpaved sections\n",
    "\n",
    "# Other ideas\n",
    "# Figure out how to plot: closest town, topography type (forest, plains, etc.), elevation profile"
   ]
  },
  {
   "cell_type": "markdown",
   "id": "c5850de2",
   "metadata": {},
   "source": [
    "## Loading"
   ]
  },
  {
   "cell_type": "code",
   "execution_count": 2,
   "id": "af7cc5e3",
   "metadata": {},
   "outputs": [
    {
     "name": "stderr",
     "output_type": "stream",
     "text": [
      "/Users/svanwal/opt/anaconda3/lib/python3.9/site-packages/scipy/__init__.py:146: UserWarning: A NumPy version >=1.16.5 and <1.23.0 is required for this version of SciPy (detected version 1.23.3\n",
      "  warnings.warn(f\"A NumPy version >={np_minversion} and <{np_maxversion}\"\n"
     ]
    }
   ],
   "source": [
    "# Preamble\n",
    "from IPython.display import IFrame\n",
    "from itertools import groupby \n",
    "from csv import writer\n",
    "import networkx as nx\n",
    "import pandas as pd\n",
    "import numpy as np\n",
    "import osmnx as ox\n",
    "import warnings\n",
    "import folium\n",
    "import branca.colormap as cm\n",
    "import seaborn as sns\n",
    "import matplotlib.pyplot as plt\n",
    "import folium\n",
    "import shapely\n",
    "%matplotlib inline"
   ]
  },
  {
   "cell_type": "code",
   "execution_count": 3,
   "id": "2737b51d",
   "metadata": {},
   "outputs": [
    {
     "data": {
      "application/javascript": [
       "IPython.OutputArea.auto_scroll_threshold = 9999;\n"
      ],
      "text/plain": [
       "<IPython.core.display.Javascript object>"
      ]
     },
     "metadata": {},
     "output_type": "display_data"
    }
   ],
   "source": [
    "%%javascript\n",
    "IPython.OutputArea.auto_scroll_threshold = 9999;"
   ]
  },
  {
   "cell_type": "code",
   "execution_count": 4,
   "id": "a5a4b737",
   "metadata": {},
   "outputs": [],
   "source": [
    "# --- Load and process the GPX track\n",
    "trail = 'gr131'\n",
    "# trail = 'gr16'\n",
    "points_per_batch = 100\n",
    "filename_in = 'data/' + trail + '.csv'\n",
    "hike = pd.read_csv(filename_in)\n",
    "coords = hike[['latitude','longitude']].values.tolist()\n",
    "n_batch = int(np.ceil(hike.shape[0]/points_per_batch))"
   ]
  },
  {
   "cell_type": "code",
   "execution_count": 5,
   "id": "1437ac58",
   "metadata": {},
   "outputs": [],
   "source": [
    "filename = 'data/' + trail + '_0to' + str(points_per_batch) + '.csv'\n",
    "df = pd.read_csv(filename,dtype={'surface': str})"
   ]
  },
  {
   "cell_type": "code",
   "execution_count": 6,
   "id": "8dc9c5ac",
   "metadata": {},
   "outputs": [],
   "source": [
    "# Loading data and merging\n",
    "for b in range(1,n_batch): # b is the batch counter\n",
    "    n1 = b*points_per_batch # First point\n",
    "    n2 = min(n1 + points_per_batch, len(hike)) # Last point\n",
    "    filename = 'data/' + trail + '_' + str(n1) + 'to' + str(n2) + '.csv'\n",
    "    df_new = pd.read_csv(filename,dtype={'surface': str})\n",
    "    df = pd.concat([df,df_new],ignore_index=True)"
   ]
  },
  {
   "cell_type": "markdown",
   "id": "46fb74aa",
   "metadata": {},
   "source": [
    "## Removing backtracking"
   ]
  },
  {
   "cell_type": "code",
   "execution_count": 7,
   "id": "de20bbdc",
   "metadata": {},
   "outputs": [],
   "source": [
    "# TODO"
   ]
  },
  {
   "cell_type": "markdown",
   "id": "1a00c9c6",
   "metadata": {},
   "source": [
    "## Grabbing city names"
   ]
  },
  {
   "cell_type": "code",
   "execution_count": 8,
   "id": "e6cc8bf0",
   "metadata": {},
   "outputs": [],
   "source": [
    "# Function definitions\n",
    "def is_polygon(row):\n",
    "    return type(row['geometry']) is shapely.geometry.polygon.Polygon"
   ]
  },
  {
   "cell_type": "code",
   "execution_count": 43,
   "id": "80ea1fe2",
   "metadata": {
    "scrolled": true
   },
   "outputs": [
    {
     "name": "stdout",
     "output_type": "stream",
     "text": [
      "Handling points 0 through 350\n",
      "Handling points 350 through 700\n",
      "Handling points 700 through 1050\n",
      "Handling points 1050 through 1400\n",
      "Handling points 1400 through 1750\n",
      "Handling points 1750 through 2100\n",
      "Handling points 2100 through 2450\n",
      "Handling points 2450 through 2800\n",
      "Handling points 2800 through 3150\n",
      "Handling points 3150 through 3500\n",
      "Handling points 3500 through 3850\n",
      "Handling points 3850 through 4168\n"
     ]
    }
   ],
   "source": [
    "np = 350\n",
    "imin = 0\n",
    "imax = np\n",
    "df['city0'] = ''\n",
    "df['city1'] = ''\n",
    "delta = 0.005 # Bounding box tolerance [deg]\n",
    "while imin <= df.shape[0]:\n",
    "    \n",
    "    # Prepare\n",
    "    imax = min(imax,df.shape[0])\n",
    "    print(f'Handling points {imin} through {imax}')\n",
    "    \n",
    "    # Select point subset & construct bbox\n",
    "    subset = df.iloc[imin:imax] # subset of points dataframe\n",
    "    lat_min = subset['x0'].min() - delta\n",
    "    lat_max = subset['x0'].max() + delta\n",
    "    lon_min = subset['y1'].min() - delta\n",
    "    lon_max = subset['y1'].max() + delta\n",
    "    polygon = ox.utils_geo.bbox_to_poly(lat_max, lat_min, lon_max, lon_min) # polygon of bbox around subset\n",
    "    \n",
    "    # Download city data\n",
    "    tags = {\"admin_level\": True}\n",
    "    gdf = ox.geometries_from_polygon(polygon, tags)\n",
    "    \n",
    "    # Processing city data\n",
    "    gdf['admin_level']= gdf['admin_level'].astype(int)\n",
    "    gdf['is_polygon'] = gdf.apply(is_polygon, axis=1)\n",
    "    \n",
    "    # Constructing list of city polygons\n",
    "    mask_admin = gdf['admin_level'].isin([8])\n",
    "    mask_polygon = gdf['is_polygon']==True\n",
    "    gdf_subset = gdf[mask_admin & mask_polygon]\n",
    "    cities = []\n",
    "    for i in range(gdf_subset.shape[0]):\n",
    "        cities.append(gdf_subset.iloc[i])\n",
    "        \n",
    "    # Grab city for each point in the subset\n",
    "    for idx, row in subset.iterrows():\n",
    "        \n",
    "        pt0 = shapely.geometry.Point(row['y0'],row['x0']) # start point of segment\n",
    "        pt1 = shapely.geometry.Point(row['y1'],row['x1']) # end point of segment\n",
    "        \n",
    "        # Find which city pt0 lies in\n",
    "        name0 = ''\n",
    "        for city in cities:\n",
    "            if pt0.within(city['geometry']):\n",
    "                name0 = city['name']\n",
    "                break\n",
    "        \n",
    "        # Find which city pt1 lies in\n",
    "        name1 = ''\n",
    "        for city in cities:\n",
    "            if pt1.within(city['geometry']):\n",
    "                name1 = city['name']\n",
    "                break\n",
    "\n",
    "        # Save\n",
    "        df.at[idx,'city0'] = name0\n",
    "        df.at[idx,'city1'] = name1\n",
    "        \n",
    "    # Increment counters and continue\n",
    "    imin += np\n",
    "    imax += np"
   ]
  },
  {
   "cell_type": "code",
   "execution_count": 30,
   "id": "f55b20df",
   "metadata": {
    "scrolled": true
   },
   "outputs": [],
   "source": [
    "# # # Show number of points per city\n",
    "# (df['city1']==df['city0']).value_counts()"
   ]
  },
  {
   "cell_type": "code",
   "execution_count": 55,
   "id": "914a77d8",
   "metadata": {},
   "outputs": [
    {
     "data": {
      "text/html": [
       "<div>\n",
       "<style scoped>\n",
       "    .dataframe tbody tr th:only-of-type {\n",
       "        vertical-align: middle;\n",
       "    }\n",
       "\n",
       "    .dataframe tbody tr th {\n",
       "        vertical-align: top;\n",
       "    }\n",
       "\n",
       "    .dataframe thead th {\n",
       "        text-align: right;\n",
       "    }\n",
       "</style>\n",
       "<table border=\"1\" class=\"dataframe\">\n",
       "  <thead>\n",
       "    <tr style=\"text-align: right;\">\n",
       "      <th></th>\n",
       "      <th>city0</th>\n",
       "      <th>n</th>\n",
       "    </tr>\n",
       "    <tr>\n",
       "      <th>city0</th>\n",
       "      <th></th>\n",
       "      <th></th>\n",
       "    </tr>\n",
       "  </thead>\n",
       "  <tbody>\n",
       "    <tr>\n",
       "      <th>35</th>\n",
       "      <td>Zedelgem</td>\n",
       "      <td>1</td>\n",
       "    </tr>\n",
       "    <tr>\n",
       "      <th>16</th>\n",
       "      <td></td>\n",
       "      <td>1</td>\n",
       "    </tr>\n",
       "    <tr>\n",
       "      <th>33</th>\n",
       "      <td>Zedelgem</td>\n",
       "      <td>1</td>\n",
       "    </tr>\n",
       "    <tr>\n",
       "      <th>34</th>\n",
       "      <td>Torhout</td>\n",
       "      <td>1</td>\n",
       "    </tr>\n",
       "    <tr>\n",
       "      <th>13</th>\n",
       "      <td></td>\n",
       "      <td>1</td>\n",
       "    </tr>\n",
       "    <tr>\n",
       "      <th>23</th>\n",
       "      <td>Oostkamp</td>\n",
       "      <td>1</td>\n",
       "    </tr>\n",
       "    <tr>\n",
       "      <th>54</th>\n",
       "      <td>Koekelare</td>\n",
       "      <td>1</td>\n",
       "    </tr>\n",
       "    <tr>\n",
       "      <th>22</th>\n",
       "      <td>Wingene</td>\n",
       "      <td>1</td>\n",
       "    </tr>\n",
       "    <tr>\n",
       "      <th>57</th>\n",
       "      <td></td>\n",
       "      <td>1</td>\n",
       "    </tr>\n",
       "    <tr>\n",
       "      <th>59</th>\n",
       "      <td></td>\n",
       "      <td>1</td>\n",
       "    </tr>\n",
       "    <tr>\n",
       "      <th>5</th>\n",
       "      <td>Damme</td>\n",
       "      <td>1</td>\n",
       "    </tr>\n",
       "    <tr>\n",
       "      <th>61</th>\n",
       "      <td></td>\n",
       "      <td>1</td>\n",
       "    </tr>\n",
       "    <tr>\n",
       "      <th>64</th>\n",
       "      <td>Houthulst</td>\n",
       "      <td>1</td>\n",
       "    </tr>\n",
       "    <tr>\n",
       "      <th>65</th>\n",
       "      <td>Diksmuide</td>\n",
       "      <td>1</td>\n",
       "    </tr>\n",
       "    <tr>\n",
       "      <th>55</th>\n",
       "      <td>Kortemark</td>\n",
       "      <td>1</td>\n",
       "    </tr>\n",
       "    <tr>\n",
       "      <th>45</th>\n",
       "      <td>Kortemark</td>\n",
       "      <td>2</td>\n",
       "    </tr>\n",
       "    <tr>\n",
       "      <th>42</th>\n",
       "      <td>Torhout</td>\n",
       "      <td>2</td>\n",
       "    </tr>\n",
       "    <tr>\n",
       "      <th>32</th>\n",
       "      <td></td>\n",
       "      <td>2</td>\n",
       "    </tr>\n",
       "    <tr>\n",
       "      <th>30</th>\n",
       "      <td>Zedelgem</td>\n",
       "      <td>2</td>\n",
       "    </tr>\n",
       "    <tr>\n",
       "      <th>28</th>\n",
       "      <td>Lichtervelde</td>\n",
       "      <td>2</td>\n",
       "    </tr>\n",
       "    <tr>\n",
       "      <th>24</th>\n",
       "      <td>Wingene</td>\n",
       "      <td>2</td>\n",
       "    </tr>\n",
       "    <tr>\n",
       "      <th>43</th>\n",
       "      <td>Kortemark</td>\n",
       "      <td>2</td>\n",
       "    </tr>\n",
       "    <tr>\n",
       "      <th>36</th>\n",
       "      <td>Torhout</td>\n",
       "      <td>2</td>\n",
       "    </tr>\n",
       "    <tr>\n",
       "      <th>3</th>\n",
       "      <td>Damme</td>\n",
       "      <td>2</td>\n",
       "    </tr>\n",
       "    <tr>\n",
       "      <th>6</th>\n",
       "      <td>Maldegem</td>\n",
       "      <td>2</td>\n",
       "    </tr>\n",
       "    <tr>\n",
       "      <th>26</th>\n",
       "      <td>Wingene</td>\n",
       "      <td>3</td>\n",
       "    </tr>\n",
       "    <tr>\n",
       "      <th>63</th>\n",
       "      <td>Diksmuide</td>\n",
       "      <td>3</td>\n",
       "    </tr>\n",
       "    <tr>\n",
       "      <th>60</th>\n",
       "      <td>Lo-Reninge</td>\n",
       "      <td>3</td>\n",
       "    </tr>\n",
       "    <tr>\n",
       "      <th>53</th>\n",
       "      <td>Kortemark</td>\n",
       "      <td>3</td>\n",
       "    </tr>\n",
       "    <tr>\n",
       "      <th>17</th>\n",
       "      <td>Oostkamp</td>\n",
       "      <td>3</td>\n",
       "    </tr>\n",
       "    <tr>\n",
       "      <th>49</th>\n",
       "      <td>Kortemark</td>\n",
       "      <td>3</td>\n",
       "    </tr>\n",
       "    <tr>\n",
       "      <th>44</th>\n",
       "      <td>Torhout</td>\n",
       "      <td>3</td>\n",
       "    </tr>\n",
       "    <tr>\n",
       "      <th>20</th>\n",
       "      <td>Wingene</td>\n",
       "      <td>4</td>\n",
       "    </tr>\n",
       "    <tr>\n",
       "      <th>66</th>\n",
       "      <td>Houthulst</td>\n",
       "      <td>4</td>\n",
       "    </tr>\n",
       "    <tr>\n",
       "      <th>52</th>\n",
       "      <td>Koekelare</td>\n",
       "      <td>4</td>\n",
       "    </tr>\n",
       "    <tr>\n",
       "      <th>48</th>\n",
       "      <td>Ichtegem</td>\n",
       "      <td>4</td>\n",
       "    </tr>\n",
       "    <tr>\n",
       "      <th>46</th>\n",
       "      <td>Ichtegem</td>\n",
       "      <td>4</td>\n",
       "    </tr>\n",
       "    <tr>\n",
       "      <th>31</th>\n",
       "      <td>Torhout</td>\n",
       "      <td>5</td>\n",
       "    </tr>\n",
       "    <tr>\n",
       "      <th>41</th>\n",
       "      <td>Kortemark</td>\n",
       "      <td>5</td>\n",
       "    </tr>\n",
       "    <tr>\n",
       "      <th>25</th>\n",
       "      <td>Oostkamp</td>\n",
       "      <td>5</td>\n",
       "    </tr>\n",
       "    <tr>\n",
       "      <th>71</th>\n",
       "      <td>Langemark - Poelkapelle</td>\n",
       "      <td>5</td>\n",
       "    </tr>\n",
       "    <tr>\n",
       "      <th>14</th>\n",
       "      <td>Beernem</td>\n",
       "      <td>6</td>\n",
       "    </tr>\n",
       "    <tr>\n",
       "      <th>15</th>\n",
       "      <td>Wingene</td>\n",
       "      <td>7</td>\n",
       "    </tr>\n",
       "    <tr>\n",
       "      <th>4</th>\n",
       "      <td>Maldegem</td>\n",
       "      <td>7</td>\n",
       "    </tr>\n",
       "    <tr>\n",
       "      <th>39</th>\n",
       "      <td>Ichtegem</td>\n",
       "      <td>7</td>\n",
       "    </tr>\n",
       "    <tr>\n",
       "      <th>9</th>\n",
       "      <td>Maldegem</td>\n",
       "      <td>12</td>\n",
       "    </tr>\n",
       "    <tr>\n",
       "      <th>50</th>\n",
       "      <td>Ichtegem</td>\n",
       "      <td>15</td>\n",
       "    </tr>\n",
       "    <tr>\n",
       "      <th>51</th>\n",
       "      <td>Kortemark</td>\n",
       "      <td>16</td>\n",
       "    </tr>\n",
       "    <tr>\n",
       "      <th>40</th>\n",
       "      <td>Torhout</td>\n",
       "      <td>25</td>\n",
       "    </tr>\n",
       "    <tr>\n",
       "      <th>11</th>\n",
       "      <td>Aalter</td>\n",
       "      <td>31</td>\n",
       "    </tr>\n",
       "  </tbody>\n",
       "</table>\n",
       "</div>"
      ],
      "text/plain": [
       "                         city0   n\n",
       "city0                             \n",
       "35                    Zedelgem   1\n",
       "16                               1\n",
       "33                    Zedelgem   1\n",
       "34                     Torhout   1\n",
       "13                               1\n",
       "23                    Oostkamp   1\n",
       "54                   Koekelare   1\n",
       "22                     Wingene   1\n",
       "57                               1\n",
       "59                               1\n",
       "5                        Damme   1\n",
       "61                               1\n",
       "64                   Houthulst   1\n",
       "65                   Diksmuide   1\n",
       "55                   Kortemark   1\n",
       "45                   Kortemark   2\n",
       "42                     Torhout   2\n",
       "32                               2\n",
       "30                    Zedelgem   2\n",
       "28                Lichtervelde   2\n",
       "24                     Wingene   2\n",
       "43                   Kortemark   2\n",
       "36                     Torhout   2\n",
       "3                        Damme   2\n",
       "6                     Maldegem   2\n",
       "26                     Wingene   3\n",
       "63                   Diksmuide   3\n",
       "60                  Lo-Reninge   3\n",
       "53                   Kortemark   3\n",
       "17                    Oostkamp   3\n",
       "49                   Kortemark   3\n",
       "44                     Torhout   3\n",
       "20                     Wingene   4\n",
       "66                   Houthulst   4\n",
       "52                   Koekelare   4\n",
       "48                    Ichtegem   4\n",
       "46                    Ichtegem   4\n",
       "31                     Torhout   5\n",
       "41                   Kortemark   5\n",
       "25                    Oostkamp   5\n",
       "71     Langemark - Poelkapelle   5\n",
       "14                     Beernem   6\n",
       "15                     Wingene   7\n",
       "4                     Maldegem   7\n",
       "39                    Ichtegem   7\n",
       "9                     Maldegem  12\n",
       "50                    Ichtegem  15\n",
       "51                   Kortemark  16\n",
       "40                     Torhout  25\n",
       "11                      Aalter  31"
      ]
     },
     "execution_count": 55,
     "metadata": {},
     "output_type": "execute_result"
    }
   ],
   "source": [
    "# # Grouping trail in sections by city\n",
    "trail_by_city0 = df.groupby((df['city0'].shift() != df['city0']).cumsum())\n",
    "section_counts0 = pd.DataFrame()\n",
    "section_counts0['city0']= trail_by_city0.first()['city0']\n",
    "section_counts0['n'] = trail_by_city0.size()\n",
    "section_counts0.sort_values('n').head(50)"
   ]
  },
  {
   "cell_type": "code",
   "execution_count": 48,
   "id": "f747401d",
   "metadata": {},
   "outputs": [],
   "source": [
    "# List of unique cities\n",
    "unique_cities = section_counts0['city0'].unique().tolist()\n",
    "unique_colors = []\n",
    "allcolors = ['red','orange','yellow','green','blue','purple']*100\n",
    "for i in range(len(unique_cities)):\n",
    "    unique_colors.append(allcolors[i])\n",
    "# Color dictionary\n",
    "colordict = dict(zip(unique_cities,unique_colors))\n",
    "colordict[''] = 'black'"
   ]
  },
  {
   "cell_type": "markdown",
   "id": "c93ab745",
   "metadata": {},
   "source": [
    "## Drafts below"
   ]
  },
  {
   "cell_type": "code",
   "execution_count": 51,
   "id": "f57cccc3",
   "metadata": {},
   "outputs": [
    {
     "data": {
      "text/html": [
       "\n",
       "        <iframe\n",
       "            width=\"1000\"\n",
       "            height=\"500\"\n",
       "            src=\"data/chart.html\"\n",
       "            frameborder=\"0\"\n",
       "            allowfullscreen\n",
       "            \n",
       "        ></iframe>\n",
       "        "
      ],
      "text/plain": [
       "<IPython.lib.display.IFrame at 0x7fefb062e430>"
      ]
     },
     "execution_count": 51,
     "metadata": {},
     "output_type": "execute_result"
    }
   ],
   "source": [
    "# Need to figure out why the Ieper section doesn't have a city associated\n",
    "# Make a plot where each color is associated with a city\n",
    "\n",
    "# Plot trail sections in successive cities\n",
    "# Map setup\n",
    "mid = int(len(coords)/2)\n",
    "chart = folium.Map(location=coords[mid], zoom_start=9, tiles=\"OpenStreetMap\") \n",
    "# Prep\n",
    "n = df.shape[0]\n",
    "i0 = 0\n",
    "i1 = 1\n",
    "ic = 0\n",
    "# Loop over trail\n",
    "while i1<n:\n",
    "\n",
    "    # Find how long this city occurs continuously\n",
    "    city0 = df.at[i0,'city0']\n",
    "    for i1 in range(i0+1,n):\n",
    "        if df.loc[i1,'city0']==city0:\n",
    "            i1 += 1\n",
    "        else:\n",
    "            break\n",
    "            \n",
    "    # Grab coordinates\n",
    "    trail_subset = df.iloc[i0:i1]\n",
    "    x = trail_subset['x0'].values.tolist()\n",
    "    y = trail_subset['y0'].values.tolist()\n",
    "    x.extend(trail_subset.tail(1)['x1'])\n",
    "    y.extend(trail_subset.tail(1)['y1'])\n",
    "    xy0 = list(zip(x,y))\n",
    "    xy = [[coord[0],coord[1]] for coord in xy0]\n",
    "    num = len(xy)\n",
    "    \n",
    "    # Plot\n",
    "    nam = str(city0) + ' ' + str(num)\n",
    "    c = colordict[city0]\n",
    "    newline = folium.PolyLine(locations=xy, color=c, weight=3, popup=nam)\n",
    "    newline.add_to(chart)\n",
    "    ic += 1\n",
    "    \n",
    "    # Increase i0\n",
    "    i0 = i1\n",
    "\n",
    "# Render the map\n",
    "filepath = \"data/chart.html\"\n",
    "chart.save(filepath)\n",
    "IFrame(filepath, width=1000, height=500)"
   ]
  },
  {
   "cell_type": "code",
   "execution_count": 22,
   "id": "295684ab",
   "metadata": {},
   "outputs": [
    {
     "data": {
      "text/plain": [
       "[51.06763, 2.98245]"
      ]
     },
     "execution_count": 22,
     "metadata": {},
     "output_type": "execute_result"
    }
   ],
   "source": [
    "coords[mid]"
   ]
  },
  {
   "cell_type": "code",
   "execution_count": 14,
   "id": "15264bf1",
   "metadata": {},
   "outputs": [
    {
     "data": {
      "text/plain": [
       "0       Damme\n",
       "1       Damme\n",
       "2       Damme\n",
       "3       Damme\n",
       "4       Damme\n",
       "        ...  \n",
       "4163    empty\n",
       "4164    empty\n",
       "4165    empty\n",
       "4166    empty\n",
       "4167    empty\n",
       "Name: city, Length: 4168, dtype: object"
      ]
     },
     "execution_count": 14,
     "metadata": {},
     "output_type": "execute_result"
    }
   ],
   "source": [
    "df['city']"
   ]
  },
  {
   "cell_type": "code",
   "execution_count": 206,
   "id": "15094885",
   "metadata": {},
   "outputs": [],
   "source": []
  },
  {
   "cell_type": "code",
   "execution_count": null,
   "id": "63e17ac5",
   "metadata": {},
   "outputs": [],
   "source": []
  },
  {
   "cell_type": "code",
   "execution_count": null,
   "id": "fb8b06f8",
   "metadata": {},
   "outputs": [],
   "source": []
  },
  {
   "cell_type": "code",
   "execution_count": 35,
   "id": "be33aae1",
   "metadata": {},
   "outputs": [
    {
     "data": {
      "text/html": [
       "\n",
       "        <iframe\n",
       "            width=\"1000\"\n",
       "            height=\"500\"\n",
       "            src=\"data/chart.html\"\n",
       "            frameborder=\"0\"\n",
       "            allowfullscreen\n",
       "            \n",
       "        ></iframe>\n",
       "        "
      ],
      "text/plain": [
       "<IPython.lib.display.IFrame at 0x7fd4d423bb50>"
      ]
     },
     "execution_count": 35,
     "metadata": {},
     "output_type": "execute_result"
    }
   ],
   "source": [
    "# Plotting boundaries with specified admin level\n",
    "mask_admin = gdf['admin_level'].isin([8,9])\n",
    "mask_polygon = gdf['is_polygon']==True\n",
    "gdf_subset = gdf[mask_admin & mask_polygon]\n",
    "\n",
    "# Map setup\n",
    "# chart = folium.Map(location=[50.85,4.35] , zoom_start=7, tiles=\"OpenStreetMap\") # Brussels\n",
    "# chart = folium.Map(location=[49.75,5.22] , zoom_start=10, tiles=\"OpenStreetMap\") # Gaume\n",
    "chart = folium.Map(location=[51.208,3.224] , zoom_start=10, tiles=\"OpenStreetMap\") # Ieper\n",
    "\n",
    "### Drawing level 8 on bottom\n",
    "for i in range(gdf_subset.shape[0]):\n",
    "    item = gdf_subset.iloc[i]\n",
    "    if item['admin_level']==8:\n",
    "        x,y = item['geometry'].exterior.coords.xy\n",
    "        coords = pd.DataFrame({'LAT':y,'LON':x})\n",
    "        newline = folium.Polygon(locations=coords, color='blue', fill=True, fillOpacity=0.2, popup=item['name'])\n",
    "        newline.add_to(chart)\n",
    "    \n",
    "### Drawing level 9 on top\n",
    "for i in range(gdf_subset.shape[0]):\n",
    "    item = gdf_subset.iloc[i]\n",
    "    if item['admin_level']==9:\n",
    "        x,y = item['geometry'].exterior.coords.xy\n",
    "        coords = pd.DataFrame({'LAT':y,'LON':x})\n",
    "        newline = folium.Polygon(locations=coords, color='red', fill=True, fillOpacity=0.2, popup=item['name'])\n",
    "        newline.add_to(chart)\n",
    "        \n",
    "## Plotting points with none city\n",
    "cityless = df[df['city1']=='none']\n",
    "for idx, row in cityless.iterrows():\n",
    "    newmarker = folium.CircleMarker(location=[row['x0'],row['y0']],radius=3,color='black')\n",
    "    newmarker.add_to(chart)\n",
    "    newmarker = folium.CircleMarker(location=[row['x1'],row['y1']],radius=3,color='black')\n",
    "    newmarker.add_to(chart)\n",
    "    \n",
    "# Render the map\n",
    "filepath = \"data/chart.html\"\n",
    "chart.save(filepath)\n",
    "IFrame(filepath, width=1000, height=500)"
   ]
  },
  {
   "cell_type": "code",
   "execution_count": null,
   "id": "2b922349",
   "metadata": {},
   "outputs": [],
   "source": []
  },
  {
   "cell_type": "markdown",
   "id": "b9989fe9",
   "metadata": {},
   "source": [
    "## Counting highway/surface/tracktype"
   ]
  },
  {
   "cell_type": "code",
   "execution_count": 7,
   "id": "44713fd8",
   "metadata": {},
   "outputs": [],
   "source": [
    "def grab_first(x):\n",
    "    if x is not None:\n",
    "        bb = x.strip('][')\n",
    "        cc = bb.split(',')\n",
    "        dd = [element.strip().strip(\"'\") for element in cc]\n",
    "        return dd[0]\n",
    "    return x"
   ]
  },
  {
   "cell_type": "code",
   "execution_count": 8,
   "id": "1766afe8",
   "metadata": {},
   "outputs": [],
   "source": [
    "df['highway'] = df['highway'].replace({np.nan:\"none\"})\n",
    "df['surface'] = df['surface'].replace({np.nan:\"none\"})\n",
    "df['tracktype'] = df['tracktype'].replace({np.nan:\"none\"})"
   ]
  },
  {
   "cell_type": "code",
   "execution_count": 9,
   "id": "4bab9d6c",
   "metadata": {
    "scrolled": true
   },
   "outputs": [],
   "source": [
    "df['first_highway'] = df['highway'].apply(grab_first)\n",
    "df['first_surface'] = df['surface'].apply(grab_first)\n",
    "df['first_tracktype'] = df['tracktype'].apply(grab_first)"
   ]
  },
  {
   "cell_type": "markdown",
   "id": "2369f136",
   "metadata": {},
   "source": [
    "## Defining paved status"
   ]
  },
  {
   "cell_type": "code",
   "execution_count": 10,
   "id": "be3c9d28",
   "metadata": {},
   "outputs": [],
   "source": [
    "def get_paved_status(row):\n",
    "    tracktype_paved = ['grade1']\n",
    "    tracktype_unpaved = ['grade2','grade3','grade4','grade5']\n",
    "    surface_unpaved = ['ground','gravel','grass','unpaved','fine_gravel','wood','dirt','compacted','sand','rock','pebblestone','earth','mud','woodchips','snow','ice','salt']\n",
    "    highway_unpaved = ['track','path','footway','bridleway']\n",
    "    \n",
    "    if row['first_tracktype'] in tracktype_unpaved:\n",
    "        return False\n",
    "    elif row['first_tracktype'] in tracktype_paved:\n",
    "        return True\n",
    "    else:\n",
    "        if row['surface'] in surface_unpaved:\n",
    "            return False\n",
    "        else:\n",
    "            if row['highway'] in highway_unpaved:\n",
    "                return False\n",
    "            else:\n",
    "                return True"
   ]
  },
  {
   "cell_type": "code",
   "execution_count": 11,
   "id": "a24ef9cd",
   "metadata": {},
   "outputs": [],
   "source": [
    "df['paved'] = df.apply(get_paved_status,axis=1)"
   ]
  },
  {
   "cell_type": "markdown",
   "id": "6bb32d89",
   "metadata": {},
   "source": [
    "## Analyzing statistics"
   ]
  },
  {
   "cell_type": "code",
   "execution_count": 12,
   "id": "f7b2fed6",
   "metadata": {
    "scrolled": true
   },
   "outputs": [
    {
     "name": "stdout",
     "output_type": "stream",
     "text": [
      "Percentage paved: 0.681\n",
      "Percentage unpaved: 0.319\n"
     ]
    }
   ],
   "source": [
    "# Paved and unpaved sections\n",
    "tot_unpaved = df[~df['paved']]['d_cart'].sum()\n",
    "tot_paved = df[df['paved']]['d_cart'].sum()\n",
    "tot = tot_unpaved + tot_paved\n",
    "print(f'Percentage paved: {round(tot_paved/tot,3)}')\n",
    "print(f'Percentage unpaved: {round(tot_unpaved/tot,3)}')"
   ]
  },
  {
   "cell_type": "code",
   "execution_count": 15,
   "id": "e1f1d024",
   "metadata": {},
   "outputs": [],
   "source": [
    "# Figuring out delta_d\n",
    "df['d_cum'] = df['d_cart'].cumsum()\n",
    "df['d0'] = df['d_cum'].shift(1)\n",
    "df.loc[0,'d0'] = 0\n",
    "df['d1'] = df['d_cum']"
   ]
  },
  {
   "cell_type": "markdown",
   "id": "ed68cb58",
   "metadata": {},
   "source": [
    "## Plotting the route"
   ]
  },
  {
   "cell_type": "code",
   "execution_count": 16,
   "id": "10b29025",
   "metadata": {},
   "outputs": [],
   "source": [
    "# Set up ColorLine data\n",
    "x = df['x0'].values.tolist()\n",
    "y = df['y0'].values.tolist()\n",
    "x.extend(df.tail(1)['x1'])\n",
    "y.extend(df.tail(1)['y1'])\n",
    "colors = df['paved'].values.tolist()\n",
    "colors[colors==True] = 1\n",
    "colors[colors==False] = 0\n",
    "xy0 = list(zip(x,y))\n",
    "xy = [[coord[0],coord[1]] for coord in xy0]\n",
    "colormap = cm.LinearColormap(colors=['#239621','black'],vmin=0.25,vmax=0.75,index=[0.25,0.75])"
   ]
  },
  {
   "cell_type": "code",
   "execution_count": 17,
   "id": "1cd3fbe7",
   "metadata": {
    "scrolled": true
   },
   "outputs": [
    {
     "data": {
      "text/html": [
       "\n",
       "        <iframe\n",
       "            width=\"1000\"\n",
       "            height=\"500\"\n",
       "            src=\"data/chart.html\"\n",
       "            frameborder=\"0\"\n",
       "            allowfullscreen\n",
       "            \n",
       "        ></iframe>\n",
       "        "
      ],
      "text/plain": [
       "<IPython.lib.display.IFrame at 0x7fc20ea405e0>"
      ]
     },
     "execution_count": 17,
     "metadata": {},
     "output_type": "execute_result"
    }
   ],
   "source": [
    "# Map setup\n",
    "mid = int(len(coords)/2)\n",
    "chart = folium.Map(location=coords[mid], zoom_start=12, tiles=\"OpenStreetMap\") \n",
    "   \n",
    "# Draw matched route segments\n",
    "newline = folium.ColorLine(positions=xy, colors=colors, colormap=colormap, weight=3)\n",
    "newline.add_to(chart)\n",
    "\n",
    "# Render the map\n",
    "filepath = \"data/chart.html\"\n",
    "chart.save(filepath)\n",
    "IFrame(filepath, width=1000, height=500)"
   ]
  },
  {
   "cell_type": "markdown",
   "id": "9251ff4e",
   "metadata": {},
   "source": [
    "## Drawing successive segments"
   ]
  },
  {
   "cell_type": "code",
   "execution_count": 18,
   "id": "7b5cdc8c",
   "metadata": {},
   "outputs": [
    {
     "data": {
      "image/png": "[encoded data removed]",
      "text/plain": [
       "<Figure size 1440x144 with 1 Axes>"
      ]
     },
     "metadata": {
      "needs_background": "light"
     },
     "output_type": "display_data"
    }
   ],
   "source": [
    "fig, ax = plt.subplots(figsize=(20,2))\n",
    "plt.rc('font', size=20)\n",
    "for idx, row in df.iterrows():\n",
    "    x = [row['d0']/1000,row['d1']/1000]\n",
    "    y = [1,1]\n",
    "    if row['paved']:\n",
    "        plt.plot(x,y,linewidth=100,color='black',solid_capstyle='butt',alpha=0.7)\n",
    "    else:\n",
    "        plt.plot(x,y,linewidth=100,color='green',solid_capstyle='butt',alpha=0.7)\n",
    "plt.xticks(np.arange(0, 1000, step=10))\n",
    "plt.yticks([])\n",
    "plt.xlabel('Distance [km]')\n",
    "plt.xlim(0,df['d1'].loc[df.shape[0]-1]/1000)\n",
    "ax.set_axisbelow(False)\n",
    "plt.grid(visible=True,axis='x',alpha=1,color='red',linewidth=2)\n",
    "\n",
    "plt.show()"
   ]
  },
  {
   "cell_type": "code",
   "execution_count": null,
   "id": "5620ac58",
   "metadata": {},
   "outputs": [],
   "source": []
  },
  {
   "cell_type": "code",
   "execution_count": null,
   "id": "18e5db27",
   "metadata": {},
   "outputs": [],
   "source": [
    "# "
   ]
  },
  {
   "cell_type": "code",
   "execution_count": null,
   "id": "d57ac069",
   "metadata": {},
   "outputs": [],
   "source": []
  },
  {
   "cell_type": "code",
   "execution_count": null,
   "id": "642d7920",
   "metadata": {},
   "outputs": [],
   "source": []
  },
  {
   "cell_type": "code",
   "execution_count": null,
   "id": "111f2f10",
   "metadata": {},
   "outputs": [],
   "source": []
  },
  {
   "cell_type": "code",
   "execution_count": null,
   "id": "75e78277",
   "metadata": {},
   "outputs": [],
   "source": []
  },
  {
   "cell_type": "code",
   "execution_count": null,
   "id": "5da9a267",
   "metadata": {},
   "outputs": [],
   "source": []
  },
  {
   "cell_type": "code",
   "execution_count": null,
   "id": "a6ff66be",
   "metadata": {},
   "outputs": [],
   "source": []
  },
  {
   "cell_type": "markdown",
   "id": "014dbd26",
   "metadata": {},
   "source": [
    "## Useful debug things"
   ]
  },
  {
   "cell_type": "code",
   "execution_count": 19,
   "id": "2601d346",
   "metadata": {
    "scrolled": true
   },
   "outputs": [
    {
     "name": "stdout",
     "output_type": "stream",
     "text": [
      "first_tracktype  first_surface    first_highway\n",
      "grade1           asphalt          track              12\n",
      "                 concrete         unclassified        9\n",
      "                 grass            track              18\n",
      "                                  unclassified       12\n",
      "                 none             unclassified        2\n",
      "                 paved            unclassified        6\n",
      "grade2           fine_gravel      track              27\n",
      "                 gravel           track               1\n",
      "grade3           asphalt          unclassified       23\n",
      "                 ground           path               36\n",
      "                                  track               5\n",
      "                 none             track              11\n",
      "                                  service             2\n",
      "grade4           compacted        track               2\n",
      "                 grass_paver      track              58\n",
      "                 none             track              15\n",
      "grade5           grass            track               5\n",
      "                 ground           track              15\n",
      "                                  path                3\n",
      "                 none             track              15\n",
      "none             asphalt          unclassified      610\n",
      "                                  cycleway          104\n",
      "                                  tertiary           55\n",
      "                                  path               33\n",
      "                                  service            33\n",
      "                                  residential        20\n",
      "                                  footway            10\n",
      "                                  secondary           8\n",
      "                                  primary             5\n",
      "                 cobblestone      residential         7\n",
      "                                  service             5\n",
      "                                  tertiary            4\n",
      "                 compacted        path               13\n",
      "                                  unclassified        1\n",
      "                 concrete         unclassified       82\n",
      "                                  cycleway           11\n",
      "                                  service            11\n",
      "                                  footway             7\n",
      "                                  tertiary            1\n",
      "                 concrete:plates  tertiary           10\n",
      "                                  footway             2\n",
      "                 dirt             track              12\n",
      "                                  service            11\n",
      "                 fine_gravel      footway            63\n",
      "                                  path               16\n",
      "                 grass            path              128\n",
      "                 gravel           unclassified       99\n",
      "                                  footway            46\n",
      "                                  track              46\n",
      "                                  cycleway           23\n",
      "                 ground           unclassified      173\n",
      "                                  path               44\n",
      "                                  track              21\n",
      "                 none             unclassified     1194\n",
      "                                  path              219\n",
      "                                  residential       203\n",
      "                                  track             112\n",
      "                                  footway            78\n",
      "                                  tertiary           68\n",
      "                                  service            49\n",
      "                                  cycleway           23\n",
      "                                  steps              13\n",
      "                                  pedestrian         10\n",
      "                                  primary             9\n",
      "                                  bridleway           4\n",
      "                 paved            footway             3\n",
      "                 paving_stones    steps              10\n",
      "                                  footway             3\n",
      "                 sand             path                1\n",
      "                 sett             secondary          10\n",
      "                                  tertiary            6\n",
      "                                  unclassified        2\n",
      "                 unpaved          path              106\n",
      "                                  track              21\n",
      "                                  cycleway            9\n",
      "                 wood             path               21\n",
      "                                  footway             3\n",
      "Name: first_highway, dtype: int64\n"
     ]
    }
   ],
   "source": [
    "pd.set_option('display.max_rows', None)\n",
    "# print(df.groupby(['first_highway','first_surface'])['first_tracktype'].value_counts(dropna=False))\n",
    "# print(df.groupby(['first_highway','first_tracktype'])['first_surface'].value_counts(dropna=False))\n",
    "print(df.groupby(['first_tracktype','first_surface'])['first_highway'].value_counts(dropna=False))\n",
    "pd.reset_option('display.max_rows')"
   ]
  },
  {
   "cell_type": "code",
   "execution_count": 20,
   "id": "ad4f923c",
   "metadata": {},
   "outputs": [
    {
     "data": {
      "text/html": [
       "\n",
       "        <iframe\n",
       "            width=\"1000\"\n",
       "            height=\"500\"\n",
       "            src=\"data/chart.html\"\n",
       "            frameborder=\"0\"\n",
       "            allowfullscreen\n",
       "            \n",
       "        ></iframe>\n",
       "        "
      ],
      "text/plain": [
       "<IPython.lib.display.IFrame at 0x7fc1f1b45af0>"
      ]
     },
     "execution_count": 20,
     "metadata": {},
     "output_type": "execute_result"
    }
   ],
   "source": [
    "# grade3 asphalt unclassified\n",
    "# mask_grade = df['first_tracktype']=='grade3'\n",
    "# mask_surface = df['first_surface']=='asphalt'\n",
    "# mask_highway = df['first_highway']=='unclassified'\n",
    "# mask_tot = mask_grade & mask_surface & mask_highway\n",
    "\n",
    "# bridleway\n",
    "mask_highway = df['first_highway']=='bridleway'\n",
    "mask_tot = mask_highway\n",
    "\n",
    "# grade1\n",
    "mask_grade = df['first_tracktype']=='grade1'\n",
    "mask_tot = mask_grade\n",
    "\n",
    "subset = df[mask_tot]\n",
    "\n",
    "# Trying out ColorLine\n",
    "# x = subset['x0'].values.tolist()\n",
    "# y = subset['y0'].values.tolist()\n",
    "# x.extend(df.tail(1)['x1'])\n",
    "# y.extend(df.tail(1)['y1'])\n",
    "# xy0 = list(zip(x,y))\n",
    "# xy = [[coord[0],coord[1]] for coord in xy0]\n",
    "\n",
    "# colormap = cm.LinearColormap(colors='black',vmin=0.25,vmax=0.75,index=[0.25,0.75])\n",
    "\n",
    "mid = int(len(coords)/2)\n",
    "chart = folium.Map(location=coords[mid], zoom_start=12, tiles=\"OpenStreetMap\") # Map setup\n",
    "    \n",
    "# newline = folium.ColorLine(positions=xy, colors=colors, colormap=colormap, weight=3)\n",
    "# newline.add_to(chart)\n",
    "    \n",
    "for idx, row in subset.iterrows():\n",
    "    c = [[row['x0'],row['y0']],\n",
    "         [row['x1'],row['y1']]]\n",
    "    newline = folium.PolyLine(locations=c, color='red', weight=5, popup='None')\n",
    "    newline.add_to(chart)\n",
    "\n",
    "# # Render the map\n",
    "filepath = \"data/chart.html\"\n",
    "chart.save(filepath)\n",
    "IFrame(filepath, width=1000, height=500)"
   ]
  },
  {
   "cell_type": "code",
   "execution_count": null,
   "id": "7d8b8b6c",
   "metadata": {},
   "outputs": [],
   "source": []
  },
  {
   "cell_type": "code",
   "execution_count": null,
   "id": "8ff9224a",
   "metadata": {},
   "outputs": [],
   "source": []
  },
  {
   "cell_type": "code",
   "execution_count": null,
   "id": "34dfa625",
   "metadata": {},
   "outputs": [],
   "source": []
  },
  {
   "cell_type": "code",
   "execution_count": null,
   "id": "39fdc3a7",
   "metadata": {},
   "outputs": [],
   "source": []
  },
  {
   "cell_type": "code",
   "execution_count": null,
   "id": "76964206",
   "metadata": {},
   "outputs": [],
   "source": []
  },
  {
   "cell_type": "code",
   "execution_count": null,
   "id": "88c0e89e",
   "metadata": {},
   "outputs": [],
   "source": []
  }
 ],
 "metadata": {
  "kernelspec": {
   "display_name": "Python 3 (ipykernel)",
   "language": "python",
   "name": "python3"
  },
  "language_info": {
   "codemirror_mode": {
    "name": "ipython",
    "version": 3
   },
   "file_extension": ".py",
   "mimetype": "text/x-python",
   "name": "python",
   "nbconvert_exporter": "python",
   "pygments_lexer": "ipython3",
   "version": "3.9.12"
  }
 },
 "nbformat": 4,
 "nbformat_minor": 5
}
