{
 "cells": [
  {
   "cell_type": "markdown",
   "metadata": {},
   "source": [
    "# Grabbing city names\n",
    "Testing"
   ]
  },
  {
   "cell_type": "code",
   "execution_count": null,
   "metadata": {},
   "outputs": [],
   "source": [
    "# TODO\n",
    "# See if I can grab place geometries from the same call that downloads the network nodes & edges\n",
    "# in gr-analysis it's graph_from_bbox  (in graph.py) -> uses graph_from_polygon -> eventually calls downloader._osm_network_download(polygon, network_type, custom_filter)\n",
    "# for cities it is geometries_from_place (in geometries.py) -> uses geocode_to_gdf -> eventually calls results = downloader._osm_place_download(query, by_osmid=by_osmid, limit=limit)"
   ]
  },
  {
   "cell_type": "code",
   "execution_count": 27,
   "metadata": {},
   "outputs": [],
   "source": [
    "# Preamble\n",
    "import osmnx as ox\n",
    "import pandas as pd\n",
    "import folium\n",
    "import shapely\n",
    "from shapely.geometry import Point, Polygon\n",
    "from IPython.display import IFrame\n",
    "%matplotlib inline"
   ]
  },
  {
   "cell_type": "code",
   "execution_count": 4,
   "metadata": {},
   "outputs": [],
   "source": [
    "# Function definitions\n",
    "def is_polygon(row):\n",
    "    return type(row['geometry']) is shapely.geometry.polygon.Polygon"
   ]
  },
  {
   "cell_type": "code",
   "execution_count": 5,
   "metadata": {},
   "outputs": [],
   "source": [
    "# Configuring request\n",
    "place = \"Florenville, Belgium\"\n",
    "tags = {\"admin_level\": True}\n",
    "# Running request\n",
    "gdf = ox.geometries_from_place(place, tags) # compare this with the call we make in the main analysis\n",
    "# Processing data\n",
    "gdf['admin_level']= gdf['admin_level'].astype(int)\n",
    "gdf['is_polygon'] = gdf.apply(is_polygon, axis=1)"
   ]
  },
  {
   "cell_type": "code",
   "execution_count": 6,
   "metadata": {},
   "outputs": [],
   "source": [
    "# Analytics\n",
    "# gdf.columns.values.tolist()\n",
    "# my_list = gdf.columns.values.tolist()\n",
    "# gdf['boundary'] # boundary type\n",
    "# gdf['admin_level'] # administrative boundary level\n",
    "# gdf['admin_level'].value_counts()"
   ]
  },
  {
   "cell_type": "code",
   "execution_count": 40,
   "metadata": {},
   "outputs": [
    {
     "data": {
      "text/html": [
       "\n",
       "        <iframe\n",
       "            width=\"1000\"\n",
       "            height=\"500\"\n",
       "            src=\"data/chart.html\"\n",
       "            frameborder=\"0\"\n",
       "            allowfullscreen\n",
       "            \n",
       "        ></iframe>\n",
       "        "
      ],
      "text/plain": [
       "<IPython.lib.display.IFrame at 0x7f8839258b20>"
      ]
     },
     "execution_count": 40,
     "metadata": {},
     "output_type": "execute_result"
    }
   ],
   "source": [
    "### Plotting boundaries with specified admin level\n",
    "mask_admin = gdf['admin_level'].isin([8,9])\n",
    "mask_polygon = gdf['is_polygon']==True\n",
    "gdf_subset = gdf[mask_admin & mask_polygon]\n",
    "\n",
    "# Map setup\n",
    "# chart = folium.Map(location=[50.85,4.35] , zoom_start=7, tiles=\"OpenStreetMap\") # Brussels\n",
    "chart = folium.Map(location=[49.75,5.22] , zoom_start=10, tiles=\"OpenStreetMap\") # Gaume\n",
    "\n",
    "### Drawing level 8 on bottom\n",
    "for i in range(gdf_subset.shape[0]):\n",
    "    item = gdf_subset.iloc[i]\n",
    "    if item['admin_level']==8:\n",
    "        x,y = item['geometry'].exterior.coords.xy\n",
    "        coords = pd.DataFrame({'LAT':y,'LON':x})\n",
    "        newline = folium.Polygon(locations=coords, color='blue', fill=True, fillOpacity=0.2, popup=item['name'])\n",
    "        newline.add_to(chart)\n",
    "    \n",
    "### Drawing level 9 on top\n",
    "for i in range(gdf_subset.shape[0]):\n",
    "    item = gdf_subset.iloc[i]\n",
    "    if item['admin_level']==9:\n",
    "        x,y = item['geometry'].exterior.coords.xy\n",
    "        coords = pd.DataFrame({'LAT':y,'LON':x})\n",
    "        newline = folium.Polygon(locations=coords, color='red', fill=True, fillOpacity=0.2, popup=item['name'])\n",
    "        newline.add_to(chart)\n",
    "    \n",
    "# Render the map\n",
    "filepath = \"data/chart.html\"\n",
    "chart.save(filepath)\n",
    "IFrame(filepath, width=1000, height=500)"
   ]
  },
  {
   "cell_type": "code",
   "execution_count": 66,
   "metadata": {},
   "outputs": [
    {
     "name": "stdout",
     "output_type": "stream",
     "text": [
      "Meix-devant-Virton\n",
      "False\n",
      "True\n"
     ]
    },
    {
     "data": {
      "text/html": [
       "\n",
       "        <iframe\n",
       "            width=\"1000\"\n",
       "            height=\"500\"\n",
       "            src=\"data/chart.html\"\n",
       "            frameborder=\"0\"\n",
       "            allowfullscreen\n",
       "            \n",
       "        ></iframe>\n",
       "        "
      ],
      "text/plain": [
       "<IPython.lib.display.IFrame at 0x7f8850a55e80>"
      ]
     },
     "execution_count": 66,
     "metadata": {},
     "output_type": "execute_result"
    }
   ],
   "source": [
    "## Testing point in polygon algorithm\n",
    "coord_out = [49.60,5.32] # lat, lon\n",
    "coord_in = [49.60,5.45] # lat, lon\n",
    "point_out = Point(coord_out[1],coord_out[0]) # lon, lat\n",
    "point_in  = Point(coord_in[1],coord_in[0]) # lon, lat\n",
    "\n",
    "### Plotting boundaries with specified admin level\n",
    "mask_admin = gdf['admin_level'].isin([8])\n",
    "mask_polygon = gdf['is_polygon']==True\n",
    "gdf_subset = gdf[mask_admin & mask_polygon]\n",
    "\n",
    "# Map setup\n",
    "# chart = folium.Map(location=[50.85,4.35] , zoom_start=7, tiles=\"OpenStreetMap\") # Brussels\n",
    "chart = folium.Map(location=[49.75,5.22] , zoom_start=10, tiles=\"OpenStreetMap\") # Gaume\n",
    "\n",
    "### Drawing level 8 on bottom\n",
    "# for i in range(gdf_subset.shape[0]):\n",
    "for i in range(1):\n",
    "    item = gdf_subset.iloc[i]\n",
    "    if item['admin_level']==8:\n",
    "        x,y = item['geometry'].exterior.coords.xy\n",
    "        coords = pd.DataFrame({'LAT':y,'LON':x})\n",
    "        newline = folium.Polygon(locations=coords, color='blue', fill=True, fillOpacity=0.2, popup=item['name'])\n",
    "        newline.add_to(chart)\n",
    "        poly = item['geometry']\n",
    "    \n",
    "status_out = point_out.within(poly)\n",
    "status_in = point_in.within(poly)\n",
    "print(item['name'])\n",
    "print(status_out)\n",
    "print(status_in)\n",
    "    \n",
    "newmarker = folium.CircleMarker(location=coord_out,radius=3,color='red')\n",
    "newmarker.add_to(chart)\n",
    "newmarker = folium.CircleMarker(location=coord_in,radius=3,color='black')\n",
    "newmarker.add_to(chart)\n",
    "    \n",
    "# Render the map\n",
    "filepath = \"data/chart.html\"\n",
    "chart.save(filepath)\n",
    "IFrame(filepath, width=1000, height=500)"
   ]
  },
  {
   "cell_type": "code",
   "execution_count": null,
   "metadata": {},
   "outputs": [],
   "source": []
  },
  {
   "cell_type": "code",
   "execution_count": null,
   "metadata": {},
   "outputs": [],
   "source": []
  },
  {
   "cell_type": "code",
   "execution_count": null,
   "metadata": {},
   "outputs": [],
   "source": []
  },
  {
   "cell_type": "code",
   "execution_count": null,
   "metadata": {},
   "outputs": [],
   "source": []
  },
  {
   "cell_type": "code",
   "execution_count": null,
   "metadata": {},
   "outputs": [],
   "source": []
  },
  {
   "cell_type": "code",
   "execution_count": null,
   "metadata": {},
   "outputs": [],
   "source": []
  },
  {
   "cell_type": "code",
   "execution_count": null,
   "metadata": {},
   "outputs": [],
   "source": []
  },
  {
   "cell_type": "code",
   "execution_count": null,
   "metadata": {},
   "outputs": [],
   "source": []
  },
  {
   "cell_type": "code",
   "execution_count": null,
   "metadata": {},
   "outputs": [],
   "source": []
  },
  {
   "cell_type": "code",
   "execution_count": null,
   "metadata": {},
   "outputs": [],
   "source": []
  },
  {
   "cell_type": "code",
   "execution_count": null,
   "metadata": {},
   "outputs": [],
   "source": []
  },
  {
   "cell_type": "code",
   "execution_count": null,
   "metadata": {},
   "outputs": [],
   "source": []
  },
  {
   "cell_type": "code",
   "execution_count": null,
   "metadata": {},
   "outputs": [],
   "source": []
  },
  {
   "cell_type": "code",
   "execution_count": 10,
   "metadata": {},
   "outputs": [
    {
     "data": {
      "text/html": [
       "\n",
       "        <iframe\n",
       "            width=\"1000\"\n",
       "            height=\"500\"\n",
       "            src=\"data/chart.html\"\n",
       "            frameborder=\"0\"\n",
       "            allowfullscreen\n",
       "            \n",
       "        ></iframe>\n",
       "        "
      ],
      "text/plain": [
       "<IPython.lib.display.IFrame at 0x7fa3150e15b0>"
      ]
     },
     "execution_count": 10,
     "metadata": {},
     "output_type": "execute_result"
    }
   ],
   "source": [
    "### Plotting boundaries with specified admin level\n",
    "mask_admin = gdf['admin_level'].isin([8,9])\n",
    "mask_polygon = gdf['is_polygon']==True\n",
    "gdf_subset = gdf[mask_admin & mask_polygon]\n",
    "\n",
    "# Map setup\n",
    "chart = folium.Map(location=[50.85,4.35] , zoom_start=7, tiles=\"OpenStreetMap\") \n",
    "\n",
    "### Grabbing coordinates of a boundary\n",
    "for i in range(gdf_subset.shape[0]):\n",
    "\n",
    "    item = gdf_subset.iloc[i]\n",
    "    x,y = item['geometry'].exterior.coords.xy\n",
    "    coords = pd.DataFrame({'LAT':y,'LON':x})\n",
    "    if item['admin_level']==8:\n",
    "        newline = folium.Polygon(locations=coords, color='blue', fill=True, fillOpacity=0.2, popup=item['name'])\n",
    "#     if item['admin_level']==9:\n",
    "#         newline = folium.Polygon(locations=coords, color='red', fill=True, fillOpacity=0.2, popup=item['name'])\n",
    "    newline.add_to(chart)\n",
    "    \n",
    "# Render the map\n",
    "filepath = \"data/chart.html\"\n",
    "chart.save(filepath)\n",
    "IFrame(filepath, width=1000, height=500)"
   ]
  },
  {
   "cell_type": "code",
   "execution_count": 9,
   "metadata": {},
   "outputs": [
    {
     "data": {
      "text/html": [
       "\n",
       "        <iframe\n",
       "            width=\"1000\"\n",
       "            height=\"500\"\n",
       "            src=\"data/chart.html\"\n",
       "            frameborder=\"0\"\n",
       "            allowfullscreen\n",
       "            \n",
       "        ></iframe>\n",
       "        "
      ],
      "text/plain": [
       "<IPython.lib.display.IFrame at 0x7fa318f22970>"
      ]
     },
     "execution_count": 9,
     "metadata": {},
     "output_type": "execute_result"
    }
   ],
   "source": [
    "### Plotting boundaries with specified admin level\n",
    "mask_admin = gdf['admin_level'].isin([8,9])\n",
    "mask_polygon = gdf['is_polygon']==True\n",
    "gdf_subset = gdf[mask_admin & mask_polygon]\n",
    "\n",
    "# Map setup\n",
    "chart = folium.Map(location=[50.85,4.35] , zoom_start=7, tiles=\"OpenStreetMap\") \n",
    "\n",
    "### Grabbing coordinates of a boundary\n",
    "for i in range(gdf_subset.shape[0]):\n",
    "\n",
    "    item = gdf_subset.iloc[i]\n",
    "    x,y = item['geometry'].exterior.coords.xy\n",
    "    coords = pd.DataFrame({'LAT':y,'LON':x})\n",
    "#     if item['admin_level']==8:\n",
    "#         newline = folium.Polygon(locations=coords, color='blue', fill=True, fillOpacity=0.2, popup=item['name'])\n",
    "    if item['admin_level']==9:\n",
    "        newline = folium.Polygon(locations=coords, color='red', fill=True, fillOpacity=0.2, popup=item['name'])\n",
    "    newline.add_to(chart)\n",
    "    \n",
    "# Render the map\n",
    "filepath = \"data/chart.html\"\n",
    "chart.save(filepath)\n",
    "IFrame(filepath, width=1000, height=500)"
   ]
  },
  {
   "cell_type": "code",
   "execution_count": null,
   "metadata": {},
   "outputs": [],
   "source": []
  },
  {
   "cell_type": "code",
   "execution_count": null,
   "metadata": {},
   "outputs": [],
   "source": []
  },
  {
   "cell_type": "code",
   "execution_count": null,
   "metadata": {},
   "outputs": [],
   "source": []
  },
  {
   "cell_type": "code",
   "execution_count": null,
   "metadata": {},
   "outputs": [],
   "source": []
  },
  {
   "cell_type": "code",
   "execution_count": null,
   "metadata": {},
   "outputs": [],
   "source": []
  },
  {
   "cell_type": "code",
   "execution_count": null,
   "metadata": {},
   "outputs": [],
   "source": []
  },
  {
   "cell_type": "code",
   "execution_count": null,
   "metadata": {},
   "outputs": [],
   "source": [
    "### Plotting boundaries with specified admin level\n",
    "mask_admin = gdf['admin_level']==9\n",
    "mask_polygon = gdf['is_polygon']==True\n",
    "gdf_subset = gdf[mask_admin & mask_polygon]\n",
    "\n",
    "# Map setup\n",
    "mid = int(len(coords)/2)\n",
    "chart = folium.Map(location=[50.85,4.35] , zoom_start=7, tiles=\"OpenStreetMap\") \n",
    "\n",
    "### Grabbing coordinates of a boundary\n",
    "for i in range(gdf_subset.shape[0]):\n",
    "\n",
    "    item = gdf_subset.iloc[i]['geometry']\n",
    "    \n",
    "    # Plotting LineString types\n",
    "#     if type(item) is shapely.geometry.linestring.LineString:\n",
    "#         x,y = item.coords.xy\n",
    "#         coords = pd.DataFrame({'LAT':y,'LON':x})\n",
    "#         newline = folium.PolyLine(locations=coords, weight=5, color='black')\n",
    "        \n",
    "    # Plotting Polygon types\n",
    "    if type(item) is shapely.geometry.polygon.Polygon:\n",
    "        x,y = item.exterior.coords.xy\n",
    "        coords = pd.DataFrame({'LAT':y,'LON':x})\n",
    "        newline = folium.Polygon(locations=coords, fill=True, fillOpacity=0.2)\n",
    "    \n",
    "    ### Plotting the boundary that we selected\n",
    "    newline.add_to(chart)\n",
    "    \n",
    "# Render the map\n",
    "filepath = \"data/chart.html\"\n",
    "chart.save(filepath)\n",
    "IFrame(filepath, width=1000, height=500)"
   ]
  }
 ],
 "metadata": {
  "kernelspec": {
   "display_name": "Python 3 (ipykernel)",
   "language": "python",
   "name": "python3"
  },
  "language_info": {
   "codemirror_mode": {
    "name": "ipython",
    "version": 3
   },
   "file_extension": ".py",
   "mimetype": "text/x-python",
   "name": "python",
   "nbconvert_exporter": "python",
   "pygments_lexer": "ipython3",
   "version": "3.9.12"
  }
 },
 "nbformat": 4,
 "nbformat_minor": 4
}
