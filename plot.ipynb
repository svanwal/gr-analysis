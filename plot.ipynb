{
 "cells": [
  {
   "cell_type": "markdown",
   "id": "f64d0c52",
   "metadata": {},
   "source": [
    "## Importing modules and packages"
   ]
  },
  {
   "cell_type": "code",
   "execution_count": 6,
   "id": "98e4ea6f",
   "metadata": {},
   "outputs": [],
   "source": [
    "# Importing packages\n",
    "# import osmnx  as ox\n",
    "import pandas as pd\n",
    "# import numpy  as np\n",
    "import folium\n",
    "import os.path\n",
    "import shapely\n",
    "# import geopandas as gpd\n",
    "from IPython.display import IFrame\n",
    "\n",
    "# Importing modules\n",
    "import gr_mapmatch # Contains functions that perform the map matching of roads\n",
    "import gr_placematch # Contains functions that perform the map matching of places\n",
    "import gr_utils # Contains useful geometry functions\n",
    "import gr_plot # Contains plotting routines"
   ]
  },
  {
   "cell_type": "markdown",
   "id": "07f65b56",
   "metadata": {},
   "source": [
    "## Input parameters"
   ]
  },
  {
   "cell_type": "code",
   "execution_count": 7,
   "id": "70cb4890",
   "metadata": {},
   "outputs": [],
   "source": [
    "trailname = 'gr16' # Name of the hiking trail to be considered (will search for trail.csv or trail.gpx as sources)"
   ]
  },
  {
   "cell_type": "markdown",
   "id": "0ec1940d",
   "metadata": {},
   "source": [
    "## Loading data"
   ]
  },
  {
   "cell_type": "code",
   "execution_count": 8,
   "id": "c037a265",
   "metadata": {},
   "outputs": [],
   "source": [
    "filename = 'data_output/' + trailname + '_processed.csv'\n",
    "data = pd.read_csv(filename,dtype={'highway':str, 'surface': str, 'tracktype':str},index_col=0)"
   ]
  },
  {
   "cell_type": "markdown",
   "id": "f525406c",
   "metadata": {},
   "source": [
    "## Establishing paving/traffic/development status & GR type"
   ]
  },
  {
   "cell_type": "code",
   "execution_count": 10,
   "id": "3d4cc0b6",
   "metadata": {},
   "outputs": [],
   "source": [
    "# Establish paving status\n",
    "tracktype_p0 = ['grade4','grade5']\n",
    "tracktype_p1 = ['grade2','grade3']\n",
    "tracktype_p2 = ['grade1']\n",
    "surface_p0 = ['ground','grass','dirt','sand','earth','mud']\n",
    "surface_p1 = ['unpaved','gravel','fine_gravel','wood','compacted','rocks','pebblestone','woodchips','snow','ice','salt']\n",
    "highway_p1 = ['track','path','footway','bridleway']\n",
    "# Establish paved status\n",
    "data = gr_mapmatch.get_paved_type(data,tracktype_p0,tracktype_p1,tracktype_p2,surface_p0,surface_p1,highway_p1)\n",
    "# Establish traffic status\n",
    "types_slow = ['pedestrian','track','footway','bridleway','steps','corridor','path']\n",
    "types_heavy = ['motorway','trunk','primary','secondary','tertiary']\n",
    "data = gr_mapmatch.get_traffic_type(data,types_slow,types_heavy)\n",
    "# Establish development status\n",
    "tol_d = 0.5 # Consider a segment developed if it lies closer than tol_d to a developed area\n",
    "data = gr_placematch.get_development_type(data,tol_d)"
   ]
  },
  {
   "cell_type": "markdown",
   "id": "669df3a3",
   "metadata": {},
   "source": [
    "## Plotting"
   ]
  },
  {
   "cell_type": "code",
   "execution_count": 11,
   "id": "2ec38b57",
   "metadata": {},
   "outputs": [
    {
     "ename": "NameError",
     "evalue": "name 'trail' is not defined",
     "output_type": "error",
     "traceback": [
      "\u001b[0;31m---------------------------------------------------------------------------\u001b[0m",
      "\u001b[0;31mNameError\u001b[0m                                 Traceback (most recent call last)",
      "Input \u001b[0;32mIn [11]\u001b[0m, in \u001b[0;36m<cell line: 2>\u001b[0;34m()\u001b[0m\n\u001b[1;32m      1\u001b[0m \u001b[38;5;66;03m# Calculating focus point\u001b[39;00m\n\u001b[0;32m----> 2\u001b[0m trail_coords  \u001b[38;5;241m=\u001b[39m gr_mapmatch\u001b[38;5;241m.\u001b[39mtrail_to_coords(\u001b[43mtrail\u001b[49m)\n\u001b[1;32m      3\u001b[0m mid \u001b[38;5;241m=\u001b[39m \u001b[38;5;28mint\u001b[39m(np\u001b[38;5;241m.\u001b[39mround(\u001b[38;5;28mlen\u001b[39m(trail_coords)\u001b[38;5;241m/\u001b[39m\u001b[38;5;241m2\u001b[39m))\n\u001b[1;32m      4\u001b[0m focus \u001b[38;5;241m=\u001b[39m trail_coords[mid]\n",
      "\u001b[0;31mNameError\u001b[0m: name 'trail' is not defined"
     ]
    }
   ],
   "source": [
    "# Calculating focus point\n",
    "trail_coords  = gr_mapmatch.trail_to_coords(trail)\n",
    "mid = int(np.round(len(trail_coords)/2))\n",
    "focus = trail_coords[mid]"
   ]
  },
  {
   "cell_type": "code",
   "execution_count": null,
   "id": "7734c8a6",
   "metadata": {},
   "outputs": [],
   "source": [
    "# Development type\n",
    "filepath = gr_plot.show_development(data_places,focus)\n",
    "IFrame(filepath, width=1000, height=500)"
   ]
  },
  {
   "cell_type": "code",
   "execution_count": null,
   "id": "d0865fdb",
   "metadata": {},
   "outputs": [],
   "source": [
    "# Traffic type\n",
    "filepath = gr_plot.show_traffic(data_places,focus)\n",
    "IFrame(filepath, width=1000, height=500)"
   ]
  },
  {
   "cell_type": "code",
   "execution_count": null,
   "id": "2223c6e6",
   "metadata": {},
   "outputs": [],
   "source": [
    "# Paved type\n",
    "filepath = gr_plot.show_paved(data_places,focus)\n",
    "IFrame(filepath, width=1000, height=500)"
   ]
  },
  {
   "cell_type": "code",
   "execution_count": null,
   "id": "eac88459",
   "metadata": {},
   "outputs": [],
   "source": []
  }
 ],
 "metadata": {
  "kernelspec": {
   "display_name": "Python 3 (ipykernel)",
   "language": "python",
   "name": "python3"
  },
  "language_info": {
   "codemirror_mode": {
    "name": "ipython",
    "version": 3
   },
   "file_extension": ".py",
   "mimetype": "text/x-python",
   "name": "python",
   "nbconvert_exporter": "python",
   "pygments_lexer": "ipython3",
   "version": "3.9.12"
  }
 },
 "nbformat": 4,
 "nbformat_minor": 5
}
