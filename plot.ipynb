{
 "cells": [
  {
   "cell_type": "markdown",
   "id": "23cb4522",
   "metadata": {},
   "source": [
    "## Importing modules and packages"
   ]
  },
  {
   "cell_type": "code",
   "execution_count": 14,
   "id": "ff1527c7",
   "metadata": {},
   "outputs": [],
   "source": [
    "# Importing packages\n",
    "import pandas as pd\n",
    "import numpy  as np\n",
    "import folium\n",
    "import os.path\n",
    "import shapely\n",
    "import matplotlib.pyplot as plt\n",
    "from IPython.display import IFrame\n",
    "\n",
    "# Importing modules\n",
    "import gr_mapmatch # Contains functions that perform the map matching of roads\n",
    "import gr_placematch # Contains functions that perform the map matching of places\n",
    "import gr_utils # Contains useful geometry functions\n",
    "import gr_plot # Contains plotting routines\n",
    "import gr_process"
   ]
  },
  {
   "cell_type": "markdown",
   "id": "885a645b",
   "metadata": {},
   "source": [
    "## Input parameters"
   ]
  },
  {
   "cell_type": "code",
   "execution_count": 2,
   "id": "cc4357f6",
   "metadata": {},
   "outputs": [],
   "source": [
    "trailname = 'gr122' # Name of the hiking trail to be considered (will search for trail.csv or trail.gpx as sources)"
   ]
  },
  {
   "cell_type": "markdown",
   "id": "63055bef",
   "metadata": {},
   "source": [
    "## Loading data"
   ]
  },
  {
   "cell_type": "code",
   "execution_count": 3,
   "id": "f0aaf471",
   "metadata": {},
   "outputs": [
    {
     "name": "stdout",
     "output_type": "stream",
     "text": [
      "Loading trail points from <data_input/gr122.gpx>...\n",
      "Finished loading.\n"
     ]
    }
   ],
   "source": [
    "trail = gr_utils.get_gpx(trailname)\n",
    "filename_processed = 'data_output/' + trailname + '_processed.csv'\n",
    "if not os.path.isfile(filename_processed): # The PROCESSED file does not exist\n",
    "    ValueError('Error file not found, did you process it?')\n",
    "data = pd.read_csv(filename_processed,dtype={'highway':str, 'surface': str, 'tracktype':str, 'city8':str, 'city9':str, 'city':str},index_col=0)"
   ]
  },
  {
   "cell_type": "markdown",
   "id": "77340d17",
   "metadata": {},
   "source": [
    "## Plotting"
   ]
  },
  {
   "cell_type": "code",
   "execution_count": 4,
   "id": "96da54a9",
   "metadata": {},
   "outputs": [],
   "source": [
    "# Calculating focus point\n",
    "focus = gr_plot.get_focus(trail)"
   ]
  },
  {
   "cell_type": "code",
   "execution_count": 5,
   "id": "4c6bcfb3",
   "metadata": {},
   "outputs": [
    {
     "data": {
      "text/html": [
       "\n",
       "        <iframe\n",
       "            width=\"1000\"\n",
       "            height=\"500\"\n",
       "            src=\"cache/chart_development.html\"\n",
       "            frameborder=\"0\"\n",
       "            allowfullscreen\n",
       "            \n",
       "        ></iframe>\n",
       "        "
      ],
      "text/plain": [
       "<IPython.lib.display.IFrame at 0x7f8bd42e9280>"
      ]
     },
     "execution_count": 5,
     "metadata": {},
     "output_type": "execute_result"
    }
   ],
   "source": [
    "# Plotting development type\n",
    "filepath = gr_plot.show_development(data,focus)\n",
    "IFrame(filepath, width=1000, height=500)"
   ]
  },
  {
   "cell_type": "code",
   "execution_count": 6,
   "id": "a57072d1",
   "metadata": {},
   "outputs": [
    {
     "data": {
      "text/html": [
       "\n",
       "        <iframe\n",
       "            width=\"1000\"\n",
       "            height=\"500\"\n",
       "            src=\"cache/chart_traffic.html\"\n",
       "            frameborder=\"0\"\n",
       "            allowfullscreen\n",
       "            \n",
       "        ></iframe>\n",
       "        "
      ],
      "text/plain": [
       "<IPython.lib.display.IFrame at 0x7f8bd42e91c0>"
      ]
     },
     "execution_count": 6,
     "metadata": {},
     "output_type": "execute_result"
    }
   ],
   "source": [
    "# Plotting traffic type\n",
    "filepath = gr_plot.show_traffic(data,focus)\n",
    "IFrame(filepath, width=1000, height=500)"
   ]
  },
  {
   "cell_type": "code",
   "execution_count": 8,
   "id": "9c330933",
   "metadata": {},
   "outputs": [
    {
     "data": {
      "text/html": [
       "\n",
       "        <iframe\n",
       "            width=\"1000\"\n",
       "            height=\"500\"\n",
       "            src=\"cache/chart_detail.html\"\n",
       "            frameborder=\"0\"\n",
       "            allowfullscreen\n",
       "            \n",
       "        ></iframe>\n",
       "        "
      ],
      "text/plain": [
       "<IPython.lib.display.IFrame at 0x7f8bd42e9340>"
      ]
     },
     "execution_count": 8,
     "metadata": {},
     "output_type": "execute_result"
    }
   ],
   "source": [
    "# Plotting paved type with highway/surface/tracktype labels\n",
    "filepath = gr_plot.show_paved_detail(data,focus)\n",
    "IFrame(filepath, width=1000, height=500)"
   ]
  },
  {
   "cell_type": "code",
   "execution_count": 9,
   "id": "95ff37c2",
   "metadata": {
    "scrolled": true
   },
   "outputs": [
    {
     "data": {
      "text/html": [
       "\n",
       "        <iframe\n",
       "            width=\"1000\"\n",
       "            height=\"500\"\n",
       "            src=\"cache/chart_type.html\"\n",
       "            frameborder=\"0\"\n",
       "            allowfullscreen\n",
       "            \n",
       "        ></iframe>\n",
       "        "
      ],
      "text/plain": [
       "<IPython.lib.display.IFrame at 0x7f8bd9697a30>"
      ]
     },
     "execution_count": 9,
     "metadata": {},
     "output_type": "execute_result"
    }
   ],
   "source": [
    "# Plotting GR type with highway/surface/tracktype labels\n",
    "filepath = gr_plot.show_type_detail(data,focus)\n",
    "IFrame(filepath, width=1000, height=500)"
   ]
  },
  {
   "cell_type": "code",
   "execution_count": 109,
   "id": "9ea937aa",
   "metadata": {},
   "outputs": [],
   "source": [
    "# # Paved and unpaved sections\n",
    "# tot_unpaved = data[~data['paved']]['d_cart'].sum()\n",
    "# tot_paved = data[data['paved']]['d_cart'].sum()\n",
    "# tot = tot_unpaved + tot_paved\n",
    "# print(f'Percentage paved: {round(tot_paved/tot,3)}')\n",
    "# print(f'Percentage unpaved: {round(tot_unpaved/tot,3)}')"
   ]
  },
  {
   "cell_type": "code",
   "execution_count": 110,
   "id": "34150424",
   "metadata": {},
   "outputs": [],
   "source": [
    "## Calculations for segmented plot\n",
    "# Figuring out delta_d\n",
    "data['d_cum'] = data['d_cart'].cumsum()\n",
    "data['d0'] = data['d_cum'].shift(1)\n",
    "data.loc[0,'d0'] = 0\n",
    "data['d1'] = data['d_cum']\n",
    "# Settings\n",
    "d_per_plot = 25 # distance covered by each suplot [km]\n",
    "d_max = data.tail(1)['d0'].values.tolist()[0]\n",
    "n_plots = int(np.ceil(d_max/(d_per_plot*1000)))\n",
    "n_points = data.shape[0]"
   ]
  },
  {
   "cell_type": "code",
   "execution_count": null,
   "id": "22d7d499",
   "metadata": {},
   "outputs": [],
   "source": [
    "# Figuring out mean index of each cityname\n",
    "vc = data['city'].value_counts()\n",
    "nmin = 100\n",
    "large_vc = vc>nmin\n",
    "cities = vc[large_vc].index.tolist() # The cities that occur more than nmin times\n",
    "cities_imed = []\n",
    "cities_km = []\n",
    "for city in cities:\n",
    "    mask_city = data['city']==city\n",
    "    temp1 = [int(val==True) for val in mask_city.values.tolist()]\n",
    "    temp2 = mask_city.index.tolist()\n",
    "    temp3 = [x*y for x,y in zip(temp1,temp2)]\n",
    "    med = int(sum(temp3)/sum(temp1))\n",
    "    cities_imed.append(med)\n",
    "    medrow = data.iloc[med]\n",
    "    cities_km.append(np.round(medrow['d0'])/1000)\n",
    "sort_index = np.argsort(cities_km).tolist()\n",
    "final_cities = []\n",
    "for i in range(len(cities)):\n",
    "    k = sort_index[i]\n",
    "    final_cities.append([cities[k], cities_km[k]])"
   ]
  },
  {
   "cell_type": "code",
   "execution_count": 223,
   "id": "ed55d13d",
   "metadata": {
    "scrolled": true
   },
   "outputs": [
    {
     "data": {
      "image/png": "[encoded data removed]",
      "text/plain": [
       "<Figure size 1440x1512 with 7 Axes>"
      ]
     },
     "metadata": {
      "needs_background": "light"
     },
     "output_type": "display_data"
    }
   ],
   "source": [
    "fig, ax = plt.subplots(n_plots,1,figsize=(20,3*n_plots))\n",
    "plt.rc('font', size=20)\n",
    "for k in range(n_plots):\n",
    "    # Indices of this subset\n",
    "    i0 = data[data['d0'].gt(k*d_per_plot*1000)].index[0]\n",
    "    i1_temp = data[data['d0'].gt((k+1)*d_per_plot*1000)]\n",
    "    if i1_temp.shape[0]>0:\n",
    "        i1 = i1_temp.index[0]\n",
    "    else:\n",
    "        i1 = n_points\n",
    "    # Drawing this subset\n",
    "    for i in range(i0,i1):\n",
    "        x = [data.loc[i,'d0']/1000,data.loc[i,'d1']/1000]\n",
    "        y = [1,1]\n",
    "        if data.loc[i,'paved']:\n",
    "            ax[k].plot(x,y,linewidth=100,color='black',solid_capstyle='butt',alpha=0.7)\n",
    "        else:\n",
    "            ax[k].plot(x,y,linewidth=100,color='green',solid_capstyle='butt',alpha=0.7)\n",
    "    ax[k].set_xlim(k*d_per_plot, (k+1)*d_per_plot)\n",
    "    ax[k].set_ylim(0.99, 1.01)\n",
    "    ax[k].set_yticks([])\n",
    "    for j in range(len(final_cities)):\n",
    "        thisd = final_cities[j][1]\n",
    "        if thisd>k*d_per_plot and thisd<(k+1)*d_per_plot:\n",
    "            ax[k].text(final_cities[j][1], 0.995, final_cities[j][0], rotation=90, fontsize=14, color='black', wrap=True, fontweight='bold')\n",
    "plt.subplots_adjust(hspace=0.4)\n",
    "plt.show()"
   ]
  },
  {
   "cell_type": "code",
   "execution_count": 212,
   "id": "04ef6c3c",
   "metadata": {},
   "outputs": [
    {
     "data": {
      "text/plain": [
       "6"
      ]
     },
     "execution_count": 212,
     "metadata": {},
     "output_type": "execute_result"
    }
   ],
   "source": [
    "k"
   ]
  },
  {
   "cell_type": "code",
   "execution_count": 197,
   "id": "290cb6b2",
   "metadata": {},
   "outputs": [],
   "source": [
    "# Figuring out mean index of each cityname\n",
    "vc = data['city'].value_counts()\n",
    "nmin = 100\n",
    "large_vc = vc>nmin\n",
    "cities = vc[large_vc].index.tolist() # The cities that occur more than nmin times\n",
    "cities_imed = []\n",
    "cities_km = []\n",
    "for city in cities:\n",
    "    mask_city = data['city']==city\n",
    "    temp1 = [int(val==True) for val in mask_city.values.tolist()]\n",
    "    temp2 = mask_city.index.tolist()\n",
    "    temp3 = [x*y for x,y in zip(temp1,temp2)]\n",
    "    med = int(sum(temp3)/sum(temp1))\n",
    "    cities_imed.append(med)\n",
    "    medrow = data.iloc[med]\n",
    "    cities_km.append(np.round(medrow['d0'])/1000)\n",
    "sort_index = np.argsort(cities_km).tolist()\n",
    "final_cities = []\n",
    "for i in range(len(cities)):\n",
    "    k = sort_index[i]\n",
    "    final_cities.append([cities[k], cities_km[k]])"
   ]
  },
  {
   "cell_type": "code",
   "execution_count": 199,
   "id": "4762eb1f",
   "metadata": {},
   "outputs": [
    {
     "data": {
      "text/plain": [
       "[['Hulst', 2.559],\n",
       " ['Terneuzen', 17.609],\n",
       " ['Moerbeke', 33.9],\n",
       " ['Wachtebeke', 41.311],\n",
       " ['Zaffelare', 44.015],\n",
       " ['Lokeren', 55.88],\n",
       " ['Laarne', 71.297],\n",
       " ['Wetteren', 77.906],\n",
       " ['Melle', 83.903],\n",
       " ['Gontrode', 87.285],\n",
       " ['Munte', 96.673],\n",
       " ['Dikkelvenne', 103.537],\n",
       " ['Sint-Maria-Latem', 109.225],\n",
       " ['Munkzwalm', 111.135],\n",
       " ['Strijpen', 114.807],\n",
       " ['Sint-Goriks-Oudenhove', 117.613],\n",
       " ['Sint-Maria-Oudenhove', 121.65],\n",
       " ['Nederbrakel', 126.823],\n",
       " ['Opbrakel', 132.422],\n",
       " ['Flobecq', 137.292],\n",
       " ['Ronse', 147.479]]"
      ]
     },
     "execution_count": 199,
     "metadata": {},
     "output_type": "execute_result"
    }
   ],
   "source": [
    "final_cities"
   ]
  },
  {
   "cell_type": "code",
   "execution_count": null,
   "id": "5da125bd",
   "metadata": {},
   "outputs": [],
   "source": []
  }
 ],
 "metadata": {
  "kernelspec": {
   "display_name": "Python 3 (ipykernel)",
   "language": "python",
   "name": "python3"
  },
  "language_info": {
   "codemirror_mode": {
    "name": "ipython",
    "version": 3
   },
   "file_extension": ".py",
   "mimetype": "text/x-python",
   "name": "python",
   "nbconvert_exporter": "python",
   "pygments_lexer": "ipython3",
   "version": "3.9.12"
  }
 },
 "nbformat": 4,
 "nbformat_minor": 5
}
