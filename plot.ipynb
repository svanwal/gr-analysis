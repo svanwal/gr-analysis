{
 "cells": [
  {
   "cell_type": "markdown",
   "id": "23cb4522",
   "metadata": {},
   "source": [
    "## Importing modules and packages"
   ]
  },
  {
   "cell_type": "code",
   "execution_count": 1,
   "id": "ff1527c7",
   "metadata": {
    "scrolled": false
   },
   "outputs": [
    {
     "name": "stderr",
     "output_type": "stream",
     "text": [
      "/Users/svanwal/opt/anaconda3/lib/python3.9/site-packages/scipy/__init__.py:146: UserWarning: A NumPy version >=1.16.5 and <1.23.0 is required for this version of SciPy (detected version 1.23.3\n",
      "  warnings.warn(f\"A NumPy version >={np_minversion} and <{np_maxversion}\"\n"
     ]
    }
   ],
   "source": [
    "# Importing packages\n",
    "import pandas as pd\n",
    "import numpy  as np\n",
    "import folium\n",
    "import os.path\n",
    "import shapely\n",
    "import altair as alt\n",
    "import seaborn as sns\n",
    "import matplotlib.pyplot as plt\n",
    "from IPython.display import IFrame\n",
    "import matplotlib.patheffects as PathEffects\n",
    "\n",
    "# Importing modules\n",
    "import gr_mapmatch # Contains functions that perform the map matching of roads\n",
    "import gr_placematch # Contains functions that perform the map matching of places\n",
    "import gr_utils # Contains useful geometry functions\n",
    "import gr_plot # Contains plotting routines\n",
    "import gr_process"
   ]
  },
  {
   "cell_type": "markdown",
   "id": "885a645b",
   "metadata": {},
   "source": [
    "## Input parameters"
   ]
  },
  {
   "cell_type": "code",
   "execution_count": 2,
   "id": "cc4357f6",
   "metadata": {
    "scrolled": false
   },
   "outputs": [],
   "source": [
    "trailname = 'gr131' # Name of the hiking trail to be considered (will search for trail.csv or trail.gpx as sources)\n",
    "d_per_plot = 25 # distance covered by each suplot [km]\n",
    "d_limit_city = 2500 # minimum distance that the route must traverse through a city for it to be considered [m]"
   ]
  },
  {
   "cell_type": "markdown",
   "id": "63055bef",
   "metadata": {},
   "source": [
    "## Loading data"
   ]
  },
  {
   "cell_type": "code",
   "execution_count": 21,
   "id": "f0aaf471",
   "metadata": {
    "scrolled": false
   },
   "outputs": [
    {
     "name": "stdout",
     "output_type": "stream",
     "text": [
      "Loading trail points from <data_input/gr131.gpx>...\n",
      "Finished loading.\n"
     ]
    }
   ],
   "source": [
    "trail = gr_utils.get_gpx(trailname)\n",
    "data = gr_utils.read_processed(trailname)"
   ]
  },
  {
   "cell_type": "markdown",
   "id": "4553335b",
   "metadata": {},
   "source": [
    "## Calculations"
   ]
  },
  {
   "cell_type": "code",
   "execution_count": 4,
   "id": "dd7e01df",
   "metadata": {},
   "outputs": [],
   "source": [
    "# Calculating focus point\n",
    "focus = gr_plot.get_focus(trail)"
   ]
  },
  {
   "cell_type": "code",
   "execution_count": 5,
   "id": "0c654ca3",
   "metadata": {},
   "outputs": [],
   "source": [
    "# Cumulative distance at start and end point of each segment\n",
    "data = gr_process.calculate_cumulative_distances(data)"
   ]
  },
  {
   "cell_type": "code",
   "execution_count": 6,
   "id": "23d225ff",
   "metadata": {},
   "outputs": [],
   "source": [
    "# Miscellaneous\n",
    "d_max = data.tail(1)['d0'].values.tolist()[0] # Total distance of the route\n",
    "n_points = data.shape[0] # Number of segments in the route\n",
    "n_plots = int(np.ceil(d_max/(d_per_plot*1000))) # Number of sections plots we will make"
   ]
  },
  {
   "cell_type": "code",
   "execution_count": 7,
   "id": "a53485da",
   "metadata": {},
   "outputs": [],
   "source": [
    "# Overall percentages of paved/traffic/development\n",
    "dist = data['d_cart'].sum()\n",
    "# Paved types\n",
    "perc_p0 = data[data['paved']==0]['d_cart'].sum()/dist\n",
    "perc_p1 = data[data['paved']==1]['d_cart'].sum()/dist\n",
    "perc_p2 = data[data['paved']==2]['d_cart'].sum()/dist\n",
    "# Traffic types\n",
    "perc_t0 = data[data['traffic']==0]['d_cart'].sum()/dist\n",
    "perc_t1 = data[data['traffic']==1]['d_cart'].sum()/dist\n",
    "perc_t2 = data[data['traffic']==2]['d_cart'].sum()/dist\n",
    "# Development types\n",
    "perc_d0 = data[data['development']==0]['d_cart'].sum()/dist\n",
    "perc_d1 = data[data['development']==1]['d_cart'].sum()/dist\n",
    "# Merging\n",
    "overall_stats = pd.DataFrame({'dist':[dist],\n",
    "                              'perc_p0':[perc_p0],'perc_p1':[perc_p1],'perc_p2':[perc_p2],\n",
    "                              'perc_t0':[perc_t0],'perc_t1':[perc_t1],'perc_t2':[perc_t2],\n",
    "                              'perc_d0':[perc_d0],'perc_d1':[perc_d1]})"
   ]
  },
  {
   "cell_type": "code",
   "execution_count": 8,
   "id": "2a70b861",
   "metadata": {},
   "outputs": [],
   "source": [
    "# Percentages of paved/traffic/development for the different sections\n",
    "stats = pd.DataFrame({'i0':[],'i1':[],'dist':[],'perc_p0':[],'perc_p1':[],'perc_p2':[],'perc_t0':[],'perc_t1':[],'perc_t2':[],'perc_d0':[],'perc_d1':[]})\n",
    "for k in range(n_plots):\n",
    "    # Indices\n",
    "    i0 = data[data['d0'].gt(k*d_per_plot*1000)].index[0]\n",
    "    i1_temp = data[data['d0'].gt((k+1)*d_per_plot*1000)]\n",
    "    if i1_temp.shape[0]>0:\n",
    "        i1 = i1_temp.index[0]\n",
    "    else:\n",
    "        i1 = n_points\n",
    "    # Grabbing data subset\n",
    "    subset = data.loc[i0:i1]\n",
    "    delta_d = subset['d_cart'].sum()\n",
    "    # Paved types\n",
    "    perc_p0 = subset[subset['paved']==0]['d_cart'].sum()/delta_d\n",
    "    perc_p1 = subset[subset['paved']==1]['d_cart'].sum()/delta_d\n",
    "    perc_p2 = subset[subset['paved']==2]['d_cart'].sum()/delta_d\n",
    "    # Traffic types\n",
    "    perc_t0 = subset[subset['traffic']==0]['d_cart'].sum()/delta_d\n",
    "    perc_t1 = subset[subset['traffic']==1]['d_cart'].sum()/delta_d\n",
    "    perc_t2 = subset[subset['traffic']==2]['d_cart'].sum()/delta_d\n",
    "    # Development types\n",
    "    perc_d0 = subset[subset['development']==0]['d_cart'].sum()/delta_d\n",
    "    perc_d1 = subset[subset['development']==1]['d_cart'].sum()/delta_d\n",
    "    # Merging\n",
    "    section = {'i0':i0, 'i1':i1, 'dist':delta_d,\n",
    "               'perc_p0':perc_p0, 'perc_p1':perc_p1, 'perc_p2':perc_p2,\n",
    "               'perc_t0':perc_t0, 'perc_t1':perc_t1, 'perc_t2':perc_t2,\n",
    "               'perc_d0':perc_d0, 'perc_d1':perc_d1}\n",
    "    stats = pd.concat([stats, pd.DataFrame([section],index=[k])])"
   ]
  },
  {
   "cell_type": "code",
   "execution_count": 9,
   "id": "f4808698",
   "metadata": {},
   "outputs": [],
   "source": [
    "# List of main cities traversed by the route\n",
    "unique_cities = data['city'].unique().tolist() # All cities\n",
    "selected_cities = []\n",
    "# Selecting the cities that will be shown\n",
    "for city in unique_cities:\n",
    "    subset = data[data['city']==city]\n",
    "    if subset['d_cart'].sum() > d_limit_city:\n",
    "        selected_cities.append(city)\n",
    "# Find the mediam km mark at which each city occurs\n",
    "city_locations = []\n",
    "for city in selected_cities:\n",
    "    subset = data[data['city']==city]\n",
    "    indices = subset.index.tolist()\n",
    "    index_median = indices[int(np.round(len(indices)/2))]\n",
    "    city_locations.append(np.round(data.loc[index_median,'d0'])/1000) # km at which the middle occurrence of that city is"
   ]
  },
  {
   "cell_type": "markdown",
   "id": "2f9d2a8f",
   "metadata": {},
   "source": [
    "## Summarizing statistics"
   ]
  },
  {
   "cell_type": "code",
   "execution_count": 10,
   "id": "5ee7dd50",
   "metadata": {},
   "outputs": [],
   "source": [
    "stats_merged = pd.concat([overall_stats,stats],ignore_index=True)"
   ]
  },
  {
   "cell_type": "code",
   "execution_count": 11,
   "id": "7267d497",
   "metadata": {},
   "outputs": [],
   "source": [
    "def add_row(df,new_section,new_category,new_type,new_percentage):\n",
    "    newrow = {'section':new_section,\n",
    "              'category':new_category,\n",
    "              'type':new_type,\n",
    "              'perc':new_percentage}\n",
    "    df = pd.concat([df, pd.DataFrame([newrow])])\n",
    "    return df"
   ]
  },
  {
   "cell_type": "code",
   "execution_count": 12,
   "id": "978d26b9",
   "metadata": {
    "scrolled": true
   },
   "outputs": [],
   "source": [
    "df = pd.DataFrame(pd.DataFrame({'section':[],'category':[],'perc':[],'type':[]}))\n",
    "for idx, row in stats_merged.iterrows():\n",
    "    if idx==0:\n",
    "        section_name = 'Overall'\n",
    "    else:\n",
    "        km_start = (idx-1)*d_per_plot\n",
    "        km_end = idx*d_per_plot\n",
    "        section_name = f'{km_start}-{km_end} km'\n",
    "    # Paved\n",
    "    df = add_row(df,section_name,'paved',0,100*row['perc_p0'])\n",
    "    df = add_row(df,section_name,'paved',1,100*row['perc_p1'])\n",
    "    df = add_row(df,section_name,'paved',2,100*row['perc_p2'])\n",
    "    # Traffic\n",
    "    df = add_row(df,section_name,'traffic',0,100*row['perc_t0'])\n",
    "    df = add_row(df,section_name,'traffic',1,100*row['perc_t1'])\n",
    "    df = add_row(df,section_name,'traffic',2,100*row['perc_t2'])\n",
    "    # Development\n",
    "    df = add_row(df,section_name,'development',0,100*row['perc_d0'])\n",
    "    df = add_row(df,section_name,'development',2,100*row['perc_d1'])"
   ]
  },
  {
   "cell_type": "code",
   "execution_count": 13,
   "id": "f0508e4b",
   "metadata": {},
   "outputs": [
    {
     "data": {
      "text/html": [
       "\n",
       "<div id=\"altair-viz-9f63ce3441a64881869b4fa90ebb8d1b\"></div>\n",
       "<script type=\"text/javascript\">\n",
       "  var VEGA_DEBUG = (typeof VEGA_DEBUG == \"undefined\") ? {} : VEGA_DEBUG;\n",
       "  (function(spec, embedOpt){\n",
       "    let outputDiv = document.currentScript.previousElementSibling;\n",
       "    if (outputDiv.id !== \"altair-viz-9f63ce3441a64881869b4fa90ebb8d1b\") {\n",
       "      outputDiv = document.getElementById(\"altair-viz-9f63ce3441a64881869b4fa90ebb8d1b\");\n",
       "    }\n",
       "    const paths = {\n",
       "      \"vega\": \"https://cdn.jsdelivr.net/npm//vega@5?noext\",\n",
       "      \"vega-lib\": \"https://cdn.jsdelivr.net/npm//vega-lib?noext\",\n",
       "      \"vega-lite\": \"https://cdn.jsdelivr.net/npm//vega-lite@4.17.0?noext\",\n",
       "      \"vega-embed\": \"https://cdn.jsdelivr.net/npm//vega-embed@6?noext\",\n",
       "    };\n",
       "\n",
       "    function maybeLoadScript(lib, version) {\n",
       "      var key = `${lib.replace(\"-\", \"\")}_version`;\n",
       "      return (VEGA_DEBUG[key] == version) ?\n",
       "        Promise.resolve(paths[lib]) :\n",
       "        new Promise(function(resolve, reject) {\n",
       "          var s = document.createElement('script');\n",
       "          document.getElementsByTagName(\"head\")[0].appendChild(s);\n",
       "          s.async = true;\n",
       "          s.onload = () => {\n",
       "            VEGA_DEBUG[key] = version;\n",
       "            return resolve(paths[lib]);\n",
       "          };\n",
       "          s.onerror = () => reject(`Error loading script: ${paths[lib]}`);\n",
       "          s.src = paths[lib];\n",
       "        });\n",
       "    }\n",
       "\n",
       "    function showError(err) {\n",
       "      outputDiv.innerHTML = `<div class=\"error\" style=\"color:red;\">${err}</div>`;\n",
       "      throw err;\n",
       "    }\n",
       "\n",
       "    function displayChart(vegaEmbed) {\n",
       "      vegaEmbed(outputDiv, spec, embedOpt)\n",
       "        .catch(err => showError(`Javascript Error: ${err.message}<br>This usually means there's a typo in your chart specification. See the javascript console for the full traceback.`));\n",
       "    }\n",
       "\n",
       "    if(typeof define === \"function\" && define.amd) {\n",
       "      requirejs.config({paths});\n",
       "      require([\"vega-embed\"], displayChart, err => showError(`Error loading script: ${err.message}`));\n",
       "    } else {\n",
       "      maybeLoadScript(\"vega\", \"5\")\n",
       "        .then(() => maybeLoadScript(\"vega-lite\", \"4.17.0\"))\n",
       "        .then(() => maybeLoadScript(\"vega-embed\", \"6\"))\n",
       "        .catch(showError)\n",
       "        .then(() => displayChart(vegaEmbed));\n",
       "    }\n",
       "  })({\"config\": {\"view\": {\"continuousWidth\": 400, \"continuousHeight\": 300, \"strokeOpacity\": 0}, \"axis\": {\"labelFontSize\": 12, \"titleFontSize\": 1}, \"header\": {\"labelFontSize\": 12, \"labelFontWeight\": \"bold\"}}, \"data\": {\"name\": \"data-21634279c10db0976c734a23fa5ba442\"}, \"mark\": \"bar\", \"encoding\": {\"color\": {\"field\": \"type\", \"scale\": {\"range\": [\"#96ceb4\", \"#ffcc5c\", \"#ff6f69\"]}, \"type\": \"nominal\"}, \"column\": {\"field\": \"section\", \"header\": {\"titleFontSize\": 20}, \"title\": \"Bigtitle\", \"type\": \"nominal\"}, \"opacity\": {\"value\": 0.7}, \"x\": {\"field\": \"category\", \"title\": null, \"type\": \"nominal\"}, \"y\": {\"aggregate\": \"sum\", \"axis\": {\"grid\": true, \"title\": \"Percentage coverage\", \"values\": [0, 25, 50, 75, 100]}, \"field\": \"perc\", \"scale\": {\"domain\": [0, 100]}, \"type\": \"quantitative\"}}, \"height\": 250, \"width\": 80, \"$schema\": \"https://vega.github.io/schema/vega-lite/v4.17.0.json\", \"datasets\": {\"data-21634279c10db0976c734a23fa5ba442\": [{\"section\": \"Overall\", \"category\": \"paved\", \"perc\": 12.288313147912868, \"type\": 0.0}, {\"section\": \"Overall\", \"category\": \"paved\", \"perc\": 23.09832810245427, \"type\": 1.0}, {\"section\": \"Overall\", \"category\": \"paved\", \"perc\": 64.61335874963284, \"type\": 2.0}, {\"section\": \"Overall\", \"category\": \"traffic\", \"perc\": 25.731156245318367, \"type\": 0.0}, {\"section\": \"Overall\", \"category\": \"traffic\", \"perc\": 70.77401179505564, \"type\": 1.0}, {\"section\": \"Overall\", \"category\": \"traffic\", \"perc\": 3.4948319596259685, \"type\": 2.0}, {\"section\": \"Overall\", \"category\": \"development\", \"perc\": 84.82282038608281, \"type\": 0.0}, {\"section\": \"Overall\", \"category\": \"development\", \"perc\": 15.177179613917172, \"type\": 2.0}, {\"section\": \"0-25 km\", \"category\": \"paved\", \"perc\": 0.0, \"type\": 0.0}, {\"section\": \"0-25 km\", \"category\": \"paved\", \"perc\": 22.03927514509822, \"type\": 1.0}, {\"section\": \"0-25 km\", \"category\": \"paved\", \"perc\": 77.96072485490177, \"type\": 2.0}, {\"section\": \"0-25 km\", \"category\": \"traffic\", \"perc\": 18.798081485479678, \"type\": 0.0}, {\"section\": \"0-25 km\", \"category\": \"traffic\", \"perc\": 80.56941677696106, \"type\": 1.0}, {\"section\": \"0-25 km\", \"category\": \"traffic\", \"perc\": 0.6325017375592494, \"type\": 2.0}, {\"section\": \"0-25 km\", \"category\": \"development\", \"perc\": 95.00712390254216, \"type\": 0.0}, {\"section\": \"0-25 km\", \"category\": \"development\", \"perc\": 4.99287609745785, \"type\": 2.0}, {\"section\": \"25-50 km\", \"category\": \"paved\", \"perc\": 17.58081632807118, \"type\": 0.0}, {\"section\": \"25-50 km\", \"category\": \"paved\", \"perc\": 25.351144384122154, \"type\": 1.0}, {\"section\": \"25-50 km\", \"category\": \"paved\", \"perc\": 57.06803928780665, \"type\": 2.0}, {\"section\": \"25-50 km\", \"category\": \"traffic\", \"perc\": 21.48896248971423, \"type\": 0.0}, {\"section\": \"25-50 km\", \"category\": \"traffic\", \"perc\": 74.46401129802247, \"type\": 1.0}, {\"section\": \"25-50 km\", \"category\": \"traffic\", \"perc\": 4.047026212263273, \"type\": 2.0}, {\"section\": \"25-50 km\", \"category\": \"development\", \"perc\": 70.82283299236471, \"type\": 0.0}, {\"section\": \"25-50 km\", \"category\": \"development\", \"perc\": 29.17716700763526, \"type\": 2.0}, {\"section\": \"50-75 km\", \"category\": \"paved\", \"perc\": 7.313896109675235, \"type\": 0.0}, {\"section\": \"50-75 km\", \"category\": \"paved\", \"perc\": 6.771040282298106, \"type\": 1.0}, {\"section\": \"50-75 km\", \"category\": \"paved\", \"perc\": 85.91506360802667, \"type\": 2.0}, {\"section\": \"50-75 km\", \"category\": \"traffic\", \"perc\": 18.476037704690327, \"type\": 0.0}, {\"section\": \"50-75 km\", \"category\": \"traffic\", \"perc\": 76.37704723795126, \"type\": 1.0}, {\"section\": \"50-75 km\", \"category\": \"traffic\", \"perc\": 5.146915057358413, \"type\": 2.0}, {\"section\": \"50-75 km\", \"category\": \"development\", \"perc\": 89.25239706146458, \"type\": 0.0}, {\"section\": \"50-75 km\", \"category\": \"development\", \"perc\": 10.747602938535415, \"type\": 2.0}, {\"section\": \"75-100 km\", \"category\": \"paved\", \"perc\": 13.283311153227345, \"type\": 0.0}, {\"section\": \"75-100 km\", \"category\": \"paved\", \"perc\": 23.304584376572247, \"type\": 1.0}, {\"section\": \"75-100 km\", \"category\": \"paved\", \"perc\": 63.412104470200426, \"type\": 2.0}, {\"section\": \"75-100 km\", \"category\": \"traffic\", \"perc\": 23.372199650831845, \"type\": 0.0}, {\"section\": \"75-100 km\", \"category\": \"traffic\", \"perc\": 74.8021867128885, \"type\": 1.0}, {\"section\": \"75-100 km\", \"category\": \"traffic\", \"perc\": 1.8256136362796636, \"type\": 2.0}, {\"section\": \"75-100 km\", \"category\": \"development\", \"perc\": 88.42202956702579, \"type\": 0.0}, {\"section\": \"75-100 km\", \"category\": \"development\", \"perc\": 11.577970432974222, \"type\": 2.0}, {\"section\": \"100-125 km\", \"category\": \"paved\", \"perc\": 16.600097723800054, \"type\": 0.0}, {\"section\": \"100-125 km\", \"category\": \"paved\", \"perc\": 29.768512863579875, \"type\": 1.0}, {\"section\": \"100-125 km\", \"category\": \"paved\", \"perc\": 53.63138941262007, \"type\": 2.0}, {\"section\": \"100-125 km\", \"category\": \"traffic\", \"perc\": 30.991446187162165, \"type\": 0.0}, {\"section\": \"100-125 km\", \"category\": \"traffic\", \"perc\": 63.58312862440698, \"type\": 1.0}, {\"section\": \"100-125 km\", \"category\": \"traffic\", \"perc\": 5.425425188430853, \"type\": 2.0}, {\"section\": \"100-125 km\", \"category\": \"development\", \"perc\": 90.74363159961109, \"type\": 0.0}, {\"section\": \"100-125 km\", \"category\": \"development\", \"perc\": 9.256368400388922, \"type\": 2.0}, {\"section\": \"125-150 km\", \"category\": \"paved\", \"perc\": 21.846019559035284, \"type\": 0.0}, {\"section\": \"125-150 km\", \"category\": \"paved\", \"perc\": 34.149952396663565, \"type\": 1.0}, {\"section\": \"125-150 km\", \"category\": \"paved\", \"perc\": 44.004028044301144, \"type\": 2.0}, {\"section\": \"125-150 km\", \"category\": \"traffic\", \"perc\": 47.67293247425222, \"type\": 0.0}, {\"section\": \"125-150 km\", \"category\": \"traffic\", \"perc\": 48.36783532929112, \"type\": 1.0}, {\"section\": \"125-150 km\", \"category\": \"traffic\", \"perc\": 3.9592321964566537, \"type\": 2.0}, {\"section\": \"125-150 km\", \"category\": \"development\", \"perc\": 70.83930152076891, \"type\": 0.0}, {\"section\": \"125-150 km\", \"category\": \"development\", \"perc\": 29.16069847923108, \"type\": 2.0}]}}, {\"mode\": \"vega-lite\"});\n",
       "</script>"
      ],
      "text/plain": [
       "alt.Chart(...)"
      ]
     },
     "execution_count": 13,
     "metadata": {},
     "output_type": "execute_result"
    }
   ],
   "source": [
    "alt.Chart(df).mark_bar().encode(\n",
    "\n",
    "    # tell Altair which field to group columns on\n",
    "    x=alt.X('category:N', title=None),\n",
    "\n",
    "    # tell Altair which field to use as Y values and how to calculate\n",
    "    y=alt.Y('sum(perc):Q',\n",
    "            axis=alt.Axis(\n",
    "            grid=True,\n",
    "            title=\"Percentage coverage\",\n",
    "            values=[0, 25, 50, 75, 100]\n",
    "            ),\n",
    "            scale=alt.Scale(domain=[0, 100]),),\n",
    "\n",
    "    # tell Altair which field to use to use as the set of columns to be  represented in each group\n",
    "    column=alt.Column('section:N', title='Bigtitle', header=alt.Header(titleFontSize=20)),\n",
    "\n",
    "    # tell Altair which field to use for color segmentation \n",
    "    color=alt.Color('type:N',scale=alt.Scale(range=['#96ceb4', '#ffcc5c','#ff6f69'],),),opacity=alt.value(0.7)\n",
    ").configure_view(strokeOpacity=0\n",
    ").configure_axis(labelFontSize=12,titleFontSize=1\n",
    ").properties(width=80,height=250\n",
    ").configure_header(labelFontSize=12,labelFontWeight='bold')"
   ]
  },
  {
   "cell_type": "markdown",
   "id": "77340d17",
   "metadata": {},
   "source": [
    "## Rendering section plots"
   ]
  },
  {
   "cell_type": "code",
   "execution_count": 14,
   "id": "81deaf68",
   "metadata": {},
   "outputs": [
    {
     "data": {
      "image/png": "[encoded data removed]",
      "text/plain": [
       "<Figure size 1440x1728 with 6 Axes>"
      ]
     },
     "metadata": {
      "needs_background": "light"
     },
     "output_type": "display_data"
    }
   ],
   "source": [
    "# Sections with paved/traffic/development types\n",
    "fig, ax = plt.subplots(n_plots,1,figsize=(20,4*n_plots))\n",
    "plt.rc('font', size=20)\n",
    "lw = 40\n",
    "for k in range(n_plots):\n",
    "    \n",
    "    # Indices of the subset\n",
    "    i0 = int(stats.iloc[k]['i0']) # start index\n",
    "    i1 = int(stats.iloc[k]['i1']) # end index\n",
    "    \n",
    "    # Drawing paved/traffic/development types\n",
    "    for i in range(i0,i1):\n",
    "        \n",
    "        # Coordinates\n",
    "        x = [data.loc[i,'d0']/1000,data.loc[i,'d1']/1000]\n",
    "        y_paved = [0.85,0.85]\n",
    "        y_traffic = [1.0,1.0]\n",
    "        y_development = [1.15,1.15]\n",
    "        \n",
    "        # Drawing paved type\n",
    "        if data.loc[i,'paved']==2: # Draw paved as black\n",
    "            ax[k].plot(x,y_paved,linewidth=lw,color='black',solid_capstyle='butt',alpha=1)\n",
    "        else: # Draw unpaved and semi-paved as green\n",
    "            ax[k].plot(x,y_paved,linewidth=lw,color='green',solid_capstyle='butt',alpha=1)\n",
    "            \n",
    "        # Drawing traffic type\n",
    "        if data.loc[i,'traffic']==0: # Draw slow road as green\n",
    "            ax[k].plot(x,y_traffic,linewidth=lw,color='green',solid_capstyle='butt',alpha=1)\n",
    "        elif data.loc[i,'traffic']==1: # Draw normal road as black\n",
    "            ax[k].plot(x,y_traffic,linewidth=lw,color='black',solid_capstyle='butt',alpha=1)\n",
    "        else: # Draw busy road as red\n",
    "            ax[k].plot(x,y_traffic,linewidth=lw,color='red',solid_capstyle='butt',alpha=1)\n",
    "            \n",
    "        # Drawing development type\n",
    "        if data.loc[i,'development']==0: # Draw undeveloped as green\n",
    "            ax[k].plot(x,y_development,linewidth=lw,color='green',solid_capstyle='butt',alpha=1)\n",
    "        else: # Draw developed as red\n",
    "            ax[k].plot(x,y_development,linewidth=lw,color='red',solid_capstyle='butt',alpha=1)\n",
    "    \n",
    "    # Writing city names\n",
    "    for j in range(len(selected_cities)):\n",
    "        thisd = city_locations[j]\n",
    "        if thisd>k*d_per_plot and thisd<(k+1)*d_per_plot:\n",
    "            lmax = 10\n",
    "            if len(selected_cities[j])>lmax:\n",
    "                cityname = selected_cities[j][0:lmax] + '...'\n",
    "            else:\n",
    "                cityname = selected_cities[j]\n",
    "            txt = ax[k].text(thisd, 0.81, cityname, rotation=90, fontsize=18, color='blue', wrap=True, fontweight='bold')\n",
    "            txt.set_path_effects([PathEffects.withStroke(linewidth=3, foreground='w')])\n",
    "    \n",
    "    # Configuring plot\n",
    "    ax[k].set_xlim(k*d_per_plot, (k+1)*d_per_plot)\n",
    "    ax[k].set_ylim(0.75, 1.25)\n",
    "    ax[k].set_yticks([0.85, 1.0, 1.15],labels=['Paved','Traffic','Development'])\n",
    "    ax[k].set_xlabel('Distance along route [km]')\n",
    "    if k==0:\n",
    "        ax[k].set_title(f'Route analysis of {trailname.upper()}')\n",
    "    \n",
    "plt.subplots_adjust(hspace=0.4)\n",
    "plt.show()"
   ]
  },
  {
   "cell_type": "markdown",
   "id": "cd9c7336",
   "metadata": {},
   "source": [
    "## Rendering maps"
   ]
  },
  {
   "cell_type": "code",
   "execution_count": 15,
   "id": "4e442df9",
   "metadata": {},
   "outputs": [
    {
     "data": {
      "text/html": [
       "\n",
       "        <iframe\n",
       "            width=\"1000\"\n",
       "            height=\"500\"\n",
       "            src=\"cache/gr131_tracks.html\"\n",
       "            frameborder=\"0\"\n",
       "            allowfullscreen\n",
       "            \n",
       "        ></iframe>\n",
       "        "
      ],
      "text/plain": [
       "<IPython.lib.display.IFrame at 0x7fafdcb09af0>"
      ]
     },
     "execution_count": 15,
     "metadata": {},
     "output_type": "execute_result"
    }
   ],
   "source": [
    "trail_coords = gr_mapmatch.trail_to_coords(trail)\n",
    "filepath = gr_plot.compare_tracks(trailname,trail_coords,data)\n",
    "IFrame(filepath, width=1000, height=500)"
   ]
  },
  {
   "cell_type": "code",
   "execution_count": 22,
   "id": "4c6bcfb3",
   "metadata": {
    "scrolled": false
   },
   "outputs": [
    {
     "data": {
      "text/html": [
       "\n",
       "        <iframe\n",
       "            width=\"1000\"\n",
       "            height=\"500\"\n",
       "            src=\"cache/gr131_development.html\"\n",
       "            frameborder=\"0\"\n",
       "            allowfullscreen\n",
       "            \n",
       "        ></iframe>\n",
       "        "
      ],
      "text/plain": [
       "<IPython.lib.display.IFrame at 0x7fafe341e700>"
      ]
     },
     "execution_count": 22,
     "metadata": {},
     "output_type": "execute_result"
    }
   ],
   "source": [
    "# Plotting development type\n",
    "filepath = gr_plot.show_development(trailname,data,focus)\n",
    "IFrame(filepath, width=1000, height=500)"
   ]
  },
  {
   "cell_type": "code",
   "execution_count": 17,
   "id": "a57072d1",
   "metadata": {
    "scrolled": false
   },
   "outputs": [
    {
     "data": {
      "text/html": [
       "\n",
       "        <iframe\n",
       "            width=\"1000\"\n",
       "            height=\"500\"\n",
       "            src=\"cache/gr131_traffic.html\"\n",
       "            frameborder=\"0\"\n",
       "            allowfullscreen\n",
       "            \n",
       "        ></iframe>\n",
       "        "
      ],
      "text/plain": [
       "<IPython.lib.display.IFrame at 0x7fafdc995f70>"
      ]
     },
     "execution_count": 17,
     "metadata": {},
     "output_type": "execute_result"
    }
   ],
   "source": [
    "# Plotting traffic type\n",
    "filepath = gr_plot.show_traffic(trailname,data,focus)\n",
    "IFrame(filepath, width=1000, height=500)"
   ]
  },
  {
   "cell_type": "code",
   "execution_count": 18,
   "id": "9c330933",
   "metadata": {
    "scrolled": false
   },
   "outputs": [
    {
     "data": {
      "text/html": [
       "\n",
       "        <iframe\n",
       "            width=\"1000\"\n",
       "            height=\"500\"\n",
       "            src=\"cache/gr131_paved_detail.html\"\n",
       "            frameborder=\"0\"\n",
       "            allowfullscreen\n",
       "            \n",
       "        ></iframe>\n",
       "        "
      ],
      "text/plain": [
       "<IPython.lib.display.IFrame at 0x7fafdc98bfa0>"
      ]
     },
     "execution_count": 18,
     "metadata": {},
     "output_type": "execute_result"
    }
   ],
   "source": [
    "# Plotting paved type with highway/surface/tracktype labels\n",
    "filepath = gr_plot.show_paved_detail(trailname,data,focus)\n",
    "IFrame(filepath, width=1000, height=500)"
   ]
  },
  {
   "cell_type": "code",
   "execution_count": 19,
   "id": "95ff37c2",
   "metadata": {
    "scrolled": true
   },
   "outputs": [],
   "source": [
    "# Plotting GR type with highway/surface/tracktype labels\n",
    "filepath = gr_plot.show_type_detail(trailname,data,focus)"
   ]
  },
  {
   "cell_type": "code",
   "execution_count": 20,
   "id": "1ab1af6d",
   "metadata": {},
   "outputs": [
    {
     "data": {
      "text/html": [
       "\n",
       "        <iframe\n",
       "            width=\"1000\"\n",
       "            height=\"500\"\n",
       "            src=\"cache/gr131_type_detail.html\"\n",
       "            frameborder=\"0\"\n",
       "            allowfullscreen\n",
       "            \n",
       "        ></iframe>\n",
       "        "
      ],
      "text/plain": [
       "<IPython.lib.display.IFrame at 0x7fafd057fe20>"
      ]
     },
     "execution_count": 20,
     "metadata": {},
     "output_type": "execute_result"
    }
   ],
   "source": [
    "IFrame(filepath, width=1000, height=500)"
   ]
  },
  {
   "cell_type": "code",
   "execution_count": null,
   "id": "6aeb33d3",
   "metadata": {},
   "outputs": [],
   "source": []
  }
 ],
 "metadata": {
  "kernelspec": {
   "display_name": "Python 3 (ipykernel)",
   "language": "python",
   "name": "python3"
  },
  "language_info": {
   "codemirror_mode": {
    "name": "ipython",
    "version": 3
   },
   "file_extension": ".py",
   "mimetype": "text/x-python",
   "name": "python",
   "nbconvert_exporter": "python",
   "pygments_lexer": "ipython3",
   "version": "3.9.12"
  }
 },
 "nbformat": 4,
 "nbformat_minor": 5
}
