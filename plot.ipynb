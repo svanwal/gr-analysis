{
 "cells": [
  {
   "cell_type": "markdown",
   "id": "23cb4522",
   "metadata": {},
   "source": [
    "## Importing modules and packages"
   ]
  },
  {
   "cell_type": "code",
   "execution_count": 1,
   "id": "ff1527c7",
   "metadata": {},
   "outputs": [
    {
     "name": "stderr",
     "output_type": "stream",
     "text": [
      "/Users/svanwal/opt/anaconda3/lib/python3.9/site-packages/scipy/__init__.py:146: UserWarning: A NumPy version >=1.16.5 and <1.23.0 is required for this version of SciPy (detected version 1.23.3\n",
      "  warnings.warn(f\"A NumPy version >={np_minversion} and <{np_maxversion}\"\n"
     ]
    }
   ],
   "source": [
    "# Importing packages\n",
    "import pandas as pd\n",
    "import numpy  as np\n",
    "import folium\n",
    "import os.path\n",
    "import shapely\n",
    "from IPython.display import IFrame\n",
    "\n",
    "# Importing modules\n",
    "import gr_mapmatch # Contains functions that perform the map matching of roads\n",
    "import gr_placematch # Contains functions that perform the map matching of places\n",
    "import gr_utils # Contains useful geometry functions\n",
    "import gr_plot # Contains plotting routines"
   ]
  },
  {
   "cell_type": "markdown",
   "id": "885a645b",
   "metadata": {},
   "source": [
    "## Input parameters"
   ]
  },
  {
   "cell_type": "code",
   "execution_count": 2,
   "id": "cc4357f6",
   "metadata": {},
   "outputs": [],
   "source": [
    "trailname = 'gr16' # Name of the hiking trail to be considered (will search for trail.csv or trail.gpx as sources)"
   ]
  },
  {
   "cell_type": "markdown",
   "id": "63055bef",
   "metadata": {},
   "source": [
    "## Loading data"
   ]
  },
  {
   "cell_type": "code",
   "execution_count": 3,
   "id": "f0aaf471",
   "metadata": {},
   "outputs": [
    {
     "name": "stdout",
     "output_type": "stream",
     "text": [
      "Loading trail points from <data_output/gr16.csv>...\n",
      "Finished loading.\n"
     ]
    }
   ],
   "source": [
    "filename = 'data_output/' + trailname + '_processed.csv'\n",
    "data = pd.read_csv(filename,dtype={'highway':str, 'surface': str, 'tracktype':str},index_col=0)\n",
    "filename_gpx = 'data_input/' + trailname + '.gpx'\n",
    "filename_csv = 'data_output/' + trailname + '.csv'\n",
    "if not os.path.isfile(filename_csv): # The GPX file was not processed into a clean CSV file before\n",
    "    if not os.path.isfile(filename_gpx): # The GPX file does not exist, throw error\n",
    "        raise ValueError(f'The GPX file <{filename_gpx}> was not found! Please make sure it exists.')\n",
    "    else: # The GPX file exists, so convert it into a clean CSV file\n",
    "        print(f'Converting GPX file <{filename_gpx}> into cleaned CSV file <{filename_csv}>...')\n",
    "        gr_utils.process_gpx(filename_gpx,filename_csv)\n",
    "        print('Completed conversion.')\n",
    "print(f'Loading trail points from <{filename_csv}>...')\n",
    "trail = pd.read_csv(filename_csv) # Now read the cleaned CSV file into a DataFrame (latitude, longitude, elevation)\n",
    "print('Finished loading.')"
   ]
  },
  {
   "cell_type": "code",
   "execution_count": 4,
   "id": "053c544e",
   "metadata": {},
   "outputs": [],
   "source": [
    "# # Establish paving status\n",
    "# tracktype_p0 = ['grade4','grade5']\n",
    "# tracktype_p1 = ['grade2','grade3']\n",
    "# tracktype_p2 = ['grade1']\n",
    "# surface_p0 = ['ground','grass','dirt','sand','earth','mud']\n",
    "# surface_p1 = ['unpaved','gravel','fine_gravel','wood','compacted','rocks','pebblestone','woodchips','snow','ice','salt']\n",
    "# highway_p1 = ['track','path','footway','bridleway']\n",
    "# # Establish paved status\n",
    "# data = gr_mapmatch.get_paved_type(data,tracktype_p0,tracktype_p1,tracktype_p2,surface_p0,surface_p1,highway_p1)\n",
    "# # Establish traffic status\n",
    "# types_slow = ['pedestrian','track','footway','bridleway','steps','corridor','path']\n",
    "# types_heavy = ['motorway','trunk','primary','secondary','tertiary']\n",
    "# data = gr_mapmatch.get_traffic_type(data,types_slow,types_heavy)\n",
    "# # Establish development status\n",
    "# tol_d = 0.5 # Consider a segment developed if it lies closer than tol_d to a developed area\n",
    "# data = gr_placematch.get_development_type(data,tol_d)"
   ]
  },
  {
   "cell_type": "markdown",
   "id": "77340d17",
   "metadata": {},
   "source": [
    "## Plotting"
   ]
  },
  {
   "cell_type": "code",
   "execution_count": 5,
   "id": "96da54a9",
   "metadata": {},
   "outputs": [],
   "source": [
    "# Calculating focus point\n",
    "trail_coords  = gr_mapmatch.trail_to_coords(trail)\n",
    "mid = int(np.round(len(trail_coords)/2))\n",
    "focus = trail_coords[mid]"
   ]
  },
  {
   "cell_type": "code",
   "execution_count": 18,
   "id": "4c6bcfb3",
   "metadata": {},
   "outputs": [
    {
     "data": {
      "text/html": [
       "\n",
       "        <iframe\n",
       "            width=\"1000\"\n",
       "            height=\"500\"\n",
       "            src=\"cache/chart_development.html\"\n",
       "            frameborder=\"0\"\n",
       "            allowfullscreen\n",
       "            \n",
       "        ></iframe>\n",
       "        "
      ],
      "text/plain": [
       "<IPython.lib.display.IFrame at 0x7f89e54e58e0>"
      ]
     },
     "execution_count": 18,
     "metadata": {},
     "output_type": "execute_result"
    }
   ],
   "source": [
    "# Plotting development type\n",
    "filepath = gr_plot.show_development(data,focus)\n",
    "IFrame(filepath, width=1000, height=500)"
   ]
  },
  {
   "cell_type": "code",
   "execution_count": 19,
   "id": "a57072d1",
   "metadata": {},
   "outputs": [
    {
     "data": {
      "text/html": [
       "\n",
       "        <iframe\n",
       "            width=\"1000\"\n",
       "            height=\"500\"\n",
       "            src=\"cache/chart_traffic.html\"\n",
       "            frameborder=\"0\"\n",
       "            allowfullscreen\n",
       "            \n",
       "        ></iframe>\n",
       "        "
      ],
      "text/plain": [
       "<IPython.lib.display.IFrame at 0x7f89de2b1160>"
      ]
     },
     "execution_count": 19,
     "metadata": {},
     "output_type": "execute_result"
    }
   ],
   "source": [
    "# Plotting traffic type\n",
    "filepath = gr_plot.show_traffic(data,focus)\n",
    "IFrame(filepath, width=1000, height=500)"
   ]
  },
  {
   "cell_type": "code",
   "execution_count": 7,
   "id": "6eaf2c15",
   "metadata": {},
   "outputs": [
    {
     "data": {
      "text/html": [
       "\n",
       "        <iframe\n",
       "            width=\"1000\"\n",
       "            height=\"500\"\n",
       "            src=\"cache/chart_paved.html\"\n",
       "            frameborder=\"0\"\n",
       "            allowfullscreen\n",
       "            \n",
       "        ></iframe>\n",
       "        "
      ],
      "text/plain": [
       "<IPython.lib.display.IFrame at 0x7fee99eddbb0>"
      ]
     },
     "execution_count": 7,
     "metadata": {},
     "output_type": "execute_result"
    }
   ],
   "source": [
    "# Plotting paved type\n",
    "filepath = gr_plot.show_paved(data,focus)\n",
    "IFrame(filepath, width=1000, height=500)"
   ]
  },
  {
   "cell_type": "code",
   "execution_count": 6,
   "id": "9c330933",
   "metadata": {},
   "outputs": [
    {
     "data": {
      "text/html": [
       "\n",
       "        <iframe\n",
       "            width=\"1000\"\n",
       "            height=\"500\"\n",
       "            src=\"cache/chart_detail.html\"\n",
       "            frameborder=\"0\"\n",
       "            allowfullscreen\n",
       "            \n",
       "        ></iframe>\n",
       "        "
      ],
      "text/plain": [
       "<IPython.lib.display.IFrame at 0x7f970b58e370>"
      ]
     },
     "execution_count": 6,
     "metadata": {},
     "output_type": "execute_result"
    }
   ],
   "source": [
    "# Plotting paved type with highway/surface/tracktype labels\n",
    "filepath = gr_plot.show_paved_detail(data,focus)\n",
    "IFrame(filepath, width=1000, height=500)"
   ]
  },
  {
   "cell_type": "code",
   "execution_count": null,
   "id": "95ff37c2",
   "metadata": {},
   "outputs": [],
   "source": []
  }
 ],
 "metadata": {
  "kernelspec": {
   "display_name": "Python 3 (ipykernel)",
   "language": "python",
   "name": "python3"
  },
  "language_info": {
   "codemirror_mode": {
    "name": "ipython",
    "version": 3
   },
   "file_extension": ".py",
   "mimetype": "text/x-python",
   "name": "python",
   "nbconvert_exporter": "python",
   "pygments_lexer": "ipython3",
   "version": "3.9.12"
  }
 },
 "nbformat": 4,
 "nbformat_minor": 5
}
