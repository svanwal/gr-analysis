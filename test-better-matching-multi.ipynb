{
 "cells": [
  {
   "cell_type": "markdown",
   "id": "82204626",
   "metadata": {},
   "source": [
    "## Importing modules and packages"
   ]
  },
  {
   "cell_type": "code",
   "execution_count": 1,
   "id": "f4a32d3e",
   "metadata": {},
   "outputs": [
    {
     "name": "stderr",
     "output_type": "stream",
     "text": [
      "/Users/svanwal/opt/anaconda3/lib/python3.9/site-packages/scipy/__init__.py:146: UserWarning: A NumPy version >=1.16.5 and <1.23.0 is required for this version of SciPy (detected version 1.23.3\n",
      "  warnings.warn(f\"A NumPy version >={np_minversion} and <{np_maxversion}\"\n"
     ]
    }
   ],
   "source": [
    "# Importing packages\n",
    "import osmnx  as ox\n",
    "import pandas as pd\n",
    "import numpy  as np\n",
    "import folium\n",
    "import os.path\n",
    "import shapely\n",
    "import geopandas as gpd\n",
    "from IPython.display import IFrame\n",
    "\n",
    "# Importing modules\n",
    "import gr_mapmatch # Contains functions that perform the map matching of roads\n",
    "import gr_placematch # Contains functions that perform the map matching of places\n",
    "import gr_utils # Contains useful geometry functions\n",
    "import gr_plot # Contains plotting routines\n",
    "import gr_process\n",
    "\n",
    "# Configuring modules & packages\n",
    "ox.settings.useful_tags_way = [\n",
    "    \"bridge\",\"tunnel\",\"name\",\"highway\",\"area\",\"landuse\",\"surface\",\"tracktype\"\n",
    "] # Configuring which parameters we want to obtain from OSM"
   ]
  },
  {
   "cell_type": "markdown",
   "id": "27b93e47",
   "metadata": {},
   "source": [
    "## Input parameters"
   ]
  },
  {
   "cell_type": "code",
   "execution_count": 2,
   "id": "015a24ff",
   "metadata": {},
   "outputs": [],
   "source": [
    "trailname = 'gr122' # Name of the hiking trail to be considered (will search for trail.csv or trail.gpx as sources)\n",
    "\n",
    "# Settings for trail2roads\n",
    "points_per_batch = 100 # Subdivide the trail into batches of this many points\n",
    "# points_per_batch = 25 # Subdivide the trail into batches of this many points\n",
    "# delta = 0.005 # Tolerance around bounding box per trail section [deg]\n",
    "delta = 0.008\n",
    "\n",
    "# Settings for roads2places\n",
    "points_per_batch_places = 100 # Subdivide the trail into batches of this many segments\n",
    "delta_places = 0.015 # bbox delta in deg\n",
    "buffersize = 0.00015 # buffer used when merging landuse places\n",
    "tol_area = 15.0e-6 # buffer used to define which merged landuse places we consider\n",
    "\n",
    "# Settings for places2processed\n",
    "tol_d        = 0.75 # Consider a segment developed if it lies closer than tol_d to a developed area\n",
    "tracktype_p0 = ['grade4','grade5']\n",
    "tracktype_p1 = ['grade2','grade3']\n",
    "tracktype_p2 = ['grade1']\n",
    "surface_p0   = ['ground','grass','dirt','sand','earth','mud']\n",
    "surface_p1   = ['unpaved','gravel','fine_gravel','wood','compacted','rocks','pebblestone','woodchips','snow','ice','salt']\n",
    "highway_p1   = ['track','path','footway','bridleway']\n",
    "types_slow   = ['pedestrian','track','footway','bridleway','steps','corridor','path']\n",
    "types_heavy  = ['motorway','trunk','primary','secondary','tertiary']"
   ]
  },
  {
   "cell_type": "markdown",
   "id": "ec311996",
   "metadata": {},
   "source": [
    "## Function definitions"
   ]
  },
  {
   "cell_type": "code",
   "execution_count": 3,
   "id": "3165c837",
   "metadata": {},
   "outputs": [],
   "source": [
    "def get_dist(X,Y):\n",
    "    r = [X[0] - Y[0],\n",
    "         X[1] - Y[1]]\n",
    "    return np.sqrt(r[0]*r[0] + r[1]*r[1])"
   ]
  },
  {
   "cell_type": "code",
   "execution_count": 4,
   "id": "e96dd17d",
   "metadata": {},
   "outputs": [],
   "source": [
    "def get_p2seg_distance(P,P0,P1):\n",
    "    v = [P1[0] - P0[0],\n",
    "         P1[1] - P0[1]]\n",
    "    w = [P[0] - P0[0],\n",
    "         P[1] - P0[1]]\n",
    "    c1 = w[0]*v[0] + w[1]*v[1]\n",
    "    if c1<=0:\n",
    "        return get_dist(P,P0)\n",
    "    c2 = v[0]*v[0] + v[1]*v[1]\n",
    "    if c2<=c1:\n",
    "        return get_dist(P,P1)\n",
    "    b = c1/c2\n",
    "    Pb = [P0[0] + b*v[0],\n",
    "          P0[1] + b*v[1]]\n",
    "    return get_dist(P,Pb)"
   ]
  },
  {
   "cell_type": "code",
   "execution_count": 5,
   "id": "cce93c99",
   "metadata": {},
   "outputs": [],
   "source": [
    "def get_coords_from_route(route):\n",
    "    \n",
    "    # route is a list of [51.2780788,4.051181,51.2781197,4.0511689,4.625675490697481,5.734,'residential',nan,nan]\n",
    "    xy = []\n",
    "    for segment in route:\n",
    "        xy.append([segment[0],segment[1]])\n",
    "    segment = route[-1]\n",
    "    xy.append([segment[2],segment[3]]) # adding the last point\n",
    "    return xy"
   ]
  },
  {
   "cell_type": "code",
   "execution_count": 6,
   "id": "1cdae8fa",
   "metadata": {},
   "outputs": [],
   "source": [
    "def get_path_error(route,trail_coords):\n",
    "    xy = get_coords_from_route(route)\n",
    "    err = 0\n",
    "    for point in trail_coords: # for each point from the gpx\n",
    "        dmin = 999\n",
    "        for j in range(len(xy)-1): # find the min distance to the pathfind\n",
    "            dmin = min(dmin,get_p2seg_distance(point,xy[j],xy[j+1]))\n",
    "        err += dmin*dmin # save the squared error\n",
    "    return err"
   ]
  },
  {
   "cell_type": "markdown",
   "id": "aa7e8e6f",
   "metadata": {},
   "source": [
    "## Loading GPX file"
   ]
  },
  {
   "cell_type": "code",
   "execution_count": 86,
   "id": "667a640b",
   "metadata": {},
   "outputs": [
    {
     "name": "stdout",
     "output_type": "stream",
     "text": [
      "Loading trail points from <data_input/gr122.gpx>...\n",
      "Finished loading.\n"
     ]
    }
   ],
   "source": [
    "trail = gr_utils.get_gpx(trailname)"
   ]
  },
  {
   "cell_type": "markdown",
   "id": "13dd817d",
   "metadata": {},
   "source": [
    "## Gathering ROAD data from OSM network"
   ]
  },
  {
   "cell_type": "code",
   "execution_count": 70,
   "id": "2e247491",
   "metadata": {},
   "outputs": [],
   "source": [
    "# Define the range of GPX points to process in the current batch\n",
    "extra_points_at_start = 15\n",
    "n_trail = len(trail) # Number of GPX points in the trail\n",
    "b = 1\n",
    "# n1 = b*points_per_batch\n",
    "n1 = max(0,b*points_per_batch - extra_points_at_start) # First point of this batch\n",
    "n2 = min((b+1)*points_per_batch, n_trail) # Last point of this batch (clipped)\n",
    "trail_section = trail.loc[n1:n2] # Select that range of GPX points\n",
    "trail_coords  = gr_mapmatch.trail_to_coords(trail_section) # Convert the points into a list of [lat, lon] pairs"
   ]
  },
  {
   "cell_type": "code",
   "execution_count": 71,
   "id": "644d0a42",
   "metadata": {},
   "outputs": [
    {
     "name": "stdout",
     "output_type": "stream",
     "text": [
      "grabbing n1 = 85 through n2 = 200\n"
     ]
    }
   ],
   "source": [
    "print(f'grabbing n1 = {n1} through n2 = {n2}')"
   ]
  },
  {
   "cell_type": "code",
   "execution_count": 85,
   "id": "a04c04c4",
   "metadata": {},
   "outputs": [
    {
     "name": "stdout",
     "output_type": "stream",
     "text": [
      "   Downloading street network...\n",
      "   Processing street network...\n"
     ]
    }
   ],
   "source": [
    "# network, segment_list = gr_mapmatch.match_batch(trail_section, trail_coords, delta)\n",
    "lat_min, lat_max, lon_min, lon_max = gr_mapmatch.get_bbox(trail_section,delta) # Calculate the bounding box\n",
    "network = gr_mapmatch.get_osm_network(lat_min, lat_max, lon_min, lon_max) # Download the street network from OSM"
   ]
  },
  {
   "cell_type": "code",
   "execution_count": 73,
   "id": "b488d585",
   "metadata": {},
   "outputs": [
    {
     "name": "stdout",
     "output_type": "stream",
     "text": [
      "   Handling GPX point 115 of 115...\n"
     ]
    }
   ],
   "source": [
    "node_list_raw = gr_mapmatch.match_nodes(network, trail_coords) # Match each GPX point to a network node"
   ]
  },
  {
   "cell_type": "markdown",
   "id": "8dfbb84b",
   "metadata": {},
   "source": [
    "## Correcting i0"
   ]
  },
  {
   "cell_type": "code",
   "execution_count": 74,
   "id": "26846cf3",
   "metadata": {},
   "outputs": [],
   "source": [
    "# Figure out node id of point with i = b*points_per_batch\n",
    "if n1>0:\n",
    "    node_id = node_list_raw[extra_points_at_start]\n",
    "    dvec = []\n",
    "    for j in range(len(node_list_raw)):\n",
    "        if node_list_raw[j] == node_id:\n",
    "            tnode = network['points'].loc[node_list_raw[j]]\n",
    "            node = [tnode['y'],tnode['x']]\n",
    "            d = get_dist(trail_coords[j],node)\n",
    "        else:\n",
    "            d = 999\n",
    "        dvec.append(d)\n",
    "    #     print(f'Point {n1+j} {trail_coords[j]} maps to node {node_list_raw[j]}, d = {d}')\n",
    "    jjmin = dvec.index(min(dvec))\n",
    "else:\n",
    "    jjmin = 0\n",
    "node_list_use = node_list_raw[jjmin:]\n",
    "trail_coords_use = trail_coords[jjmin:]"
   ]
  },
  {
   "cell_type": "markdown",
   "id": "198dd268",
   "metadata": {},
   "source": [
    "## Road matching algorithm"
   ]
  },
  {
   "cell_type": "code",
   "execution_count": 84,
   "id": "f3252e36",
   "metadata": {},
   "outputs": [
    {
     "name": "stdout",
     "output_type": "stream",
     "text": [
      "Performing road matching for GPX points 100 through 200...\n",
      "matching points 0 through 1\n",
      "matching points 1 through 2\n",
      "matching points 2 through 8\n",
      "matching points 8 through 9\n",
      "matching points 9 through 11\n",
      "matching points 11 through 17\n",
      "matching points 17 through 20\n",
      "matching points 20 through 35\n",
      "matching points 35 through 44\n",
      "matching points 44 through 61\n",
      "matching points 61 through 62\n",
      "matching points 62 through 63\n",
      "matching points 63 through 80\n",
      "matching points 80 through 85\n",
      "matching points 85 through 92\n",
      "matching points 92 through 100\n"
     ]
    },
    {
     "ename": "IndexError",
     "evalue": "list index out of range",
     "output_type": "error",
     "traceback": [
      "\u001b[0;31m---------------------------------------------------------------------------\u001b[0m",
      "\u001b[0;31mIndexError\u001b[0m                                Traceback (most recent call last)",
      "Input \u001b[0;32mIn [84]\u001b[0m, in \u001b[0;36m<cell line: 6>\u001b[0;34m()\u001b[0m\n\u001b[1;32m     68\u001b[0m d \u001b[38;5;241m=\u001b[39m []\n\u001b[1;32m     69\u001b[0m \u001b[38;5;28;01mfor\u001b[39;00m route \u001b[38;5;129;01min\u001b[39;00m routes:\n\u001b[0;32m---> 70\u001b[0m     err\u001b[38;5;241m.\u001b[39mappend(\u001b[43mget_path_error\u001b[49m\u001b[43m(\u001b[49m\u001b[43mroute\u001b[49m\u001b[43m,\u001b[49m\u001b[43mtrail_coords_use\u001b[49m\u001b[43m[\u001b[49m\u001b[43mi0\u001b[49m\u001b[43m:\u001b[49m\u001b[43mi2\u001b[49m\u001b[38;5;241;43m+\u001b[39;49m\u001b[38;5;241;43m1\u001b[39;49m\u001b[43m]\u001b[49m\u001b[43m)\u001b[49m)\n\u001b[1;32m     71\u001b[0m     d_osm \u001b[38;5;241m=\u001b[39m \u001b[38;5;241m0\u001b[39m\n\u001b[1;32m     72\u001b[0m     \u001b[38;5;28;01mfor\u001b[39;00m segment \u001b[38;5;129;01min\u001b[39;00m route:\n",
      "Input \u001b[0;32mIn [6]\u001b[0m, in \u001b[0;36mget_path_error\u001b[0;34m(route, trail_coords)\u001b[0m\n\u001b[1;32m      1\u001b[0m \u001b[38;5;28;01mdef\u001b[39;00m \u001b[38;5;21mget_path_error\u001b[39m(route,trail_coords):\n\u001b[0;32m----> 2\u001b[0m     xy \u001b[38;5;241m=\u001b[39m \u001b[43mget_coords_from_route\u001b[49m\u001b[43m(\u001b[49m\u001b[43mroute\u001b[49m\u001b[43m)\u001b[49m\n\u001b[1;32m      3\u001b[0m     err \u001b[38;5;241m=\u001b[39m \u001b[38;5;241m0\u001b[39m\n\u001b[1;32m      4\u001b[0m     \u001b[38;5;28;01mfor\u001b[39;00m point \u001b[38;5;129;01min\u001b[39;00m trail_coords: \u001b[38;5;66;03m# for each point from the gpx\u001b[39;00m\n",
      "Input \u001b[0;32mIn [5]\u001b[0m, in \u001b[0;36mget_coords_from_route\u001b[0;34m(route)\u001b[0m\n\u001b[1;32m      5\u001b[0m \u001b[38;5;28;01mfor\u001b[39;00m segment \u001b[38;5;129;01min\u001b[39;00m route:\n\u001b[1;32m      6\u001b[0m     xy\u001b[38;5;241m.\u001b[39mappend([segment[\u001b[38;5;241m0\u001b[39m],segment[\u001b[38;5;241m1\u001b[39m]])\n\u001b[0;32m----> 7\u001b[0m segment \u001b[38;5;241m=\u001b[39m \u001b[43mroute\u001b[49m\u001b[43m[\u001b[49m\u001b[38;5;241;43m-\u001b[39;49m\u001b[38;5;241;43m1\u001b[39;49m\u001b[43m]\u001b[49m\n\u001b[1;32m      8\u001b[0m xy\u001b[38;5;241m.\u001b[39mappend([segment[\u001b[38;5;241m2\u001b[39m],segment[\u001b[38;5;241m3\u001b[39m]]) \u001b[38;5;66;03m# adding the last point\u001b[39;00m\n\u001b[1;32m      9\u001b[0m \u001b[38;5;28;01mreturn\u001b[39;00m xy\n",
      "\u001b[0;31mIndexError\u001b[0m: list index out of range"
     ]
    }
   ],
   "source": [
    "total_route = []\n",
    "i0 = 0\n",
    "i1 = 0\n",
    "\n",
    "print(f'Performing road matching for GPX points {n1+jjmin} through {n2}...')\n",
    "while i0<len(node_list_use)-1:\n",
    "    \n",
    "    # Start from the first node in the raw node list\n",
    "    node0 = node_list_use[i0]\n",
    "    i1 = i0\n",
    "    \n",
    "    # Now find the first entry that is different from i0\n",
    "    while i1<len(node_list_use)-1:\n",
    "        i1 += 1 # increment counter\n",
    "        node1 = node_list_use[i1]\n",
    "        if node1 != node0: # then we found a different entry\n",
    "            break\n",
    "            \n",
    "    # Now find the last occurrence that is the same as i1\n",
    "    i2 = i1\n",
    "    if i2<len(node_list_use)-1:\n",
    "        while i2<len(node_list_use)-1:\n",
    "            i2 += 1 # increment counter\n",
    "            node2 = node_list_use[i2]\n",
    "            if node2 != node1: # then we found a different entry\n",
    "                i2 -= 1\n",
    "                break\n",
    "                \n",
    "    # --- Correct i2\n",
    "    # calculate for all GPX points between i0 and i2 the distance to the corresponding node\n",
    "    d_to_node = []\n",
    "    tcoords = []\n",
    "    for j in range(i1,i2+1):\n",
    "    #     print(node_list_raw[j])\n",
    "        point = trail_coords_use[j]\n",
    "        tcoords.append(point)\n",
    "        temp = network['points'].loc[node_list_use[j]]\n",
    "        node = [temp['y'],temp['x']]\n",
    "        d_to_node.append(get_dist(point,node))\n",
    "    # Find the GPX point closest to node1, that is the last GPX point we consider in this step of the loop\n",
    "    # So correct i2 and proceerd accordingly\n",
    "    imin = d_to_node.index(min(d_to_node))\n",
    "    i2 = i1 + imin\n",
    "#     print(f'Corrected i2 to {i2}')\n",
    "\n",
    "    print(f'matching points {i0} through {i2}')\n",
    "\n",
    "    \n",
    "    # --- Pathfind the k shortest routes between node0 and node2\n",
    "    k = 5 # number of routes to find\n",
    "    route = ox.k_shortest_paths(network['graph'], node0, node1, k)\n",
    "    paths = []\n",
    "    for path in route:\n",
    "        paths.append(path)\n",
    "        \n",
    "    # --- Choose the best path using element i0 through i2 from the nodes list\n",
    "    \n",
    "    # Grab the corresponding coordinates\n",
    "    routes = []\n",
    "    for path in paths:\n",
    "        segment_list = []\n",
    "        for j in range(len(path)-1):\n",
    "            segment_list.extend(gr_mapmatch.get_segments(network, path[j], path[j+1]))\n",
    "        routes.append(segment_list)\n",
    "\n",
    "    # Get the error for each route\n",
    "    err = []\n",
    "    d = []\n",
    "    for route in routes:\n",
    "        err.append(get_path_error(route,trail_coords_use[i0:i2+1]))\n",
    "        d_osm = 0\n",
    "        for segment in route:\n",
    "            d_osm += segment[5] # add d_osm column\n",
    "        d.append(d_osm)\n",
    "    dmin = min(d)\n",
    "    weights = []\n",
    "    if i2-i0 < 4:\n",
    "        for j in range(len(err)): # Weight factor takes into account error and length\n",
    "            weights.append(d[j])\n",
    "    else:\n",
    "        for j in range(len(err)): # Weight factor takes into account error and length\n",
    "            weights.append(err[j]*np.exp(d[j]/dmin))\n",
    "        \n",
    "    # Choose the best route\n",
    "    imin = weights.index(min(weights))\n",
    "    best_route = routes[imin]\n",
    "    total_route.extend(best_route)\n",
    "    \n",
    "#     print(f'matched points {i0} through {i2}')\n",
    "#     print(f'matched points {n1+i0+jjmin} through {n1+i2}')\n",
    "#     gr_mapmatch.print_overwrite(f'\\r   ... matched points {n1+i0} through {n1+i1}')\n",
    "    \n",
    "    # Afterwards, we set i0 = i2 and repeat\n",
    "    i0 = i2\n",
    "    if i2==(len(node_list_use)-1):\n",
    "        break"
   ]
  },
  {
   "cell_type": "markdown",
   "id": "978e14b0",
   "metadata": {},
   "source": [
    "## Plotting the matched trail"
   ]
  },
  {
   "cell_type": "code",
   "execution_count": 69,
   "id": "f53988fe",
   "metadata": {},
   "outputs": [
    {
     "data": {
      "text/html": [
       "\n",
       "        <iframe\n",
       "            width=\"1000\"\n",
       "            height=\"500\"\n",
       "            src=\"cache/temp7.html\"\n",
       "            frameborder=\"0\"\n",
       "            allowfullscreen\n",
       "            \n",
       "        ></iframe>\n",
       "        "
      ],
      "text/plain": [
       "<IPython.lib.display.IFrame at 0x7ff449349640>"
      ]
     },
     "execution_count": 69,
     "metadata": {},
     "output_type": "execute_result"
    }
   ],
   "source": [
    "# Plot the matched trail\n",
    "xy = get_coords_from_route(total_route)\n",
    "\n",
    "# Map setup\n",
    "mid = int(len(trail_coords)/2)\n",
    "chart = folium.Map(location=trail_coords_use[mid], zoom_start=14, tiles=\"OpenStreetMap\")\n",
    "\n",
    "# Draw the GPX route\n",
    "newline = folium.PolyLine(locations=trail_coords_use, weight=3, color='red')\n",
    "newline.add_to(chart)\n",
    "\n",
    "# for point in trail_coords:\n",
    "#     newmarker = folium.CircleMarker(location=point,radius=2,color='blue')\n",
    "#     newmarker.add_to(chart)\n",
    "\n",
    "for point in trail_coords_use:\n",
    "    newmarker = folium.CircleMarker(location=point,radius=2,color='red')\n",
    "    newmarker.add_to(chart)\n",
    "\n",
    "# Draw the matched route\n",
    "newline = folium.PolyLine(locations=xy, weight=2, color='black')\n",
    "newline.add_to(chart)\n",
    "    \n",
    "# Render the map\n",
    "filepath = f\"cache/temp7.html\"\n",
    "chart.save(filepath)\n",
    "IFrame(filepath, width=1000, height=500)"
   ]
  },
  {
   "cell_type": "code",
   "execution_count": 32,
   "id": "978cf2a1",
   "metadata": {},
   "outputs": [
    {
     "data": {
      "text/plain": [
       "111"
      ]
     },
     "execution_count": 32,
     "metadata": {},
     "output_type": "execute_result"
    }
   ],
   "source": [
    "len(trail_coords)"
   ]
  },
  {
   "cell_type": "code",
   "execution_count": 33,
   "id": "6672f059",
   "metadata": {},
   "outputs": [
    {
     "data": {
      "text/plain": [
       "109"
      ]
     },
     "execution_count": 33,
     "metadata": {},
     "output_type": "execute_result"
    }
   ],
   "source": [
    "len(trail_coords_use)"
   ]
  },
  {
   "cell_type": "markdown",
   "id": "82509c74",
   "metadata": {},
   "source": [
    "## Quantifying the post-matching error"
   ]
  },
  {
   "cell_type": "code",
   "execution_count": null,
   "id": "97735711",
   "metadata": {},
   "outputs": [],
   "source": []
  },
  {
   "cell_type": "code",
   "execution_count": null,
   "id": "8209cd68",
   "metadata": {},
   "outputs": [],
   "source": []
  },
  {
   "cell_type": "code",
   "execution_count": null,
   "id": "7b7e2d34",
   "metadata": {},
   "outputs": [],
   "source": []
  },
  {
   "cell_type": "code",
   "execution_count": null,
   "id": "f44c04d9",
   "metadata": {},
   "outputs": [],
   "source": []
  },
  {
   "cell_type": "code",
   "execution_count": null,
   "id": "e314b727",
   "metadata": {},
   "outputs": [],
   "source": []
  },
  {
   "cell_type": "code",
   "execution_count": null,
   "id": "21a681b0",
   "metadata": {},
   "outputs": [],
   "source": []
  },
  {
   "cell_type": "code",
   "execution_count": null,
   "id": "9f061004",
   "metadata": {},
   "outputs": [],
   "source": []
  },
  {
   "cell_type": "markdown",
   "id": "b923061f",
   "metadata": {},
   "source": [
    "## Drafts below"
   ]
  },
  {
   "cell_type": "code",
   "execution_count": null,
   "id": "67b01cde",
   "metadata": {},
   "outputs": [],
   "source": [
    "total_route = []\n",
    "i0 = 0\n",
    "i1 = 0\n",
    "\n",
    "print(f'Performing road matching for GPX points {n1} through {n2}...')\n",
    "while i0<len(node_list_raw)-1:\n",
    "    \n",
    "    # Start from the first node in the raw node list\n",
    "    node0 = node_list_raw[i0]\n",
    "    i1 = i0\n",
    "    \n",
    "    # Now find the first entry that is different from i0\n",
    "    while i1<len(node_list_raw)-1:\n",
    "        i1 += 1 # increment counter\n",
    "        node1 = node_list_raw[i1]\n",
    "        if node1 != node0: # then we found a different entry\n",
    "            break\n",
    "            \n",
    "    # Now find the last occurrence that is the same as i1\n",
    "    i2 = i1\n",
    "    if i2<len(node_list_raw)-1:\n",
    "        while i2<len(node_list_raw)-1:\n",
    "            i2 += 1 # increment counter\n",
    "            node2 = node_list_raw[i2]\n",
    "            if node2 != node1: # then we found a different entry\n",
    "                i2 -= 1\n",
    "                break\n",
    "                \n",
    "    # --- Correct i2\n",
    "    # calculate for all GPX points between i0 and i2 the distance to the corresponding node\n",
    "    d_to_node = []\n",
    "    tcoords = []\n",
    "    for j in range(i1,i2+1):\n",
    "    #     print(node_list_raw[j])\n",
    "        point = trail_coords[j]\n",
    "        tcoords.append(point)\n",
    "        temp = network['points'].loc[node_list_raw[j]]\n",
    "        node = [temp['y'],temp['x']]\n",
    "        d_to_node.append(get_dist(point,node))\n",
    "    # Find the GPX point closest to node1, that is the last GPX point we consider in this step of the loop\n",
    "    # So correct i2 and proceerd accordingly\n",
    "    imin = d_to_node.index(min(d_to_node))\n",
    "    i2 = i1 + imin\n",
    "#     print(f'Corrected i2 to {i2}')\n",
    "    \n",
    "    # --- Pathfind the k shortest routes between node0 and node2\n",
    "    k = 5 # number of routes to find\n",
    "    route = ox.k_shortest_paths(network['graph'], node0, node1, k)\n",
    "    paths = []\n",
    "    for path in route:\n",
    "        paths.append(path)\n",
    "        \n",
    "    # --- Choose the best path using element i0 through i2 from the nodes list\n",
    "    \n",
    "    # Grab the corresponding coordinates\n",
    "    routes = []\n",
    "    for path in paths:\n",
    "        segment_list = []\n",
    "        for j in range(len(path)-1):\n",
    "            segment_list.extend(gr_mapmatch.get_segments(network, path[j], path[j+1]))\n",
    "        routes.append(segment_list)\n",
    "\n",
    "    # Get the error for each route\n",
    "    err = []\n",
    "    d = []\n",
    "    for route in routes:\n",
    "        err.append(get_path_error(route,trail_coords[i0:i2+1]))\n",
    "        d_osm = 0\n",
    "        for segment in route:\n",
    "            d_osm += segment[5] # add d_osm column\n",
    "        d.append(d_osm)\n",
    "    dmin = min(d)\n",
    "    weights = []\n",
    "    if i2-i0 < 4:\n",
    "        for j in range(len(err)): # Weight factor takes into account error and length\n",
    "            weights.append(d[j])\n",
    "    else:\n",
    "        for j in range(len(err)): # Weight factor takes into account error and length\n",
    "            weights.append(err[j]*np.exp(d[j]/dmin))\n",
    "        \n",
    "    # Choose the best route\n",
    "    imin = weights.index(min(weights))\n",
    "    best_route = routes[imin]\n",
    "    total_route.extend(best_route)\n",
    "    \n",
    "#     print(f'matched points {n1+i0} through {n1+i2}')\n",
    "    gr_mapmatch.print_overwrite(f'\\r   ... matched points {n1+i0} through {n1+i1}')\n",
    "    \n",
    "    # Afterwards, we set i0 = i2 and repeat\n",
    "    i0 = i2\n",
    "    if i2==(len(node_list_raw)-1):\n",
    "        break"
   ]
  },
  {
   "cell_type": "code",
   "execution_count": null,
   "id": "f66db267",
   "metadata": {},
   "outputs": [],
   "source": []
  },
  {
   "cell_type": "code",
   "execution_count": null,
   "id": "1dfe1f39",
   "metadata": {},
   "outputs": [],
   "source": []
  },
  {
   "cell_type": "code",
   "execution_count": 33,
   "id": "99d47fde",
   "metadata": {},
   "outputs": [
    {
     "data": {
      "text/html": [
       "\n",
       "        <iframe\n",
       "            width=\"1000\"\n",
       "            height=\"500\"\n",
       "            src=\"cache/temp6.html\"\n",
       "            frameborder=\"0\"\n",
       "            allowfullscreen\n",
       "            \n",
       "        ></iframe>\n",
       "        "
      ],
      "text/plain": [
       "<IPython.lib.display.IFrame at 0x7fcdcec397c0>"
      ]
     },
     "execution_count": 33,
     "metadata": {},
     "output_type": "execute_result"
    }
   ],
   "source": [
    "### Plot the matching from GPX points to nodes\n",
    "network['points'].loc[node_list_raw[0]]\n",
    "# Map setup\n",
    "mid = int(len(trail_coords)/2)\n",
    "chart = folium.Map(location=trail_coords[mid], zoom_start=16, tiles=\"OpenStreetMap\")\n",
    "# Draw the two nodes\n",
    "n0 = network['points'].loc[node0]\n",
    "point0 = [n0['y'],n0['x']]\n",
    "newmarker = folium.CircleMarker(location=point0,radius=3,color='black')\n",
    "newmarker.add_to(chart)\n",
    "n1 = network['points'].loc[node1]\n",
    "point1 = [n1['y'],n1['x']]\n",
    "newmarker = folium.CircleMarker(location=point1,radius=3,color='black')\n",
    "newmarker.add_to(chart)\n",
    "# Draw the k shortest paths\n",
    "colors = ['red','orange','yellow','green','blue','black']\n",
    "for j in range(len(routes)):\n",
    "    xy = gr_plot.get_fullcoords_from_frame(routes[j])\n",
    "    if j==imin:\n",
    "        wdt = 3\n",
    "    else:\n",
    "        wdt = 1\n",
    "    newline = folium.PolyLine(locations=xy, weight=wdt, color=colors[j],popup=err[j])\n",
    "    newline.add_to(chart)\n",
    "# Draw the GPX points in between\n",
    "for j in range(i0,i2+1):\n",
    "    point = trail_coords[j]\n",
    "    newmarker = folium.CircleMarker(location=point,radius=3,color='red',popup=node_list_raw[j])\n",
    "    newmarker.add_to(chart)\n",
    "# Render the map\n",
    "filepath = f\"cache/temp6.html\"\n",
    "chart.save(filepath)\n",
    "IFrame(filepath, width=1000, height=500)"
   ]
  },
  {
   "cell_type": "code",
   "execution_count": null,
   "id": "0e5354fc",
   "metadata": {},
   "outputs": [],
   "source": []
  },
  {
   "cell_type": "code",
   "execution_count": null,
   "id": "83224369",
   "metadata": {},
   "outputs": [],
   "source": []
  },
  {
   "cell_type": "code",
   "execution_count": null,
   "id": "43f92c99",
   "metadata": {},
   "outputs": [],
   "source": []
  },
  {
   "cell_type": "code",
   "execution_count": 32,
   "id": "e02da8be",
   "metadata": {},
   "outputs": [],
   "source": [
    "route = ox.k_shortest_paths(network['graph'], id0, id1, k)\n",
    "paths = []\n",
    "for path in route:\n",
    "    paths.append(path)"
   ]
  },
  {
   "cell_type": "code",
   "execution_count": 68,
   "id": "9fd9fb48",
   "metadata": {
    "scrolled": true
   },
   "outputs": [
    {
     "name": "stdout",
     "output_type": "stream",
     "text": [
      "   Writing outputs to file...\n",
      "   Writing outputs to file...\n",
      "   Writing outputs to file...\n",
      "   Writing outputs to file...\n",
      "   Writing outputs to file...\n"
     ]
    }
   ],
   "source": [
    "# Grab the corresponding coordinates\n",
    "routes = []\n",
    "for path in paths:\n",
    "    segment_list = []\n",
    "    for j in range(len(path)-1):\n",
    "        segment_list.extend(gr_mapmatch.get_segments(network, path[j], path[j+1]))\n",
    "    fout = f'temp.csv'\n",
    "    gr_utils.write_batch(fout, segment_list)\n",
    "    data = pd.read_csv(fout,dtype={'highway':str, 'surface': str, 'tracktype':str})\n",
    "    routes.append(data)"
   ]
  },
  {
   "cell_type": "code",
   "execution_count": 69,
   "id": "987b6847",
   "metadata": {},
   "outputs": [
    {
     "data": {
      "text/html": [
       "\n",
       "        <iframe\n",
       "            width=\"1000\"\n",
       "            height=\"500\"\n",
       "            src=\"cache/temp5.html\"\n",
       "            frameborder=\"0\"\n",
       "            allowfullscreen\n",
       "            \n",
       "        ></iframe>\n",
       "        "
      ],
      "text/plain": [
       "<IPython.lib.display.IFrame at 0x7fe2c9e42640>"
      ]
     },
     "execution_count": 69,
     "metadata": {},
     "output_type": "execute_result"
    }
   ],
   "source": [
    "### Plot the matching from GPX points to nodes\n",
    "network['points'].loc[node_list_raw[0]]\n",
    "# Map setup\n",
    "mid = int(len(trail_coords)/2)\n",
    "chart = folium.Map(location=trail_coords[mid], zoom_start=16, tiles=\"OpenStreetMap\")\n",
    "# Draw the two nodes\n",
    "node0 = network['points'].loc[id0]\n",
    "point0 = [node0['y'],node0['x']]\n",
    "newmarker = folium.CircleMarker(location=point0,radius=3,color='black')\n",
    "newmarker.add_to(chart)\n",
    "node1 = network['points'].loc[id1]\n",
    "point1 = [node1['y'],node1['x']]\n",
    "newmarker = folium.CircleMarker(location=point1,radius=3,color='black')\n",
    "newmarker.add_to(chart)\n",
    "# Draw the k shortest paths\n",
    "colors = ['red','orange','yellow','green','blue','black']\n",
    "for j in range(len(routes)):\n",
    "    xy = gr_plot.get_fullcoords_from_frame(routes[j])\n",
    "    newline = folium.PolyLine(locations=xy, weight=3, color=colors[j])\n",
    "    newline.add_to(chart)\n",
    "# Render the map\n",
    "filepath = f\"cache/temp5.html\"\n",
    "chart.save(filepath)\n",
    "IFrame(filepath, width=1000, height=500)"
   ]
  },
  {
   "cell_type": "code",
   "execution_count": null,
   "id": "5a29cfb1",
   "metadata": {},
   "outputs": [],
   "source": []
  },
  {
   "cell_type": "code",
   "execution_count": null,
   "id": "80ca15aa",
   "metadata": {},
   "outputs": [],
   "source": []
  },
  {
   "cell_type": "code",
   "execution_count": null,
   "id": "f76026d6",
   "metadata": {},
   "outputs": [],
   "source": []
  },
  {
   "cell_type": "code",
   "execution_count": null,
   "id": "d55ea16a",
   "metadata": {},
   "outputs": [],
   "source": []
  },
  {
   "cell_type": "code",
   "execution_count": null,
   "id": "4640cc76",
   "metadata": {},
   "outputs": [],
   "source": []
  },
  {
   "cell_type": "code",
   "execution_count": null,
   "id": "bb69a331",
   "metadata": {},
   "outputs": [],
   "source": []
  },
  {
   "cell_type": "code",
   "execution_count": null,
   "id": "3b0d4e99",
   "metadata": {},
   "outputs": [],
   "source": []
  },
  {
   "cell_type": "code",
   "execution_count": null,
   "id": "0d1314de",
   "metadata": {},
   "outputs": [],
   "source": []
  },
  {
   "cell_type": "markdown",
   "id": "31dd3077",
   "metadata": {},
   "source": [
    "## Plotting"
   ]
  },
  {
   "cell_type": "code",
   "execution_count": 8,
   "id": "2f9d3d3d",
   "metadata": {
    "scrolled": true
   },
   "outputs": [
    {
     "data": {
      "text/html": [
       "\n",
       "        <iframe\n",
       "            width=\"1000\"\n",
       "            height=\"500\"\n",
       "            src=\"cache/temp4.html\"\n",
       "            frameborder=\"0\"\n",
       "            allowfullscreen\n",
       "            \n",
       "        ></iframe>\n",
       "        "
      ],
      "text/plain": [
       "<IPython.lib.display.IFrame at 0x7fe2c37e3b50>"
      ]
     },
     "execution_count": 8,
     "metadata": {},
     "output_type": "execute_result"
    }
   ],
   "source": [
    "### Plot the matching from GPX points to nodes\n",
    "network['points'].loc[node_list_raw[0]]\n",
    "# Map setup\n",
    "mid = int(len(trail_coords)/2)\n",
    "chart = folium.Map(location=trail_coords[mid], zoom_start=16, tiles=\"OpenStreetMap\")\n",
    "# Draw GPX track\n",
    "newline = folium.PolyLine(locations=trail_coords, weight=3, color='red')\n",
    "newline.add_to(chart)\n",
    "for point in trail_coords:\n",
    "    newmarker = folium.CircleMarker(location=point,radius=3,color='red')\n",
    "    newmarker.add_to(chart)\n",
    "# Draw matched nodes\n",
    "for node_id in node_list_raw:\n",
    "    node = network['points'].loc[node_id]\n",
    "    point = [node['y'],node['x']]\n",
    "    newmarker = folium.CircleMarker(location=point,radius=3,color='blue')\n",
    "    newmarker.add_to(chart)\n",
    "# Render the map\n",
    "filepath = f\"cache/temp4.html\"\n",
    "chart.save(filepath)\n",
    "IFrame(filepath, width=1000, height=500)"
   ]
  },
  {
   "cell_type": "code",
   "execution_count": 13,
   "id": "3bf236a4",
   "metadata": {},
   "outputs": [
    {
     "data": {
      "text/html": [
       "\n",
       "        <iframe\n",
       "            width=\"1000\"\n",
       "            height=\"500\"\n",
       "            src=\"cache/temp5.html\"\n",
       "            frameborder=\"0\"\n",
       "            allowfullscreen\n",
       "            \n",
       "        ></iframe>\n",
       "        "
      ],
      "text/plain": [
       "<IPython.lib.display.IFrame at 0x7fcdd4bef2b0>"
      ]
     },
     "execution_count": 13,
     "metadata": {},
     "output_type": "execute_result"
    }
   ],
   "source": [
    "### Plotting the rendered shortest route\n",
    "network['points'].loc[node_list_raw[0]]\n",
    "# Map setup\n",
    "mid = int(len(trail_coords)/2)\n",
    "chart = folium.Map(location=trail_coords[mid], zoom_start=16, tiles=\"OpenStreetMap\")\n",
    "# Draw GPX track\n",
    "newline = folium.PolyLine(locations=trail_coords, weight=3, color='red')\n",
    "newline.add_to(chart)\n",
    "for point in trail_coords:\n",
    "    newmarker = folium.CircleMarker(location=point,radius=3,color='red')\n",
    "    newmarker.add_to(chart)\n",
    "# Draw matched nodes\n",
    "for node_id in node_list_raw:\n",
    "    node = network['points'].loc[node_id]\n",
    "    point = [node['y'],node['x']]\n",
    "    newmarker = folium.CircleMarker(location=point,radius=3,color='blue',popup=node_id)\n",
    "    newmarker.add_to(chart)\n",
    "# Draw the matching\n",
    "for j in range(len(trail_coords)):\n",
    "    point_gpx = trail_coords[j]\n",
    "    node_id = node_list_raw[j]\n",
    "    node = network['points'].loc[node_id]\n",
    "    point = [node['y'],node['x']]\n",
    "    newline = folium.PolyLine(locations=[point_gpx,point], weight=2, color='black')\n",
    "    newline.add_to(chart)\n",
    "# Draw pathfind\n",
    "# for j in range(len(route_list)-1):\n",
    "#     node0 = route_list[j]\n",
    "#     node1 = route_list[j+1]\n",
    "#     edge = network['edges'].loc[node0,node1]\n",
    "#     lon = list(edge['geometry'][0].coords.xy[0])\n",
    "#     lat = list(edge['geometry'][0].coords.xy[1])\n",
    "#     xy = [[coord[1],coord[0]] for coord in list(zip(lon,lat))]\n",
    "#     newline = folium.PolyLine(locations=xy, weight=3, color='blue')\n",
    "#     newline.add_to(chart)\n",
    "# Render the map\n",
    "filepath = f\"cache/temp5.html\"\n",
    "chart.save(filepath)\n",
    "IFrame(filepath, width=1000, height=500)"
   ]
  },
  {
   "cell_type": "code",
   "execution_count": 29,
   "id": "f79611a3",
   "metadata": {},
   "outputs": [
    {
     "data": {
      "text/plain": [
       "[1.7906131529517318e-06,\n",
       " 1.1798607727343111e-08,\n",
       " 1.7869421466577503e-06,\n",
       " 4.0991360758709733e-07,\n",
       " 3.7252144758789297e-07]"
      ]
     },
     "execution_count": 29,
     "metadata": {},
     "output_type": "execute_result"
    }
   ],
   "source": [
    "total"
   ]
  },
  {
   "cell_type": "code",
   "execution_count": null,
   "id": "628dba92",
   "metadata": {},
   "outputs": [],
   "source": []
  },
  {
   "cell_type": "code",
   "execution_count": null,
   "id": "cffb416c",
   "metadata": {},
   "outputs": [],
   "source": []
  },
  {
   "cell_type": "code",
   "execution_count": null,
   "id": "6799a3af",
   "metadata": {},
   "outputs": [],
   "source": []
  },
  {
   "cell_type": "code",
   "execution_count": null,
   "id": "7c6f4d51",
   "metadata": {},
   "outputs": [],
   "source": []
  },
  {
   "cell_type": "code",
   "execution_count": null,
   "id": "56b05fe4",
   "metadata": {},
   "outputs": [],
   "source": []
  },
  {
   "cell_type": "code",
   "execution_count": 10,
   "id": "7081ebc3",
   "metadata": {},
   "outputs": [
    {
     "data": {
      "text/html": [
       "\n",
       "        <iframe\n",
       "            width=\"1000\"\n",
       "            height=\"500\"\n",
       "            src=\"cache/temp.html\"\n",
       "            frameborder=\"0\"\n",
       "            allowfullscreen\n",
       "            \n",
       "        ></iframe>\n",
       "        "
      ],
      "text/plain": [
       "<IPython.lib.display.IFrame at 0x7fe2cad77250>"
      ]
     },
     "execution_count": 10,
     "metadata": {},
     "output_type": "execute_result"
    }
   ],
   "source": [
    "### Just drawing the two paths\n",
    "# Map setup\n",
    "mid = int(len(trail_coords)/2)\n",
    "chart = folium.Map(location=trail_coords[mid], zoom_start=14, tiles=\"OpenStreetMap\") \n",
    "# Draw GPX track\n",
    "newline = folium.PolyLine(locations=trail_coords, weight=3, color='red')\n",
    "newline.add_to(chart)\n",
    "for point in trail_coords:\n",
    "    newmarker = folium.CircleMarker(location=point,radius=3,color='red')\n",
    "    newmarker.add_to(chart)\n",
    "# Draw map matched frame\n",
    "xy = gr_plot.get_coords_from_frame(data)\n",
    "newline = folium.PolyLine(locations=xy, weight=2, color='black')\n",
    "newline.add_to(chart)\n",
    "for point in xy:\n",
    "    newmarker = folium.CircleMarker(location=point,radius=3,color='black')\n",
    "    newmarker.add_to(chart)\n",
    "# Render the map\n",
    "filepath = f\"cache/temp.html\"\n",
    "chart.save(filepath)\n",
    "IFrame(filepath, width=1000, height=500)"
   ]
  },
  {
   "cell_type": "code",
   "execution_count": 13,
   "id": "de1409de",
   "metadata": {},
   "outputs": [],
   "source": [
    "### Calculating the error between the two paths, at all GPX points\n",
    "# for all gpx points\n",
    "dmin = []\n",
    "for point_matched in xy:\n",
    "    d = 999.0\n",
    "    for j in range(len(trail_coords)-1):\n",
    "        d = min(d,get_p2seg_distance(point_matched,trail_coords[j],trail_coords[j+1]))\n",
    "    dmin.append(1e6*d)      "
   ]
  },
  {
   "cell_type": "code",
   "execution_count": 14,
   "id": "205377e1",
   "metadata": {},
   "outputs": [
    {
     "data": {
      "text/html": [
       "\n",
       "        <iframe\n",
       "            width=\"1000\"\n",
       "            height=\"500\"\n",
       "            src=\"cache/temp.html\"\n",
       "            frameborder=\"0\"\n",
       "            allowfullscreen\n",
       "            \n",
       "        ></iframe>\n",
       "        "
      ],
      "text/plain": [
       "<IPython.lib.display.IFrame at 0x7fe2cadc0be0>"
      ]
     },
     "execution_count": 14,
     "metadata": {},
     "output_type": "execute_result"
    }
   ],
   "source": [
    "### Just drawing the two paths\n",
    "mytol = 100\n",
    "# Map setup\n",
    "mid = int(len(trail_coords)/2)\n",
    "chart = folium.Map(location=trail_coords[mid], zoom_start=14, tiles=\"OpenStreetMap\") \n",
    "# Draw GPX points in red\n",
    "newline = folium.PolyLine(locations=trail_coords, weight=3, color='red')\n",
    "newline.add_to(chart)\n",
    "for point in trail_coords:\n",
    "    newmarker = folium.CircleMarker(location=point,radius=3,color='red')\n",
    "    newmarker.add_to(chart)\n",
    "# Draw map matched points\n",
    "xy = gr_plot.get_coords_from_frame(data)\n",
    "newline = folium.PolyLine(locations=xy, weight=2, color='black')\n",
    "newline.add_to(chart)\n",
    "for j in range(len(xy)):\n",
    "    point = xy[j]\n",
    "    d = dmin[j]\n",
    "    color = 'black'\n",
    "    if d<mytol: # good points are black\n",
    "        color = 'black'\n",
    "    else: # bad points are blue\n",
    "        color = 'blue'\n",
    "    newmarker = folium.CircleMarker(location=point,radius=3,color=color,popup=np.round(d))\n",
    "    newmarker.add_to(chart)\n",
    "# Render the map\n",
    "filepath = f\"cache/temp.html\"\n",
    "chart.save(filepath)\n",
    "IFrame(filepath, width=1000, height=500)"
   ]
  },
  {
   "cell_type": "code",
   "execution_count": 15,
   "id": "d11abe35",
   "metadata": {},
   "outputs": [
    {
     "data": {
      "text/html": [
       "\n",
       "        <iframe\n",
       "            width=\"1000\"\n",
       "            height=\"500\"\n",
       "            src=\"cache/temp2.html\"\n",
       "            frameborder=\"0\"\n",
       "            allowfullscreen\n",
       "            \n",
       "        ></iframe>\n",
       "        "
      ],
      "text/plain": [
       "<IPython.lib.display.IFrame at 0x7fe2cad8d160>"
      ]
     },
     "execution_count": 15,
     "metadata": {},
     "output_type": "execute_result"
    }
   ],
   "source": [
    "### Just drawing the two paths\n",
    "mytol = 100\n",
    "# Map setup\n",
    "mid = int(len(trail_coords)/2)\n",
    "chart = folium.Map(location=trail_coords[mid], zoom_start=14, tiles=\"OpenStreetMap\") \n",
    "# Draw GPX points in red\n",
    "# newline = folium.PolyLine(locations=trail_coords, weight=1, color='red')\n",
    "# newline.add_to(chart)\n",
    "# Render the map\n",
    "filepath = f\"cache/temp2.html\"\n",
    "chart.save(filepath)\n",
    "IFrame(filepath, width=1000, height=500)"
   ]
  },
  {
   "cell_type": "code",
   "execution_count": null,
   "id": "c80ad249",
   "metadata": {},
   "outputs": [],
   "source": []
  },
  {
   "cell_type": "code",
   "execution_count": null,
   "id": "0a4d761c",
   "metadata": {},
   "outputs": [],
   "source": []
  }
 ],
 "metadata": {
  "kernelspec": {
   "display_name": "Python 3 (ipykernel)",
   "language": "python",
   "name": "python3"
  },
  "language_info": {
   "codemirror_mode": {
    "name": "ipython",
    "version": 3
   },
   "file_extension": ".py",
   "mimetype": "text/x-python",
   "name": "python",
   "nbconvert_exporter": "python",
   "pygments_lexer": "ipython3",
   "version": "3.9.12"
  }
 },
 "nbformat": 4,
 "nbformat_minor": 5
}
