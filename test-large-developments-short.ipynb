{
 "cells": [
  {
   "cell_type": "code",
   "execution_count": 1,
   "id": "2ce33c1e",
   "metadata": {},
   "outputs": [
    {
     "name": "stderr",
     "output_type": "stream",
     "text": [
      "/Users/svanwal/opt/anaconda3/lib/python3.9/site-packages/scipy/__init__.py:146: UserWarning: A NumPy version >=1.16.5 and <1.23.0 is required for this version of SciPy (detected version 1.23.3\n",
      "  warnings.warn(f\"A NumPy version >={np_minversion} and <{np_maxversion}\"\n"
     ]
    }
   ],
   "source": [
    "# Importing packages\n",
    "import pandas as pd\n",
    "import numpy  as np\n",
    "import folium\n",
    "import os.path\n",
    "import shapely\n",
    "import altair as alt\n",
    "import seaborn as sns\n",
    "import matplotlib.pyplot as plt\n",
    "from IPython.display import IFrame\n",
    "import matplotlib.patheffects as PathEffects\n",
    "\n",
    "# Importing modules\n",
    "import gr_mapmatch # Contains functions that perform the map matching of roads\n",
    "import gr_placematch # Contains functions that perform the map matching of places\n",
    "import gr_utils # Contains useful geometry functions\n",
    "import gr_plot # Contains plotting routines\n",
    "import gr_process"
   ]
  },
  {
   "cell_type": "code",
   "execution_count": 2,
   "id": "1bb35890",
   "metadata": {},
   "outputs": [],
   "source": [
    "trailname = 'gr131' # Name of the hiking trail to be considered (will search for trail.csv or trail.gpx as sources)\n",
    "buffersize = 0.00015 # how many degs to buffer by\n",
    "delta_places = 0.015 # bbox delta in deg\n",
    "\n",
    "# n1 = 2300\n",
    "# n2 = 2400\n",
    "n1 = 4000\n",
    "n2 = 4150"
   ]
  },
  {
   "cell_type": "code",
   "execution_count": 3,
   "id": "91870220",
   "metadata": {},
   "outputs": [
    {
     "name": "stdout",
     "output_type": "stream",
     "text": [
      "Loading trail points from <data_input/gr131.gpx>...\n",
      "Finished loading.\n"
     ]
    }
   ],
   "source": [
    "trail = gr_utils.get_gpx(trailname)\n",
    "data_roads = gr_utils.read_roads(trailname)\n",
    "bbox = gr_placematch.get_bbox(data_roads[n1:n2], delta_places);\n",
    "places_landuse, places_admin8, places_admin9 = gr_placematch.get_places(bbox) # Grab relevant place information\n",
    "i_focus = int(np.round((n1+n2)/2))\n",
    "focus = [data_roads.iloc[i_focus]['x0'],data_roads.iloc[i_focus]['y0']]"
   ]
  },
  {
   "cell_type": "markdown",
   "id": "3f43fb5f",
   "metadata": {},
   "source": [
    "## Drawing large merged polygons"
   ]
  },
  {
   "cell_type": "code",
   "execution_count": 4,
   "id": "94c17abb",
   "metadata": {
    "scrolled": true
   },
   "outputs": [
    {
     "name": "stderr",
     "output_type": "stream",
     "text": [
      "/var/folders/zh/x06gqp657rl9h1shq_pn7gjh0000gn/T/ipykernel_8277/1521081679.py:7: ShapelyDeprecationWarning: __len__ for multi-part geometries is deprecated and will be removed in Shapely 2.0. Check the length of the `geoms` property instead to get the  number of parts of a multi-part geometry.\n",
      "  merged = list(shapely.ops.unary_union(polys))\n",
      "/var/folders/zh/x06gqp657rl9h1shq_pn7gjh0000gn/T/ipykernel_8277/1521081679.py:7: ShapelyDeprecationWarning: Iteration over multi-part geometries is deprecated and will be removed in Shapely 2.0. Use the `geoms` property to access the constituent parts of a multi-part geometry.\n",
      "  merged = list(shapely.ops.unary_union(polys))\n"
     ]
    }
   ],
   "source": [
    "polys = []\n",
    "for i in range(places_landuse.shape[0]):\n",
    "    poly = places_landuse.iloc[i]['geometry'] # Grab polygon\n",
    "#     poly = shapely.affinity.scale(poly, xfact=sc, yfact=sc, origin='center') # Scale it\n",
    "    poly = poly.buffer(buffersize)\n",
    "    polys.append(poly)\n",
    "merged = list(shapely.ops.unary_union(polys))"
   ]
  },
  {
   "cell_type": "code",
   "execution_count": 5,
   "id": "98122bd2",
   "metadata": {},
   "outputs": [],
   "source": [
    "tol_area = 15.0e-6\n",
    "\n",
    "# Map setup\n",
    "chart = folium.Map(location=focus, zoom_start=13, tiles=\"OpenStreetMap\")\n",
    "\n",
    "# Draw development areas\n",
    "k = 0\n",
    "for poly in merged:\n",
    "\n",
    "    x,y = poly.exterior.coords.xy\n",
    "    coords = pd.DataFrame({'LAT':y,'LON':x})\n",
    "    if poly.area>tol_area:\n",
    "        newline = folium.Polygon(locations=coords, color='blue', fill=True, fillOpacity=0.5, popup=poly.area, weight=2)\n",
    "    else:\n",
    "        newline = folium.Polygon(locations=coords, color='green', fill=True, fillOpacity=0.1, popup=poly.area, weight=1)\n",
    "    newline.add_to(chart)\n",
    "    k += 1\n",
    "\n",
    "# Draw trail\n",
    "coords = gr_plot.get_fullcoords_from_frame(data_roads)\n",
    "newline = folium.PolyLine(locations=coords[n1:n2], weight=2, color='red')\n",
    "newline.add_to(chart)\n",
    "\n",
    "# Draw bounding box\n",
    "x,y = bbox.exterior.coords.xy\n",
    "coords = pd.DataFrame({'LAT':y,'LON':x})\n",
    "newline = folium.Polygon(locations=coords, color='black', fill=False, weight=2)\n",
    "newline.add_to(chart)\n",
    "\n",
    "# Render the map\n",
    "filepath = f\"cache/plot_large_devs.html\"\n",
    "chart.save(filepath)"
   ]
  },
  {
   "cell_type": "code",
   "execution_count": 6,
   "id": "00a069de",
   "metadata": {},
   "outputs": [
    {
     "data": {
      "text/html": [
       "\n",
       "        <iframe\n",
       "            width=\"1000\"\n",
       "            height=\"500\"\n",
       "            src=\"cache/plot_large_devs.html\"\n",
       "            frameborder=\"0\"\n",
       "            allowfullscreen\n",
       "            \n",
       "        ></iframe>\n",
       "        "
      ],
      "text/plain": [
       "<IPython.lib.display.IFrame at 0x7fc202551850>"
      ]
     },
     "execution_count": 6,
     "metadata": {},
     "output_type": "execute_result"
    }
   ],
   "source": [
    "IFrame(filepath, width=1000, height=500)"
   ]
  },
  {
   "cell_type": "markdown",
   "id": "162d185e",
   "metadata": {},
   "source": [
    "## Draw where trail passes near large developed areas"
   ]
  },
  {
   "cell_type": "code",
   "execution_count": 9,
   "id": "50df0bf2",
   "metadata": {},
   "outputs": [],
   "source": [
    "tol_area = 15.0e-6\n",
    "tol_near = 5e-4\n",
    "\n",
    "# Map setup\n",
    "chart = folium.Map(location=focus, zoom_start=13, tiles=\"OpenStreetMap\")\n",
    "\n",
    "# Draw development areas\n",
    "k = 0\n",
    "for poly in merged:\n",
    "\n",
    "    x,y = poly.exterior.coords.xy\n",
    "    coords = pd.DataFrame({'LAT':y,'LON':x})\n",
    "    if poly.area>tol_area:\n",
    "        newline = folium.Polygon(locations=coords, color='blue', fill=True, fillOpacity=0.5, popup=poly.area, weight=2)\n",
    "    else:\n",
    "        newline = folium.Polygon(locations=coords, color='green', fill=True, fillOpacity=0.1, popup=poly.area, weight=1)\n",
    "    newline.add_to(chart)\n",
    "    k += 1\n",
    "\n",
    "# Draw trail\n",
    "coords = gr_plot.get_fullcoords_from_frame(data_roads)\n",
    "for i in range(n1,n2):\n",
    "    xmid = (coords[i][0] + coords[i+1][0])/2\n",
    "    ymid = (coords[i][1] + coords[i+1][1])/2\n",
    "    mid = shapely.geometry.point.Point([ymid,xmid])\n",
    "    d = 999.9;\n",
    "    for poly in merged:\n",
    "        if poly.area>tol_area:\n",
    "            new_d = poly.distance(mid) # Calculate distance midpoint - polygon\n",
    "            d = min(d, new_d)\n",
    "    if d<tol_near:\n",
    "        color = 'red'\n",
    "    else:\n",
    "        color = 'black'\n",
    "#     print(d)\n",
    "#     color = 'black'\n",
    "    newline = folium.PolyLine(locations=coords[i:i+2], weight=2, color=color)\n",
    "    newline.add_to(chart)\n",
    "\n",
    "# Draw bounding box\n",
    "x,y = bbox.exterior.coords.xy\n",
    "coords = pd.DataFrame({'LAT':y,'LON':x})\n",
    "newline = folium.Polygon(locations=coords, color='black', fill=False, weight=2)\n",
    "newline.add_to(chart)\n",
    "\n",
    "# Render the map\n",
    "filepath = f\"cache/plot_large_devs_trail.html\"\n",
    "chart.save(filepath)"
   ]
  },
  {
   "cell_type": "code",
   "execution_count": 10,
   "id": "cb94cd7b",
   "metadata": {},
   "outputs": [
    {
     "data": {
      "text/html": [
       "\n",
       "        <iframe\n",
       "            width=\"1000\"\n",
       "            height=\"500\"\n",
       "            src=\"cache/plot_large_devs_trail.html\"\n",
       "            frameborder=\"0\"\n",
       "            allowfullscreen\n",
       "            \n",
       "        ></iframe>\n",
       "        "
      ],
      "text/plain": [
       "<IPython.lib.display.IFrame at 0x7fc2094c07f0>"
      ]
     },
     "execution_count": 10,
     "metadata": {},
     "output_type": "execute_result"
    }
   ],
   "source": [
    "IFrame(filepath, width=1000, height=500)"
   ]
  },
  {
   "cell_type": "code",
   "execution_count": null,
   "id": "4f9109e1",
   "metadata": {},
   "outputs": [],
   "source": []
  },
  {
   "cell_type": "code",
   "execution_count": null,
   "id": "32ec80fa",
   "metadata": {},
   "outputs": [],
   "source": []
  },
  {
   "cell_type": "code",
   "execution_count": null,
   "id": "c5d9f6e9",
   "metadata": {},
   "outputs": [],
   "source": []
  },
  {
   "cell_type": "code",
   "execution_count": null,
   "id": "1e3d16bf",
   "metadata": {},
   "outputs": [],
   "source": []
  }
 ],
 "metadata": {
  "kernelspec": {
   "display_name": "Python 3 (ipykernel)",
   "language": "python",
   "name": "python3"
  },
  "language_info": {
   "codemirror_mode": {
    "name": "ipython",
    "version": 3
   },
   "file_extension": ".py",
   "mimetype": "text/x-python",
   "name": "python",
   "nbconvert_exporter": "python",
   "pygments_lexer": "ipython3",
   "version": "3.9.12"
  }
 },
 "nbformat": 4,
 "nbformat_minor": 5
}
