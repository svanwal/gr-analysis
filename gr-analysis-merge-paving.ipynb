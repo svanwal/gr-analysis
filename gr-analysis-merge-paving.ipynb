{
 "cells": [
  {
   "cell_type": "code",
   "execution_count": 1,
   "id": "07a425bb",
   "metadata": {},
   "outputs": [],
   "source": [
    "# TODO\n",
    "# 1: ColorLine -> DONE\n",
    "# 2: Make plots of highway/surface/tracktype -> DONE\n",
    "# 3: Determine paved status rules -> DONE\n",
    "# 4: Determine city names\n",
    "# 5: Fix double pathing\n",
    "# 6: Merge data into single file\n",
    "# 7: Build separate analysis script\n",
    "# 8: Make plots: percentage paved vs. unpaved, length of individual paved/unpaved sections\n",
    "\n",
    "# Other ideas\n",
    "# Figure out how to plot: closest town, topography type (forest, plains, etc.), elevation profile"
   ]
  },
  {
   "cell_type": "code",
   "execution_count": 2,
   "id": "af7cc5e3",
   "metadata": {},
   "outputs": [
    {
     "name": "stderr",
     "output_type": "stream",
     "text": [
      "/Users/svanwal/opt/anaconda3/lib/python3.9/site-packages/scipy/__init__.py:146: UserWarning: A NumPy version >=1.16.5 and <1.23.0 is required for this version of SciPy (detected version 1.23.3\n",
      "  warnings.warn(f\"A NumPy version >={np_minversion} and <{np_maxversion}\"\n"
     ]
    }
   ],
   "source": [
    "# Preamble\n",
    "from IPython.display import IFrame\n",
    "from itertools import groupby \n",
    "from csv import writer\n",
    "import networkx as nx\n",
    "import pandas as pd\n",
    "import numpy as np\n",
    "import osmnx as ox\n",
    "import warnings\n",
    "import folium\n",
    "import branca.colormap as cm\n",
    "import seaborn as sns\n",
    "import matplotlib.pyplot as plt\n",
    "%matplotlib inline"
   ]
  },
  {
   "cell_type": "code",
   "execution_count": 3,
   "id": "2737b51d",
   "metadata": {},
   "outputs": [
    {
     "data": {
      "application/javascript": [
       "IPython.OutputArea.auto_scroll_threshold = 9999;\n"
      ],
      "text/plain": [
       "<IPython.core.display.Javascript object>"
      ]
     },
     "metadata": {},
     "output_type": "display_data"
    }
   ],
   "source": [
    "%%javascript\n",
    "IPython.OutputArea.auto_scroll_threshold = 9999;"
   ]
  },
  {
   "cell_type": "code",
   "execution_count": 4,
   "id": "a5a4b737",
   "metadata": {},
   "outputs": [],
   "source": [
    "# --- Load and process the GPX track\n",
    "trail = 'gr131'\n",
    "# trail = 'gr16'\n",
    "points_per_batch = 100\n",
    "filename_in = 'data/' + trail + '.csv'\n",
    "hike = pd.read_csv(filename_in)\n",
    "coords = hike[['latitude','longitude']].values.tolist()\n",
    "n_batch = int(np.ceil(hike.shape[0]/points_per_batch))"
   ]
  },
  {
   "cell_type": "code",
   "execution_count": 5,
   "id": "1437ac58",
   "metadata": {},
   "outputs": [],
   "source": [
    "filename = 'data/' + trail + '_0to' + str(points_per_batch) + '.csv'\n",
    "df = pd.read_csv(filename,dtype={'surface': str})"
   ]
  },
  {
   "cell_type": "code",
   "execution_count": 6,
   "id": "8dc9c5ac",
   "metadata": {},
   "outputs": [],
   "source": [
    "# Loading data and merging\n",
    "for b in range(1,n_batch): # b is the batch counter\n",
    "    n1 = b*points_per_batch # First point\n",
    "    n2 = min(n1 + points_per_batch, len(hike)) # Last point\n",
    "    filename = 'data/' + trail + '_' + str(n1) + 'to' + str(n2) + '.csv'\n",
    "    df_new = pd.read_csv(filename,dtype={'surface': str})\n",
    "    df = pd.concat([df,df_new],ignore_index=True)"
   ]
  },
  {
   "cell_type": "markdown",
   "id": "b9989fe9",
   "metadata": {},
   "source": [
    "## Counting highway/surface/tracktype"
   ]
  },
  {
   "cell_type": "code",
   "execution_count": 7,
   "id": "44713fd8",
   "metadata": {},
   "outputs": [],
   "source": [
    "def grab_first(x):\n",
    "    if x is not None:\n",
    "        bb = x.strip('][')\n",
    "        cc = bb.split(',')\n",
    "        dd = [element.strip().strip(\"'\") for element in cc]\n",
    "        return dd[0]\n",
    "    return x"
   ]
  },
  {
   "cell_type": "code",
   "execution_count": 8,
   "id": "1766afe8",
   "metadata": {},
   "outputs": [],
   "source": [
    "df['highway'] = df['highway'].replace({np.nan:\"none\"})\n",
    "df['surface'] = df['surface'].replace({np.nan:\"none\"})\n",
    "df['tracktype'] = df['tracktype'].replace({np.nan:\"none\"})"
   ]
  },
  {
   "cell_type": "code",
   "execution_count": 9,
   "id": "4bab9d6c",
   "metadata": {
    "scrolled": true
   },
   "outputs": [],
   "source": [
    "df['first_highway'] = df['highway'].apply(grab_first)\n",
    "df['first_surface'] = df['surface'].apply(grab_first)\n",
    "df['first_tracktype'] = df['tracktype'].apply(grab_first)"
   ]
  },
  {
   "cell_type": "markdown",
   "id": "2369f136",
   "metadata": {},
   "source": [
    "## Defining paved status"
   ]
  },
  {
   "cell_type": "code",
   "execution_count": 10,
   "id": "be3c9d28",
   "metadata": {},
   "outputs": [],
   "source": [
    "def get_paved_status(row):\n",
    "    tracktype_paved = ['grade1']\n",
    "    tracktype_unpaved = ['grade2','grade3','grade4','grade5']\n",
    "    surface_unpaved = ['ground','gravel','grass','unpaved','fine_gravel','wood','dirt','compacted','sand','rock','pebblestone','earth','mud','woodchips','snow','ice','salt']\n",
    "    highway_unpaved = ['track','path','footway','bridleway']\n",
    "    \n",
    "    if row['first_tracktype'] in tracktype_unpaved:\n",
    "        return False\n",
    "    elif row['first_tracktype'] in tracktype_paved:\n",
    "        return True\n",
    "    else:\n",
    "        if row['surface'] in surface_unpaved:\n",
    "            return False\n",
    "        else:\n",
    "            if row['highway'] in highway_unpaved:\n",
    "                return False\n",
    "            else:\n",
    "                return True"
   ]
  },
  {
   "cell_type": "code",
   "execution_count": 11,
   "id": "a24ef9cd",
   "metadata": {},
   "outputs": [],
   "source": [
    "df['paved'] = df.apply(get_paved_status,axis=1)"
   ]
  },
  {
   "cell_type": "markdown",
   "id": "6bb32d89",
   "metadata": {},
   "source": [
    "## Analyzing statistics"
   ]
  },
  {
   "cell_type": "code",
   "execution_count": 12,
   "id": "f7b2fed6",
   "metadata": {
    "scrolled": true
   },
   "outputs": [
    {
     "name": "stdout",
     "output_type": "stream",
     "text": [
      "Percentage paved: 0.681\n",
      "Percentage unpaved: 0.319\n"
     ]
    }
   ],
   "source": [
    "# Paved and unpaved sections\n",
    "tot_unpaved = df[~df['paved']]['d_cart'].sum()\n",
    "tot_paved = df[df['paved']]['d_cart'].sum()\n",
    "tot = tot_unpaved + tot_paved\n",
    "print(f'Percentage paved: {round(tot_paved/tot,3)}')\n",
    "print(f'Percentage unpaved: {round(tot_unpaved/tot,3)}')"
   ]
  },
  {
   "cell_type": "code",
   "execution_count": 15,
   "id": "e1f1d024",
   "metadata": {},
   "outputs": [],
   "source": [
    "# Figuring out delta_d\n",
    "df['d_cum'] = df['d_cart'].cumsum()\n",
    "df['d0'] = df['d_cum'].shift(1)\n",
    "df.loc[0,'d0'] = 0\n",
    "df['d1'] = df['d_cum']"
   ]
  },
  {
   "cell_type": "markdown",
   "id": "ed68cb58",
   "metadata": {},
   "source": [
    "## Plotting the route"
   ]
  },
  {
   "cell_type": "code",
   "execution_count": 16,
   "id": "10b29025",
   "metadata": {},
   "outputs": [],
   "source": [
    "# Set up ColorLine data\n",
    "x = df['x0'].values.tolist()\n",
    "y = df['y0'].values.tolist()\n",
    "x.extend(df.tail(1)['x1'])\n",
    "y.extend(df.tail(1)['y1'])\n",
    "colors = df['paved'].values.tolist()\n",
    "colors[colors==True] = 1\n",
    "colors[colors==False] = 0\n",
    "xy0 = list(zip(x,y))\n",
    "xy = [[coord[0],coord[1]] for coord in xy0]\n",
    "colormap = cm.LinearColormap(colors=['#239621','black'],vmin=0.25,vmax=0.75,index=[0.25,0.75])"
   ]
  },
  {
   "cell_type": "code",
   "execution_count": 17,
   "id": "1cd3fbe7",
   "metadata": {
    "scrolled": true
   },
   "outputs": [
    {
     "data": {
      "text/html": [
       "\n",
       "        <iframe\n",
       "            width=\"1000\"\n",
       "            height=\"500\"\n",
       "            src=\"data/chart.html\"\n",
       "            frameborder=\"0\"\n",
       "            allowfullscreen\n",
       "            \n",
       "        ></iframe>\n",
       "        "
      ],
      "text/plain": [
       "<IPython.lib.display.IFrame at 0x7fc20ea405e0>"
      ]
     },
     "execution_count": 17,
     "metadata": {},
     "output_type": "execute_result"
    }
   ],
   "source": [
    "# Map setup\n",
    "mid = int(len(coords)/2)\n",
    "chart = folium.Map(location=coords[mid], zoom_start=12, tiles=\"OpenStreetMap\") \n",
    "   \n",
    "# Draw matched route segments\n",
    "newline = folium.ColorLine(positions=xy, colors=colors, colormap=colormap, weight=3)\n",
    "newline.add_to(chart)\n",
    "\n",
    "# Render the map\n",
    "filepath = \"data/chart.html\"\n",
    "chart.save(filepath)\n",
    "IFrame(filepath, width=1000, height=500)"
   ]
  },
  {
   "cell_type": "markdown",
   "id": "9251ff4e",
   "metadata": {},
   "source": [
    "## Drawing successive segments"
   ]
  },
  {
   "cell_type": "code",
   "execution_count": 18,
   "id": "7b5cdc8c",
   "metadata": {},
   "outputs": [
    {
     "data": {
      "image/png": "[encoded data removed]",
      "text/plain": [
       "<Figure size 1440x144 with 1 Axes>"
      ]
     },
     "metadata": {
      "needs_background": "light"
     },
     "output_type": "display_data"
    }
   ],
   "source": [
    "fig, ax = plt.subplots(figsize=(20,2))\n",
    "plt.rc('font', size=20)\n",
    "for idx, row in df.iterrows():\n",
    "    x = [row['d0']/1000,row['d1']/1000]\n",
    "    y = [1,1]\n",
    "    if row['paved']:\n",
    "        plt.plot(x,y,linewidth=100,color='black',solid_capstyle='butt',alpha=0.7)\n",
    "    else:\n",
    "        plt.plot(x,y,linewidth=100,color='green',solid_capstyle='butt',alpha=0.7)\n",
    "plt.xticks(np.arange(0, 1000, step=10))\n",
    "plt.yticks([])\n",
    "plt.xlabel('Distance [km]')\n",
    "plt.xlim(0,df['d1'].loc[df.shape[0]-1]/1000)\n",
    "ax.set_axisbelow(False)\n",
    "plt.grid(visible=True,axis='x',alpha=1,color='red',linewidth=2)\n",
    "\n",
    "plt.show()"
   ]
  },
  {
   "cell_type": "code",
   "execution_count": null,
   "id": "5620ac58",
   "metadata": {},
   "outputs": [],
   "source": []
  },
  {
   "cell_type": "code",
   "execution_count": null,
   "id": "18e5db27",
   "metadata": {},
   "outputs": [],
   "source": [
    "# "
   ]
  },
  {
   "cell_type": "code",
   "execution_count": null,
   "id": "d57ac069",
   "metadata": {},
   "outputs": [],
   "source": []
  },
  {
   "cell_type": "code",
   "execution_count": null,
   "id": "642d7920",
   "metadata": {},
   "outputs": [],
   "source": []
  },
  {
   "cell_type": "code",
   "execution_count": null,
   "id": "111f2f10",
   "metadata": {},
   "outputs": [],
   "source": []
  },
  {
   "cell_type": "code",
   "execution_count": null,
   "id": "75e78277",
   "metadata": {},
   "outputs": [],
   "source": []
  },
  {
   "cell_type": "code",
   "execution_count": null,
   "id": "5da9a267",
   "metadata": {},
   "outputs": [],
   "source": []
  },
  {
   "cell_type": "code",
   "execution_count": null,
   "id": "a6ff66be",
   "metadata": {},
   "outputs": [],
   "source": []
  },
  {
   "cell_type": "code",
   "execution_count": null,
   "id": "50d1b714",
   "metadata": {},
   "outputs": [],
   "source": []
  },
  {
   "cell_type": "code",
   "execution_count": 12,
   "id": "2601d346",
   "metadata": {
    "scrolled": true
   },
   "outputs": [
    {
     "name": "stdout",
     "output_type": "stream",
     "text": [
      "first_tracktype  first_surface    first_highway\n",
      "grade1           asphalt          track              12\n",
      "                 concrete         unclassified        9\n",
      "                 grass            track              18\n",
      "                                  unclassified       12\n",
      "                 none             unclassified        2\n",
      "                 paved            unclassified        6\n",
      "grade2           fine_gravel      track              27\n",
      "                 gravel           track               1\n",
      "grade3           asphalt          unclassified       23\n",
      "                 ground           path               36\n",
      "                                  track               5\n",
      "                 none             track              11\n",
      "                                  service             2\n",
      "grade4           compacted        track               2\n",
      "                 grass_paver      track              58\n",
      "                 none             track              15\n",
      "grade5           grass            track               5\n",
      "                 ground           track              15\n",
      "                                  path                3\n",
      "                 none             track              15\n",
      "none             asphalt          unclassified      610\n",
      "                                  cycleway          104\n",
      "                                  tertiary           55\n",
      "                                  path               33\n",
      "                                  service            33\n",
      "                                  residential        20\n",
      "                                  footway            10\n",
      "                                  secondary           8\n",
      "                                  primary             5\n",
      "                 cobblestone      residential         7\n",
      "                                  service             5\n",
      "                                  tertiary            4\n",
      "                 compacted        path               13\n",
      "                                  unclassified        1\n",
      "                 concrete         unclassified       82\n",
      "                                  cycleway           11\n",
      "                                  service            11\n",
      "                                  footway             7\n",
      "                                  tertiary            1\n",
      "                 concrete:plates  tertiary           10\n",
      "                                  footway             2\n",
      "                 dirt             track              12\n",
      "                                  service            11\n",
      "                 fine_gravel      footway            63\n",
      "                                  path               16\n",
      "                 grass            path              128\n",
      "                 gravel           unclassified       99\n",
      "                                  footway            46\n",
      "                                  track              46\n",
      "                                  cycleway           23\n",
      "                 ground           unclassified      173\n",
      "                                  path               44\n",
      "                                  track              21\n",
      "                 none             unclassified     1194\n",
      "                                  path              219\n",
      "                                  residential       203\n",
      "                                  track             112\n",
      "                                  footway            78\n",
      "                                  tertiary           68\n",
      "                                  service            49\n",
      "                                  cycleway           23\n",
      "                                  steps              13\n",
      "                                  pedestrian         10\n",
      "                                  primary             9\n",
      "                                  bridleway           4\n",
      "                 paved            footway             3\n",
      "                 paving_stones    steps              10\n",
      "                                  footway             3\n",
      "                 sand             path                1\n",
      "                 sett             secondary          10\n",
      "                                  tertiary            6\n",
      "                                  unclassified        2\n",
      "                 unpaved          path              106\n",
      "                                  track              21\n",
      "                                  cycleway            9\n",
      "                 wood             path               21\n",
      "                                  footway             3\n",
      "Name: first_highway, dtype: int64\n"
     ]
    }
   ],
   "source": [
    "pd.set_option('display.max_rows', None)\n",
    "# print(df.groupby(['first_highway','first_surface'])['first_tracktype'].value_counts(dropna=False))\n",
    "# print(df.groupby(['first_highway','first_tracktype'])['first_surface'].value_counts(dropna=False))\n",
    "print(df.groupby(['first_tracktype','first_surface'])['first_highway'].value_counts(dropna=False))\n",
    "pd.reset_option('display.max_rows')"
   ]
  },
  {
   "cell_type": "markdown",
   "id": "a840e3bc",
   "metadata": {},
   "source": [
    "## Plotting some weird ones"
   ]
  },
  {
   "cell_type": "code",
   "execution_count": 50,
   "id": "ad4f923c",
   "metadata": {},
   "outputs": [
    {
     "data": {
      "text/html": [
       "\n",
       "        <iframe\n",
       "            width=\"1000\"\n",
       "            height=\"500\"\n",
       "            src=\"data/chart.html\"\n",
       "            frameborder=\"0\"\n",
       "            allowfullscreen\n",
       "            \n",
       "        ></iframe>\n",
       "        "
      ],
      "text/plain": [
       "<IPython.lib.display.IFrame at 0x7ff3626705b0>"
      ]
     },
     "execution_count": 50,
     "metadata": {},
     "output_type": "execute_result"
    }
   ],
   "source": [
    "# grade3 asphalt unclassified\n",
    "# mask_grade = df['first_tracktype']=='grade3'\n",
    "# mask_surface = df['first_surface']=='asphalt'\n",
    "# mask_highway = df['first_highway']=='unclassified'\n",
    "# mask_tot = mask_grade & mask_surface & mask_highway\n",
    "\n",
    "# bridleway\n",
    "mask_highway = df['first_highway']=='bridleway'\n",
    "mask_tot = mask_highway\n",
    "\n",
    "# grade1\n",
    "mask_grade = df['first_tracktype']=='grade1'\n",
    "mask_tot = mask_grade\n",
    "\n",
    "subset = df[mask_tot]\n",
    "\n",
    "# Trying out ColorLine\n",
    "# x = subset['x0'].values.tolist()\n",
    "# y = subset['y0'].values.tolist()\n",
    "# x.extend(df.tail(1)['x1'])\n",
    "# y.extend(df.tail(1)['y1'])\n",
    "# xy0 = list(zip(x,y))\n",
    "# xy = [[coord[0],coord[1]] for coord in xy0]\n",
    "\n",
    "# colormap = cm.LinearColormap(colors='black',vmin=0.25,vmax=0.75,index=[0.25,0.75])\n",
    "\n",
    "mid = int(len(coords)/2)\n",
    "chart = folium.Map(location=coords[mid], zoom_start=12, tiles=\"OpenStreetMap\") # Map setup\n",
    "    \n",
    "# newline = folium.ColorLine(positions=xy, colors=colors, colormap=colormap, weight=3)\n",
    "# newline.add_to(chart)\n",
    "    \n",
    "for idx, row in subset.iterrows():\n",
    "    c = [[row['x0'],row['y0']],\n",
    "         [row['x1'],row['y1']]]\n",
    "    newline = folium.PolyLine(locations=c, color='red', weight=5, popup='None')\n",
    "    newline.add_to(chart)\n",
    "\n",
    "# # Render the map\n",
    "filepath = \"data/chart.html\"\n",
    "chart.save(filepath)\n",
    "IFrame(filepath, width=1000, height=500)"
   ]
  },
  {
   "cell_type": "code",
   "execution_count": null,
   "id": "7d8b8b6c",
   "metadata": {},
   "outputs": [],
   "source": []
  },
  {
   "cell_type": "code",
   "execution_count": null,
   "id": "8ff9224a",
   "metadata": {},
   "outputs": [],
   "source": []
  },
  {
   "cell_type": "code",
   "execution_count": null,
   "id": "34dfa625",
   "metadata": {},
   "outputs": [],
   "source": []
  },
  {
   "cell_type": "code",
   "execution_count": null,
   "id": "39fdc3a7",
   "metadata": {},
   "outputs": [],
   "source": []
  },
  {
   "cell_type": "code",
   "execution_count": null,
   "id": "76964206",
   "metadata": {},
   "outputs": [],
   "source": []
  },
  {
   "cell_type": "code",
   "execution_count": null,
   "id": "88c0e89e",
   "metadata": {},
   "outputs": [],
   "source": []
  },
  {
   "cell_type": "markdown",
   "id": "5456cba6",
   "metadata": {},
   "source": [
    "## Drafts"
   ]
  },
  {
   "cell_type": "code",
   "execution_count": 175,
   "id": "685836ac",
   "metadata": {},
   "outputs": [
    {
     "name": "stdout",
     "output_type": "stream",
     "text": [
      "unclassified    2358\n",
      "path             620\n",
      "track            452\n",
      "footway          251\n",
      "residential      230\n",
      "cycleway         175\n",
      "tertiary         147\n",
      "service          111\n",
      "steps             23\n",
      "secondary         18\n",
      "primary           14\n",
      "pedestrian        10\n",
      "bridleway          4\n",
      "Name: first_highway, dtype: int64\n"
     ]
    }
   ],
   "source": [
    "pd.set_option('display.max_rows', None)\n",
    "print(df['first_highway'].value_counts(dropna=False))\n",
    "pd.reset_option('display.max_rows')"
   ]
  },
  {
   "cell_type": "code",
   "execution_count": null,
   "id": "3970856b",
   "metadata": {},
   "outputs": [],
   "source": []
  },
  {
   "cell_type": "code",
   "execution_count": null,
   "id": "2be7aa63",
   "metadata": {},
   "outputs": [],
   "source": []
  },
  {
   "cell_type": "code",
   "execution_count": null,
   "id": "3b26749b",
   "metadata": {},
   "outputs": [],
   "source": []
  },
  {
   "cell_type": "code",
   "execution_count": 166,
   "id": "622e1958",
   "metadata": {},
   "outputs": [
    {
     "name": "stdout",
     "output_type": "stream",
     "text": [
      "first_highway  first_surface  \n",
      "bridleway      none                  4\n",
      "cycleway       asphalt             109\n",
      "               gravel               23\n",
      "               none                 23\n",
      "               concrete             11\n",
      "               unpaved               9\n",
      "footway        fine_gravel          99\n",
      "               none                 78\n",
      "               gravel               46\n",
      "               asphalt              10\n",
      "               concrete              7\n",
      "               paved                 3\n",
      "               paving_stones         3\n",
      "               wood                  3\n",
      "               concrete:plates       2\n",
      "path           none                219\n",
      "               grass               128\n",
      "               unpaved             106\n",
      "               ground               83\n",
      "               asphalt              33\n",
      "               wood                 21\n",
      "               fine_gravel          16\n",
      "               compacted            13\n",
      "               sand                  1\n",
      "pedestrian     none                 10\n",
      "primary        none                  9\n",
      "               asphalt               5\n",
      "residential    none                203\n",
      "               asphalt              20\n",
      "               cobblestone           7\n",
      "secondary      sett                 10\n",
      "               asphalt               8\n",
      "service        none                 51\n",
      "               asphalt              33\n",
      "               concrete             11\n",
      "               dirt                 11\n",
      "               cobblestone           5\n",
      "steps          none                 13\n",
      "               paving_stones        10\n",
      "tertiary       none                 68\n",
      "               asphalt              55\n",
      "               concrete:plates      10\n",
      "               cobblestone           7\n",
      "               sett                  6\n",
      "               concrete              1\n",
      "track          none                209\n",
      "               grass_paver          58\n",
      "               gravel               47\n",
      "               ground               41\n",
      "               fine_gravel          27\n",
      "               grass                23\n",
      "               unpaved              21\n",
      "               asphalt              12\n",
      "               dirt                 12\n",
      "               compacted             2\n",
      "unclassified   none               1270\n",
      "               asphalt             704\n",
      "               ground              173\n",
      "               gravel               99\n",
      "               concrete             91\n",
      "               grass                12\n",
      "               paved                 6\n",
      "               sett                  2\n",
      "               compacted             1\n",
      "Name: first_surface, dtype: int64\n"
     ]
    }
   ],
   "source": [
    "pd.set_option('display.max_rows', None)\n",
    "print(df.groupby('first_highway')['first_surface'].value_counts(dropna=False))\n",
    "pd.reset_option('display.max_rows')"
   ]
  },
  {
   "cell_type": "code",
   "execution_count": 167,
   "id": "e03d9e04",
   "metadata": {},
   "outputs": [
    {
     "name": "stdout",
     "output_type": "stream",
     "text": [
      "first_highway  first_tracktype\n",
      "bridleway      none                  4\n",
      "cycleway       none                175\n",
      "footway        none                251\n",
      "path           none                581\n",
      "               grade3               36\n",
      "               grade5                3\n",
      "pedestrian     none                 10\n",
      "primary        none                 14\n",
      "residential    none                230\n",
      "secondary      none                 18\n",
      "service        none                109\n",
      "               grade3                2\n",
      "steps          none                 23\n",
      "tertiary       none                147\n",
      "track          none                268\n",
      "               grade4               75\n",
      "               grade5               35\n",
      "               grade1               30\n",
      "               grade2               28\n",
      "               grade3               16\n",
      "unclassified   none               2306\n",
      "               grade1               29\n",
      "               grade3               23\n",
      "Name: first_tracktype, dtype: int64\n"
     ]
    }
   ],
   "source": []
  },
  {
   "cell_type": "code",
   "execution_count": 171,
   "id": "88cc5f41",
   "metadata": {},
   "outputs": [
    {
     "name": "stdout",
     "output_type": "stream",
     "text": [
      "first_highway  first_surface    first_tracktype\n",
      "bridleway      none             none                  4\n",
      "cycleway       asphalt          none                109\n",
      "               concrete         none                 11\n",
      "               gravel           none                 23\n",
      "               none             none                 23\n",
      "               unpaved          none                  9\n",
      "footway        asphalt          none                 10\n",
      "               concrete         none                  7\n",
      "               concrete:plates  none                  2\n",
      "               fine_gravel      none                 99\n",
      "               gravel           none                 46\n",
      "               none             none                 78\n",
      "               paved            none                  3\n",
      "               paving_stones    none                  3\n",
      "               wood             none                  3\n",
      "path           asphalt          none                 33\n",
      "               compacted        none                 13\n",
      "               fine_gravel      none                 16\n",
      "               grass            none                128\n",
      "               ground           none                 44\n",
      "                                grade3               36\n",
      "                                grade5                3\n",
      "               none             none                219\n",
      "               sand             none                  1\n",
      "               unpaved          none                106\n",
      "               wood             none                 21\n",
      "pedestrian     none             none                 10\n",
      "primary        asphalt          none                  5\n",
      "               none             none                  9\n",
      "residential    asphalt          none                 20\n",
      "               cobblestone      none                  7\n",
      "               none             none                203\n",
      "secondary      asphalt          none                  8\n",
      "               sett             none                 10\n",
      "service        asphalt          none                 33\n",
      "               cobblestone      none                  5\n",
      "               concrete         none                 11\n",
      "               dirt             none                 11\n",
      "               none             none                 49\n",
      "                                grade3                2\n",
      "steps          none             none                 13\n",
      "               paving_stones    none                 10\n",
      "tertiary       asphalt          none                 55\n",
      "               cobblestone      none                  7\n",
      "               concrete         none                  1\n",
      "               concrete:plates  none                 10\n",
      "               none             none                 68\n",
      "               sett             none                  6\n",
      "track          asphalt          grade1               12\n",
      "               compacted        grade4                2\n",
      "               dirt             none                 12\n",
      "               fine_gravel      grade2               27\n",
      "               grass            grade1               18\n",
      "                                grade5                5\n",
      "               grass_paver      grade4               58\n",
      "               gravel           none                 46\n",
      "                                grade2                1\n",
      "               ground           none                 21\n",
      "                                grade5               15\n",
      "                                grade3                5\n",
      "               none             none                168\n",
      "                                grade4               15\n",
      "                                grade5               15\n",
      "                                grade3               11\n",
      "               unpaved          none                 21\n",
      "unclassified   asphalt          none                681\n",
      "                                grade3               23\n",
      "               compacted        none                  1\n",
      "               concrete         none                 82\n",
      "                                grade1                9\n",
      "               grass            grade1               12\n",
      "               gravel           none                 99\n",
      "               ground           none                173\n",
      "               none             none               1268\n",
      "                                grade1                2\n",
      "               paved            grade1                6\n",
      "               sett             none                  2\n",
      "Name: first_tracktype, dtype: int64\n"
     ]
    }
   ],
   "source": [
    "pd.set_option('display.max_rows', None)\n",
    "print(df.groupby(['first_highway','first_surface'])['first_tracktype'].value_counts(dropna=False))\n",
    "pd.reset_option('display.max_rows')"
   ]
  },
  {
   "cell_type": "code",
   "execution_count": null,
   "id": "688ddd00",
   "metadata": {},
   "outputs": [],
   "source": []
  },
  {
   "cell_type": "code",
   "execution_count": null,
   "id": "bd4c91ee",
   "metadata": {},
   "outputs": [],
   "source": []
  },
  {
   "cell_type": "code",
   "execution_count": null,
   "id": "33d7200c",
   "metadata": {},
   "outputs": [],
   "source": []
  },
  {
   "cell_type": "code",
   "execution_count": null,
   "id": "cb8f5021",
   "metadata": {},
   "outputs": [],
   "source": []
  },
  {
   "cell_type": "code",
   "execution_count": null,
   "id": "d6535340",
   "metadata": {},
   "outputs": [],
   "source": []
  },
  {
   "cell_type": "code",
   "execution_count": 163,
   "id": "b3e169ea",
   "metadata": {},
   "outputs": [
    {
     "data": {
      "image/png": "[encoded data removed]",
      "text/plain": [
       "<Figure size 1296x864 with 1 Axes>"
      ]
     },
     "metadata": {
      "needs_background": "light"
     },
     "output_type": "display_data"
    }
   ],
   "source": [
    "# sns.countplot(data=df,y='first_highway',hue='first_surface')\n",
    "fig, ax = plt.subplots(figsize=(18, 12))\n",
    "sns.countplot(data=df,y='first_surface',hue='first_highway')\n",
    "plt.show()"
   ]
  },
  {
   "cell_type": "code",
   "execution_count": null,
   "id": "0a7cb0fe",
   "metadata": {},
   "outputs": [],
   "source": []
  },
  {
   "cell_type": "code",
   "execution_count": null,
   "id": "908d6834",
   "metadata": {},
   "outputs": [],
   "source": []
  },
  {
   "cell_type": "code",
   "execution_count": 145,
   "id": "81805175",
   "metadata": {},
   "outputs": [
    {
     "data": {
      "text/plain": [
       "<seaborn.axisgrid.FacetGrid at 0x7fa8bf8e9610>"
      ]
     },
     "execution_count": 145,
     "metadata": {},
     "output_type": "execute_result"
    },
    {
     "data": {
      "image/png": "[encoded data removed]",
      "text/plain": [
       "<Figure size 1080x1800 with 13 Axes>"
      ]
     },
     "metadata": {
      "needs_background": "light"
     },
     "output_type": "display_data"
    }
   ],
   "source": [
    "sns.catplot(data=df,x='first_surface',col='first_highway',kind='count',col_wrap=3, orient='h')"
   ]
  },
  {
   "cell_type": "code",
   "execution_count": 141,
   "id": "d4625535",
   "metadata": {},
   "outputs": [
    {
     "data": {
      "text/plain": [
       "<seaborn.axisgrid.FacetGrid at 0x7fa8d969aca0>"
      ]
     },
     "execution_count": 141,
     "metadata": {},
     "output_type": "execute_result"
    },
    {
     "data": {
      "image/png": "[encoded data removed]",
      "text/plain": [
       "<Figure size 1080x1800 with 13 Axes>"
      ]
     },
     "metadata": {
      "needs_background": "light"
     },
     "output_type": "display_data"
    }
   ],
   "source": [
    "sns.catplot(data=df,x='first_tracktype',col='first_highway',kind='count',col_wrap=3)"
   ]
  },
  {
   "cell_type": "code",
   "execution_count": null,
   "id": "159842da",
   "metadata": {},
   "outputs": [],
   "source": []
  },
  {
   "cell_type": "code",
   "execution_count": null,
   "id": "d5a0b373",
   "metadata": {},
   "outputs": [],
   "source": []
  },
  {
   "cell_type": "code",
   "execution_count": null,
   "id": "5fa93993",
   "metadata": {},
   "outputs": [],
   "source": []
  },
  {
   "cell_type": "code",
   "execution_count": null,
   "id": "73577e94",
   "metadata": {},
   "outputs": [],
   "source": []
  },
  {
   "cell_type": "code",
   "execution_count": null,
   "id": "efdbb341",
   "metadata": {},
   "outputs": [],
   "source": []
  },
  {
   "cell_type": "code",
   "execution_count": null,
   "id": "a1739709",
   "metadata": {},
   "outputs": [],
   "source": []
  },
  {
   "cell_type": "code",
   "execution_count": null,
   "id": "be73a788",
   "metadata": {},
   "outputs": [],
   "source": []
  },
  {
   "cell_type": "code",
   "execution_count": null,
   "id": "db352b0b",
   "metadata": {},
   "outputs": [],
   "source": []
  },
  {
   "cell_type": "code",
   "execution_count": null,
   "id": "a8023cb3",
   "metadata": {},
   "outputs": [],
   "source": []
  },
  {
   "cell_type": "markdown",
   "id": "97e30cdf",
   "metadata": {},
   "source": [
    "## Statistics"
   ]
  },
  {
   "cell_type": "code",
   "execution_count": 10,
   "id": "1b1914fe",
   "metadata": {},
   "outputs": [],
   "source": [
    "mask_highway = df['highway'].isin(['track','path','footway'])\n",
    "mask_tracktype = df['tracktype'].isin(['grade1','grade2','grade3','grade4','grade5'])"
   ]
  },
  {
   "cell_type": "code",
   "execution_count": 11,
   "id": "e87d8adc",
   "metadata": {
    "scrolled": true
   },
   "outputs": [
    {
     "data": {
      "text/plain": [
       "asphalt                                  1688\n",
       "gravel                                    430\n",
       "ground                                    360\n",
       "grass                                     326\n",
       "fine_gravel                               248\n",
       "concrete                                  224\n",
       "['unpaved', 'grass']                      204\n",
       "grass_paver                               116\n",
       "['asphalt', 'gravel']                     110\n",
       "['ground', 'wood', 'asphalt']              82\n",
       "['ground', 'wood', 'grass', 'gravel']      72\n",
       "unpaved                                    68\n",
       "['asphalt', 'concrete:lanes']              54\n",
       "['asphalt', 'concrete']                    50\n",
       "['wood', 'grass', 'gravel']                42\n",
       "sett                                       36\n",
       "compacted                                  32\n",
       "['ground', 'gravel']                       32\n",
       "['ground', 'gravel', 'sand']               30\n",
       "cobblestone                                26\n",
       "paving_stones                              26\n",
       "['dirt', 'gravel']                         24\n",
       "concrete:plates                            24\n",
       "dirt                                       22\n",
       "['concrete', 'paved']                      18\n",
       "paved                                      18\n",
       "['ground', 'compacted']                    18\n",
       "['cobblestone', 'sett']                     9\n",
       "['wood', 'concrete']                        6\n",
       "sand                                        2\n",
       "Name: surface, dtype: int64"
      ]
     },
     "execution_count": 11,
     "metadata": {},
     "output_type": "execute_result"
    }
   ],
   "source": [
    "# df[mask_highway]['surface'].value_counts()\n",
    "# df['tracktype'].value_counts()\n",
    "# df['highway'].value_counts()\n",
    "df['surface'].value_counts()"
   ]
  },
  {
   "cell_type": "code",
   "execution_count": 154,
   "id": "c1384ce6",
   "metadata": {
    "scrolled": true
   },
   "outputs": [
    {
     "name": "stdout",
     "output_type": "stream",
     "text": [
      "['cobblestone', 'sett']\n",
      "['cobblestone', 'sett']\n",
      "['cobblestone', 'sett']\n",
      "fine_gravel\n",
      "fine_gravel\n",
      "fine_gravel\n",
      "fine_gravel\n",
      "fine_gravel\n",
      "fine_gravel\n",
      "fine_gravel\n",
      "fine_gravel\n",
      "fine_gravel\n",
      "fine_gravel\n",
      "fine_gravel\n",
      "fine_gravel\n",
      "fine_gravel\n",
      "fine_gravel\n",
      "fine_gravel\n",
      "fine_gravel\n",
      "fine_gravel\n",
      "fine_gravel\n",
      "fine_gravel\n",
      "fine_gravel\n",
      "fine_gravel\n",
      "fine_gravel\n",
      "fine_gravel\n",
      "fine_gravel\n",
      "fine_gravel\n",
      "fine_gravel\n",
      "fine_gravel\n",
      "fine_gravel\n",
      "fine_gravel\n",
      "fine_gravel\n",
      "fine_gravel\n",
      "fine_gravel\n",
      "fine_gravel\n",
      "fine_gravel\n",
      "fine_gravel\n",
      "fine_gravel\n",
      "asphalt\n",
      "asphalt\n",
      "asphalt\n",
      "asphalt\n",
      "asphalt\n",
      "asphalt\n",
      "asphalt\n",
      "asphalt\n",
      "asphalt\n",
      "asphalt\n",
      "asphalt\n",
      "asphalt\n",
      "asphalt\n",
      "asphalt\n",
      "asphalt\n",
      "asphalt\n",
      "asphalt\n",
      "asphalt\n",
      "asphalt\n",
      "asphalt\n",
      "asphalt\n",
      "asphalt\n",
      "asphalt\n",
      "asphalt\n",
      "asphalt\n",
      "asphalt\n",
      "asphalt\n",
      "asphalt\n",
      "asphalt\n",
      "asphalt\n",
      "asphalt\n",
      "asphalt\n",
      "asphalt\n",
      "asphalt\n",
      "asphalt\n",
      "asphalt\n",
      "asphalt\n",
      "asphalt\n",
      "asphalt\n",
      "asphalt\n",
      "asphalt\n",
      "asphalt\n",
      "asphalt\n",
      "asphalt\n",
      "asphalt\n",
      "asphalt\n",
      "asphalt\n",
      "asphalt\n",
      "asphalt\n",
      "asphalt\n",
      "asphalt\n",
      "asphalt\n",
      "asphalt\n",
      "asphalt\n",
      "asphalt\n",
      "asphalt\n",
      "asphalt\n",
      "asphalt\n",
      "asphalt\n",
      "asphalt\n",
      "asphalt\n",
      "asphalt\n",
      "asphalt\n",
      "asphalt\n",
      "asphalt\n",
      "asphalt\n",
      "nan\n"
     ]
    },
    {
     "ename": "AttributeError",
     "evalue": "'float' object has no attribute 'strip'",
     "output_type": "error",
     "traceback": [
      "\u001b[0;31m---------------------------------------------------------------------------\u001b[0m",
      "\u001b[0;31mAttributeError\u001b[0m                            Traceback (most recent call last)",
      "Input \u001b[0;32mIn [154]\u001b[0m, in \u001b[0;36m<cell line: 9>\u001b[0;34m()\u001b[0m\n\u001b[1;32m      5\u001b[0m     dd \u001b[38;5;241m=\u001b[39m [element\u001b[38;5;241m.\u001b[39mstrip()\u001b[38;5;241m.\u001b[39mstrip(\u001b[38;5;124m\"\u001b[39m\u001b[38;5;124m'\u001b[39m\u001b[38;5;124m\"\u001b[39m) \u001b[38;5;28;01mfor\u001b[39;00m element \u001b[38;5;129;01min\u001b[39;00m cc]\n\u001b[1;32m      6\u001b[0m     \u001b[38;5;28;01mreturn\u001b[39;00m dd[\u001b[38;5;241m0\u001b[39m]\n\u001b[0;32m----> 9\u001b[0m df[\u001b[38;5;124m'\u001b[39m\u001b[38;5;124mfirst_surface\u001b[39m\u001b[38;5;124m'\u001b[39m] \u001b[38;5;241m=\u001b[39m \u001b[43mdf\u001b[49m\u001b[43m[\u001b[49m\u001b[38;5;124;43m'\u001b[39;49m\u001b[38;5;124;43msurface\u001b[39;49m\u001b[38;5;124;43m'\u001b[39;49m\u001b[43m]\u001b[49m\u001b[38;5;241;43m.\u001b[39;49m\u001b[43mapply\u001b[49m\u001b[43m(\u001b[49m\u001b[43mgrab_first\u001b[49m\u001b[43m)\u001b[49m\n\u001b[1;32m     10\u001b[0m df[\u001b[38;5;124m'\u001b[39m\u001b[38;5;124mfirst_surface\u001b[39m\u001b[38;5;124m'\u001b[39m]\u001b[38;5;241m.\u001b[39mvalue_counts()\n",
      "File \u001b[0;32m~/opt/anaconda3/lib/python3.9/site-packages/pandas/core/series.py:4433\u001b[0m, in \u001b[0;36mSeries.apply\u001b[0;34m(self, func, convert_dtype, args, **kwargs)\u001b[0m\n\u001b[1;32m   4323\u001b[0m \u001b[38;5;28;01mdef\u001b[39;00m \u001b[38;5;21mapply\u001b[39m(\n\u001b[1;32m   4324\u001b[0m     \u001b[38;5;28mself\u001b[39m,\n\u001b[1;32m   4325\u001b[0m     func: AggFuncType,\n\u001b[0;32m   (...)\u001b[0m\n\u001b[1;32m   4328\u001b[0m     \u001b[38;5;241m*\u001b[39m\u001b[38;5;241m*\u001b[39mkwargs,\n\u001b[1;32m   4329\u001b[0m ) \u001b[38;5;241m-\u001b[39m\u001b[38;5;241m>\u001b[39m DataFrame \u001b[38;5;241m|\u001b[39m Series:\n\u001b[1;32m   4330\u001b[0m     \u001b[38;5;124;03m\"\"\"\u001b[39;00m\n\u001b[1;32m   4331\u001b[0m \u001b[38;5;124;03m    Invoke function on values of Series.\u001b[39;00m\n\u001b[1;32m   4332\u001b[0m \n\u001b[0;32m   (...)\u001b[0m\n\u001b[1;32m   4431\u001b[0m \u001b[38;5;124;03m    dtype: float64\u001b[39;00m\n\u001b[1;32m   4432\u001b[0m \u001b[38;5;124;03m    \"\"\"\u001b[39;00m\n\u001b[0;32m-> 4433\u001b[0m     \u001b[38;5;28;01mreturn\u001b[39;00m \u001b[43mSeriesApply\u001b[49m\u001b[43m(\u001b[49m\u001b[38;5;28;43mself\u001b[39;49m\u001b[43m,\u001b[49m\u001b[43m \u001b[49m\u001b[43mfunc\u001b[49m\u001b[43m,\u001b[49m\u001b[43m \u001b[49m\u001b[43mconvert_dtype\u001b[49m\u001b[43m,\u001b[49m\u001b[43m \u001b[49m\u001b[43margs\u001b[49m\u001b[43m,\u001b[49m\u001b[43m \u001b[49m\u001b[43mkwargs\u001b[49m\u001b[43m)\u001b[49m\u001b[38;5;241;43m.\u001b[39;49m\u001b[43mapply\u001b[49m\u001b[43m(\u001b[49m\u001b[43m)\u001b[49m\n",
      "File \u001b[0;32m~/opt/anaconda3/lib/python3.9/site-packages/pandas/core/apply.py:1082\u001b[0m, in \u001b[0;36mSeriesApply.apply\u001b[0;34m(self)\u001b[0m\n\u001b[1;32m   1078\u001b[0m \u001b[38;5;28;01mif\u001b[39;00m \u001b[38;5;28misinstance\u001b[39m(\u001b[38;5;28mself\u001b[39m\u001b[38;5;241m.\u001b[39mf, \u001b[38;5;28mstr\u001b[39m):\n\u001b[1;32m   1079\u001b[0m     \u001b[38;5;66;03m# if we are a string, try to dispatch\u001b[39;00m\n\u001b[1;32m   1080\u001b[0m     \u001b[38;5;28;01mreturn\u001b[39;00m \u001b[38;5;28mself\u001b[39m\u001b[38;5;241m.\u001b[39mapply_str()\n\u001b[0;32m-> 1082\u001b[0m \u001b[38;5;28;01mreturn\u001b[39;00m \u001b[38;5;28;43mself\u001b[39;49m\u001b[38;5;241;43m.\u001b[39;49m\u001b[43mapply_standard\u001b[49m\u001b[43m(\u001b[49m\u001b[43m)\u001b[49m\n",
      "File \u001b[0;32m~/opt/anaconda3/lib/python3.9/site-packages/pandas/core/apply.py:1137\u001b[0m, in \u001b[0;36mSeriesApply.apply_standard\u001b[0;34m(self)\u001b[0m\n\u001b[1;32m   1131\u001b[0m         values \u001b[38;5;241m=\u001b[39m obj\u001b[38;5;241m.\u001b[39mastype(\u001b[38;5;28mobject\u001b[39m)\u001b[38;5;241m.\u001b[39m_values\n\u001b[1;32m   1132\u001b[0m         \u001b[38;5;66;03m# error: Argument 2 to \"map_infer\" has incompatible type\u001b[39;00m\n\u001b[1;32m   1133\u001b[0m         \u001b[38;5;66;03m# \"Union[Callable[..., Any], str, List[Union[Callable[..., Any], str]],\u001b[39;00m\n\u001b[1;32m   1134\u001b[0m         \u001b[38;5;66;03m# Dict[Hashable, Union[Union[Callable[..., Any], str],\u001b[39;00m\n\u001b[1;32m   1135\u001b[0m         \u001b[38;5;66;03m# List[Union[Callable[..., Any], str]]]]]\"; expected\u001b[39;00m\n\u001b[1;32m   1136\u001b[0m         \u001b[38;5;66;03m# \"Callable[[Any], Any]\"\u001b[39;00m\n\u001b[0;32m-> 1137\u001b[0m         mapped \u001b[38;5;241m=\u001b[39m \u001b[43mlib\u001b[49m\u001b[38;5;241;43m.\u001b[39;49m\u001b[43mmap_infer\u001b[49m\u001b[43m(\u001b[49m\n\u001b[1;32m   1138\u001b[0m \u001b[43m            \u001b[49m\u001b[43mvalues\u001b[49m\u001b[43m,\u001b[49m\n\u001b[1;32m   1139\u001b[0m \u001b[43m            \u001b[49m\u001b[43mf\u001b[49m\u001b[43m,\u001b[49m\u001b[43m  \u001b[49m\u001b[38;5;66;43;03m# type: ignore[arg-type]\u001b[39;49;00m\n\u001b[1;32m   1140\u001b[0m \u001b[43m            \u001b[49m\u001b[43mconvert\u001b[49m\u001b[38;5;241;43m=\u001b[39;49m\u001b[38;5;28;43mself\u001b[39;49m\u001b[38;5;241;43m.\u001b[39;49m\u001b[43mconvert_dtype\u001b[49m\u001b[43m,\u001b[49m\n\u001b[1;32m   1141\u001b[0m \u001b[43m        \u001b[49m\u001b[43m)\u001b[49m\n\u001b[1;32m   1143\u001b[0m \u001b[38;5;28;01mif\u001b[39;00m \u001b[38;5;28mlen\u001b[39m(mapped) \u001b[38;5;129;01mand\u001b[39;00m \u001b[38;5;28misinstance\u001b[39m(mapped[\u001b[38;5;241m0\u001b[39m], ABCSeries):\n\u001b[1;32m   1144\u001b[0m     \u001b[38;5;66;03m# GH#43986 Need to do list(mapped) in order to get treated as nested\u001b[39;00m\n\u001b[1;32m   1145\u001b[0m     \u001b[38;5;66;03m#  See also GH#25959 regarding EA support\u001b[39;00m\n\u001b[1;32m   1146\u001b[0m     \u001b[38;5;28;01mreturn\u001b[39;00m obj\u001b[38;5;241m.\u001b[39m_constructor_expanddim(\u001b[38;5;28mlist\u001b[39m(mapped), index\u001b[38;5;241m=\u001b[39mobj\u001b[38;5;241m.\u001b[39mindex)\n",
      "File \u001b[0;32m~/opt/anaconda3/lib/python3.9/site-packages/pandas/_libs/lib.pyx:2870\u001b[0m, in \u001b[0;36mpandas._libs.lib.map_infer\u001b[0;34m()\u001b[0m\n",
      "Input \u001b[0;32mIn [154]\u001b[0m, in \u001b[0;36mgrab_first\u001b[0;34m(x)\u001b[0m\n\u001b[1;32m      1\u001b[0m \u001b[38;5;28;01mdef\u001b[39;00m \u001b[38;5;21mgrab_first\u001b[39m(x):\n\u001b[1;32m      2\u001b[0m     \u001b[38;5;28mprint\u001b[39m(x)\n\u001b[0;32m----> 3\u001b[0m     bb \u001b[38;5;241m=\u001b[39m \u001b[43mx\u001b[49m\u001b[38;5;241;43m.\u001b[39;49m\u001b[43mstrip\u001b[49m(\u001b[38;5;124m'\u001b[39m\u001b[38;5;124m][\u001b[39m\u001b[38;5;124m'\u001b[39m)\n\u001b[1;32m      4\u001b[0m     cc \u001b[38;5;241m=\u001b[39m bb\u001b[38;5;241m.\u001b[39msplit(\u001b[38;5;124m'\u001b[39m\u001b[38;5;124m,\u001b[39m\u001b[38;5;124m'\u001b[39m)\n\u001b[1;32m      5\u001b[0m     dd \u001b[38;5;241m=\u001b[39m [element\u001b[38;5;241m.\u001b[39mstrip()\u001b[38;5;241m.\u001b[39mstrip(\u001b[38;5;124m\"\u001b[39m\u001b[38;5;124m'\u001b[39m\u001b[38;5;124m\"\u001b[39m) \u001b[38;5;28;01mfor\u001b[39;00m element \u001b[38;5;129;01min\u001b[39;00m cc]\n",
      "\u001b[0;31mAttributeError\u001b[0m: 'float' object has no attribute 'strip'"
     ]
    }
   ],
   "source": [
    "def grab_first(x):\n",
    "    print(x)\n",
    "    bb = x.strip('][')\n",
    "    cc = bb.split(',')\n",
    "    dd = [element.strip().strip(\"'\") for element in cc]\n",
    "    return dd[0]\n",
    "\n",
    "\n",
    "df['first_surface'] = df['surface'].apply(grab_first)\n",
    "df['first_surface'].value_counts()\n",
    "# aa = df.loc[100]['surface']\n",
    "# bb = aa.strip('][')\n",
    "# cc = bb.split(',')\n",
    "# dd = [element.strip().strip(\"'\") for element in cc]\n",
    "# print(dd[1])\n",
    "# dd[0] = cc[0].strip().strip(\"'\")\n",
    "# dd[1] = cc[1].strip().strip(\"'\")\n",
    "# print(dd[0])\n",
    "# print(dd[1])\n",
    "# print(dd)\n",
    "# print(type(dd))"
   ]
  },
  {
   "cell_type": "code",
   "execution_count": 54,
   "id": "633642d2",
   "metadata": {},
   "outputs": [
    {
     "data": {
      "text/html": [
       "<div>\n",
       "<style scoped>\n",
       "    .dataframe tbody tr th:only-of-type {\n",
       "        vertical-align: middle;\n",
       "    }\n",
       "\n",
       "    .dataframe tbody tr th {\n",
       "        vertical-align: top;\n",
       "    }\n",
       "\n",
       "    .dataframe thead th {\n",
       "        text-align: right;\n",
       "    }\n",
       "</style>\n",
       "<table border=\"1\" class=\"dataframe\">\n",
       "  <thead>\n",
       "    <tr style=\"text-align: right;\">\n",
       "      <th></th>\n",
       "      <th>level_0</th>\n",
       "      <th>level_1</th>\n",
       "      <th>0</th>\n",
       "    </tr>\n",
       "  </thead>\n",
       "  <tbody>\n",
       "    <tr>\n",
       "      <th>0</th>\n",
       "      <td>0</td>\n",
       "      <td>0</td>\n",
       "      <td>tertiary</td>\n",
       "    </tr>\n",
       "    <tr>\n",
       "      <th>1</th>\n",
       "      <td>1</td>\n",
       "      <td>0</td>\n",
       "      <td>tertiary</td>\n",
       "    </tr>\n",
       "    <tr>\n",
       "      <th>2</th>\n",
       "      <td>2</td>\n",
       "      <td>0</td>\n",
       "      <td>tertiary</td>\n",
       "    </tr>\n",
       "    <tr>\n",
       "      <th>3</th>\n",
       "      <td>3</td>\n",
       "      <td>0</td>\n",
       "      <td>footway</td>\n",
       "    </tr>\n",
       "    <tr>\n",
       "      <th>4</th>\n",
       "      <td>4</td>\n",
       "      <td>0</td>\n",
       "      <td>footway</td>\n",
       "    </tr>\n",
       "    <tr>\n",
       "      <th>...</th>\n",
       "      <td>...</td>\n",
       "      <td>...</td>\n",
       "      <td>...</td>\n",
       "    </tr>\n",
       "    <tr>\n",
       "      <th>4891</th>\n",
       "      <td>4163</td>\n",
       "      <td>0</td>\n",
       "      <td>track</td>\n",
       "    </tr>\n",
       "    <tr>\n",
       "      <th>4892</th>\n",
       "      <td>4164</td>\n",
       "      <td>0</td>\n",
       "      <td>track</td>\n",
       "    </tr>\n",
       "    <tr>\n",
       "      <th>4893</th>\n",
       "      <td>4165</td>\n",
       "      <td>0</td>\n",
       "      <td>track</td>\n",
       "    </tr>\n",
       "    <tr>\n",
       "      <th>4894</th>\n",
       "      <td>4166</td>\n",
       "      <td>0</td>\n",
       "      <td>track</td>\n",
       "    </tr>\n",
       "    <tr>\n",
       "      <th>4895</th>\n",
       "      <td>4167</td>\n",
       "      <td>0</td>\n",
       "      <td>track</td>\n",
       "    </tr>\n",
       "  </tbody>\n",
       "</table>\n",
       "<p>4896 rows × 3 columns</p>\n",
       "</div>"
      ],
      "text/plain": [
       "      level_0  level_1         0\n",
       "0           0        0  tertiary\n",
       "1           1        0  tertiary\n",
       "2           2        0  tertiary\n",
       "3           3        0   footway\n",
       "4           4        0   footway\n",
       "...       ...      ...       ...\n",
       "4891     4163        0     track\n",
       "4892     4164        0     track\n",
       "4893     4165        0     track\n",
       "4894     4166        0     track\n",
       "4895     4167        0     track\n",
       "\n",
       "[4896 rows x 3 columns]"
      ]
     },
     "execution_count": 54,
     "metadata": {},
     "output_type": "execute_result"
    }
   ],
   "source": [
    "df2 = df.highway.str.split(',').apply(pd.Series)          # break df.asn into columns\n",
    "df2.index = df.index                                   # set the index as df.Name\n",
    "df2 = df2.stack().reset_index()                 # stack and reset_index\n",
    "df2"
   ]
  },
  {
   "cell_type": "code",
   "execution_count": null,
   "id": "27e70fd6",
   "metadata": {},
   "outputs": [],
   "source": []
  },
  {
   "cell_type": "code",
   "execution_count": null,
   "id": "9f86861f",
   "metadata": {},
   "outputs": [],
   "source": []
  },
  {
   "cell_type": "code",
   "execution_count": null,
   "id": "79a8b876",
   "metadata": {},
   "outputs": [],
   "source": []
  },
  {
   "cell_type": "code",
   "execution_count": 51,
   "id": "c371e3c3",
   "metadata": {},
   "outputs": [
    {
     "name": "stdout",
     "output_type": "stream",
     "text": [
      "<class 'pandas.core.frame.DataFrame'>\n",
      "RangeIndex: 4168 entries, 0 to 4167\n",
      "Data columns (total 11 columns):\n",
      " #   Column          Non-Null Count  Dtype \n",
      "---  ------          --------------  ----- \n",
      " 0   x0              4168 non-null   object\n",
      " 1   y0              4168 non-null   object\n",
      " 2   x1              4168 non-null   object\n",
      " 3   y1              4168 non-null   object\n",
      " 4   d_cart          4168 non-null   object\n",
      " 5   d_osm           4168 non-null   object\n",
      " 6   highway         4168 non-null   object\n",
      " 7   surface         2141 non-null   object\n",
      " 8   tracktype       277 non-null    object\n",
      " 9   single_highway  4168 non-null   object\n",
      " 10  first_highway   4168 non-null   object\n",
      "dtypes: object(11)\n",
      "memory usage: 358.3+ KB\n"
     ]
    }
   ],
   "source": [
    "df.info()"
   ]
  },
  {
   "cell_type": "code",
   "execution_count": 28,
   "id": "f9efae6a",
   "metadata": {
    "scrolled": true
   },
   "outputs": [],
   "source": [
    "a = ['dfsgfcsg','ewrewrw']\n",
    "b = 'asfdgdsg'"
   ]
  },
  {
   "cell_type": "code",
   "execution_count": 33,
   "id": "70217155",
   "metadata": {},
   "outputs": [
    {
     "data": {
      "text/plain": [
       "str"
      ]
     },
     "execution_count": 33,
     "metadata": {},
     "output_type": "execute_result"
    }
   ],
   "source": [
    "type(b)"
   ]
  },
  {
   "cell_type": "code",
   "execution_count": 8,
   "id": "f936f14d",
   "metadata": {},
   "outputs": [
    {
     "data": {
      "text/plain": [
       "<AxesSubplot:ylabel='Frequency'>"
      ]
     },
     "execution_count": 8,
     "metadata": {},
     "output_type": "execute_result"
    },
    {
     "data": {
      "image/png": "[encoded data removed]",
      "text/plain": [
       "<Figure size 432x288 with 1 Axes>"
      ]
     },
     "metadata": {
      "needs_background": "light"
     },
     "output_type": "display_data"
    }
   ],
   "source": [
    "df['d_cart'].plot(kind='hist')"
   ]
  },
  {
   "cell_type": "markdown",
   "id": "9011fecd",
   "metadata": {},
   "source": [
    "## Plotting GPX track versus OSM route"
   ]
  },
  {
   "cell_type": "code",
   "execution_count": 169,
   "id": "dedb386f",
   "metadata": {},
   "outputs": [],
   "source": [
    "# Trying out ColorLine\n",
    "df['paved'] = df['highway'].isin(['track','path'])\n",
    "x = df['x0'].values.tolist()\n",
    "y = df['y0'].values.tolist()\n",
    "x.extend(df.tail(1)['x1'])\n",
    "y.extend(df.tail(1)['y1'])\n",
    "colors = df['paved'].values.tolist()\n",
    "colors[colors==True] = 1\n",
    "colors[colors==False] = 0\n",
    "xy0 = list(zip(x,y))\n",
    "xy = [[coord[0],coord[1]] for coord in xy0]\n",
    "\n",
    "colormap = cm.LinearColormap(colors=['black','#239621'],vmin=0.25,vmax=0.75,index=[0.25,0.75])"
   ]
  },
  {
   "cell_type": "code",
   "execution_count": 170,
   "id": "ee97fdf6",
   "metadata": {},
   "outputs": [
    {
     "data": {
      "text/html": [
       "\n",
       "        <iframe\n",
       "            width=\"1000\"\n",
       "            height=\"500\"\n",
       "            src=\"data/chart.html\"\n",
       "            frameborder=\"0\"\n",
       "            allowfullscreen\n",
       "            \n",
       "        ></iframe>\n",
       "        "
      ],
      "text/plain": [
       "<IPython.lib.display.IFrame at 0x7f8ac33ebfa0>"
      ]
     },
     "execution_count": 170,
     "metadata": {},
     "output_type": "execute_result"
    }
   ],
   "source": [
    "mid = int(len(coords)/2)\n",
    "chart = folium.Map(location=coords[mid], zoom_start=12, tiles=\"OpenStreetMap\") # Map setup\n",
    "    \n",
    "newline = folium.ColorLine(positions=xy, colors=colors, colormap=colormap, weight=3)\n",
    "newline.add_to(chart)\n",
    "    \n",
    "# newline = folium.PolyLine(locations=coords, color='red', weight=1, popup='None')\n",
    "# newline.add_to(chart)\n",
    "\n",
    "# Render the map\n",
    "filepath = \"data/chart.html\"\n",
    "chart.save(filepath)\n",
    "IFrame(filepath, width=1000, height=500)"
   ]
  },
  {
   "cell_type": "markdown",
   "id": "c7baf961",
   "metadata": {},
   "source": []
  },
  {
   "cell_type": "code",
   "execution_count": null,
   "id": "cb117bdd",
   "metadata": {},
   "outputs": [],
   "source": []
  },
  {
   "cell_type": "code",
   "execution_count": null,
   "id": "33935c3b",
   "metadata": {},
   "outputs": [],
   "source": []
  },
  {
   "cell_type": "code",
   "execution_count": null,
   "id": "0c92d929",
   "metadata": {},
   "outputs": [],
   "source": []
  },
  {
   "cell_type": "code",
   "execution_count": 12,
   "id": "5122a23e",
   "metadata": {},
   "outputs": [],
   "source": []
  },
  {
   "cell_type": "code",
   "execution_count": 171,
   "id": "2d5a26f2",
   "metadata": {},
   "outputs": [
    {
     "name": "stdout",
     "output_type": "stream",
     "text": [
      "Percentage paved: 0.380817037454142\n",
      "Percentage unpaved: 0.6191829625458579\n"
     ]
    },
    {
     "data": {
      "text/plain": [
       "grade3                  2181\n",
       "grade2                  1587\n",
       "grade1                   966\n",
       "grade4                   783\n",
       "grade5                   648\n",
       "['grade4', 'grade3']      93\n",
       "['grade3', 'grade5']      36\n",
       "['grade1', 'grade2']      36\n",
       "['grade3', 'grade1']      27\n",
       "Name: tracktype, dtype: int64"
      ]
     },
     "execution_count": 171,
     "metadata": {},
     "output_type": "execute_result"
    }
   ],
   "source": [
    "mask_trackpath = df['highway'].isin(['track','path'])\n",
    "tot_unpaved = df[mask_trackpath]['d_cart'].sum()\n",
    "tot_paved = df[~mask_trackpath]['d_cart'].sum()\n",
    "tot = tot_unpaved + tot_paved\n",
    "print(f'Percentage paved: {tot_paved/tot}')\n",
    "print(f'Percentage unpaved: {tot_unpaved/tot}')\n",
    "df['tracktype'].value_counts()"
   ]
  },
  {
   "cell_type": "code",
   "execution_count": null,
   "id": "9c3b3527",
   "metadata": {},
   "outputs": [],
   "source": []
  }
 ],
 "metadata": {
  "kernelspec": {
   "display_name": "Python 3 (ipykernel)",
   "language": "python",
   "name": "python3"
  },
  "language_info": {
   "codemirror_mode": {
    "name": "ipython",
    "version": 3
   },
   "file_extension": ".py",
   "mimetype": "text/x-python",
   "name": "python",
   "nbconvert_exporter": "python",
   "pygments_lexer": "ipython3",
   "version": "3.9.12"
  }
 },
 "nbformat": 4,
 "nbformat_minor": 5
}
