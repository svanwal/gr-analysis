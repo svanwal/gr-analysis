{
 "cells": [
  {
   "cell_type": "code",
   "execution_count": 71,
   "id": "07a425bb",
   "metadata": {},
   "outputs": [],
   "source": [
    "# TODO\n",
    "# 1: ColorLine -> DONE\n",
    "# 2: Make plots of highway/surface/tracktype -> DONE\n",
    "# 3: Determine paved status rules -> DONE\n",
    "# 4: Determine city names\n",
    "# 5: Fix double pathing\n",
    "# 6: Merge data into single file\n",
    "# 7: Build separate analysis script\n",
    "# 8: Make plots: percentage paved vs. unpaved, length of individual paved/unpaved sections\n",
    "\n",
    "# Other ideas\n",
    "# Figure out how to plot: closest town, topography type (forest, plains, etc.), elevation profile"
   ]
  },
  {
   "cell_type": "markdown",
   "id": "c5850de2",
   "metadata": {},
   "source": [
    "## Loading"
   ]
  },
  {
   "cell_type": "code",
   "execution_count": 72,
   "id": "af7cc5e3",
   "metadata": {},
   "outputs": [],
   "source": [
    "# Preamble\n",
    "from IPython.display import IFrame\n",
    "from itertools import groupby \n",
    "from csv import writer\n",
    "import networkx as nx\n",
    "import pandas as pd\n",
    "import numpy as np\n",
    "import osmnx as ox\n",
    "import warnings\n",
    "import folium\n",
    "import branca.colormap as cm\n",
    "import seaborn as sns\n",
    "import matplotlib.pyplot as plt\n",
    "import folium\n",
    "import shapely\n",
    "%matplotlib inline"
   ]
  },
  {
   "cell_type": "code",
   "execution_count": 73,
   "id": "2737b51d",
   "metadata": {},
   "outputs": [
    {
     "data": {
      "application/javascript": [
       "IPython.OutputArea.auto_scroll_threshold = 9999;\n"
      ],
      "text/plain": [
       "<IPython.core.display.Javascript object>"
      ]
     },
     "metadata": {},
     "output_type": "display_data"
    }
   ],
   "source": [
    "%%javascript\n",
    "IPython.OutputArea.auto_scroll_threshold = 9999;"
   ]
  },
  {
   "cell_type": "code",
   "execution_count": 74,
   "id": "a5a4b737",
   "metadata": {},
   "outputs": [],
   "source": [
    "# --- Load and process the GPX track\n",
    "trail = 'gr131'\n",
    "# trail = 'gr16'\n",
    "points_per_batch = 100\n",
    "filename_in = 'data/' + trail + '.csv'\n",
    "hike = pd.read_csv(filename_in)\n",
    "coords = hike[['latitude','longitude']].values.tolist()\n",
    "n_batch = int(np.ceil(hike.shape[0]/points_per_batch))"
   ]
  },
  {
   "cell_type": "code",
   "execution_count": 75,
   "id": "1437ac58",
   "metadata": {},
   "outputs": [],
   "source": [
    "filename = 'data/' + trail + '_0to' + str(points_per_batch) + '.csv'\n",
    "df = pd.read_csv(filename,dtype={'surface': str})"
   ]
  },
  {
   "cell_type": "code",
   "execution_count": 76,
   "id": "8dc9c5ac",
   "metadata": {},
   "outputs": [],
   "source": [
    "# Loading data and merging\n",
    "for b in range(1,n_batch): # b is the batch counter\n",
    "    n1 = b*points_per_batch # First point\n",
    "    n2 = min(n1 + points_per_batch, len(hike)) # Last point\n",
    "    filename = 'data/' + trail + '_' + str(n1) + 'to' + str(n2) + '.csv'\n",
    "    df_new = pd.read_csv(filename,dtype={'surface': str})\n",
    "    df = pd.concat([df,df_new],ignore_index=True)"
   ]
  },
  {
   "cell_type": "markdown",
   "id": "b9989fe9",
   "metadata": {},
   "source": [
    "## Counting highway/surface/tracktype"
   ]
  },
  {
   "cell_type": "code",
   "execution_count": 77,
   "id": "44713fd8",
   "metadata": {},
   "outputs": [],
   "source": [
    "def grab_first(x):\n",
    "    if x is not None:\n",
    "        bb = x.strip('][')\n",
    "        cc = bb.split(',')\n",
    "        dd = [element.strip().strip(\"'\") for element in cc]\n",
    "        return dd[0]\n",
    "    return x"
   ]
  },
  {
   "cell_type": "code",
   "execution_count": 78,
   "id": "1766afe8",
   "metadata": {},
   "outputs": [],
   "source": [
    "df['highway'] = df['highway'].replace({np.nan:\"none\"})\n",
    "df['surface'] = df['surface'].replace({np.nan:\"none\"})\n",
    "df['tracktype'] = df['tracktype'].replace({np.nan:\"none\"})"
   ]
  },
  {
   "cell_type": "code",
   "execution_count": 79,
   "id": "4bab9d6c",
   "metadata": {
    "scrolled": true
   },
   "outputs": [],
   "source": [
    "df['first_highway'] = df['highway'].apply(grab_first)\n",
    "df['first_surface'] = df['surface'].apply(grab_first)\n",
    "df['first_tracktype'] = df['tracktype'].apply(grab_first)"
   ]
  },
  {
   "cell_type": "markdown",
   "id": "2369f136",
   "metadata": {},
   "source": [
    "## Defining paved status"
   ]
  },
  {
   "cell_type": "code",
   "execution_count": 80,
   "id": "be3c9d28",
   "metadata": {},
   "outputs": [],
   "source": [
    "def get_paved_status(row):\n",
    "    tracktype_paved = ['grade1']\n",
    "    tracktype_unpaved = ['grade2','grade3','grade4','grade5']\n",
    "    surface_unpaved = ['ground','gravel','grass','unpaved','fine_gravel','wood','dirt','compacted','sand','rock','pebblestone','earth','mud','woodchips','snow','ice','salt']\n",
    "    highway_unpaved = ['track','path','footway','bridleway']\n",
    "    \n",
    "    if row['first_tracktype'] in tracktype_unpaved:\n",
    "        return False\n",
    "    elif row['first_tracktype'] in tracktype_paved:\n",
    "        return True\n",
    "    else:\n",
    "        if row['surface'] in surface_unpaved:\n",
    "            return False\n",
    "        else:\n",
    "            if row['highway'] in highway_unpaved:\n",
    "                return False\n",
    "            else:\n",
    "                return True"
   ]
  },
  {
   "cell_type": "code",
   "execution_count": 81,
   "id": "a24ef9cd",
   "metadata": {},
   "outputs": [],
   "source": [
    "df['paved'] = df.apply(get_paved_status,axis=1)"
   ]
  },
  {
   "cell_type": "markdown",
   "id": "6bb32d89",
   "metadata": {},
   "source": [
    "## Analyzing statistics"
   ]
  },
  {
   "cell_type": "code",
   "execution_count": 82,
   "id": "f7b2fed6",
   "metadata": {
    "scrolled": true
   },
   "outputs": [
    {
     "name": "stdout",
     "output_type": "stream",
     "text": [
      "Percentage paved: 0.681\n",
      "Percentage unpaved: 0.319\n"
     ]
    }
   ],
   "source": [
    "# Paved and unpaved sections\n",
    "tot_unpaved = df[~df['paved']]['d_cart'].sum()\n",
    "tot_paved = df[df['paved']]['d_cart'].sum()\n",
    "tot = tot_unpaved + tot_paved\n",
    "print(f'Percentage paved: {round(tot_paved/tot,3)}')\n",
    "print(f'Percentage unpaved: {round(tot_unpaved/tot,3)}')"
   ]
  },
  {
   "cell_type": "code",
   "execution_count": 83,
   "id": "e1f1d024",
   "metadata": {},
   "outputs": [],
   "source": [
    "# Figuring out delta_d\n",
    "df['d_cum'] = df['d_cart'].cumsum()\n",
    "df['d0'] = df['d_cum'].shift(1)\n",
    "df.loc[0,'d0'] = 0\n",
    "df['d1'] = df['d_cum']"
   ]
  },
  {
   "cell_type": "markdown",
   "id": "ed68cb58",
   "metadata": {},
   "source": [
    "## Plotting the route"
   ]
  },
  {
   "cell_type": "code",
   "execution_count": 84,
   "id": "10b29025",
   "metadata": {},
   "outputs": [],
   "source": [
    "# Set up ColorLine data\n",
    "x = df['x0'].values.tolist()\n",
    "y = df['y0'].values.tolist()\n",
    "x.extend(df.tail(1)['x1'])\n",
    "y.extend(df.tail(1)['y1'])\n",
    "colors = df['paved'].values.tolist()\n",
    "colors[colors==True] = 1\n",
    "colors[colors==False] = 0\n",
    "xy0 = list(zip(x,y))\n",
    "xy = [[coord[0],coord[1]] for coord in xy0]\n",
    "colormap = cm.LinearColormap(colors=['#239621','black'],vmin=0.25,vmax=0.75,index=[0.25,0.75])"
   ]
  },
  {
   "cell_type": "code",
   "execution_count": 86,
   "id": "1cd3fbe7",
   "metadata": {
    "scrolled": true
   },
   "outputs": [
    {
     "data": {
      "text/plain": [
       "<folium.features.ColorLine at 0x7fadf718ca30>"
      ]
     },
     "execution_count": 86,
     "metadata": {},
     "output_type": "execute_result"
    }
   ],
   "source": [
    "# Map setup\n",
    "mid = int(len(coords)/2)\n",
    "chart = folium.Map(location=coords[mid], zoom_start=12, tiles=\"OpenStreetMap\") \n",
    "   \n",
    "# Draw matched route segments\n",
    "newline = folium.ColorLine(positions=xy, colors=colors, colormap=colormap, weight=3)\n",
    "newline.add_to(chart)"
   ]
  },
  {
   "cell_type": "code",
   "execution_count": 87,
   "id": "2778d806",
   "metadata": {},
   "outputs": [
    {
     "data": {
      "text/html": [
       "\n",
       "        <iframe\n",
       "            width=\"1000\"\n",
       "            height=\"500\"\n",
       "            src=\"data/chart.html\"\n",
       "            frameborder=\"0\"\n",
       "            allowfullscreen\n",
       "            \n",
       "        ></iframe>\n",
       "        "
      ],
      "text/plain": [
       "<IPython.lib.display.IFrame at 0x7fadf718cac0>"
      ]
     },
     "execution_count": 87,
     "metadata": {},
     "output_type": "execute_result"
    }
   ],
   "source": [
    "# Render the map\n",
    "filepath = \"data/chart.html\"\n",
    "chart.save(filepath)\n",
    "IFrame(filepath, width=1000, height=500)"
   ]
  },
  {
   "cell_type": "markdown",
   "id": "9251ff4e",
   "metadata": {},
   "source": [
    "## Drawing successive segments"
   ]
  },
  {
   "cell_type": "code",
   "execution_count": 98,
   "id": "7b5cdc8c",
   "metadata": {},
   "outputs": [
    {
     "data": {
      "image/png": "[encoded data removed]",
      "text/plain": [
       "<Figure size 1296x144 with 1 Axes>"
      ]
     },
     "metadata": {
      "needs_background": "light"
     },
     "output_type": "display_data"
    }
   ],
   "source": [
    "fig, ax = plt.subplots(figsize=(18,2))\n",
    "plt.rc('font', size=20)\n",
    "for idx, row in df.iterrows():\n",
    "    x = [row['d0']/1000,row['d1']/1000]\n",
    "    y = [1,1]\n",
    "    if row['paved']:\n",
    "        plt.plot(x,y,linewidth=100,color='black',solid_capstyle='butt',alpha=0.5)\n",
    "    else:\n",
    "        plt.plot(x,y,linewidth=100,color='green',solid_capstyle='butt',alpha=0.7)\n",
    "plt.xticks(np.arange(0, 1000, step=10))\n",
    "plt.yticks([])\n",
    "plt.xlabel('Distance [km]')\n",
    "plt.xlim(0,df['d1'].loc[df.shape[0]-1]/1000)\n",
    "ax.set_axisbelow(False)\n",
    "plt.grid(visible=True,axis='x',alpha=0.5,color='black',linewidth=1)\n",
    "\n",
    "plt.show()"
   ]
  },
  {
   "cell_type": "code",
   "execution_count": null,
   "id": "5620ac58",
   "metadata": {},
   "outputs": [],
   "source": []
  },
  {
   "cell_type": "code",
   "execution_count": null,
   "id": "18e5db27",
   "metadata": {},
   "outputs": [],
   "source": [
    "# "
   ]
  },
  {
   "cell_type": "code",
   "execution_count": null,
   "id": "d57ac069",
   "metadata": {},
   "outputs": [],
   "source": []
  },
  {
   "cell_type": "code",
   "execution_count": null,
   "id": "642d7920",
   "metadata": {},
   "outputs": [],
   "source": []
  },
  {
   "cell_type": "code",
   "execution_count": null,
   "id": "111f2f10",
   "metadata": {},
   "outputs": [],
   "source": []
  },
  {
   "cell_type": "code",
   "execution_count": null,
   "id": "75e78277",
   "metadata": {},
   "outputs": [],
   "source": []
  },
  {
   "cell_type": "code",
   "execution_count": null,
   "id": "5da9a267",
   "metadata": {},
   "outputs": [],
   "source": []
  },
  {
   "cell_type": "code",
   "execution_count": null,
   "id": "a6ff66be",
   "metadata": {},
   "outputs": [],
   "source": []
  },
  {
   "cell_type": "markdown",
   "id": "014dbd26",
   "metadata": {},
   "source": [
    "## Useful debug things"
   ]
  },
  {
   "cell_type": "code",
   "execution_count": 19,
   "id": "2601d346",
   "metadata": {
    "scrolled": true
   },
   "outputs": [
    {
     "name": "stdout",
     "output_type": "stream",
     "text": [
      "first_tracktype  first_surface    first_highway\n",
      "grade1           asphalt          track              12\n",
      "                 concrete         unclassified        9\n",
      "                 grass            track              18\n",
      "                                  unclassified       12\n",
      "                 none             unclassified        2\n",
      "                 paved            unclassified        6\n",
      "grade2           fine_gravel      track              27\n",
      "                 gravel           track               1\n",
      "grade3           asphalt          unclassified       23\n",
      "                 ground           path               36\n",
      "                                  track               5\n",
      "                 none             track              11\n",
      "                                  service             2\n",
      "grade4           compacted        track               2\n",
      "                 grass_paver      track              58\n",
      "                 none             track              15\n",
      "grade5           grass            track               5\n",
      "                 ground           track              15\n",
      "                                  path                3\n",
      "                 none             track              15\n",
      "none             asphalt          unclassified      610\n",
      "                                  cycleway          104\n",
      "                                  tertiary           55\n",
      "                                  path               33\n",
      "                                  service            33\n",
      "                                  residential        20\n",
      "                                  footway            10\n",
      "                                  secondary           8\n",
      "                                  primary             5\n",
      "                 cobblestone      residential         7\n",
      "                                  service             5\n",
      "                                  tertiary            4\n",
      "                 compacted        path               13\n",
      "                                  unclassified        1\n",
      "                 concrete         unclassified       82\n",
      "                                  cycleway           11\n",
      "                                  service            11\n",
      "                                  footway             7\n",
      "                                  tertiary            1\n",
      "                 concrete:plates  tertiary           10\n",
      "                                  footway             2\n",
      "                 dirt             track              12\n",
      "                                  service            11\n",
      "                 fine_gravel      footway            63\n",
      "                                  path               16\n",
      "                 grass            path              128\n",
      "                 gravel           unclassified       99\n",
      "                                  footway            46\n",
      "                                  track              46\n",
      "                                  cycleway           23\n",
      "                 ground           unclassified      173\n",
      "                                  path               44\n",
      "                                  track              21\n",
      "                 none             unclassified     1194\n",
      "                                  path              219\n",
      "                                  residential       203\n",
      "                                  track             112\n",
      "                                  footway            78\n",
      "                                  tertiary           68\n",
      "                                  service            49\n",
      "                                  cycleway           23\n",
      "                                  steps              13\n",
      "                                  pedestrian         10\n",
      "                                  primary             9\n",
      "                                  bridleway           4\n",
      "                 paved            footway             3\n",
      "                 paving_stones    steps              10\n",
      "                                  footway             3\n",
      "                 sand             path                1\n",
      "                 sett             secondary          10\n",
      "                                  tertiary            6\n",
      "                                  unclassified        2\n",
      "                 unpaved          path              106\n",
      "                                  track              21\n",
      "                                  cycleway            9\n",
      "                 wood             path               21\n",
      "                                  footway             3\n",
      "Name: first_highway, dtype: int64\n"
     ]
    }
   ],
   "source": [
    "pd.set_option('display.max_rows', None)\n",
    "# print(df.groupby(['first_highway','first_surface'])['first_tracktype'].value_counts(dropna=False))\n",
    "# print(df.groupby(['first_highway','first_tracktype'])['first_surface'].value_counts(dropna=False))\n",
    "print(df.groupby(['first_tracktype','first_surface'])['first_highway'].value_counts(dropna=False))\n",
    "pd.reset_option('display.max_rows')"
   ]
  },
  {
   "cell_type": "code",
   "execution_count": 20,
   "id": "ad4f923c",
   "metadata": {},
   "outputs": [
    {
     "data": {
      "text/html": [
       "\n",
       "        <iframe\n",
       "            width=\"1000\"\n",
       "            height=\"500\"\n",
       "            src=\"data/chart.html\"\n",
       "            frameborder=\"0\"\n",
       "            allowfullscreen\n",
       "            \n",
       "        ></iframe>\n",
       "        "
      ],
      "text/plain": [
       "<IPython.lib.display.IFrame at 0x7fc1f1b45af0>"
      ]
     },
     "execution_count": 20,
     "metadata": {},
     "output_type": "execute_result"
    }
   ],
   "source": [
    "# grade3 asphalt unclassified\n",
    "# mask_grade = df['first_tracktype']=='grade3'\n",
    "# mask_surface = df['first_surface']=='asphalt'\n",
    "# mask_highway = df['first_highway']=='unclassified'\n",
    "# mask_tot = mask_grade & mask_surface & mask_highway\n",
    "\n",
    "# bridleway\n",
    "mask_highway = df['first_highway']=='bridleway'\n",
    "mask_tot = mask_highway\n",
    "\n",
    "# grade1\n",
    "mask_grade = df['first_tracktype']=='grade1'\n",
    "mask_tot = mask_grade\n",
    "\n",
    "subset = df[mask_tot]\n",
    "\n",
    "# Trying out ColorLine\n",
    "# x = subset['x0'].values.tolist()\n",
    "# y = subset['y0'].values.tolist()\n",
    "# x.extend(df.tail(1)['x1'])\n",
    "# y.extend(df.tail(1)['y1'])\n",
    "# xy0 = list(zip(x,y))\n",
    "# xy = [[coord[0],coord[1]] for coord in xy0]\n",
    "\n",
    "# colormap = cm.LinearColormap(colors='black',vmin=0.25,vmax=0.75,index=[0.25,0.75])\n",
    "\n",
    "mid = int(len(coords)/2)\n",
    "chart = folium.Map(location=coords[mid], zoom_start=12, tiles=\"OpenStreetMap\") # Map setup\n",
    "    \n",
    "# newline = folium.ColorLine(positions=xy, colors=colors, colormap=colormap, weight=3)\n",
    "# newline.add_to(chart)\n",
    "    \n",
    "for idx, row in subset.iterrows():\n",
    "    c = [[row['x0'],row['y0']],\n",
    "         [row['x1'],row['y1']]]\n",
    "    newline = folium.PolyLine(locations=c, color='red', weight=5, popup='None')\n",
    "    newline.add_to(chart)\n",
    "\n",
    "# # Render the map\n",
    "filepath = \"data/chart.html\"\n",
    "chart.save(filepath)\n",
    "IFrame(filepath, width=1000, height=500)"
   ]
  },
  {
   "cell_type": "code",
   "execution_count": null,
   "id": "7d8b8b6c",
   "metadata": {},
   "outputs": [],
   "source": []
  },
  {
   "cell_type": "code",
   "execution_count": null,
   "id": "8ff9224a",
   "metadata": {},
   "outputs": [],
   "source": []
  },
  {
   "cell_type": "code",
   "execution_count": null,
   "id": "34dfa625",
   "metadata": {},
   "outputs": [],
   "source": []
  },
  {
   "cell_type": "code",
   "execution_count": null,
   "id": "39fdc3a7",
   "metadata": {},
   "outputs": [],
   "source": []
  },
  {
   "cell_type": "code",
   "execution_count": null,
   "id": "76964206",
   "metadata": {},
   "outputs": [],
   "source": []
  },
  {
   "cell_type": "code",
   "execution_count": null,
   "id": "88c0e89e",
   "metadata": {},
   "outputs": [],
   "source": []
  }
 ],
 "metadata": {
  "kernelspec": {
   "display_name": "Python 3 (ipykernel)",
   "language": "python",
   "name": "python3"
  },
  "language_info": {
   "codemirror_mode": {
    "name": "ipython",
    "version": 3
   },
   "file_extension": ".py",
   "mimetype": "text/x-python",
   "name": "python",
   "nbconvert_exporter": "python",
   "pygments_lexer": "ipython3",
   "version": "3.9.12"
  }
 },
 "nbformat": 4,
 "nbformat_minor": 5
}
