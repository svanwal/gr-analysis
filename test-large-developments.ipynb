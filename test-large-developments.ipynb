{
 "cells": [
  {
   "cell_type": "code",
   "execution_count": 1,
   "id": "2ce33c1e",
   "metadata": {},
   "outputs": [
    {
     "name": "stderr",
     "output_type": "stream",
     "text": [
      "/Users/svanwal/opt/anaconda3/lib/python3.9/site-packages/scipy/__init__.py:146: UserWarning: A NumPy version >=1.16.5 and <1.23.0 is required for this version of SciPy (detected version 1.23.3\n",
      "  warnings.warn(f\"A NumPy version >={np_minversion} and <{np_maxversion}\"\n"
     ]
    }
   ],
   "source": [
    "# Importing packages\n",
    "import pandas as pd\n",
    "import numpy  as np\n",
    "import folium\n",
    "import os.path\n",
    "import shapely\n",
    "import altair as alt\n",
    "import seaborn as sns\n",
    "import matplotlib.pyplot as plt\n",
    "from IPython.display import IFrame\n",
    "import matplotlib.patheffects as PathEffects\n",
    "\n",
    "# Importing modules\n",
    "import gr_mapmatch # Contains functions that perform the map matching of roads\n",
    "import gr_placematch # Contains functions that perform the map matching of places\n",
    "import gr_utils # Contains useful geometry functions\n",
    "import gr_plot # Contains plotting routines\n",
    "import gr_process"
   ]
  },
  {
   "cell_type": "code",
   "execution_count": 2,
   "id": "1bb35890",
   "metadata": {},
   "outputs": [],
   "source": [
    "trailname = 'gr131' # Name of the hiking trail to be considered (will search for trail.csv or trail.gpx as sources)\n",
    "n1 = 2300\n",
    "n2 = 2400\n",
    "\n",
    "# Settings for trail2roads\n",
    "points_per_batch = 100 # Subdivide the trail into batches of this many points\n",
    "delta = 0.005 # Tolerance around bounding box per trail section [deg]\n",
    "\n",
    "# Settings for roads2places\n",
    "points_per_batch_places = 100 # Subdivide the trail into batches of this many segments\n",
    "delta_places = 0.015 # bbox delta in deg\n",
    "\n",
    "# Settings for places2processed\n",
    "tracktype_p0 = ['grade4','grade5']\n",
    "tracktype_p1 = ['grade2','grade3']\n",
    "tracktype_p2 = ['grade1']\n",
    "surface_p0   = ['ground','grass','dirt','sand','earth','mud']\n",
    "surface_p1   = ['unpaved','gravel','fine_gravel','wood','compacted','rocks','pebblestone','woodchips','snow','ice','salt']\n",
    "highway_p1   = ['track','path','footway','bridleway']\n",
    "tol_d        = 0.5 # Consider a segment developed if it lies closer than tol_d to a developed area\n",
    "types_slow   = ['pedestrian','track','footway','bridleway','steps','corridor','path']\n",
    "types_heavy  = ['motorway','trunk','primary','secondary','tertiary']"
   ]
  },
  {
   "cell_type": "code",
   "execution_count": 3,
   "id": "91870220",
   "metadata": {},
   "outputs": [
    {
     "name": "stdout",
     "output_type": "stream",
     "text": [
      "Loading trail points from <data_input/gr131.gpx>...\n",
      "Finished loading.\n"
     ]
    }
   ],
   "source": [
    "trail = gr_utils.get_gpx(trailname)"
   ]
  },
  {
   "cell_type": "code",
   "execution_count": 4,
   "id": "d962b9ef",
   "metadata": {},
   "outputs": [],
   "source": [
    "data_roads = gr_utils.read_roads(trailname)\n",
    "bbox = gr_placematch.get_bbox(data_roads[n1:n2], delta_places);\n",
    "places_landuse, places_admin8, places_admin9 = gr_placematch.get_places(bbox) # Grab relevant place information\n",
    "# places_landuse = gr_placematch.get_all_places(bbox) # Grab relevant place information"
   ]
  },
  {
   "cell_type": "code",
   "execution_count": 43,
   "id": "607b13a7",
   "metadata": {},
   "outputs": [],
   "source": [
    "def get_focus(trail):\n",
    "    \n",
    "    trail_coords  = gr_mapmatch.trail_to_coords(trail)\n",
    "    mid = int(np.round(len(trail_coords)/2))\n",
    "    return trail_coords[mid]"
   ]
  },
  {
   "cell_type": "markdown",
   "id": "2ccbaceb",
   "metadata": {},
   "source": [
    "## Drawing all polygons"
   ]
  },
  {
   "cell_type": "code",
   "execution_count": 47,
   "id": "b737cc57",
   "metadata": {},
   "outputs": [
    {
     "data": {
      "text/html": [
       "\n",
       "        <iframe\n",
       "            width=\"1000\"\n",
       "            height=\"500\"\n",
       "            src=\"cache/plot_all_devs.html\"\n",
       "            frameborder=\"0\"\n",
       "            allowfullscreen\n",
       "            \n",
       "        ></iframe>\n",
       "        "
      ],
      "text/plain": [
       "<IPython.lib.display.IFrame at 0x7fa83b713d60>"
      ]
     },
     "execution_count": 47,
     "metadata": {},
     "output_type": "execute_result"
    }
   ],
   "source": [
    "# Map setup\n",
    "trail_coords  = gr_mapmatch.trail_to_coords(trail)\n",
    "chart = folium.Map(location=trail_coords[0], zoom_start=10, tiles=\"OpenStreetMap\")\n",
    "\n",
    "# Draw development areas\n",
    "for i in range(places_landuse.shape[0]):\n",
    "\n",
    "    item = places_landuse.iloc[i]\n",
    "    x,y = item['geometry'].exterior.coords.xy\n",
    "    coords = pd.DataFrame({'LAT':y,'LON':x})\n",
    "    newline = folium.Polygon(locations=coords, color='blue', fill=True, fillOpacity=0.5)\n",
    "    newline.add_to(chart)\n",
    "\n",
    "# Draw trail\n",
    "coords = gr_plot.get_fullcoords_from_frame(data_roads)\n",
    "newline = folium.PolyLine(locations=coords[n1:n2], weight=3, color='red')\n",
    "newline.add_to(chart)\n",
    "\n",
    "# Draw bounding box\n",
    "x,y = bbox.exterior.coords.xy\n",
    "coords = pd.DataFrame({'LAT':y,'LON':x})\n",
    "newline = folium.Polygon(locations=coords, color='black', fill=False, fillOpacity=0.2, popup=item['name'])\n",
    "newline.add_to(chart)\n",
    "\n",
    "# Render the map\n",
    "filepath = f\"cache/plot_all_devs.html\"\n",
    "chart.save(filepath)\n",
    "IFrame(filepath, width=1000, height=500)"
   ]
  },
  {
   "cell_type": "markdown",
   "id": "50389679",
   "metadata": {},
   "source": [
    "## Drawing scaled polygons"
   ]
  },
  {
   "cell_type": "code",
   "execution_count": 48,
   "id": "afa93319",
   "metadata": {},
   "outputs": [
    {
     "ename": "IndexError",
     "evalue": "list index out of range",
     "output_type": "error",
     "traceback": [
      "\u001b[0;31m---------------------------------------------------------------------------\u001b[0m",
      "\u001b[0;31mIndexError\u001b[0m                                Traceback (most recent call last)",
      "Input \u001b[0;32mIn [48]\u001b[0m, in \u001b[0;36m<cell line: 2>\u001b[0;34m()\u001b[0m\n\u001b[1;32m      1\u001b[0m \u001b[38;5;66;03m# Map setup\u001b[39;00m\n\u001b[0;32m----> 2\u001b[0m chart \u001b[38;5;241m=\u001b[39m folium\u001b[38;5;241m.\u001b[39mMap(location\u001b[38;5;241m=\u001b[39m\u001b[43mget_focus\u001b[49m\u001b[43m(\u001b[49m\u001b[43mtrail\u001b[49m\u001b[43m[\u001b[49m\u001b[43mn1\u001b[49m\u001b[43m:\u001b[49m\u001b[43mn2\u001b[49m\u001b[43m]\u001b[49m\u001b[43m)\u001b[49m, zoom_start\u001b[38;5;241m=\u001b[39m\u001b[38;5;241m13\u001b[39m, tiles\u001b[38;5;241m=\u001b[39m\u001b[38;5;124m\"\u001b[39m\u001b[38;5;124mOpenStreetMap\u001b[39m\u001b[38;5;124m\"\u001b[39m)\n\u001b[1;32m      4\u001b[0m sc \u001b[38;5;241m=\u001b[39m \u001b[38;5;241m1.05\u001b[39m\n\u001b[1;32m      6\u001b[0m \u001b[38;5;66;03m# Draw development areas\u001b[39;00m\n",
      "Input \u001b[0;32mIn [43]\u001b[0m, in \u001b[0;36mget_focus\u001b[0;34m(trail)\u001b[0m\n\u001b[1;32m      3\u001b[0m trail_coords  \u001b[38;5;241m=\u001b[39m gr_mapmatch\u001b[38;5;241m.\u001b[39mtrail_to_coords(trail)\n\u001b[1;32m      4\u001b[0m mid \u001b[38;5;241m=\u001b[39m \u001b[38;5;28mint\u001b[39m(np\u001b[38;5;241m.\u001b[39mround(\u001b[38;5;28mlen\u001b[39m(trail_coords)\u001b[38;5;241m/\u001b[39m\u001b[38;5;241m2\u001b[39m))\n\u001b[0;32m----> 5\u001b[0m \u001b[38;5;28;01mreturn\u001b[39;00m \u001b[43mtrail_coords\u001b[49m\u001b[43m[\u001b[49m\u001b[43mmid\u001b[49m\u001b[43m]\u001b[49m\n",
      "\u001b[0;31mIndexError\u001b[0m: list index out of range"
     ]
    }
   ],
   "source": [
    "# Map setup\n",
    "chart = folium.Map(location=get_focus(trail[n1:n2]), zoom_start=13, tiles=\"OpenStreetMap\")\n",
    "\n",
    "sc = 1.05\n",
    "\n",
    "# Draw development areas\n",
    "for i in range(places_landuse.shape[0]):\n",
    "\n",
    "    item = places_landuse.iloc[i]\n",
    "    item_geom = shapely.affinity.scale(item['geometry'], xfact=sc, yfact=sc, origin='center')\n",
    "    x,y = item_geom.exterior.coords.xy\n",
    "    coords = pd.DataFrame({'LAT':y,'LON':x})\n",
    "    newline = folium.Polygon(locations=coords, color='blue', fill=True, fillOpacity=0.5)\n",
    "    newline.add_to(chart)\n",
    "\n",
    "# Draw trail\n",
    "coords = gr_plot.get_fullcoords_from_frame(data_roads)\n",
    "newline = folium.PolyLine(locations=coords[n1:n2], weight=3, color='red')\n",
    "newline.add_to(chart)\n",
    "\n",
    "# Draw bounding box\n",
    "x,y = bbox.exterior.coords.xy\n",
    "coords = pd.DataFrame({'LAT':y,'LON':x})\n",
    "newline = folium.Polygon(locations=coords, color='black', fill=False, fillOpacity=0.2, popup=item['name'])\n",
    "newline.add_to(chart)\n",
    "\n",
    "# Render the map\n",
    "filepath = f\"cache/plot_scaled_devs.html\"\n",
    "chart.save(filepath)\n",
    "IFrame(filepath, width=1000, height=500)"
   ]
  },
  {
   "cell_type": "markdown",
   "id": "3f43fb5f",
   "metadata": {},
   "source": [
    "## Drawing merged polygons"
   ]
  },
  {
   "cell_type": "code",
   "execution_count": 153,
   "id": "94c17abb",
   "metadata": {},
   "outputs": [
    {
     "name": "stderr",
     "output_type": "stream",
     "text": [
      "/var/folders/zh/x06gqp657rl9h1shq_pn7gjh0000gn/T/ipykernel_9957/1573012928.py:8: ShapelyDeprecationWarning: __len__ for multi-part geometries is deprecated and will be removed in Shapely 2.0. Check the length of the `geoms` property instead to get the  number of parts of a multi-part geometry.\n",
      "  merged = list(unary_union(polys))\n",
      "/var/folders/zh/x06gqp657rl9h1shq_pn7gjh0000gn/T/ipykernel_9957/1573012928.py:8: ShapelyDeprecationWarning: Iteration over multi-part geometries is deprecated and will be removed in Shapely 2.0. Use the `geoms` property to access the constituent parts of a multi-part geometry.\n",
      "  merged = list(unary_union(polys))\n"
     ]
    }
   ],
   "source": [
    "sc_poly = 1.05 # scale factor\n",
    "\n",
    "polys = []\n",
    "for i in range(places_landuse.shape[0]):\n",
    "    poly = places_landuse.iloc[i]['geometry'] # Grab polygon\n",
    "    poly = shapely.affinity.scale(poly, xfact=sc_poly, yfact=sc_poly, origin='center') # Scale it\n",
    "    polys.append(poly)\n",
    "merged = list(unary_union(polys))"
   ]
  },
  {
   "cell_type": "code",
   "execution_count": 154,
   "id": "389aed88",
   "metadata": {},
   "outputs": [
    {
     "data": {
      "text/html": [
       "\n",
       "        <iframe\n",
       "            width=\"1000\"\n",
       "            height=\"500\"\n",
       "            src=\"cache/plot_merged_devs.html\"\n",
       "            frameborder=\"0\"\n",
       "            allowfullscreen\n",
       "            \n",
       "        ></iframe>\n",
       "        "
      ],
      "text/plain": [
       "<IPython.lib.display.IFrame at 0x7f943d93c9d0>"
      ]
     },
     "execution_count": 154,
     "metadata": {},
     "output_type": "execute_result"
    }
   ],
   "source": [
    "# Map setup\n",
    "chart = folium.Map(location=get_focus(trail[n1:n2]), zoom_start=13, tiles=\"OpenStreetMap\")\n",
    "\n",
    "# Draw development areas\n",
    "k = 0\n",
    "for poly in merged:\n",
    "\n",
    "    x,y = poly.exterior.coords.xy\n",
    "    coords = pd.DataFrame({'LAT':y,'LON':x})\n",
    "    newline = folium.Polygon(locations=coords, color='blue', fill=True, fillOpacity=0.5, popup=k)\n",
    "    newline.add_to(chart)\n",
    "    k += 1\n",
    "\n",
    "# Draw trail\n",
    "coords = gr_plot.get_fullcoords_from_frame(data_roads)\n",
    "newline = folium.PolyLine(locations=coords[n1:n2], weight=3, color='red')\n",
    "newline.add_to(chart)\n",
    "\n",
    "# Draw bounding box\n",
    "x,y = bbox.exterior.coords.xy\n",
    "coords = pd.DataFrame({'LAT':y,'LON':x})\n",
    "newline = folium.Polygon(locations=coords, color='black', fill=False, fillOpacity=0.2)\n",
    "newline.add_to(chart)\n",
    "\n",
    "# Render the map\n",
    "filepath = f\"cache/plot_merged_devs.html\"\n",
    "chart.save(filepath)\n",
    "IFrame(filepath, width=1000, height=500)"
   ]
  },
  {
   "cell_type": "code",
   "execution_count": null,
   "id": "4d338df5",
   "metadata": {},
   "outputs": [],
   "source": []
  },
  {
   "cell_type": "code",
   "execution_count": null,
   "id": "2195e430",
   "metadata": {},
   "outputs": [],
   "source": []
  },
  {
   "cell_type": "code",
   "execution_count": null,
   "id": "de998f83",
   "metadata": {},
   "outputs": [],
   "source": []
  },
  {
   "cell_type": "code",
   "execution_count": null,
   "id": "3015e484",
   "metadata": {},
   "outputs": [],
   "source": []
  }
 ],
 "metadata": {
  "kernelspec": {
   "display_name": "Python 3 (ipykernel)",
   "language": "python",
   "name": "python3"
  },
  "language_info": {
   "codemirror_mode": {
    "name": "ipython",
    "version": 3
   },
   "file_extension": ".py",
   "mimetype": "text/x-python",
   "name": "python",
   "nbconvert_exporter": "python",
   "pygments_lexer": "ipython3",
   "version": "3.9.12"
  }
 },
 "nbformat": 4,
 "nbformat_minor": 5
}
