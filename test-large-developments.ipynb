{
 "cells": [
  {
   "cell_type": "code",
   "execution_count": 1,
   "id": "2ce33c1e",
   "metadata": {},
   "outputs": [
    {
     "name": "stderr",
     "output_type": "stream",
     "text": [
      "/Users/svanwal/opt/anaconda3/lib/python3.9/site-packages/scipy/__init__.py:146: UserWarning: A NumPy version >=1.16.5 and <1.23.0 is required for this version of SciPy (detected version 1.23.3\n",
      "  warnings.warn(f\"A NumPy version >={np_minversion} and <{np_maxversion}\"\n"
     ]
    }
   ],
   "source": [
    "# Importing packages\n",
    "import pandas as pd\n",
    "import numpy  as np\n",
    "import folium\n",
    "import os.path\n",
    "import shapely\n",
    "import altair as alt\n",
    "import seaborn as sns\n",
    "import matplotlib.pyplot as plt\n",
    "from IPython.display import IFrame\n",
    "import matplotlib.patheffects as PathEffects\n",
    "\n",
    "# Importing modules\n",
    "import gr_mapmatch # Contains functions that perform the map matching of roads\n",
    "import gr_placematch # Contains functions that perform the map matching of places\n",
    "import gr_utils # Contains useful geometry functions\n",
    "import gr_plot # Contains plotting routines\n",
    "import gr_process"
   ]
  },
  {
   "cell_type": "code",
   "execution_count": 68,
   "id": "1bb35890",
   "metadata": {},
   "outputs": [],
   "source": [
    "trailname = 'gr131' # Name of the hiking trail to be considered (will search for trail.csv or trail.gpx as sources)\n",
    "n1 = 2300\n",
    "n2 = 2400\n",
    "sc = 1.20 # scale factor\n",
    "\n",
    "# Settings for trail2roads\n",
    "points_per_batch = 100 # Subdivide the trail into batches of this many points\n",
    "delta = 0.005 # Tolerance around bounding box per trail section [deg]\n",
    "\n",
    "# Settings for roads2places\n",
    "points_per_batch_places = 100 # Subdivide the trail into batches of this many segments\n",
    "delta_places = 0.015 # bbox delta in deg\n",
    "\n",
    "# Settings for places2processed\n",
    "tracktype_p0 = ['grade4','grade5']\n",
    "tracktype_p1 = ['grade2','grade3']\n",
    "tracktype_p2 = ['grade1']\n",
    "surface_p0   = ['ground','grass','dirt','sand','earth','mud']\n",
    "surface_p1   = ['unpaved','gravel','fine_gravel','wood','compacted','rocks','pebblestone','woodchips','snow','ice','salt']\n",
    "highway_p1   = ['track','path','footway','bridleway']\n",
    "tol_d        = 0.5 # Consider a segment developed if it lies closer than tol_d to a developed area\n",
    "types_slow   = ['pedestrian','track','footway','bridleway','steps','corridor','path']\n",
    "types_heavy  = ['motorway','trunk','primary','secondary','tertiary']"
   ]
  },
  {
   "cell_type": "code",
   "execution_count": 69,
   "id": "91870220",
   "metadata": {},
   "outputs": [
    {
     "name": "stdout",
     "output_type": "stream",
     "text": [
      "Loading trail points from <data_input/gr131.gpx>...\n",
      "Finished loading.\n"
     ]
    }
   ],
   "source": [
    "trail = gr_utils.get_gpx(trailname)"
   ]
  },
  {
   "cell_type": "code",
   "execution_count": 70,
   "id": "d962b9ef",
   "metadata": {},
   "outputs": [],
   "source": [
    "data_roads = gr_utils.read_roads(trailname)\n",
    "bbox = gr_placematch.get_bbox(data_roads[n1:n2], delta_places);\n",
    "places_landuse, places_admin8, places_admin9 = gr_placematch.get_places(bbox) # Grab relevant place information\n",
    "# places_landuse = gr_placematch.get_all_places(bbox) # Grab relevant place information"
   ]
  },
  {
   "cell_type": "code",
   "execution_count": 71,
   "id": "607b13a7",
   "metadata": {},
   "outputs": [],
   "source": [
    "i_focus = int(np.round((n1+n2)/2))\n",
    "focus = [data_roads.iloc[i_focus]['x0'],data_roads.iloc[i_focus]['y0']]"
   ]
  },
  {
   "cell_type": "markdown",
   "id": "2ccbaceb",
   "metadata": {},
   "source": [
    "## Drawing all polygons"
   ]
  },
  {
   "cell_type": "code",
   "execution_count": 72,
   "id": "b737cc57",
   "metadata": {},
   "outputs": [],
   "source": [
    "# Map setup\n",
    "trail_coords  = gr_mapmatch.trail_to_coords(trail)\n",
    "chart = folium.Map(location=focus, zoom_start=13, tiles=\"OpenStreetMap\")\n",
    "\n",
    "# Draw development areas\n",
    "for i in range(places_landuse.shape[0]):\n",
    "\n",
    "    item = places_landuse.iloc[i]\n",
    "    x,y = item['geometry'].exterior.coords.xy\n",
    "    coords = pd.DataFrame({'LAT':y,'LON':x})\n",
    "    newline = folium.Polygon(locations=coords, color='blue', fill=True, fillOpacity=0.5, weight=1)\n",
    "    newline.add_to(chart)\n",
    "\n",
    "# Draw trail\n",
    "coords = gr_plot.get_fullcoords_from_frame(data_roads)\n",
    "newline = folium.PolyLine(locations=coords[n1:n2], weight=2, color='red')\n",
    "newline.add_to(chart)\n",
    "\n",
    "# Draw bounding box\n",
    "x,y = bbox.exterior.coords.xy\n",
    "coords = pd.DataFrame({'LAT':y,'LON':x})\n",
    "newline = folium.Polygon(locations=coords, color='black', fill=False, weight=2)\n",
    "newline.add_to(chart)\n",
    "\n",
    "# Render the map\n",
    "filepath = f\"cache/plot_all_devs.html\"\n",
    "chart.save(filepath)"
   ]
  },
  {
   "cell_type": "code",
   "execution_count": 73,
   "id": "4cb0df75",
   "metadata": {},
   "outputs": [
    {
     "data": {
      "text/html": [
       "\n",
       "        <iframe\n",
       "            width=\"1000\"\n",
       "            height=\"500\"\n",
       "            src=\"cache/plot_all_devs.html\"\n",
       "            frameborder=\"0\"\n",
       "            allowfullscreen\n",
       "            \n",
       "        ></iframe>\n",
       "        "
      ],
      "text/plain": [
       "<IPython.lib.display.IFrame at 0x7f9c954fbc70>"
      ]
     },
     "execution_count": 73,
     "metadata": {},
     "output_type": "execute_result"
    }
   ],
   "source": [
    "IFrame(filepath, width=1000, height=500)"
   ]
  },
  {
   "cell_type": "markdown",
   "id": "50389679",
   "metadata": {},
   "source": [
    "## Drawing scaled polygons"
   ]
  },
  {
   "cell_type": "code",
   "execution_count": 74,
   "id": "afa93319",
   "metadata": {},
   "outputs": [],
   "source": [
    "# Map setup\n",
    "chart = folium.Map(location=focus, zoom_start=13, tiles=\"OpenStreetMap\")\n",
    "\n",
    "# Draw development areas\n",
    "for i in range(places_landuse.shape[0]):\n",
    "\n",
    "    item = places_landuse.iloc[i]\n",
    "    item_geom = shapely.affinity.scale(item['geometry'], xfact=sc, yfact=sc, origin='center')\n",
    "    x,y = item_geom.exterior.coords.xy\n",
    "    coords = pd.DataFrame({'LAT':y,'LON':x})\n",
    "    newline = folium.Polygon(locations=coords, color='blue', fill=True, fillOpacity=0.5, weight=1)\n",
    "    newline.add_to(chart)\n",
    "\n",
    "# Draw trail\n",
    "coords = gr_plot.get_fullcoords_from_frame(data_roads)\n",
    "newline = folium.PolyLine(locations=coords[n1:n2], weight=2, color='red')\n",
    "newline.add_to(chart)\n",
    "\n",
    "# Draw bounding box\n",
    "x,y = bbox.exterior.coords.xy\n",
    "coords = pd.DataFrame({'LAT':y,'LON':x})\n",
    "newline = folium.Polygon(locations=coords, color='black', fill=False, weight=2)\n",
    "newline.add_to(chart)\n",
    "\n",
    "# Render the map\n",
    "filepath = f\"cache/plot_scaled_devs.html\"\n",
    "chart.save(filepath)"
   ]
  },
  {
   "cell_type": "code",
   "execution_count": 75,
   "id": "386ab5e6",
   "metadata": {},
   "outputs": [
    {
     "data": {
      "text/html": [
       "\n",
       "        <iframe\n",
       "            width=\"1000\"\n",
       "            height=\"500\"\n",
       "            src=\"cache/plot_scaled_devs.html\"\n",
       "            frameborder=\"0\"\n",
       "            allowfullscreen\n",
       "            \n",
       "        ></iframe>\n",
       "        "
      ],
      "text/plain": [
       "<IPython.lib.display.IFrame at 0x7f9c958cd850>"
      ]
     },
     "execution_count": 75,
     "metadata": {},
     "output_type": "execute_result"
    }
   ],
   "source": [
    "IFrame(filepath, width=1000, height=500)"
   ]
  },
  {
   "cell_type": "markdown",
   "id": "3f43fb5f",
   "metadata": {},
   "source": [
    "## Drawing merged polygons"
   ]
  },
  {
   "cell_type": "code",
   "execution_count": 76,
   "id": "94c17abb",
   "metadata": {},
   "outputs": [
    {
     "name": "stderr",
     "output_type": "stream",
     "text": [
      "/var/folders/zh/x06gqp657rl9h1shq_pn7gjh0000gn/T/ipykernel_6093/3431695721.py:6: ShapelyDeprecationWarning: __len__ for multi-part geometries is deprecated and will be removed in Shapely 2.0. Check the length of the `geoms` property instead to get the  number of parts of a multi-part geometry.\n",
      "  merged = list(shapely.ops.unary_union(polys))\n",
      "/var/folders/zh/x06gqp657rl9h1shq_pn7gjh0000gn/T/ipykernel_6093/3431695721.py:6: ShapelyDeprecationWarning: Iteration over multi-part geometries is deprecated and will be removed in Shapely 2.0. Use the `geoms` property to access the constituent parts of a multi-part geometry.\n",
      "  merged = list(shapely.ops.unary_union(polys))\n"
     ]
    }
   ],
   "source": [
    "polys = []\n",
    "for i in range(places_landuse.shape[0]):\n",
    "    poly = places_landuse.iloc[i]['geometry'] # Grab polygon\n",
    "    poly = shapely.affinity.scale(poly, xfact=sc, yfact=sc, origin='center') # Scale it\n",
    "    polys.append(poly)\n",
    "merged = list(shapely.ops.unary_union(polys))"
   ]
  },
  {
   "cell_type": "code",
   "execution_count": 77,
   "id": "389aed88",
   "metadata": {
    "scrolled": true
   },
   "outputs": [],
   "source": [
    "# Map setup\n",
    "chart = folium.Map(location=focus, zoom_start=13, tiles=\"OpenStreetMap\")\n",
    "\n",
    "# Draw development areas\n",
    "k = 0\n",
    "for poly in merged:\n",
    "\n",
    "    x,y = poly.exterior.coords.xy\n",
    "    coords = pd.DataFrame({'LAT':y,'LON':x})\n",
    "    newline = folium.Polygon(locations=coords, color='blue', fill=True, fillOpacity=0.5, popup=k, weight=1)\n",
    "    newline.add_to(chart)\n",
    "    k += 1\n",
    "\n",
    "# Draw trail\n",
    "coords = gr_plot.get_fullcoords_from_frame(data_roads)\n",
    "newline = folium.PolyLine(locations=coords[n1:n2], weight=2, color='red')\n",
    "newline.add_to(chart)\n",
    "\n",
    "# Draw bounding box\n",
    "x,y = bbox.exterior.coords.xy\n",
    "coords = pd.DataFrame({'LAT':y,'LON':x})\n",
    "newline = folium.Polygon(locations=coords, color='black', fill=False, weight=2)\n",
    "newline.add_to(chart)\n",
    "\n",
    "# Render the map\n",
    "filepath = f\"cache/plot_merged_devs.html\"\n",
    "chart.save(filepath)"
   ]
  },
  {
   "cell_type": "code",
   "execution_count": 78,
   "id": "3015e484",
   "metadata": {},
   "outputs": [
    {
     "data": {
      "text/html": [
       "\n",
       "        <iframe\n",
       "            width=\"1000\"\n",
       "            height=\"500\"\n",
       "            src=\"cache/plot_merged_devs.html\"\n",
       "            frameborder=\"0\"\n",
       "            allowfullscreen\n",
       "            \n",
       "        ></iframe>\n",
       "        "
      ],
      "text/plain": [
       "<IPython.lib.display.IFrame at 0x7f9cb3bf0df0>"
      ]
     },
     "execution_count": 78,
     "metadata": {},
     "output_type": "execute_result"
    }
   ],
   "source": [
    "IFrame(filepath, width=1000, height=500)"
   ]
  },
  {
   "cell_type": "markdown",
   "id": "5c90e264",
   "metadata": {},
   "source": [
    "## Drawing buffered polygons"
   ]
  },
  {
   "cell_type": "code",
   "execution_count": 124,
   "id": "531e9b0f",
   "metadata": {},
   "outputs": [],
   "source": [
    "sc_buff = 0.00012\n",
    "\n",
    "# Map setup\n",
    "chart = folium.Map(location=focus, zoom_start=13, tiles=\"OpenStreetMap\")\n",
    "\n",
    "# Draw development areas\n",
    "for i in range(places_landuse.shape[0]):\n",
    "\n",
    "    item = places_landuse.iloc[i]\n",
    "#     x,y = item_geom.exterior.coords.xy\n",
    "#     coords = pd.DataFrame({'LAT':y,'LON':x})\n",
    "#     centroid = item['geometry'].centroid\n",
    "#     dmin = centroid.distance(item['geometry'].exterior)\n",
    "#     dmax = 0\n",
    "#     for p in item_geom.exterior.coords:\n",
    "#         pt = shapely.geometry.point.Point(p)\n",
    "#         dtemp = centroid.distance(pt)\n",
    "#         dmax = max(dmax,dtemp)\n",
    "#     item_geom = shapely.affinity.scale(item['geometry'], xfact=sc, yfact=sc, origin='center')\n",
    "    item_geom = item['geometry'].buffer(sc_buff)\n",
    "    x,y = item_geom.exterior.coords.xy\n",
    "    coords = pd.DataFrame({'LAT':y,'LON':x})\n",
    "    newline = folium.Polygon(locations=coords, color='blue', fill=True, fillOpacity=0.5, weight=1)\n",
    "    newline.add_to(chart)\n",
    "\n",
    "# Draw trail\n",
    "coords = gr_plot.get_fullcoords_from_frame(data_roads)\n",
    "newline = folium.PolyLine(locations=coords[n1:n2], weight=2, color='red')\n",
    "newline.add_to(chart)\n",
    "\n",
    "# Draw bounding box\n",
    "x,y = bbox.exterior.coords.xy\n",
    "coords = pd.DataFrame({'LAT':y,'LON':x})\n",
    "newline = folium.Polygon(locations=coords, color='black', fill=False, weight=2)\n",
    "newline.add_to(chart)\n",
    "\n",
    "# Render the map\n",
    "filepath = f\"cache/plot_scaled_devs2.html\"\n",
    "chart.save(filepath)"
   ]
  },
  {
   "cell_type": "code",
   "execution_count": 125,
   "id": "1567ddef",
   "metadata": {},
   "outputs": [
    {
     "data": {
      "text/html": [
       "\n",
       "        <iframe\n",
       "            width=\"1000\"\n",
       "            height=\"500\"\n",
       "            src=\"cache/plot_scaled_devs2.html\"\n",
       "            frameborder=\"0\"\n",
       "            allowfullscreen\n",
       "            \n",
       "        ></iframe>\n",
       "        "
      ],
      "text/plain": [
       "<IPython.lib.display.IFrame at 0x7f9c956f5100>"
      ]
     },
     "execution_count": 125,
     "metadata": {},
     "output_type": "execute_result"
    }
   ],
   "source": [
    "IFrame(filepath, width=1000, height=500)"
   ]
  },
  {
   "cell_type": "code",
   "execution_count": null,
   "id": "35b7c482",
   "metadata": {},
   "outputs": [],
   "source": []
  }
 ],
 "metadata": {
  "kernelspec": {
   "display_name": "Python 3 (ipykernel)",
   "language": "python",
   "name": "python3"
  },
  "language_info": {
   "codemirror_mode": {
    "name": "ipython",
    "version": 3
   },
   "file_extension": ".py",
   "mimetype": "text/x-python",
   "name": "python",
   "nbconvert_exporter": "python",
   "pygments_lexer": "ipython3",
   "version": "3.9.12"
  }
 },
 "nbformat": 4,
 "nbformat_minor": 5
}
