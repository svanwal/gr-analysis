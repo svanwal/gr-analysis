{
 "cells": [
  {
   "cell_type": "markdown",
   "metadata": {},
   "source": [
    "## Setup"
   ]
  },
  {
   "cell_type": "code",
   "execution_count": 1,
   "metadata": {},
   "outputs": [
    {
     "name": "stderr",
     "output_type": "stream",
     "text": [
      "/Users/svanwal/opt/anaconda3/lib/python3.9/site-packages/scipy/__init__.py:146: UserWarning: A NumPy version >=1.16.5 and <1.23.0 is required for this version of SciPy (detected version 1.23.3\n",
      "  warnings.warn(f\"A NumPy version >={np_minversion} and <{np_maxversion}\"\n"
     ]
    }
   ],
   "source": [
    "# --- Preamble\n",
    "from IPython.display import IFrame\n",
    "from itertools import groupby \n",
    "import networkx as nx\n",
    "import pandas as pd\n",
    "import numpy as np\n",
    "import osmnx as ox\n",
    "import warnings\n",
    "import folium\n",
    "%matplotlib inline"
   ]
  },
  {
   "cell_type": "code",
   "execution_count": 2,
   "metadata": {},
   "outputs": [],
   "source": [
    "# --- Configure settings\n",
    "ox.settings.useful_tags_path = [\"bridge\",\"tunnel\",\"oneway\",\"lanes\",\"ref\",\"name\",\"highway\",\"maxspeed\",\"service\",\"access\",\"area\",\"landuse\",\"width\",\"est_width\",\"junction\",\"surface\",\"tracktype\",\"natural\",\"landuse\"] # To make OSMNX output the information we need to determine paved status\n",
    "ox.settings.useful_tags_way = [\"bridge\",\"tunnel\",\"oneway\",\"lanes\",\"ref\",\"name\",\"highway\",\"maxspeed\",\"service\",\"access\",\"area\",\"landuse\",\"width\",\"est_width\",\"junction\",\"surface\",\"tracktype\",\"natural\",\"landuse\"] # To make OSMNX output the information we need to determine paved status\n",
    "paved_types = [\"primary\", \"unclassified\", \"tertiary\", \"residential\", \"secondary\", \"service\"] # Highway types that are paved"
   ]
  },
  {
   "cell_type": "markdown",
   "metadata": {},
   "source": [
    "## Loading GPX track of hiking trail"
   ]
  },
  {
   "cell_type": "code",
   "execution_count": 3,
   "metadata": {},
   "outputs": [],
   "source": [
    "# --- Loading the GPX track\n",
    "# Define the range of GPX points to process in the current batch\n",
    "n1 = 0\n",
    "n2 = 100\n",
    "# n1 = 200\n",
    "# n2 = 300\n",
    "# n1 = 2115 # First point\n",
    "# n2 = 2119 # Last point\n",
    "# n1 = 2100 # First point\n",
    "# n2 = 2200 # Last point\n",
    "# n1 = 1100\n",
    "# n2 = 1200\n",
    "\n",
    "# Load and process\n",
    "# trailname = 'gr16'\n",
    "trailname = 'gr131'\n",
    "hike = pd.read_csv('data/' + trailname + '.csv')\n",
    "coords = hike.loc[n1:n2][['latitude','longitude']].values.tolist()\n",
    "\n",
    "# Calculate the bounding box around points n1 through n2\n",
    "delta = 0.005 # Tolerance in degrees on the bounding box\n",
    "lat_min = hike.loc[n1:n2]['latitude'].min()\n",
    "lat_max = hike.loc[n1:n2]['latitude'].max()\n",
    "lon_min = hike.loc[n1:n2]['longitude'].min()\n",
    "lon_max = hike.loc[n1:n2]['longitude'].max()"
   ]
  },
  {
   "cell_type": "markdown",
   "metadata": {},
   "source": [
    "## Constructing OSM street network"
   ]
  },
  {
   "cell_type": "code",
   "execution_count": 4,
   "metadata": {},
   "outputs": [
    {
     "name": "stderr",
     "output_type": "stream",
     "text": [
      "/Users/svanwal/opt/anaconda3/lib/python3.9/site-packages/osmnx/graph.py:488: UserWarning: the graph-level street_count attribute will likely be inaccurate when you set clean_periphery=False\n",
      "  warnings.warn(msg)\n"
     ]
    }
   ],
   "source": [
    "# --- Download the street network based on bounding box\n",
    "G = ox.graph_from_bbox(lat_max+delta,\n",
    "                       lat_min-delta,\n",
    "                       lon_max+delta,\n",
    "                       lon_min-delta,\n",
    "                       network_type=\"all_private\", clean_periphery=False)"
   ]
  },
  {
   "cell_type": "code",
   "execution_count": 5,
   "metadata": {},
   "outputs": [],
   "source": [
    "# --- Processing the street network\n",
    "network_points, network_edges = ox.graph_to_gdfs(G) # Convert the street network\n",
    "network_points.sort_index(inplace=True) # Sort the nodes for faster selections with .loc\n",
    "network_edges.sort_index(inplace=True) # Sort the edges for faster selections with .loc\n",
    "nodes = network_points[['y','x']].values.tolist() # Vector with [lat, lon] of all network nodes"
   ]
  },
  {
   "cell_type": "code",
   "execution_count": 6,
   "metadata": {
    "scrolled": true
   },
   "outputs": [
    {
     "data": {
      "text/plain": [
       "<folium.vector_layers.PolyLine at 0x7fdebed68f40>"
      ]
     },
     "execution_count": 6,
     "metadata": {},
     "output_type": "execute_result"
    }
   ],
   "source": [
    "# Color pattern\n",
    "# Black: raw street network note\n",
    "# Red: GPX track node\n",
    "# White: node_list\n",
    "# Blue: route_list\n",
    "# Green: segment_list\n",
    "\n",
    "# Plotting the GPX track\n",
    "id_focus = round((n2-n1+1)/2)\n",
    "chart0 = folium.Map(location=coords[id_focus], zoom_start=12, tiles=\"OpenStreetMap\") # Map setup\n",
    "# Adding GPX track\n",
    "newline = folium.PolyLine(locations=coords, popup='None', color='red', weight=3)\n",
    "newline.add_to(chart0)\n",
    "# Render all nodes\n",
    "# for index in network_points.index:\n",
    "#     newmarker = folium.CircleMarker(location=[network_points.loc[index]['y'],network_points.loc[index]['x']],radius=1,color='black')\n",
    "#     newmarker.add_to(chart0)\n",
    "# Draw bounding box\n",
    "delta = 0.005\n",
    "bbox = [[lat_min-delta,lon_min-delta],\n",
    "        [lat_min-delta,lon_max+delta],\n",
    "        [lat_max+delta,lon_max+delta],\n",
    "        [lat_max+delta,lon_min-delta],\n",
    "        [lat_min-delta,lon_min-delta]]\n",
    "newline = folium.PolyLine(locations=bbox, popup='None', color='blue', weight=2)\n",
    "newline.add_to(chart0)"
   ]
  },
  {
   "cell_type": "code",
   "execution_count": 7,
   "metadata": {},
   "outputs": [
    {
     "data": {
      "text/html": [
       "\n",
       "        <iframe\n",
       "            width=\"600\"\n",
       "            height=\"500\"\n",
       "            src=\"data/chart0.html\"\n",
       "            frameborder=\"0\"\n",
       "            allowfullscreen\n",
       "            \n",
       "        ></iframe>\n",
       "        "
      ],
      "text/plain": [
       "<IPython.lib.display.IFrame at 0x7fdebed650d0>"
      ]
     },
     "execution_count": 7,
     "metadata": {},
     "output_type": "execute_result"
    }
   ],
   "source": [
    "# Render the map\n",
    "filepath = \"data/chart0.html\"\n",
    "chart0.save(filepath)\n",
    "IFrame(filepath, width=600, height=500)"
   ]
  },
  {
   "cell_type": "markdown",
   "metadata": {},
   "source": [
    "## Map matching GPX track to OSM network"
   ]
  },
  {
   "cell_type": "code",
   "execution_count": 8,
   "metadata": {},
   "outputs": [],
   "source": [
    "# --- Defining some functions\n",
    "# This function computes the distances between point-node1 and point-node2\n",
    "def get_distances(node1,node2,point):\n",
    "    R = 6371.8 # Mean earth radius [km]\n",
    "    # Converting degrees to radians\n",
    "    lon1 = np.radians(node1[1])\n",
    "    lat1 = np.radians(node1[0])\n",
    "    lon2 = np.radians(node2[1])\n",
    "    lat2 = np.radians(node2[0])\n",
    "    lat  = np.radians(point[0])\n",
    "    lon  = np.radians(point[1])\n",
    "    # Computing distances between point-node1 and point-node2\n",
    "    r1 = [R*np.cos(lat1)*np.cos(lon1), R*np.cos(lat1)*np.sin(lon1), R*np.sin(lat1)]\n",
    "    r2 = [R*np.cos(lat2)*np.cos(lon2), R*np.cos(lat2)*np.sin(lon2), R*np.sin(lat2)]\n",
    "    r  = [R*np.cos(lat)*np.cos(lon),   R*np.cos(lat)*np.sin(lon),   R*np.sin(lat)]\n",
    "    dr1 = [r1[0]-r[0], r1[1]-r[1], r1[2]-r[2]]\n",
    "    dr2 = [r2[0]-r[0], r2[1]-r[1], r2[2]-r[2]]\n",
    "    d1 = np.sqrt(dr1[0]*dr1[0] + dr1[1]*dr1[1] + dr1[2]*dr1[2])\n",
    "    d2 = np.sqrt(dr2[0]*dr2[0] + dr2[1]*dr2[1] + dr2[2]*dr2[2])\n",
    "    return d1,d2\n",
    "\n",
    "# This function returns a list with the [lat, lon] of each point within an OSM edge\n",
    "def edge_to_coords(network_edges,edge_id):\n",
    "    lon = list(network_edges.loc[(edge_id[0],edge_id[1])]['geometry'][0].coords.xy[0])\n",
    "    lat = list(network_edges.loc[(edge_id[0],edge_id[1])]['geometry'][0].coords.xy[1])\n",
    "    edge_coords = list(zip(lon,lat))\n",
    "    return [[coord[1],coord[0]] for coord in edge_coords]"
   ]
  },
  {
   "cell_type": "code",
   "execution_count": 9,
   "metadata": {
    "scrolled": true
   },
   "outputs": [
    {
     "name": "stdout",
     "output_type": "stream",
     "text": [
      "Handling GPX point 100 of 100\r"
     ]
    }
   ],
   "source": [
    "# Map matching is done as follows, for each point of the GPX track:\n",
    "# Step 1: Determine which edge the point is closest to\n",
    "# Step 2: Determine whether the point is closer to the start/end of that edge\n",
    "# Step 3: Store the node ID of start/end location in node_list\n",
    "# Step 4: Remove successive duplicates from the node_list\n",
    "\n",
    "# Setup\n",
    "k = 0 # To display where we are in the loop\n",
    "node_list_raw = [] # Will contain the nodes between which pathfinding should take place\n",
    "warnings.filterwarnings(\"ignore\", category=UserWarning) # TODO: Figure out projection issue so this warning is not thrown\n",
    "\n",
    "for point in coords:\n",
    "    \n",
    "    txtstring = '\\r' + 'Handling GPX point ' + str(k) + ' of ' + str(len(coords)-1)\n",
    "    print(txtstring, end='\\r', flush=True)\n",
    "    \n",
    "    # Step 1: Determine which edge this GPX point is closest to\n",
    "    ox_nearest = ox.distance.nearest_edges(G, point[1], point[0]) # OSMNX call to find the nearest edge, returns a tuple\n",
    "    nearest_edge = [ox_nearest[0], ox_nearest[1]] # \n",
    "    nearest_edge_coords = edge_to_coords(network_edges, nearest_edge) # Get coordinates of the points that make up that edge\n",
    "    \n",
    "    # Step 2: Determine whether this GPX point is closer to the start/end of the edge\n",
    "    vertex_start = nearest_edge_coords[0] # Start vertex coords of the edge\n",
    "    vertex_end   = nearest_edge_coords[-1] # End vertex coords of the edge\n",
    "    d_start, d_end = get_distances(vertex_start, vertex_end, point) # Distance point->vertex_start and point->vertex_end\n",
    "    \n",
    "    # Step 3: Store the ID of the nearest vertex in node_list_raw\n",
    "    if d_start<d_end:\n",
    "        node_list_raw.append(nearest_edge[0])\n",
    "    else:\n",
    "        node_list_raw.append(nearest_edge[1])\n",
    "        \n",
    "    k += 1 # Increment counter\n",
    "    \n",
    "# Step 4: Remove successive duplicates from the node list\n",
    "node_list = [node[0] for node in groupby(node_list_raw)]"
   ]
  },
  {
   "cell_type": "code",
   "execution_count": 10,
   "metadata": {
    "scrolled": true
   },
   "outputs": [],
   "source": [
    "# Plotting the node_list VS the GPX points\n",
    "id_focus = round((n2-n1+1)/2)\n",
    "chart1 = folium.Map(location=coords[id_focus], zoom_start=13, tiles=\"OpenStreetMap\") # Map setup\n",
    "# Adding GPX track\n",
    "newline = folium.PolyLine(locations=coords, popup='None', color='red', weight=1)\n",
    "newline.add_to(chart1)\n",
    "# Adding GPX points\n",
    "for vertex in coords:\n",
    "    newmarker = folium.CircleMarker(location=vertex,radius=1,color='red')\n",
    "    newmarker.add_to(chart1)\n",
    "# Adding(pruned) node_list\n",
    "for node in node_list:\n",
    "    full_node = network_points.loc[node]\n",
    "    vertex = [full_node['y'],full_node['x']]\n",
    "    newmarker = folium.CircleMarker(location=vertex,radius=3,color='black',popup=str(node))\n",
    "    newmarker.add_to(chart1)\n",
    "# Adding RAW node list and mapping lines to GPX points\n",
    "# for i in range(len(node_list_raw)):\n",
    "#     vertex_track = coords[i]\n",
    "#     vertex_mapped = [network_points.loc[node_list_raw[i]]['y'],network_points.loc[node_list_raw[i]]['x']]\n",
    "#     newmarker = folium.CircleMarker(location=vertex_track,radius=1,color='red')\n",
    "#     newmarker.add_to(chart1)\n",
    "#     newmarker = folium.CircleMarker(location=vertex_mapped,radius=1,color='white')\n",
    "#     newmarker.add_to(chart1)\n",
    "#     newline = folium.PolyLine(locations=[vertex_track,vertex_mapped], popup='None', color='black', weight=1)\n",
    "#     newline.add_to(chart1)"
   ]
  },
  {
   "cell_type": "code",
   "execution_count": 11,
   "metadata": {},
   "outputs": [
    {
     "data": {
      "text/html": [
       "\n",
       "        <iframe\n",
       "            width=\"600\"\n",
       "            height=\"500\"\n",
       "            src=\"data/chart1.html\"\n",
       "            frameborder=\"0\"\n",
       "            allowfullscreen\n",
       "            \n",
       "        ></iframe>\n",
       "        "
      ],
      "text/plain": [
       "<IPython.lib.display.IFrame at 0x7fdebf6958e0>"
      ]
     },
     "execution_count": 11,
     "metadata": {},
     "output_type": "execute_result"
    }
   ],
   "source": [
    "# Render the map\n",
    "filepath = \"data/chart1.html\"\n",
    "chart1.save(filepath)\n",
    "IFrame(filepath, width=600, height=500)"
   ]
  },
  {
   "cell_type": "markdown",
   "metadata": {},
   "source": [
    "## Constructing a path between the matched OSM nodes"
   ]
  },
  {
   "cell_type": "code",
   "execution_count": 12,
   "metadata": {
    "scrolled": true
   },
   "outputs": [],
   "source": [
    "# Path construction is done with the following steps\n",
    "# Step 1: Use OSMNX to generate the shortest walking route between each node pair in node_list\n",
    "\n",
    "# Setup\n",
    "route_list_raw = [] # Will contain IDs of all nodes that make up the shortest route between the nodes in node_list\n",
    "\n",
    "# Step 1: Use OSMNX to generate the shortest walking route between each node pair in node_list, store the corresponding nodes in route_list\n",
    "for i in range(0,len(node_list)-1):\n",
    "    \n",
    "#     print(f'Handling node_list point #{i} of {len(node_list)-1}')\n",
    "    \n",
    "    # Extracting information about the nodes\n",
    "    id_start     = node_list[i] # ID of the start node\n",
    "    id_end       = node_list[i+1] # ID of the end node\n",
    "    node_start   = network_points.loc[id_start] # Start node with relevant information\n",
    "    node_end     = network_points.loc[id_end] # End node with relevant information\n",
    "    vertex_start = [node_start['y'],node_start['x']] # Coordinates of start node\n",
    "    vertex_end   = [node_end['y'],node_end['x']] # Coordinates of end node\n",
    "    \n",
    "#     print(f'Calculating shortest route between nodes {id_start} and {id_end}')\n",
    "    \n",
    "    # Pathfinding between node_start and node_end\n",
    "    route1 = ox.shortest_path(G, node_list[i], node_list[i+1]) # Route from node_start -> node_end\n",
    "    route2 = ox.shortest_path(G, node_list[i+1], node_list[i]) # Route from node_end -> node_start\n",
    "    \n",
    "    # Select the direction that results in the shortest path (we do this to deal with one-way streets)\n",
    "    if len(route1)<len(route2):\n",
    "        route_list_raw.extend(route1)\n",
    "    else:\n",
    "        route_list_raw.extend(route2[::-1]) # We flip route2 because it runs opposite to the GPX track\n",
    "        \n",
    "# Remove successive duplicates from the route_list\n",
    "route_list = [node[0] for node in groupby(route_list_raw)]"
   ]
  },
  {
   "cell_type": "code",
   "execution_count": 13,
   "metadata": {},
   "outputs": [],
   "source": [
    "# Plotting the route_list vs. node_list\n",
    "id_focus = round((n2-n1+1)/2)\n",
    "chart2 = folium.Map(location=coords[id_focus], zoom_start=13, tiles=\"OpenStreetMap\") # Map setup\n",
    "\n",
    "# --- Adding route_list\n",
    "for i in range(len(route_list)-1): # Drawing a line\n",
    "    id_start     = route_list[i] # ID of the start node\n",
    "    id_end       = route_list[i+1] # ID of the end node\n",
    "    node_start   = network_points.loc[id_start] # Start node with relevant information\n",
    "    node_end     = network_points.loc[id_end] # End node with relevant information\n",
    "    vertex_start = [node_start['y'],node_start['x']] # Coordinates of start node\n",
    "    vertex_end   = [node_end['y'],node_end['x']] # Coordinates of end node\n",
    "    newline = folium.PolyLine(locations=[vertex_start,vertex_end], color='blue', weight=1, popup='None')\n",
    "    newline.add_to(chart2)\n",
    "k = 0\n",
    "for node in route_list: # Drawing the markers\n",
    "    full_node = network_points.loc[node]\n",
    "    vertex = [full_node['y'],full_node['x']]\n",
    "    newmarker = folium.CircleMarker(location=vertex,radius=2,color='blue',popup=str(node))\n",
    "    newmarker.add_to(chart2)\n",
    "    k += 1\n",
    "\n",
    "# --- Adding node_list\n",
    "k = 0\n",
    "for node in node_list:\n",
    "    full_node = network_points.loc[node]\n",
    "    vertex = [full_node['y'],full_node['x']]\n",
    "    newmarker = folium.CircleMarker(location=vertex,radius=1,color='red',popup=str(k))\n",
    "    newmarker.add_to(chart2)\n",
    "    k += 1"
   ]
  },
  {
   "cell_type": "code",
   "execution_count": 14,
   "metadata": {},
   "outputs": [
    {
     "data": {
      "text/html": [
       "\n",
       "        <iframe\n",
       "            width=\"600\"\n",
       "            height=\"500\"\n",
       "            src=\"data/chart2.html\"\n",
       "            frameborder=\"0\"\n",
       "            allowfullscreen\n",
       "            \n",
       "        ></iframe>\n",
       "        "
      ],
      "text/plain": [
       "<IPython.lib.display.IFrame at 0x7fdebf7b6730>"
      ]
     },
     "execution_count": 14,
     "metadata": {},
     "output_type": "execute_result"
    }
   ],
   "source": [
    "# --- Render the map\n",
    "filepath = \"data/chart2.html\"\n",
    "chart2.save(filepath)\n",
    "IFrame(filepath, width=600, height=500)"
   ]
  },
  {
   "cell_type": "markdown",
   "metadata": {},
   "source": [
    "## Extracting the path segments"
   ]
  },
  {
   "cell_type": "code",
   "execution_count": 15,
   "metadata": {},
   "outputs": [],
   "source": [
    "def cartesian_distance(lat0,lon0,lat1,lon1):\n",
    "    R = 6371.8 # Mean earth radius [km]\n",
    "    lat0r = np.radians(lat0)\n",
    "    lon0r = np.radians(lon0)\n",
    "    lat1r = np.radians(lat1)\n",
    "    lon1r = np.radians(lon1)\n",
    "    \n",
    "    r1 = [R*np.cos(lat0r)*np.cos(lon0r), R*np.cos(lat0r)*np.sin(lon0r), R*np.sin(lat0r)]\n",
    "    r2 = [R*np.cos(lat1r)*np.cos(lon1r), R*np.cos(lat1r)*np.sin(lon1r), R*np.sin(lat1r)]\n",
    "    dr = [r1[0] - r2[0], r1[1] - r2[1], r1[2] - r2[2]]\n",
    "    return 1000.0*np.sqrt(dr[0]*dr[0] + dr[1]*dr[1] + dr[2]*dr[2])"
   ]
  },
  {
   "cell_type": "code",
   "execution_count": 16,
   "metadata": {
    "scrolled": true
   },
   "outputs": [],
   "source": [
    "# Segment extraction is done with the following steps\n",
    "# Step 1: Extract the coordinates of all segments within each node pair from route_list\n",
    "# Step 2: Merge the coordinates and additional information into the segment_list\n",
    "# Step 3: Remove any segments that are traversed twice\n",
    "# Step 4: Post-process the length and paved status of the entire route\n",
    "\n",
    "# Setup\n",
    "segment_list_raw = [] # Will contain all OSM edge segments that were matched to the GPX track [x0 y0 x1 y1 d dcum highway surface paved]\n",
    "\n",
    "for i in range(0,len(route_list)-1): # Loop over all pairs in the route_list\n",
    "    \n",
    "#     print(f'Handling route_list section #{i} of {len(route_list)-1}')\n",
    "    \n",
    "    # Extracting information about the nodes\n",
    "    id_start     = route_list[i] # ID of the start node\n",
    "    id_end       = route_list[i+1] # ID of the end node\n",
    "    node_start   = network_points.loc[id_start] # Start node with relevant information\n",
    "    node_end     = network_points.loc[id_end] # End node with relevant information\n",
    "    vertex_start = [node_start['y'],node_start['x']] # Coordinates of start node\n",
    "    vertex_end   = [node_end['y'],node_end['x']] # Coordinates of end node\n",
    "    \n",
    "#     print(f'   It connects nodes {id_start} and {id_end}')\n",
    "    \n",
    "    # Selecting the corresponding edge\n",
    "    edge_id = [id_start, id_end]\n",
    "    try: # To deal with one-way streets\n",
    "        edge = network_edges.loc[(id_start, id_end)] # Get coordinates of the points that make up that edge\n",
    "        edge_coords = edge_to_coords(network_edges, [id_start, id_end])\n",
    "    except:\n",
    "        edge = network_edges.loc[(id_end, id_start)] # Get coordinates of the points that make up that edge\n",
    "        edge_coords = edge_to_coords(network_edges, [id_end, id_start])\n",
    "        edge_coords = edge_coords[::-1]\n",
    "        \n",
    "    # Filling the segment_list_raw list\n",
    "    d_cart_sum = 0\n",
    "    d_osm_sum = 0\n",
    "    for j in range(0,len(edge_coords)-1): # Loop over all vertex pairs in the edge        \n",
    "        x0 = edge_coords[j][0]\n",
    "        y0 = edge_coords[j][1]\n",
    "        x1 = edge_coords[j+1][0]\n",
    "        y1 = edge_coords[j+1][1]\n",
    "        d_cart = cartesian_distance(x0,y0,x1,y1)\n",
    "#         print(edge)\n",
    "        d_osm = edge['length'][0]/(len(edge_coords)-1) # just divide the length equally between segments\n",
    "        highway = edge['highway'][0]\n",
    "        surface = None\n",
    "        tracktype = None\n",
    "        if 'surface' in edge.columns:\n",
    "            surface = edge['surface'][0]\n",
    "        if 'tracktype' in edge.columns:\n",
    "            tracktype = edge['tracktype'][0]\n",
    "        newline = [x0,y0,x1,y1,d_cart,d_osm,highway,surface,tracktype]\n",
    "        segment_list_raw.append(newline)\n",
    "        d_cart_sum += d_cart\n",
    "        d_osm_sum += d_osm"
   ]
  },
  {
   "cell_type": "code",
   "execution_count": 17,
   "metadata": {},
   "outputs": [],
   "source": [
    "# Plotting the segment_list VS the route_list\n",
    "id_focus = round((n2-n1+1)/2)\n",
    "chart3 = folium.Map(location=coords[id_focus], zoom_start=12, tiles=\"OpenStreetMap\") # Map setup\n",
    "\n",
    "# --- Adding route_list\n",
    "for i in range(len(route_list)-1): # Drawing a line\n",
    "    id_start     = route_list[i] # ID of the start node\n",
    "    id_end       = route_list[i+1] # ID of the end node\n",
    "    node_start   = network_points.loc[id_start] # Start node with relevant information\n",
    "    node_end     = network_points.loc[id_end] # End node with relevant information\n",
    "    vertex_start = [node_start['y'],node_start['x']] # Coordinates of start node\n",
    "    vertex_end   = [node_end['y'],node_end['x']] # Coordinates of end node\n",
    "    newline = folium.PolyLine(locations=[vertex_start,vertex_end], color='blue', weight=1, popup='None')\n",
    "    newline.add_to(chart3)\n",
    "k = 0\n",
    "for node in route_list: # Drawing the markers\n",
    "    full_node = network_points.loc[node]\n",
    "    vertex = [full_node['y'],full_node['x']]\n",
    "    newmarker = folium.CircleMarker(location=vertex,radius=3,color='blue',popup=str(k))\n",
    "    newmarker.add_to(chart3)\n",
    "    k += 1\n",
    "    \n",
    "# --- Adding segment_list\n",
    "for segment in segment_list_raw: # Drawing a line\n",
    "    vertex_start = segment[0:2]\n",
    "    vertex_end = segment[2:4]\n",
    "    newline = folium.PolyLine(locations=[vertex_start,vertex_end], color='purple', weight=3, popup='None')\n",
    "    newline.add_to(chart3)\n",
    "k = 0\n",
    "for segment in segment_list_raw: # Drawing the markers\n",
    "    vertex = segment[0:2]\n",
    "    newmarker = folium.CircleMarker(location=vertex,radius=1,color='purple',popup=str(k))\n",
    "    newmarker.add_to(chart3)\n",
    "    k += 1"
   ]
  },
  {
   "cell_type": "code",
   "execution_count": 18,
   "metadata": {},
   "outputs": [
    {
     "data": {
      "text/html": [
       "\n",
       "        <iframe\n",
       "            width=\"600\"\n",
       "            height=\"500\"\n",
       "            src=\"data/chart3.html\"\n",
       "            frameborder=\"0\"\n",
       "            allowfullscreen\n",
       "            \n",
       "        ></iframe>\n",
       "        "
      ],
      "text/plain": [
       "<IPython.lib.display.IFrame at 0x7fdebf01d6d0>"
      ]
     },
     "execution_count": 18,
     "metadata": {},
     "output_type": "execute_result"
    }
   ],
   "source": [
    "# Render the map\n",
    "filepath = \"data/chart3.html\"\n",
    "chart3.save(filepath)\n",
    "IFrame(filepath, width=600, height=500)"
   ]
  },
  {
   "cell_type": "markdown",
   "metadata": {},
   "source": [
    "## Comparing the calculated path with the original GPX track"
   ]
  },
  {
   "cell_type": "code",
   "execution_count": 19,
   "metadata": {
    "scrolled": true
   },
   "outputs": [],
   "source": [
    "# Plotting the segment_list VS the route_list\n",
    "id_focus = round((n2-n1+1)/2)\n",
    "chart5 = folium.Map(location=coords[id_focus], zoom_start=12, tiles=\"OpenStreetMap\") # Map setup\n",
    "\n",
    "# Adding GPX track\n",
    "newline = folium.PolyLine(locations=coords, popup='None', color='red', weight=2)\n",
    "newline.add_to(chart5)\n",
    "\n",
    "# --- Adding segment_list\n",
    "for segment in segment_list_raw: # Drawing a line\n",
    "    vertex_start = segment[0:2]\n",
    "    vertex_end = segment[2:4]\n",
    "    newline = folium.PolyLine(locations=[vertex_start,vertex_end], color='black', weight=2, popup='None')\n",
    "    newline.add_to(chart5)"
   ]
  },
  {
   "cell_type": "code",
   "execution_count": 20,
   "metadata": {},
   "outputs": [
    {
     "data": {
      "text/html": [
       "\n",
       "        <iframe\n",
       "            width=\"600\"\n",
       "            height=\"500\"\n",
       "            src=\"data/chart5.html\"\n",
       "            frameborder=\"0\"\n",
       "            allowfullscreen\n",
       "            \n",
       "        ></iframe>\n",
       "        "
      ],
      "text/plain": [
       "<IPython.lib.display.IFrame at 0x7fdebee9f4c0>"
      ]
     },
     "execution_count": 20,
     "metadata": {},
     "output_type": "execute_result"
    }
   ],
   "source": [
    "# Render the map\n",
    "filepath = \"data/chart5.html\"\n",
    "chart5.save(filepath)\n",
    "IFrame(filepath, width=600, height=500)"
   ]
  },
  {
   "cell_type": "code",
   "execution_count": null,
   "metadata": {},
   "outputs": [],
   "source": []
  },
  {
   "cell_type": "code",
   "execution_count": null,
   "metadata": {},
   "outputs": [],
   "source": []
  }
 ],
 "metadata": {
  "anaconda-cloud": {},
  "kernelspec": {
   "display_name": "Python 3 (ipykernel)",
   "language": "python",
   "name": "python3"
  },
  "language_info": {
   "codemirror_mode": {
    "name": "ipython",
    "version": 3
   },
   "file_extension": ".py",
   "mimetype": "text/x-python",
   "name": "python",
   "nbconvert_exporter": "python",
   "pygments_lexer": "ipython3",
   "version": "3.9.12"
  }
 },
 "nbformat": 4,
 "nbformat_minor": 4
}
